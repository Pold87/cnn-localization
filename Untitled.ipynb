{
 "cells": [
  {
   "cell_type": "code",
   "execution_count": 1,
   "metadata": {
    "collapsed": false
   },
   "outputs": [
    {
     "data": {
      "text/plain": [
       "<csv>\tparsing file: data.csv\t\n"
      ]
     },
     "execution_count": 1,
     "metadata": {},
     "output_type": "execute_result"
    },
    {
     "data": {
      "text/plain": [
       "<csv>\ttidying up entries\t\n"
      ]
     },
     "execution_count": 1,
     "metadata": {},
     "output_type": "execute_result"
    },
    {
     "data": {
      "text/plain": [
       "<csv>\treturning tidy table\t\n"
      ]
     },
     "execution_count": 1,
     "metadata": {},
     "output_type": "execute_result"
    },
    {
     "data": {
      "text/plain": [
       "ffmpeg -i /home/pold/Documents/torchstuff/video.avi -r 30 -t 10 -map 0:v:0 -s 112x112 -qscale 1 /home/pold/Documents/torchstuff/scratch/video.avi_30fps_112x112_10s_c0_sk0_png/frame-%06d.png 2> /dev/null\t\n"
      ]
     },
     "execution_count": 1,
     "metadata": {},
     "output_type": "execute_result"
    },
    {
     "data": {
      "text/plain": [
       "Using frames in /home/pold/Documents/torchstuff/scratch/video.avi_30fps_112x112_10s_c0_sk0_png/frame-%06d.png\t\n"
      ]
     },
     "execution_count": 1,
     "metadata": {},
     "output_type": "execute_result"
    },
    {
     "data": {
      "text/plain": [
       "Channel 1, Mean: 0.41066756641273\t\n"
      ]
     },
     "execution_count": 1,
     "metadata": {},
     "output_type": "execute_result"
    },
    {
     "data": {
      "text/plain": [
       "Channel 1, Standard Deviation: 0.1879375295953\t\n"
      ]
     },
     "execution_count": 1,
     "metadata": {},
     "output_type": "execute_result"
    },
    {
     "data": {
      "text/plain": [
       "Channel 2, Mean: 0.42202502792411\t\n"
      ]
     },
     "execution_count": 1,
     "metadata": {},
     "output_type": "execute_result"
    },
    {
     "data": {
      "text/plain": [
       "Channel 2, Standard Deviation: 0.19341840834638\t\n"
      ]
     },
     "execution_count": 1,
     "metadata": {},
     "output_type": "execute_result"
    },
    {
     "data": {
      "text/plain": [
       "Channel 3, Mean: 0.40524035144191\t\n"
      ]
     },
     "execution_count": 1,
     "metadata": {},
     "output_type": "execute_result"
    },
    {
     "data": {
      "text/plain": [
       "Channel 3, Standard Deviation: 0.18753243848755\t\n"
      ]
     },
     "execution_count": 1,
     "metadata": {},
     "output_type": "execute_result"
    },
    {
     "data": {
      "text/plain": [
       "current loss = 1.0144970716595\t\n"
      ]
     },
     "execution_count": 1,
     "metadata": {},
     "output_type": "execute_result"
    },
    {
     "data": {
      "text/plain": [
       "Pred is\t392433282.35918\t\n",
       "Real is\t392433363\t\n",
       "Diff is\t-80.640815794468\t\n",
       "\t\n"
      ]
     },
     "execution_count": 1,
     "metadata": {},
     "output_type": "execute_result"
    },
    {
     "data": {
      "text/plain": [
       "Pred is\t392433280.52515\t\n",
       "Real is\t392433365\t\n",
       "Diff is\t-84.47484600544\t\n",
       "\t\n"
      ]
     },
     "execution_count": 1,
     "metadata": {},
     "output_type": "execute_result"
    },
    {
     "data": {
      "text/plain": [
       "Pred is\t392433275.34727\t\n",
       "Real is\t392433269\t\n",
       "Diff is\t6.3472729325294\t\n",
       "\t\n"
      ]
     },
     "execution_count": 1,
     "metadata": {},
     "output_type": "execute_result"
    },
    {
     "data": {
      "text/plain": [
       "Pred is\t392433277.96752\t\n",
       "Real is\t392433274\t\n",
       "Diff is\t3.9675221443176\t\n",
       "\t\n"
      ]
     },
     "execution_count": 1,
     "metadata": {},
     "output_type": "execute_result"
    },
    {
     "data": {
      "text/plain": [
       "Pred is\t392433277.63828\t\n",
       "Real is\t392433347\t\n",
       "Diff is\t-69.361720740795\t\n",
       "\t\n"
      ]
     },
     "execution_count": 1,
     "metadata": {},
     "output_type": "execute_result"
    },
    {
     "data": {
      "text/plain": [
       "Pred is\t392433278.10644\t\n",
       "Real is\t392433225\t\n",
       "Diff is\t53.106439352036\t\n",
       "\t\n"
      ]
     },
     "execution_count": 1,
     "metadata": {},
     "output_type": "execute_result"
    },
    {
     "data": {
      "text/plain": [
       "Pred is\t392433275.59632\t\n",
       "Real is\t"
      ]
     },
     "execution_count": 1,
     "metadata": {},
     "output_type": "execute_result"
    },
    {
     "data": {
      "text/plain": [
       "392433259\t\n",
       "Diff is\t16.596322417259\t\n",
       "\t\n"
      ]
     },
     "execution_count": 1,
     "metadata": {},
     "output_type": "execute_result"
    },
    {
     "data": {
      "text/plain": [
       "Pred is\t392433277.91252\t\n",
       "Real is\t392433361\t\n",
       "Diff is\t-83.087479889393\t\n",
       "\t\n"
      ]
     },
     "execution_count": 1,
     "metadata": {},
     "output_type": "execute_result"
    },
    {
     "data": {
      "text/plain": [
       "Pred is\t392433276.26369\t\n",
       "Real is\t392433380\t\n",
       "Diff is\t-103.73631203175\t\n",
       "\t\n"
      ]
     },
     "execution_count": 1,
     "metadata": {},
     "output_type": "execute_result"
    },
    {
     "data": {
      "text/plain": [
       "Pred is\t392433280.02571\t\n",
       "Real is\t392433107\t\n",
       "Diff is\t173.0257062912\t\n",
       "\t\n"
      ]
     },
     "execution_count": 1,
     "metadata": {},
     "output_type": "execute_result"
    },
    {
     "data": {
      "text/plain": [
       "Pred is\t392433277.55524\t\n",
       "Real is\t392433104\t\n",
       "Diff is\t173.5552418828\t\n",
       "\t\n"
      ]
     },
     "execution_count": 1,
     "metadata": {},
     "output_type": "execute_result"
    },
    {
     "data": {
      "text/plain": [
       "Pred is\t392433275.63877\t\n",
       "Real is\t392433296\t\n",
       "Diff is\t-20.361234128475\t\n",
       "\t\n"
      ]
     },
     "execution_count": 1,
     "metadata": {},
     "output_type": "execute_result"
    },
    {
     "data": {
      "text/plain": [
       "Pred is\t392433278.17053\t\n"
      ]
     },
     "execution_count": 1,
     "metadata": {},
     "output_type": "execute_result"
    },
    {
     "data": {
      "text/plain": [
       "Real is\t392433267\t\n",
       "Diff is\t11.170526862144\t\n",
       "\t\n"
      ]
     },
     "execution_count": 1,
     "metadata": {},
     "output_type": "execute_result"
    },
    {
     "data": {
      "text/plain": [
       "Pred is\t392433277.62322\t\n",
       "Real is\t392433347\t\n",
       "Diff is\t-69.376778304577\t\n",
       "\t\n"
      ]
     },
     "execution_count": 1,
     "metadata": {},
     "output_type": "execute_result"
    },
    {
     "data": {
      "text/plain": [
       "Pred is\t392433278.64771\t\n",
       "Real is\t392433294\t\n",
       "Diff is\t-15.352287948132\t\n",
       "\t\n"
      ]
     },
     "execution_count": 1,
     "metadata": {},
     "output_type": "execute_result"
    },
    {
     "data": {
      "text/plain": [
       "Pred is\t392433276.61295\t\n",
       "Real is\t392433190\t\n",
       "Diff is\t86.612953782082\t\n",
       "\t\n"
      ]
     },
     "execution_count": 1,
     "metadata": {},
     "output_type": "execute_result"
    },
    {
     "data": {
      "text/plain": [
       "Pred is\t392433275.25915\t\n",
       "Real is\t392433289\t\n",
       "Diff is\t-13.74084931612\t\n",
       "\t\n"
      ]
     },
     "execution_count": 1,
     "metadata": {},
     "output_type": "execute_result"
    },
    {
     "data": {
      "text/plain": [
       "Pred is\t392433275.44089\t\n",
       "Real is\t392433109\t\n",
       "Diff is\t166.44088882208\t\n",
       "\t\n"
      ]
     },
     "execution_count": 1,
     "metadata": {},
     "output_type": "execute_result"
    },
    {
     "data": {
      "text/plain": [
       "Pred is\t392433281.57206\t\n",
       "Real is\t392433286\t\n",
       "Diff is\t-4.4279409050941\t\n",
       "\t\n"
      ]
     },
     "execution_count": 1,
     "metadata": {},
     "output_type": "execute_result"
    },
    {
     "data": {
      "text/plain": [
       "Pred is\t392433280.29062\t\n",
       "Real is\t392433228\t\n",
       "Diff is\t52.290620565414\t\n",
       "\t\n"
      ]
     },
     "execution_count": 1,
     "metadata": {},
     "output_type": "execute_result"
    },
    {
     "data": {
      "text/plain": [
       "Pred is\t392433276.95397\t\n",
       "Real is\t392433244\t\n",
       "Diff is\t32.953969717026\t\n",
       "\t\n"
      ]
     },
     "execution_count": 1,
     "metadata": {},
     "output_type": "execute_result"
    },
    {
     "data": {
      "text/plain": [
       "Pred is\t392433276.28776\t\n",
       "Real is\t392433313\t\n",
       "Diff is\t-36.712238967419\t\n",
       "\t\n"
      ]
     },
     "execution_count": 1,
     "metadata": {},
     "output_type": "execute_result"
    },
    {
     "data": {
      "text/plain": [
       "Pred is\t392433276.56717\t\n",
       "Real is\t392433281\t\n",
       "Diff is\t-4.4328250288963\t\n",
       "\t\n"
      ]
     },
     "execution_count": 1,
     "metadata": {},
     "output_type": "execute_result"
    },
    {
     "data": {
      "text/plain": [
       "Pred is\t392433275.64887\t\n",
       "Real is\t392433189\t\n",
       "Diff is\t86.64887291193\t\n",
       "\t\n"
      ]
     },
     "execution_count": 1,
     "metadata": {},
     "output_type": "execute_result"
    },
    {
     "data": {
      "text/plain": [
       "Pred is\t392433279.67928\t\n",
       "Real is\t392433299\t\n",
       "Diff is\t-19.320721626282\t\n",
       "\t\n"
      ]
     },
     "execution_count": 1,
     "metadata": {},
     "output_type": "execute_result"
    },
    {
     "data": {
      "text/plain": [
       "Pred is\t392433280.07793\t\n",
       "Real is\t392433145\t\n",
       "Diff is\t135.07793468237\t\n",
       "\t\n"
      ]
     },
     "execution_count": 1,
     "metadata": {},
     "output_type": "execute_result"
    },
    {
     "data": {
      "text/plain": [
       "Pred is\t392433274.43932\t\n",
       "Real is\t392433190\t\n",
       "Diff is\t84.43931800127\t\n",
       "\t\n"
      ]
     },
     "execution_count": 1,
     "metadata": {},
     "output_type": "execute_result"
    },
    {
     "data": {
      "text/plain": [
       "Pred is\t392433281.65757\t\n",
       "Real is\t392433187\t\n",
       "Diff is\t94.657571017742\t\n",
       "\t\n"
      ]
     },
     "execution_count": 1,
     "metadata": {},
     "output_type": "execute_result"
    },
    {
     "data": {
      "text/plain": [
       "Pred is\t392433276.83329\t\n",
       "Real is\t392433228\t\n",
       "Diff is\t48.833290278912\t\n",
       "\t\n"
      ]
     },
     "execution_count": 1,
     "metadata": {},
     "output_type": "execute_result"
    },
    {
     "data": {
      "text/plain": [
       "Pred is\t392433277.26592\t\n",
       "Real is\t392433241\t\n",
       "Diff is\t36.265920042992\t\n",
       "\t\n"
      ]
     },
     "execution_count": 1,
     "metadata": {},
     "output_type": "execute_result"
    },
    {
     "data": {
      "text/plain": [
       "Pred is\t392433278.4603\t\n",
       "Real is\t392433312\t\n",
       "Diff is\t-33.539704978466\t\n",
       "\t\n"
      ]
     },
     "execution_count": 1,
     "metadata": {},
     "output_type": "execute_result"
    },
    {
     "data": {
      "text/plain": [
       "Pred is\t392433275.62862\t\n",
       "Real is\t392433341\t\n",
       "Diff is\t-65.3713799119\t\n",
       "\t\n"
      ]
     },
     "execution_count": 1,
     "metadata": {},
     "output_type": "execute_result"
    },
    {
     "data": {
      "text/plain": [
       "Pred is\t392433277.93511\t\n",
       "Real is\t392433217\t\n",
       "Diff is\t60.93511068821\t\n",
       "\t\n"
      ]
     },
     "execution_count": 1,
     "metadata": {},
     "output_type": "execute_result"
    },
    {
     "data": {
      "text/plain": [
       "Pred is\t392433276.71498\t\n",
       "Real is\t392433341\t\n",
       "Diff is\t-64.285020411015\t\n",
       "\t\n"
      ]
     },
     "execution_count": 1,
     "metadata": {},
     "output_type": "execute_result"
    },
    {
     "data": {
      "text/plain": [
       "Pred is\t392433280.27794\t\n",
       "Real is\t392433347\t\n",
       "Diff is\t-66.722063958645\t\n",
       "\t\n"
      ]
     },
     "execution_count": 1,
     "metadata": {},
     "output_type": "execute_result"
    },
    {
     "data": {
      "text/plain": [
       "Pred is\t392433278.49873\t\n"
      ]
     },
     "execution_count": 1,
     "metadata": {},
     "output_type": "execute_result"
    },
    {
     "data": {
      "text/plain": [
       "Real is\t392433301\t\n",
       "Diff is\t-22.501271307468\t\n",
       "\t\n"
      ]
     },
     "execution_count": 1,
     "metadata": {},
     "output_type": "execute_result"
    },
    {
     "data": {
      "text/plain": [
       "Pred is\t392433276.71558\t\n",
       "Real is\t392433329\t\n",
       "Diff is\t-52.284417390823\t\n",
       "\t\n"
      ]
     },
     "execution_count": 1,
     "metadata": {},
     "output_type": "execute_result"
    },
    {
     "data": {
      "text/plain": [
       "Pred is\t392433279.44563\t\n",
       "Real is\t392433097\t\n",
       "Diff is\t182.44562608004\t\n",
       "\t\n"
      ]
     },
     "execution_count": 1,
     "metadata": {},
     "output_type": "execute_result"
    },
    {
     "data": {
      "text/plain": [
       "Pred is\t392433278.36981\t\n",
       "Real is\t392433341\t\n",
       "Diff is\t-62.630187988281\t\n",
       "\t\n"
      ]
     },
     "execution_count": 1,
     "metadata": {},
     "output_type": "execute_result"
    },
    {
     "data": {
      "text/plain": [
       "Pred is\t392433282.57978\t\n",
       "Real is\t392433239\t\n",
       "Diff is\t43.579778015614\t\n",
       "\t\n"
      ]
     },
     "execution_count": 1,
     "metadata": {},
     "output_type": "execute_result"
    },
    {
     "data": {
      "text/plain": [
       "Pred is\t392433274.72856\t\n",
       "Real is\t392433255\t\n",
       "Diff is\t19.728562653065\t\n",
       "\t\n"
      ]
     },
     "execution_count": 1,
     "metadata": {},
     "output_type": "execute_result"
    },
    {
     "data": {
      "text/plain": [
       "Pred is\t392433279.23492\t\n",
       "Real is\t392433349\t\n",
       "Diff is\t-69.765084683895\t\n",
       "\t\n"
      ]
     },
     "execution_count": 1,
     "metadata": {},
     "output_type": "execute_result"
    },
    {
     "data": {
      "text/plain": [
       "Pred is\t392433280.23337\t\n",
       "Real is\t392433398\t\n",
       "Diff is\t-117.76663422585\t\n",
       "\t\n"
      ]
     },
     "execution_count": 1,
     "metadata": {},
     "output_type": "execute_result"
    },
    {
     "data": {
      "text/plain": [
       "Pred is\t392433276.01641\t\n",
       "Real is\t392433192\t\n",
       "Diff is\t84.01640611887\t\n",
       "\t\n"
      ]
     },
     "execution_count": 1,
     "metadata": {},
     "output_type": "execute_result"
    },
    {
     "data": {
      "text/plain": [
       "Pred is\t392433279.66739\t\n",
       "Real is\t392433347\t\n",
       "Diff is\t-67.332606256008\t\n",
       "\t\n"
      ]
     },
     "execution_count": 1,
     "metadata": {},
     "output_type": "execute_result"
    },
    {
     "data": {
      "text/plain": [
       "Pred is\t392433277.46288\t\n",
       "Real is\t392433240\t\n",
       "Diff is\t37.462880730629\t\n",
       "\t\n"
      ]
     },
     "execution_count": 1,
     "metadata": {},
     "output_type": "execute_result"
    },
    {
     "data": {
      "text/plain": [
       "Pred is\t392433279.55123\t\n",
       "Real is\t392433347\t\n",
       "Diff is\t-67.44877332449\t\n",
       "\t\n"
      ]
     },
     "execution_count": 1,
     "metadata": {},
     "output_type": "execute_result"
    },
    {
     "data": {
      "text/plain": [
       "Pred is\t392433278.45509\t\n",
       "Real is\t392433148\t\n",
       "Diff is\t130.45509165525\t\n",
       "\t\n"
      ]
     },
     "execution_count": 1,
     "metadata": {},
     "output_type": "execute_result"
    },
    {
     "data": {
      "text/plain": [
       "Pred is\t392433280.38977\t\n",
       "Real is\t392433236\t\n",
       "Diff is\t44.389766871929\t\n",
       "\t\n"
      ]
     },
     "execution_count": 1,
     "metadata": {},
     "output_type": "execute_result"
    },
    {
     "data": {
      "text/plain": [
       "Pred is\t392433279.60841\t\n",
       "Real is\t392433219\t\n",
       "Diff is\t60.608414947987\t\n",
       "\t\n"
      ]
     },
     "execution_count": 1,
     "metadata": {},
     "output_type": "execute_result"
    },
    {
     "data": {
      "text/plain": [
       "Pred is\t392433281.55574\t\n",
       "Real is\t392433245\t\n",
       "Diff is\t36.555740237236\t\n",
       "\t\n"
      ]
     },
     "execution_count": 1,
     "metadata": {},
     "output_type": "execute_result"
    },
    {
     "data": {
      "text/plain": [
       "Pred is\t392433278.14838\t\n",
       "Real is\t392433347\t\n",
       "Diff is\t-68.851617634296\t\n",
       "\t\n"
      ]
     },
     "execution_count": 1,
     "metadata": {},
     "output_type": "execute_result"
    },
    {
     "data": {
      "text/plain": [
       "Pred is\t392433279.4541\t\n",
       "Real is\t392433347\t\n",
       "Diff is\t-67.545901834965\t\n",
       "\t\n"
      ]
     },
     "execution_count": 1,
     "metadata": {},
     "output_type": "execute_result"
    },
    {
     "data": {
      "text/plain": [
       "Pred is\t392433281.16714\t\n",
       "Real is\t392433196\t\n",
       "Diff is\t85.167142271996\t\n"
      ]
     },
     "execution_count": 1,
     "metadata": {},
     "output_type": "execute_result"
    },
    {
     "data": {
      "text/plain": [
       "\t\n"
      ]
     },
     "execution_count": 1,
     "metadata": {},
     "output_type": "execute_result"
    },
    {
     "data": {
      "text/plain": [
       "Pred is\t392433277.36103\t\n",
       "Real is\t392433370\t\n",
       "Diff is\t-92.638972222805\t\n",
       "\t\n"
      ]
     },
     "execution_count": 1,
     "metadata": {},
     "output_type": "execute_result"
    },
    {
     "data": {
      "text/plain": [
       "Pred is\t392433275.96509\t\n",
       "Real is\t392433366\t\n",
       "Diff is\t-90.034906327724\t\n",
       "\t\n"
      ]
     },
     "execution_count": 1,
     "metadata": {},
     "output_type": "execute_result"
    },
    {
     "data": {
      "text/plain": [
       "Pred is\t392433279.98841\t\n",
       "Real is\t392433307\t\n",
       "Diff is\t-27.01159286499\t\n",
       "\t\n"
      ]
     },
     "execution_count": 1,
     "metadata": {},
     "output_type": "execute_result"
    },
    {
     "data": {
      "text/plain": [
       "Pred is\t392433275.77339\t\n",
       "Real is\t392433283\t\n",
       "Diff is\t-7.2266058921814\t\n",
       "\t\n"
      ]
     },
     "execution_count": 1,
     "metadata": {},
     "output_type": "execute_result"
    },
    {
     "data": {
      "text/plain": [
       "Pred is\t392433279.11515\t\n",
       "Real is\t"
      ]
     },
     "execution_count": 1,
     "metadata": {},
     "output_type": "execute_result"
    },
    {
     "data": {
      "text/plain": [
       "392433229\t\n",
       "Diff is\t50.115154027939\t\n",
       "\t\n"
      ]
     },
     "execution_count": 1,
     "metadata": {},
     "output_type": "execute_result"
    },
    {
     "data": {
      "text/plain": [
       "Pred is\t392433280.2671\t\n",
       "Real is\t392433368\t\n",
       "Diff is\t-87.732904553413\t\n",
       "\t\n"
      ]
     },
     "execution_count": 1,
     "metadata": {},
     "output_type": "execute_result"
    },
    {
     "data": {
      "text/plain": [
       "Pred is\t392433278.12967\t\n",
       "Real is\t392433330\t\n",
       "Diff is\t-51.870328426361\t\n",
       "\t\n"
      ]
     },
     "execution_count": 1,
     "metadata": {},
     "output_type": "execute_result"
    },
    {
     "data": {
      "text/plain": [
       "Pred is\t392433280.1284\t\n",
       "Real is\t392433284\t\n",
       "Diff is\t-3.8716022968292\t\n",
       "\t\n"
      ]
     },
     "execution_count": 1,
     "metadata": {},
     "output_type": "execute_result"
    },
    {
     "data": {
      "text/plain": [
       "Pred is\t392433277.71159\t\n",
       "Real is\t392433205\t\n",
       "Diff is\t72.711587071419\t\n",
       "\t\n"
      ]
     },
     "execution_count": 1,
     "metadata": {},
     "output_type": "execute_result"
    },
    {
     "data": {
      "text/plain": [
       "Pred is\t392433279.91077\t\n",
       "Real is\t392433347\t\n",
       "Diff is\t-67.089232385159\t\n",
       "\t\n"
      ]
     },
     "execution_count": 1,
     "metadata": {},
     "output_type": "execute_result"
    },
    {
     "data": {
      "text/plain": [
       "Pred is\t392433279.36179\t\n",
       "Real is\t392433347\t\n",
       "Diff is\t-67.638208627701\t\n",
       "\t\n"
      ]
     },
     "execution_count": 1,
     "metadata": {},
     "output_type": "execute_result"
    },
    {
     "data": {
      "text/plain": [
       "Pred is\t392433275.35127\t\n",
       "Real is\t392433347\t\n",
       "Diff is\t-71.648730933666\t\n",
       "\t\n"
      ]
     },
     "execution_count": 1,
     "metadata": {},
     "output_type": "execute_result"
    },
    {
     "data": {
      "text/plain": [
       "Pred is\t392433279.58308\t\n",
       "Real is\t392433329\t\n",
       "Diff is\t-49.416918635368\t\n",
       "\t\n"
      ]
     },
     "execution_count": 1,
     "metadata": {},
     "output_type": "execute_result"
    },
    {
     "data": {
      "text/plain": [
       "Pred is\t392433277.28746\t\n",
       "Real is\t392433188\t\n",
       "Diff is\t89.28746086359\t\n",
       "\t\n"
      ]
     },
     "execution_count": 1,
     "metadata": {},
     "output_type": "execute_result"
    },
    {
     "data": {
      "text/plain": [
       "Pred is\t392433278.21582\t\n",
       "Real is\t392433346\t\n",
       "Diff is\t-67.784183323383\t\n",
       "\t\n"
      ]
     },
     "execution_count": 1,
     "metadata": {},
     "output_type": "execute_result"
    },
    {
     "data": {
      "text/plain": [
       "Pred is\t392433276.35232\t\n",
       "Real is\t392433259\t\n",
       "Diff is\t17.352322876453\t\n",
       "\t\n"
      ]
     },
     "execution_count": 1,
     "metadata": {},
     "output_type": "execute_result"
    },
    {
     "data": {
      "text/plain": [
       "Pred is\t392433277.37901\t\n",
       "Real is\t392433370\t\n"
      ]
     },
     "execution_count": 1,
     "metadata": {},
     "output_type": "execute_result"
    },
    {
     "data": {
      "text/plain": [
       "Diff is\t-92.620993256569\t\n",
       "\t\n"
      ]
     },
     "execution_count": 1,
     "metadata": {},
     "output_type": "execute_result"
    },
    {
     "data": {
      "text/plain": [
       "Pred is\t392433277.06788\t\n",
       "Real is\t392433263\t\n",
       "Diff is\t14.067883133888\t\n",
       "\t\n"
      ]
     },
     "execution_count": 1,
     "metadata": {},
     "output_type": "execute_result"
    },
    {
     "data": {
      "text/plain": [
       "Pred is\t392433278.48085\t\n",
       "Real is\t392433371\t\n",
       "Diff is\t-92.51915293932\t\n",
       "\t\n"
      ]
     },
     "execution_count": 1,
     "metadata": {},
     "output_type": "execute_result"
    },
    {
     "data": {
      "text/plain": [
       "Pred is\t392433275.8247\t\n",
       "Real is\t392433311\t\n",
       "Diff is\t-35.175303518772\t\n",
       "\t\n"
      ]
     },
     "execution_count": 1,
     "metadata": {},
     "output_type": "execute_result"
    },
    {
     "data": {
      "text/plain": [
       "Pred is\t392433278.53205\t\n",
       "Real is\t392433227\t\n",
       "Diff is\t51.532052457333\t\n",
       "\t\n"
      ]
     },
     "execution_count": 1,
     "metadata": {},
     "output_type": "execute_result"
    },
    {
     "data": {
      "text/plain": [
       "Pred is\t392433278.27799\t\n",
       "Real is\t392433238\t\n",
       "Diff is\t40.277990937233\t\n",
       "\t\n"
      ]
     },
     "execution_count": 1,
     "metadata": {},
     "output_type": "execute_result"
    },
    {
     "data": {
      "text/plain": [
       "Pred is\t392433278.43875\t\n",
       "Real is\t392433324\t\n",
       "Diff is\t-45.561246573925\t\n",
       "\t\n"
      ]
     },
     "execution_count": 1,
     "metadata": {},
     "output_type": "execute_result"
    },
    {
     "data": {
      "text/plain": [
       "Pred is\t392433280.17952\t\n",
       "Real is\t392433341\t\n",
       "Diff is\t-60.8204844594\t\n",
       "\t\n"
      ]
     },
     "execution_count": 1,
     "metadata": {},
     "output_type": "execute_result"
    },
    {
     "data": {
      "text/plain": [
       "Pred is\t392433281.95151\t\n",
       "Real is\t392433328\t\n",
       "Diff is\t-46.048488497734\t\n",
       "\t\n"
      ]
     },
     "execution_count": 1,
     "metadata": {},
     "output_type": "execute_result"
    },
    {
     "data": {
      "text/plain": [
       "Pred is\t392433277.35873\t\n",
       "Real is\t392433347\t\n",
       "Diff is\t-69.641270577908\t\n",
       "\t\n"
      ]
     },
     "execution_count": 1,
     "metadata": {},
     "output_type": "execute_result"
    },
    {
     "data": {
      "text/plain": [
       "Pred is\t392433278.35523\t\n",
       "Real is\t392433347\t\n",
       "Diff is\t-68.644771933556\t\n",
       "\t\n"
      ]
     },
     "execution_count": 1,
     "metadata": {},
     "output_type": "execute_result"
    },
    {
     "data": {
      "text/plain": [
       "Pred is\t392433278.35168\t\n",
       "Real is\t392433299\t\n",
       "Diff is\t-20.648324549198\t\n",
       "\t\n"
      ]
     },
     "execution_count": 1,
     "metadata": {},
     "output_type": "execute_result"
    },
    {
     "data": {
      "text/plain": [
       "Pred is\t392433277.10008\t\n",
       "Real is\t392433291\t\n",
       "Diff is\t-13.899924457073\t\n"
      ]
     },
     "execution_count": 1,
     "metadata": {},
     "output_type": "execute_result"
    },
    {
     "data": {
      "text/plain": [
       "\t\n"
      ]
     },
     "execution_count": 1,
     "metadata": {},
     "output_type": "execute_result"
    },
    {
     "data": {
      "text/plain": [
       "Pred is\t392433277.03839\t\n",
       "Real is\t392433248\t\n",
       "Diff is\t29.038389146328\t\n",
       "\t\n"
      ]
     },
     "execution_count": 1,
     "metadata": {},
     "output_type": "execute_result"
    },
    {
     "data": {
      "text/plain": [
       "Pred is\t392433278.02059\t\n",
       "Real is\t392433276\t\n",
       "Diff is\t2.0205863118172\t\n",
       "\t\n"
      ]
     },
     "execution_count": 1,
     "metadata": {},
     "output_type": "execute_result"
    },
    {
     "data": {
      "text/plain": [
       "Pred is\t392433279.2847\t\n",
       "Real is\t392433347\t\n",
       "Diff is\t-67.715303122997\t\n",
       "\t\n"
      ]
     },
     "execution_count": 1,
     "metadata": {},
     "output_type": "execute_result"
    },
    {
     "data": {
      "text/plain": [
       "Pred is\t392433279.07642\t\n",
       "Real is\t392433269\t\n",
       "Diff is\t10.076420605183\t\n",
       "\t\n"
      ]
     },
     "execution_count": 1,
     "metadata": {},
     "output_type": "execute_result"
    },
    {
     "data": {
      "text/plain": [
       "Pred is\t392433276.01553\t\n",
       "Real is\t392433330\t\n",
       "Diff is\t-53.984467923641\t\n",
       "\t\n"
      ]
     },
     "execution_count": 1,
     "metadata": {},
     "output_type": "execute_result"
    },
    {
     "data": {
      "text/plain": [
       "Pred is\t392433276.9697\t\n",
       "Real is\t392433293\t\n",
       "Diff is\t-16.030300319195\t\n",
       "\t\n"
      ]
     },
     "execution_count": 1,
     "metadata": {},
     "output_type": "execute_result"
    },
    {
     "data": {
      "text/plain": [
       "Pred is\t392433277.12271\t\n",
       "Real is\t392433317\t\n",
       "Diff is\t-39.87729036808\t\n",
       "\t\n"
      ]
     },
     "execution_count": 1,
     "metadata": {},
     "output_type": "execute_result"
    },
    {
     "data": {
      "text/plain": [
       "Pred is\t392433279.32769\t\n",
       "Real is\t392433309\t\n",
       "Diff is\t-29.672306120396\t\n",
       "\t\n"
      ]
     },
     "execution_count": 1,
     "metadata": {},
     "output_type": "execute_result"
    },
    {
     "data": {
      "text/plain": [
       "Pred is\t392433279.68449\t\n",
       "Real is\t392433281\t\n",
       "Diff is\t-1.3155115246773\t\n",
       "\t\n"
      ]
     },
     "execution_count": 1,
     "metadata": {},
     "output_type": "execute_result"
    },
    {
     "data": {
      "text/plain": [
       "Pred is\t"
      ]
     },
     "execution_count": 1,
     "metadata": {},
     "output_type": "execute_result"
    },
    {
     "data": {
      "text/plain": [
       "392433279.25704\t\n",
       "Real is\t392433315\t\n",
       "Diff is\t-35.742964267731\t\n",
       "\t\n"
      ]
     },
     "execution_count": 1,
     "metadata": {},
     "output_type": "execute_result"
    },
    {
     "data": {
      "text/plain": [
       "Pred is\t392433275.92513\t\n",
       "Real is\t392433341\t\n",
       "Diff is\t-65.07486641407\t\n",
       "\t\n"
      ]
     },
     "execution_count": 1,
     "metadata": {},
     "output_type": "execute_result"
    },
    {
     "data": {
      "text/plain": [
       "Pred is\t392433276.5586\t\n",
       "Real is\t392433337\t\n",
       "Diff is\t-60.441402077675\t\n",
       "\t\n"
      ]
     },
     "execution_count": 1,
     "metadata": {},
     "output_type": "execute_result"
    },
    {
     "data": {
      "text/plain": [
       "Pred is\t392433280.12653\t\n",
       "Real is\t392433383\t\n",
       "Diff is\t-102.87346547842\t\n",
       "\t\n"
      ]
     },
     "execution_count": 1,
     "metadata": {},
     "output_type": "execute_result"
    },
    {
     "data": {
      "text/plain": [
       "Pred is\t392433276.65278\t\n",
       "Real is\t392433391\t\n",
       "Diff is\t-114.34721630812\t\n",
       "\t\n"
      ]
     },
     "execution_count": 1,
     "metadata": {},
     "output_type": "execute_result"
    },
    {
     "data": {
      "text/plain": [
       "Pred is\t392433276.87335\t\n",
       "Real is\t392433341\t\n",
       "Diff is\t-64.126654267311\t\n",
       "\t\n"
      ]
     },
     "execution_count": 1,
     "metadata": {},
     "output_type": "execute_result"
    },
    {
     "data": {
      "text/plain": [
       "Pred is\t392433278.66438\t\n",
       "Real is\t392433276\t\n",
       "Diff is\t2.6643841266632\t\n",
       "\t\n"
      ]
     },
     "execution_count": 1,
     "metadata": {},
     "output_type": "execute_result"
    },
    {
     "data": {
      "text/plain": [
       "Pred is\t392433282.12784\t\n",
       "Real is\t392433212\t\n",
       "Diff is\t70.12783664465\t\n",
       "\t\n"
      ]
     },
     "execution_count": 1,
     "metadata": {},
     "output_type": "execute_result"
    },
    {
     "data": {
      "text/plain": [
       "Pred is\t392433280.0422\t\n",
       "Real is\t392433283\t\n",
       "Diff is\t-2.9577979445457\t\n",
       "\t\n"
      ]
     },
     "execution_count": 1,
     "metadata": {},
     "output_type": "execute_result"
    },
    {
     "data": {
      "text/plain": [
       "Pred is\t392433278.88195\t\n",
       "Real is\t392433388\t\n",
       "Diff is\t-109.11805188656\t\n",
       "\t\n"
      ]
     },
     "execution_count": 1,
     "metadata": {},
     "output_type": "execute_result"
    },
    {
     "data": {
      "text/plain": [
       "Pred is\t392433278.20557\t\n",
       "Real is\t392433378\t\n",
       "Diff is\t-99.794431328773\t\n",
       "\t\n"
      ]
     },
     "execution_count": 1,
     "metadata": {},
     "output_type": "execute_result"
    },
    {
     "data": {
      "text/plain": [
       "Pred is\t392433280.9123\t\n",
       "Real is\t392433104\t\n",
       "Diff is\t176.91230452061\t\n",
       "\t\n"
      ]
     },
     "execution_count": 1,
     "metadata": {},
     "output_type": "execute_result"
    },
    {
     "data": {
      "text/plain": [
       "Pred is\t392433281.65066\t\n",
       "Real is\t392433331\t\n",
       "Diff is\t-49.349337220192\t\n",
       "\t\n"
      ]
     },
     "execution_count": 1,
     "metadata": {},
     "output_type": "execute_result"
    },
    {
     "data": {
      "text/plain": [
       "Pred is\t392433278.49427\t\n",
       "Real is\t392433224\t\n",
       "Diff is\t54.494266867638\t\n",
       "\t\n"
      ]
     },
     "execution_count": 1,
     "metadata": {},
     "output_type": "execute_result"
    },
    {
     "data": {
      "text/plain": [
       "Pred is\t392433279.8072\t\n",
       "Real is\t392433152\t\n",
       "Diff is\t127.80720049143\t\n",
       "\t\n"
      ]
     },
     "execution_count": 1,
     "metadata": {},
     "output_type": "execute_result"
    },
    {
     "data": {
      "text/plain": [
       "Pred is\t392433278.71587\t\n",
       "Real is\t392433325\t\n"
      ]
     },
     "execution_count": 1,
     "metadata": {},
     "output_type": "execute_result"
    },
    {
     "data": {
      "text/plain": [
       "Diff is\t-46.284132361412\t\n",
       "\t\n"
      ]
     },
     "execution_count": 1,
     "metadata": {},
     "output_type": "execute_result"
    },
    {
     "data": {
      "text/plain": [
       "Pred is\t392433276.2786\t\n",
       "Real is\t392433368\t\n",
       "Diff is\t-91.721404612064\t\n",
       "\t\n"
      ]
     },
     "execution_count": 1,
     "metadata": {},
     "output_type": "execute_result"
    },
    {
     "data": {
      "text/plain": [
       "Pred is\t392433282.13431\t\n",
       "Real is\t392433109\t\n",
       "Diff is\t173.13430953026\t\n",
       "\t\n"
      ]
     },
     "execution_count": 1,
     "metadata": {},
     "output_type": "execute_result"
    },
    {
     "data": {
      "text/plain": [
       "Pred is\t392433278.83414\t\n",
       "Real is\t392433415\t\n",
       "Diff is\t-136.16585940123\t\n",
       "\t\n"
      ]
     },
     "execution_count": 1,
     "metadata": {},
     "output_type": "execute_result"
    },
    {
     "data": {
      "text/plain": [
       "Pred is\t392433278.01121\t\n",
       "Real is\t392433369\t\n",
       "Diff is\t-90.988794922829\t\n",
       "\t\n"
      ]
     },
     "execution_count": 1,
     "metadata": {},
     "output_type": "execute_result"
    },
    {
     "data": {
      "text/plain": [
       "Pred is\t392433273.53674\t\n",
       "Real is\t392433237\t\n",
       "Diff is\t36.536742269993\t\n",
       "\t\n"
      ]
     },
     "execution_count": 1,
     "metadata": {},
     "output_type": "execute_result"
    },
    {
     "data": {
      "text/plain": [
       "Pred is\t392433276.12055\t\n",
       "Real is\t392433215\t\n",
       "Diff is\t61.120549678802\t\n",
       "\t\n"
      ]
     },
     "execution_count": 1,
     "metadata": {},
     "output_type": "execute_result"
    },
    {
     "data": {
      "text/plain": [
       "Pred is\t392433275.98518\t\n",
       "Real is\t392433352\t\n",
       "Diff is\t-76.014817476273\t\n",
       "\t\n"
      ]
     },
     "execution_count": 1,
     "metadata": {},
     "output_type": "execute_result"
    },
    {
     "data": {
      "text/plain": [
       "Pred is\t392433277.10653\t\n",
       "Real is\t392433157\t\n",
       "Diff is\t120.10653072596\t\n",
       "\t\n"
      ]
     },
     "execution_count": 1,
     "metadata": {},
     "output_type": "execute_result"
    },
    {
     "data": {
      "text/plain": [
       "Pred is\t392433280.99916\t\n",
       "Real is\t392433347\t\n",
       "Diff is\t-66.00084143877\t\n",
       "\t\n"
      ]
     },
     "execution_count": 1,
     "metadata": {},
     "output_type": "execute_result"
    },
    {
     "data": {
      "text/plain": [
       "Pred is\t392433277.98589\t\n",
       "Real is\t392433259\t\n",
       "Diff is\t18.985888242722\t\n",
       "\t\n"
      ]
     },
     "execution_count": 1,
     "metadata": {},
     "output_type": "execute_result"
    },
    {
     "data": {
      "text/plain": [
       "Pred is\t392433277.12361\t\n"
      ]
     },
     "execution_count": 1,
     "metadata": {},
     "output_type": "execute_result"
    },
    {
     "data": {
      "text/plain": [
       "Real is\t392433318\t\n",
       "Diff is\t-40.876387953758\t\n",
       "\t\n"
      ]
     },
     "execution_count": 1,
     "metadata": {},
     "output_type": "execute_result"
    },
    {
     "data": {
      "text/plain": [
       "Pred is\t392433278.0003\t\n",
       "Real is\t392433359\t\n",
       "Diff is\t-80.999697446823\t\n",
       "\t\n"
      ]
     },
     "execution_count": 1,
     "metadata": {},
     "output_type": "execute_result"
    },
    {
     "data": {
      "text/plain": [
       "Pred is\t392433273.9921\t\n",
       "Real is\t392433242\t\n",
       "Diff is\t31.992103159428\t\n",
       "\t\n"
      ]
     },
     "execution_count": 1,
     "metadata": {},
     "output_type": "execute_result"
    },
    {
     "data": {
      "text/plain": [
       "Pred is\t392433281.53924\t\n",
       "Real is\t392433341\t\n",
       "Diff is\t-59.460758566856\t\n",
       "\t\n"
      ]
     },
     "execution_count": 1,
     "metadata": {},
     "output_type": "execute_result"
    },
    {
     "data": {
      "text/plain": [
       "Pred is\t392433279.33081\t\n",
       "Real is\t392433347\t\n",
       "Diff is\t-67.66918861866\t\n",
       "\t\n"
      ]
     },
     "execution_count": 1,
     "metadata": {},
     "output_type": "execute_result"
    },
    {
     "data": {
      "text/plain": [
       "Pred is\t392433281.65117\t\n",
       "Real is\t392433156\t\n",
       "Diff is\t125.65116721392\t\n",
       "\t\n"
      ]
     },
     "execution_count": 1,
     "metadata": {},
     "output_type": "execute_result"
    },
    {
     "data": {
      "text/plain": [
       "Pred is\t392433278.47629\t\n",
       "Real is\t392433156\t\n",
       "Diff is\t122.47629058361\t\n",
       "\t\n"
      ]
     },
     "execution_count": 1,
     "metadata": {},
     "output_type": "execute_result"
    },
    {
     "data": {
      "text/plain": [
       "Pred is\t392433280.45036\t\n",
       "Real is\t392433201\t\n"
      ]
     },
     "execution_count": 1,
     "metadata": {},
     "output_type": "execute_result"
    },
    {
     "data": {
      "text/plain": [
       "Diff is\t79.450364947319\t\n",
       "\t\n"
      ]
     },
     "execution_count": 1,
     "metadata": {},
     "output_type": "execute_result"
    },
    {
     "data": {
      "text/plain": [
       "Pred is\t392433279.17071\t\n",
       "Real is\t392433326\t\n",
       "Diff is\t-46.829288005829\t\n",
       "\t\n"
      ]
     },
     "execution_count": 1,
     "metadata": {},
     "output_type": "execute_result"
    },
    {
     "data": {
      "text/plain": [
       "Pred is\t392433278.70273\t\n",
       "Real is\t392433251\t\n",
       "Diff is\t27.702733397484\t\n",
       "\t\n"
      ]
     },
     "execution_count": 1,
     "metadata": {},
     "output_type": "execute_result"
    },
    {
     "data": {
      "text/plain": [
       "Pred is\t392433280.45646\t\n",
       "Real is\t392433184\t\n",
       "Diff is\t96.456462860107\t\n",
       "\t\n"
      ]
     },
     "execution_count": 1,
     "metadata": {},
     "output_type": "execute_result"
    },
    {
     "data": {
      "text/plain": [
       "Pred is\t392433278.0283\t\n",
       "Real is\t392433341\t\n",
       "Diff is\t-62.971696138382\t\n",
       "\t\n"
      ]
     },
     "execution_count": 1,
     "metadata": {},
     "output_type": "execute_result"
    },
    {
     "data": {
      "text/plain": [
       "Pred is\t392433280.09332\t\n",
       "Real is\t392433186\t\n",
       "Diff is\t94.093322098255\t\n",
       "\t\n"
      ]
     },
     "execution_count": 1,
     "metadata": {},
     "output_type": "execute_result"
    },
    {
     "data": {
      "text/plain": [
       "Pred is\t392433281.30507\t\n",
       "Real is\t392433330\t\n"
      ]
     },
     "execution_count": 1,
     "metadata": {},
     "output_type": "execute_result"
    },
    {
     "data": {
      "text/plain": [
       "Diff is\t-48.694928884506\t\n",
       "\t\n"
      ]
     },
     "execution_count": 1,
     "metadata": {},
     "output_type": "execute_result"
    },
    {
     "data": {
      "text/plain": [
       "Pred is\t392433277.0213\t\n",
       "Real is\t392433243\t\n",
       "Diff is\t34.021298527718\t\n",
       "\t\n"
      ]
     },
     "execution_count": 1,
     "metadata": {},
     "output_type": "execute_result"
    },
    {
     "data": {
      "text/plain": [
       "Pred is\t392433278.05667\t\n",
       "Real is\t392433302\t\n"
      ]
     },
     "execution_count": 1,
     "metadata": {},
     "output_type": "execute_result"
    },
    {
     "data": {
      "text/plain": [
       "Diff is\t-23.943333506584\t\n",
       "\t\n"
      ]
     },
     "execution_count": 1,
     "metadata": {},
     "output_type": "execute_result"
    },
    {
     "data": {
      "text/plain": [
       "Pred is\t392433280.823\t\n",
       "Real is\t392433118\t\n",
       "Diff is\t162.82299524546\t\n",
       "\t\n"
      ]
     },
     "execution_count": 1,
     "metadata": {},
     "output_type": "execute_result"
    },
    {
     "data": {
      "text/plain": [
       "Pred is\t392433277.97147\t\n",
       "Real is\t392433293\t\n",
       "Diff is\t-15.028526008129\t\n",
       "\t\n"
      ]
     },
     "execution_count": 1,
     "metadata": {},
     "output_type": "execute_result"
    },
    {
     "data": {
      "text/plain": [
       "Pred is\t392433277.13861\t\n",
       "Real is\t392433314\t\n",
       "Diff is\t-36.86139112711\t\n",
       "\t\n"
      ]
     },
     "execution_count": 1,
     "metadata": {},
     "output_type": "execute_result"
    },
    {
     "data": {
      "text/plain": [
       "Pred is\t392433278.1574\t\n",
       "Real is\t392433331\t\n",
       "Diff is\t-52.842597603798\t\n",
       "\t\n"
      ]
     },
     "execution_count": 1,
     "metadata": {},
     "output_type": "execute_result"
    },
    {
     "data": {
      "text/plain": [
       "Pred is\t392433277.35018\t\n",
       "Real is\t392433341\t\n",
       "Diff is\t-63.649820625782\t\n",
       "\t\n"
      ]
     },
     "execution_count": 1,
     "metadata": {},
     "output_type": "execute_result"
    },
    {
     "data": {
      "text/plain": [
       "Pred is\t392433279.08228\t\n",
       "Real is\t392433189\t\n",
       "Diff is\t90.082275688648\t\n",
       "\t\n"
      ]
     },
     "execution_count": 1,
     "metadata": {},
     "output_type": "execute_result"
    },
    {
     "data": {
      "text/plain": [
       "Pred is\t392433276.74352\t\n",
       "Real is\t392433313\t\n",
       "Diff is\t-36.256479084492\t\n",
       "\t\n"
      ]
     },
     "execution_count": 1,
     "metadata": {},
     "output_type": "execute_result"
    },
    {
     "data": {
      "text/plain": [
       "Pred is\t392433276.59322\t\n",
       "Real is\t392433341\t\n",
       "Diff is\t-64.406780183315\t\n",
       "\t\n"
      ]
     },
     "execution_count": 1,
     "metadata": {},
     "output_type": "execute_result"
    },
    {
     "data": {
      "text/plain": [
       "Pred is\t392433277.82698\t\n",
       "Real is\t392433363\t\n",
       "Diff is\t-85.17301762104\t\n",
       "\t\n"
      ]
     },
     "execution_count": 1,
     "metadata": {},
     "output_type": "execute_result"
    },
    {
     "data": {
      "text/plain": [
       "Pred is\t392433276.62897\t\n",
       "Real is\t392433203\t\n",
       "Diff is\t73.628971636295\t\n",
       "\t\n"
      ]
     },
     "execution_count": 1,
     "metadata": {},
     "output_type": "execute_result"
    },
    {
     "data": {
      "text/plain": [
       "Pred is\t392433277.2872\t\n",
       "Real is\t392433355\t\n",
       "Diff is\t-77.712798893452\t\n",
       "\t\n"
      ]
     },
     "execution_count": 1,
     "metadata": {},
     "output_type": "execute_result"
    },
    {
     "data": {
      "text/plain": [
       "Pred is\t392433277.24844\t\n",
       "Real is\t392433222\t\n",
       "Diff is\t55.248439848423\t\n",
       "\t\n"
      ]
     },
     "execution_count": 1,
     "metadata": {},
     "output_type": "execute_result"
    },
    {
     "data": {
      "text/plain": [
       "Pred is\t392433279.34236\t\n",
       "Real is\t392433331\t\n",
       "Diff is\t-51.657640397549\t\n",
       "\t\n"
      ]
     },
     "execution_count": 1,
     "metadata": {},
     "output_type": "execute_result"
    },
    {
     "data": {
      "text/plain": [
       "Pred is\t392433279.99065\t\n",
       "Real is\t392433165\t\n",
       "Diff is\t114.9906514883\t\n",
       "\t\n"
      ]
     },
     "execution_count": 1,
     "metadata": {},
     "output_type": "execute_result"
    },
    {
     "data": {
      "text/plain": [
       "Pred is\t392433279.25741\t\n",
       "Real is\t392433388\t\n",
       "Diff is\t-108.74259293079\t\n",
       "\t\n"
      ]
     },
     "execution_count": 1,
     "metadata": {},
     "output_type": "execute_result"
    },
    {
     "data": {
      "text/plain": [
       "Pred is\t392433279.0107\t\n",
       "Real is\t392433127\t\n",
       "Diff is\t152.01069951057\t\n",
       "\t\n"
      ]
     },
     "execution_count": 1,
     "metadata": {},
     "output_type": "execute_result"
    },
    {
     "data": {
      "text/plain": [
       "Pred is\t392433279.77013\t\n",
       "Real is\t392433238\t\n",
       "Diff is\t41.770131647587\t\n",
       "\t\n"
      ]
     },
     "execution_count": 1,
     "metadata": {},
     "output_type": "execute_result"
    },
    {
     "data": {
      "text/plain": [
       "Pred is\t392433275.75078\t\n",
       "Real is\t392433194\t\n",
       "Diff is\t81.750781595707\t\n",
       "\t\n"
      ]
     },
     "execution_count": 1,
     "metadata": {},
     "output_type": "execute_result"
    },
    {
     "data": {
      "text/plain": [
       "Pred is\t392433273.86733\t\n",
       "Real is\t392433223\t\n",
       "Diff is\t50.86733174324\t\n",
       "\t\n"
      ]
     },
     "execution_count": 1,
     "metadata": {},
     "output_type": "execute_result"
    },
    {
     "data": {
      "text/plain": [
       "Pred is\t392433277.61556\t\n",
       "Real is\t392433207\t\n",
       "Diff is\t70.615558087826\t\n",
       "\t\n"
      ]
     },
     "execution_count": 1,
     "metadata": {},
     "output_type": "execute_result"
    },
    {
     "data": {
      "text/plain": [
       "Pred is\t392433277.22436\t\n",
       "Real is\t392433234\t\n",
       "Diff is\t43.224359214306\t\n",
       "\t\n"
      ]
     },
     "execution_count": 1,
     "metadata": {},
     "output_type": "execute_result"
    },
    {
     "data": {
      "text/plain": [
       "Pred is\t392433279.383\t\n",
       "Real is\t392433192\t\n",
       "Diff is\t87.382999241352\t\n",
       "\t\n"
      ]
     },
     "execution_count": 1,
     "metadata": {},
     "output_type": "execute_result"
    },
    {
     "data": {
      "text/plain": [
       "Pred is\t392433279.23455\t\n",
       "Real is\t392433192\t\n",
       "Diff is\t87.234554052353\t\n",
       "\t\n"
      ]
     },
     "execution_count": 1,
     "metadata": {},
     "output_type": "execute_result"
    },
    {
     "data": {
      "text/plain": [
       "Pred is\t392433279.74047\t\n",
       "Real is\t392433096\t\n",
       "Diff is\t183.74046820402\t\n",
       "\t\n"
      ]
     },
     "execution_count": 1,
     "metadata": {},
     "output_type": "execute_result"
    },
    {
     "data": {
      "text/plain": [
       "Pred is\t392433278.78958\t\n",
       "Real is\t392433327\t\n",
       "Diff is\t-48.210419714451\t\n",
       "\t\n"
      ]
     },
     "execution_count": 1,
     "metadata": {},
     "output_type": "execute_result"
    },
    {
     "data": {
      "text/plain": [
       "Pred is\t392433277.84885\t\n",
       "Real is\t392433141\t\n",
       "Diff is\t136.84884780645\t\n",
       "\t\n"
      ]
     },
     "execution_count": 1,
     "metadata": {},
     "output_type": "execute_result"
    },
    {
     "data": {
      "text/plain": [
       "Pred is\t392433278.42414\t\n",
       "Real is\t392433341\t\n",
       "Diff is\t-62.575862288475\t\n",
       "\t\n"
      ]
     },
     "execution_count": 1,
     "metadata": {},
     "output_type": "execute_result"
    },
    {
     "data": {
      "text/plain": [
       "Pred is\t392433280.91988\t\n",
       "Real is\t392433362\t\n",
       "Diff is\t-81.080122947693\t\n",
       "\t\n"
      ]
     },
     "execution_count": 1,
     "metadata": {},
     "output_type": "execute_result"
    },
    {
     "data": {
      "text/plain": [
       "Pred is\t392433277.31482\t\n",
       "Real is\t392433360\t\n",
       "Diff is\t-82.685176789761\t\n",
       "\t\n"
      ]
     },
     "execution_count": 1,
     "metadata": {},
     "output_type": "execute_result"
    },
    {
     "data": {
      "text/plain": [
       "Pred is\t392433275.08851\t\n",
       "Real is\t392433261\t\n",
       "Diff is\t14.088506579399\t\n",
       "\t\n"
      ]
     },
     "execution_count": 1,
     "metadata": {},
     "output_type": "execute_result"
    },
    {
     "data": {
      "text/plain": [
       "Pred is\t392433281.81903\t\n",
       "Real is\t392433413\t\n",
       "Diff is\t-131.18096929789\t\n",
       "\t\n"
      ]
     },
     "execution_count": 1,
     "metadata": {},
     "output_type": "execute_result"
    },
    {
     "data": {
      "text/plain": [
       "Pred is\t392433283.03396\t\n",
       "Real is\t392433270\t\n",
       "Diff is\t13.033961832523\t\n",
       "\t\n"
      ]
     },
     "execution_count": 1,
     "metadata": {},
     "output_type": "execute_result"
    },
    {
     "data": {
      "text/plain": [
       "Pred is\t392433274.21938\t\n",
       "Real is\t392433138\t\n",
       "Diff is\t136.21938484907\t\n",
       "\t\n"
      ]
     },
     "execution_count": 1,
     "metadata": {},
     "output_type": "execute_result"
    },
    {
     "data": {
      "text/plain": [
       "Pred is\t392433274.97241\t\n",
       "Real is\t392433289\t\n",
       "Diff is\t-14.027591645718\t\n",
       "\t\n"
      ]
     },
     "execution_count": 1,
     "metadata": {},
     "output_type": "execute_result"
    },
    {
     "data": {
      "text/plain": [
       "Pred is\t392433281.92393\t\n",
       "Real is\t392433148\t\n",
       "Diff is\t133.92392861843\t\n",
       "\t\n"
      ]
     },
     "execution_count": 1,
     "metadata": {},
     "output_type": "execute_result"
    },
    {
     "data": {
      "text/plain": [
       "Pred is\t392433278.42967\t\n",
       "Real is\t392433204\t\n",
       "Diff is\t74.429665446281\t\n",
       "\t\n"
      ]
     },
     "execution_count": 1,
     "metadata": {},
     "output_type": "execute_result"
    },
    {
     "data": {
      "text/plain": [
       "Pred is\t392433276.05669\t\n",
       "Real is\t392433212\t\n",
       "Diff is\t64.056689500809\t\n",
       "\t\n"
      ]
     },
     "execution_count": 1,
     "metadata": {},
     "output_type": "execute_result"
    },
    {
     "data": {
      "text/plain": [
       "Pred is\t392433279.24088\t\n",
       "Real is\t392433109\t\n",
       "Diff is\t170.24088251591\t\n",
       "\t\n"
      ]
     },
     "execution_count": 1,
     "metadata": {},
     "output_type": "execute_result"
    },
    {
     "data": {
      "text/plain": [
       "Pred is\t392433281.27704\t\n",
       "Real is\t392433349\t\n",
       "Diff is\t-67.722964763641\t\n",
       "\t\n"
      ]
     },
     "execution_count": 1,
     "metadata": {},
     "output_type": "execute_result"
    },
    {
     "data": {
      "text/plain": [
       "Pred is\t392433276.4024\t\n",
       "Real is\t392433139\t\n",
       "Diff is\t137.40239965916\t\n",
       "\t\n"
      ]
     },
     "execution_count": 1,
     "metadata": {},
     "output_type": "execute_result"
    },
    {
     "data": {
      "text/plain": [
       "Pred is\t392433277.35411\t\n",
       "Real is\t392433244\t\n",
       "Diff is\t33.354106068611\t\n",
       "\t\n"
      ]
     },
     "execution_count": 1,
     "metadata": {},
     "output_type": "execute_result"
    },
    {
     "data": {
      "text/plain": [
       "Pred is\t392433277.57071\t\n",
       "Real is\t392433195\t\n",
       "Diff is\t82.570708751678\t\n",
       "\t\n"
      ]
     },
     "execution_count": 1,
     "metadata": {},
     "output_type": "execute_result"
    },
    {
     "data": {
      "text/plain": [
       "Pred is\t392433278.34946\t\n",
       "Real is\t392433356\t\n",
       "Diff is\t-77.650537848473\t\n",
       "\t\n"
      ]
     },
     "execution_count": 1,
     "metadata": {},
     "output_type": "execute_result"
    },
    {
     "data": {
      "text/plain": [
       "Pred is\t392433278.46546\t\n",
       "Real is\t392433236\t\n",
       "Diff is\t42.465458571911\t\n",
       "\t\n"
      ]
     },
     "execution_count": 1,
     "metadata": {},
     "output_type": "execute_result"
    },
    {
     "data": {
      "text/plain": [
       "Pred is\t392433276.1103\t\n",
       "Real is\t392433250\t\n",
       "Diff is\t26.110298633575\t\n",
       "\t\n"
      ]
     },
     "execution_count": 1,
     "metadata": {},
     "output_type": "execute_result"
    },
    {
     "data": {
      "text/plain": [
       "Pred is\t392433280.22362\t\n",
       "Real is\t392433195\t\n",
       "Diff is\t85.223622739315\t\n",
       "\t\n"
      ]
     },
     "execution_count": 1,
     "metadata": {},
     "output_type": "execute_result"
    },
    {
     "data": {
      "text/plain": [
       "Pred is\t392433276.82883\t\n",
       "Real is\t392433158\t\n",
       "Diff is\t118.82883423567\t\n",
       "\t\n"
      ]
     },
     "execution_count": 1,
     "metadata": {},
     "output_type": "execute_result"
    },
    {
     "data": {
      "text/plain": [
       "Pred is\t392433277.44491\t\n",
       "Real is\t392433192\t\n",
       "Diff is\t85.444913327694\t\n",
       "\t\n"
      ]
     },
     "execution_count": 1,
     "metadata": {},
     "output_type": "execute_result"
    },
    {
     "data": {
      "text/plain": [
       "Pred is\t392433280.29882\t\n",
       "Real is\t392433188\t\n",
       "Diff is\t92.29882401228\t\n",
       "\t\n"
      ]
     },
     "execution_count": 1,
     "metadata": {},
     "output_type": "execute_result"
    },
    {
     "data": {
      "text/plain": [
       "Pred is\t392433282.7762\t\n",
       "Real is\t392433252\t\n",
       "Diff is\t30.776196956635\t\n",
       "\t\n"
      ]
     },
     "execution_count": 1,
     "metadata": {},
     "output_type": "execute_result"
    },
    {
     "data": {
      "text/plain": [
       "Pred is\t392433278.00224\t\n",
       "Real is\t392433173\t\n",
       "Diff is\t105.00224471092\t\n",
       "\t\n"
      ]
     },
     "execution_count": 1,
     "metadata": {},
     "output_type": "execute_result"
    },
    {
     "data": {
      "text/plain": [
       "Pred is\t392433280.05433\t\n",
       "Real is\t392433150\t\n",
       "Diff is\t130.05433452129\t\n",
       "\t\n"
      ]
     },
     "execution_count": 1,
     "metadata": {},
     "output_type": "execute_result"
    },
    {
     "data": {
      "text/plain": [
       "Pred is\t392433276.38605\t\n",
       "Real is\t392433393\t\n",
       "Diff is\t-116.61394882202\t\n",
       "\t\n"
      ]
     },
     "execution_count": 1,
     "metadata": {},
     "output_type": "execute_result"
    },
    {
     "data": {
      "text/plain": [
       "Pred is\t392433277.7839\t\n",
       "Real is\t392433368\t\n",
       "Diff is\t-90.216096699238\t\n"
      ]
     },
     "execution_count": 1,
     "metadata": {},
     "output_type": "execute_result"
    },
    {
     "data": {
      "text/plain": [
       "\t\n"
      ]
     },
     "execution_count": 1,
     "metadata": {},
     "output_type": "execute_result"
    },
    {
     "data": {
      "text/plain": [
       "Pred is\t392433278.28222\t\n",
       "Real is\t392433253\t\n",
       "Diff is\t25.282216846943\t\n",
       "\t\n"
      ]
     },
     "execution_count": 1,
     "metadata": {},
     "output_type": "execute_result"
    },
    {
     "data": {
      "text/plain": [
       "Pred is\t392433277.0124\t\n",
       "Real is\t392433383\t\n",
       "Diff is\t-105.98760437965\t\n",
       "\t\n"
      ]
     },
     "execution_count": 1,
     "metadata": {},
     "output_type": "execute_result"
    },
    {
     "data": {
      "text/plain": [
       "Pred is\t392433276.84943\t\n",
       "Real is\t392433223\t\n",
       "Diff is\t53.84942817688\t\n",
       "\t\n"
      ]
     },
     "execution_count": 1,
     "metadata": {},
     "output_type": "execute_result"
    },
    {
     "data": {
      "text/plain": [
       "Pred is\t392433282.89025\t\n",
       "Real is\t392433327\t\n",
       "Diff is\t-44.109753608704\t\n",
       "\t\n"
      ]
     },
     "execution_count": 1,
     "metadata": {},
     "output_type": "execute_result"
    },
    {
     "data": {
      "text/plain": [
       "Pred is\t392433274.75219\t\n",
       "Real is\t392433142\t\n",
       "Diff is\t132.75219237804\t\n",
       "\t\n"
      ]
     },
     "execution_count": 1,
     "metadata": {},
     "output_type": "execute_result"
    },
    {
     "data": {
      "text/plain": [
       "Pred is\t392433279.19955\t\n",
       "Real is\t392433349\t\n",
       "Diff is\t-69.800451874733\t\n",
       "\t\n"
      ]
     },
     "execution_count": 1,
     "metadata": {},
     "output_type": "execute_result"
    },
    {
     "data": {
      "text/plain": [
       "Pred is\t392433274.97268\t\n",
       "Real is\t392433381\t\n",
       "Diff is\t-106.02732247114\t\n",
       "\t\n"
      ]
     },
     "execution_count": 1,
     "metadata": {},
     "output_type": "execute_result"
    },
    {
     "data": {
      "text/plain": [
       "Pred is\t392433278.10242\t\n",
       "Real is\t392433151\t\n",
       "Diff is\t127.10241538286\t\n",
       "\t\n"
      ]
     },
     "execution_count": 1,
     "metadata": {},
     "output_type": "execute_result"
    },
    {
     "data": {
      "text/plain": [
       "Pred is\t392433283.03068\t\n",
       "Real is\t392433348\t\n",
       "Diff is\t-64.969321608543\t\n",
       "\t\n"
      ]
     },
     "execution_count": 1,
     "metadata": {},
     "output_type": "execute_result"
    },
    {
     "data": {
      "text/plain": [
       "Pred is\t392433275.96711\t\n",
       "Real is\t392433274\t\n",
       "Diff is\t1.9671149849892\t\n",
       "\t\n"
      ]
     },
     "execution_count": 1,
     "metadata": {},
     "output_type": "execute_result"
    },
    {
     "data": {
      "text/plain": [
       "Pred is\t392433280.34373\t\n",
       "Real is\t392433237\t\n",
       "Diff is\t43.343728840351\t\n",
       "\t\n"
      ]
     },
     "execution_count": 1,
     "metadata": {},
     "output_type": "execute_result"
    },
    {
     "data": {
      "text/plain": [
       "Pred is\t392433278.18192\t\n",
       "Real is\t392433186\t\n",
       "Diff is\t92.181923866272\t\n",
       "\t\n"
      ]
     },
     "execution_count": 1,
     "metadata": {},
     "output_type": "execute_result"
    },
    {
     "data": {
      "text/plain": [
       "Pred is\t392433278.48949\t\n",
       "Real is\t392433313\t\n",
       "Diff is\t-34.510514914989\t\n",
       "\t\n"
      ]
     },
     "execution_count": 1,
     "metadata": {},
     "output_type": "execute_result"
    },
    {
     "data": {
      "text/plain": [
       "Pred is\t392433280.81345\t\n",
       "Real is\t392433241\t\n",
       "Diff is\t39.813450872898\t\n",
       "\t\n"
      ]
     },
     "execution_count": 1,
     "metadata": {},
     "output_type": "execute_result"
    },
    {
     "data": {
      "text/plain": [
       "Pred is\t392433279.93405\t\n",
       "Real is\t392433293\t\n",
       "Diff is\t-13.065954446793\t\n",
       "\t\n"
      ]
     },
     "execution_count": 1,
     "metadata": {},
     "output_type": "execute_result"
    },
    {
     "data": {
      "text/plain": [
       "Pred is\t392433273.85813\t\n",
       "Real is\t392433228\t\n",
       "Diff is\t45.858127892017\t\n",
       "\t\n"
      ]
     },
     "execution_count": 1,
     "metadata": {},
     "output_type": "execute_result"
    },
    {
     "data": {
      "text/plain": [
       "Pred is\t392433281.82562\t\n",
       "Real is\t392433273\t\n",
       "Diff is\t8.8256170153618\t\n",
       "\t\n"
      ]
     },
     "execution_count": 1,
     "metadata": {},
     "output_type": "execute_result"
    },
    {
     "data": {
      "text/plain": [
       "Pred is\t392433274.63246\t\n",
       "Real is\t392433364\t\n",
       "Diff is\t-89.367539823055\t\n",
       "\t\n"
      ]
     },
     "execution_count": 1,
     "metadata": {},
     "output_type": "execute_result"
    },
    {
     "data": {
      "text/plain": [
       "Pred is\t392433280.96548\t\n",
       "Real is\t392433287\t\n",
       "Diff is\t-6.0345231890678\t\n",
       "\t\n"
      ]
     },
     "execution_count": 1,
     "metadata": {},
     "output_type": "execute_result"
    },
    {
     "data": {
      "text/plain": [
       "Pred is\t392433275.27962\t\n",
       "Real is\t392433235\t\n",
       "Diff is\t40.27962076664\t\n",
       "\t\n"
      ]
     },
     "execution_count": 1,
     "metadata": {},
     "output_type": "execute_result"
    },
    {
     "data": {
      "text/plain": [
       "Pred is\t392433280.17337\t\n"
      ]
     },
     "execution_count": 1,
     "metadata": {},
     "output_type": "execute_result"
    },
    {
     "data": {
      "text/plain": [
       "Real is\t392433337\t\n",
       "Diff is\t-56.826634764671\t\n",
       "\t\n"
      ]
     },
     "execution_count": 1,
     "metadata": {},
     "output_type": "execute_result"
    },
    {
     "data": {
      "text/plain": [
       "Pred is\t392433277.33778\t\n",
       "Real is\t392433319\t\n",
       "Diff is\t-41.662218928337\t\n",
       "\t\n"
      ]
     },
     "execution_count": 1,
     "metadata": {},
     "output_type": "execute_result"
    },
    {
     "data": {
      "text/plain": [
       "Pred is\t"
      ]
     },
     "execution_count": 1,
     "metadata": {},
     "output_type": "execute_result"
    },
    {
     "data": {
      "text/plain": [
       "392433279.58939\t\n",
       "Real is\t392433347\t\n",
       "Diff is\t-67.410609543324\t\n",
       "\t\n"
      ]
     },
     "execution_count": 1,
     "metadata": {},
     "output_type": "execute_result"
    },
    {
     "data": {
      "text/plain": [
       "Pred is\t392433281.15901\t\n",
       "Real is\t392433354\t\n",
       "Diff is\t-72.840985953808\t\n",
       "\t\n"
      ]
     },
     "execution_count": 1,
     "metadata": {},
     "output_type": "execute_result"
    },
    {
     "data": {
      "text/plain": [
       "Pred is\t392433278.71648\t\n",
       "Real is\t392433253\t\n",
       "Diff is\t25.716478943825\t\n",
       "\t\n"
      ]
     },
     "execution_count": 1,
     "metadata": {},
     "output_type": "execute_result"
    },
    {
     "data": {
      "text/plain": [
       "Pred is\t392433280.1154\t\n",
       "Real is\t392433233\t\n",
       "Diff is\t47.115395724773\t\n",
       "\t\n"
      ]
     },
     "execution_count": 1,
     "metadata": {},
     "output_type": "execute_result"
    },
    {
     "data": {
      "text/plain": [
       "Pred is\t392433278.12741\t\n",
       "Real is\t392433095\t\n",
       "Diff is\t183.12741321325\t\n",
       "\t\n"
      ]
     },
     "execution_count": 1,
     "metadata": {},
     "output_type": "execute_result"
    },
    {
     "data": {
      "text/plain": [
       "Pred is\t392433279.42112\t\n",
       "Real is\t392433199\t\n",
       "Diff is\t80.421124219894\t\n",
       "\t\n"
      ]
     },
     "execution_count": 1,
     "metadata": {},
     "output_type": "execute_result"
    },
    {
     "data": {
      "text/plain": [
       "Pred is\t392433277.30549\t\n",
       "Real is\t392433247\t\n",
       "Diff is\t30.3054921031\t\n",
       "\t\n"
      ]
     },
     "execution_count": 1,
     "metadata": {},
     "output_type": "execute_result"
    },
    {
     "data": {
      "text/plain": [
       "Pred is\t392433279.57722\t\n"
      ]
     },
     "execution_count": 1,
     "metadata": {},
     "output_type": "execute_result"
    },
    {
     "data": {
      "text/plain": [
       "Real is\t392433143\t\n",
       "Diff is\t136.57721686363\t\n",
       "\t\n"
      ]
     },
     "execution_count": 1,
     "metadata": {},
     "output_type": "execute_result"
    },
    {
     "data": {
      "text/plain": [
       "Pred is\t392433278.68109\t\n",
       "Real is\t392433229\t\n",
       "Diff is\t49.68109446764\t\n",
       "\t\n"
      ]
     },
     "execution_count": 1,
     "metadata": {},
     "output_type": "execute_result"
    },
    {
     "data": {
      "text/plain": [
       "Pred is\t392433279.60723\t\n",
       "Real is\t392433326\t\n",
       "Diff is\t-46.392774760723\t\n",
       "\t\n"
      ]
     },
     "execution_count": 1,
     "metadata": {},
     "output_type": "execute_result"
    },
    {
     "data": {
      "text/plain": [
       "Pred is\t392433279.41157\t\n",
       "Real is\t392433230\t\n",
       "Diff is\t49.411570727825\t\n",
       "\t\n"
      ]
     },
     "execution_count": 1,
     "metadata": {},
     "output_type": "execute_result"
    },
    {
     "data": {
      "text/plain": [
       "Pred is\t392433276.6062\t\n",
       "Real is\t392433133\t\n",
       "Diff is\t143.6062002182\t\n",
       "\t\n"
      ]
     },
     "execution_count": 1,
     "metadata": {},
     "output_type": "execute_result"
    },
    {
     "data": {
      "text/plain": [
       "Pred is\t392433279.96063\t\n",
       "Real is\t392433300\t\n",
       "Diff is\t-20.03937369585\t\n",
       "\t\n"
      ]
     },
     "execution_count": 1,
     "metadata": {},
     "output_type": "execute_result"
    },
    {
     "data": {
      "text/plain": [
       "Pred is\t392433275.51633\t\n",
       "Real is\t392433229\t\n",
       "Diff is\t46.516330242157\t\n",
       "\t\n"
      ]
     },
     "execution_count": 1,
     "metadata": {},
     "output_type": "execute_result"
    },
    {
     "data": {
      "text/plain": [
       "Pred is\t392433278.24033\t\n",
       "Real is\t392433128\t\n",
       "Diff is\t150.24032920599\t\n",
       "\t\n"
      ]
     },
     "execution_count": 1,
     "metadata": {},
     "output_type": "execute_result"
    },
    {
     "data": {
      "text/plain": [
       "Pred is\t392433281.37804\t\n",
       "Real is\t392433130\t\n",
       "Diff is\t151.37804234028\t\n",
       "\t\n"
      ]
     },
     "execution_count": 1,
     "metadata": {},
     "output_type": "execute_result"
    },
    {
     "data": {
      "text/plain": [
       "Pred is\t392433281.72027\t\n",
       "Real is\t392433241\t\n",
       "Diff is\t40.720266163349\t\n",
       "\t\n"
      ]
     },
     "execution_count": 1,
     "metadata": {},
     "output_type": "execute_result"
    },
    {
     "data": {
      "text/plain": [
       "Pred is\t392433275.37787\t\n",
       "Real is\t392433228\t\n",
       "Diff is\t47.3778668046\t\n",
       "\t\n"
      ]
     },
     "execution_count": 1,
     "metadata": {},
     "output_type": "execute_result"
    },
    {
     "data": {
      "text/plain": [
       "Pred is\t392433278.32562\t\n",
       "Real is\t392433294\t\n",
       "Diff is\t-15.674375116825\t\n",
       "\t\n"
      ]
     },
     "execution_count": 1,
     "metadata": {},
     "output_type": "execute_result"
    },
    {
     "data": {
      "text/plain": [
       "Pred is\t392433278.82241\t\n",
       "Real is\t392433349\t\n",
       "Diff is\t-70.177591562271\t\n",
       "\t\n"
      ]
     },
     "execution_count": 1,
     "metadata": {},
     "output_type": "execute_result"
    },
    {
     "data": {
      "text/plain": [
       "Pred is\t392433274.87902\t\n",
       "Real is\t392433209\t\n",
       "Diff is\t65.87902367115\t\n",
       "\t\n"
      ]
     },
     "execution_count": 1,
     "metadata": {},
     "output_type": "execute_result"
    },
    {
     "data": {
      "text/plain": [
       "Pred is\t392433277.31559\t\n",
       "Real is\t392433184\t\n",
       "Diff is\t93.315592467785\t\n",
       "\t\n"
      ]
     },
     "execution_count": 1,
     "metadata": {},
     "output_type": "execute_result"
    },
    {
     "data": {
      "text/plain": [
       "Pred is\t392433282.73204\t\n",
       "Real is\t392433285\t"
      ]
     },
     "execution_count": 1,
     "metadata": {},
     "output_type": "execute_result"
    },
    {
     "data": {
      "text/plain": [
       "\n",
       "Diff is\t-2.267962038517\t\n",
       "\t\n"
      ]
     },
     "execution_count": 1,
     "metadata": {},
     "output_type": "execute_result"
    },
    {
     "data": {
      "text/plain": [
       "Pred is\t392433277.87759\t\n",
       "Real is\t392433306\t\n",
       "Diff is\t-28.122413873672\t\n",
       "\t\n"
      ]
     },
     "execution_count": 1,
     "metadata": {},
     "output_type": "execute_result"
    },
    {
     "data": {
      "text/plain": [
       "Pred is\t392433277.81875\t\n"
      ]
     },
     "execution_count": 1,
     "metadata": {},
     "output_type": "execute_result"
    },
    {
     "data": {
      "text/plain": [
       "Real is\t392433188\t\n",
       "Diff is\t89.818754851818\t\n",
       "\t\n"
      ]
     },
     "execution_count": 1,
     "metadata": {},
     "output_type": "execute_result"
    },
    {
     "data": {
      "text/plain": [
       "Pred is\t392433278.53115\t\n",
       "Real is\t392433191\t\n",
       "Diff is\t87.531146287918\t\n",
       "\t\n"
      ]
     },
     "execution_count": 1,
     "metadata": {},
     "output_type": "execute_result"
    },
    {
     "data": {
      "text/plain": [
       "Pred is\t392433278.79355\t\n",
       "Real is\t392433163\t\n",
       "Diff is\t115.79355418682\t\n",
       "\t\n"
      ]
     },
     "execution_count": 1,
     "metadata": {},
     "output_type": "execute_result"
    },
    {
     "data": {
      "text/plain": [
       "Pred is\t392433280.59313\t\n",
       "Real is\t392433179\t\n",
       "Diff is\t101.59312617779\t\n",
       "\t\n"
      ]
     },
     "execution_count": 1,
     "metadata": {},
     "output_type": "execute_result"
    },
    {
     "data": {
      "text/plain": [
       "Pred is\t392433277.88007\t\n",
       "Real is\t392433187\t\n",
       "Diff is\t90.880072653294\t\n",
       "\t\n"
      ]
     },
     "execution_count": 1,
     "metadata": {},
     "output_type": "execute_result"
    },
    {
     "data": {
      "text/plain": [
       "Pred is\t392433275.64019\t\n",
       "Real is\t392433349\t\n",
       "Diff is\t-73.359807372093\t\n",
       "\t\n"
      ]
     },
     "execution_count": 1,
     "metadata": {},
     "output_type": "execute_result"
    },
    {
     "data": {
      "text/plain": [
       "Pred is\t392433277.18963\t\n",
       "Real is\t392433096\t\n",
       "Diff is\t181.18962675333\t\n",
       "\t\n"
      ]
     },
     "execution_count": 1,
     "metadata": {},
     "output_type": "execute_result"
    },
    {
     "data": {
      "text/plain": [
       "Pred is\t392433277.64404\t\n",
       "Real is\t392433284\t\n",
       "Diff is\t-6.3559625148773\t\n",
       "\t\n"
      ]
     },
     "execution_count": 1,
     "metadata": {},
     "output_type": "execute_result"
    },
    {
     "data": {
      "text/plain": [
       "Pred is\t392433276.81397\t\n",
       "Real is\t392433324\t\n",
       "Diff is\t-47.18603438139\t\n",
       "\t\n"
      ]
     },
     "execution_count": 1,
     "metadata": {},
     "output_type": "execute_result"
    },
    {
     "data": {
      "text/plain": [
       "Pred is\t392433280.32011\t\n",
       "Real is\t392433408\t\n",
       "Diff is\t-127.67989349365\t\n",
       "\t\n"
      ]
     },
     "execution_count": 1,
     "metadata": {},
     "output_type": "execute_result"
    },
    {
     "data": {
      "text/plain": [
       "Pred is\t392433278.87977\t\n",
       "Real is\t392433341\t\n",
       "Diff is\t-62.120225667953\t\n",
       "\t\n"
      ]
     },
     "execution_count": 1,
     "metadata": {},
     "output_type": "execute_result"
    },
    {
     "data": {
      "text/plain": [
       "Pred is\t392433278.55397\t\n",
       "Real is\t392433117\t\n",
       "Diff is\t161.55396950245\t\n",
       "\t\n"
      ]
     },
     "execution_count": 1,
     "metadata": {},
     "output_type": "execute_result"
    },
    {
     "data": {
      "text/plain": [
       "Pred is\t392433279.79236\t\n",
       "Real is\t392433328\t\n",
       "Diff is\t-48.207640707493\t\n",
       "\t\n"
      ]
     },
     "execution_count": 1,
     "metadata": {},
     "output_type": "execute_result"
    },
    {
     "data": {
      "text/plain": [
       "Pred is\t392433275.99653\t\n",
       "Real is\t392433186\t\n",
       "Diff is\t89.996533930302\t\n",
       "\t\n"
      ]
     },
     "execution_count": 1,
     "metadata": {},
     "output_type": "execute_result"
    },
    {
     "data": {
      "text/plain": [
       "Pred is\t392433278.69958\t\n",
       "Real is\t392433291\t\n",
       "Diff is\t-12.300415337086\t\n",
       "\t\n"
      ]
     },
     "execution_count": 1,
     "metadata": {},
     "output_type": "execute_result"
    },
    {
     "data": {
      "text/plain": [
       "Pred is\t392433279.84469\t\n",
       "Real is\t392433302\t\n",
       "Diff is\t-22.15530616045\t\n",
       "\t\n"
      ]
     },
     "execution_count": 1,
     "metadata": {},
     "output_type": "execute_result"
    },
    {
     "data": {
      "text/plain": [
       "Pred is\t392433275.92663\t\n",
       "Real is\t392433200\t\n",
       "Diff is\t75.926627278328\t\n",
       "\t\n"
      ]
     },
     "execution_count": 1,
     "metadata": {},
     "output_type": "execute_result"
    },
    {
     "data": {
      "text/plain": [
       "Pred is\t392433279.74092\t\n",
       "Real is\t392433349\t\n",
       "Diff is\t-69.259077847004\t\n",
       "\t\n"
      ]
     },
     "execution_count": 1,
     "metadata": {},
     "output_type": "execute_result"
    },
    {
     "data": {
      "text/plain": [
       "Pred is\t392433276.05527\t\n",
       "Real is\t392433368\t\n",
       "Diff is\t-91.944725453854\t\n",
       "\t\n"
      ]
     },
     "execution_count": 1,
     "metadata": {},
     "output_type": "execute_result"
    },
    {
     "data": {
      "text/plain": [
       "Pred is\t392433278.45147\t\n",
       "Real is\t392433196\t\n",
       "Diff is\t82.451472699642\t\n",
       "\t\n"
      ]
     },
     "execution_count": 1,
     "metadata": {},
     "output_type": "execute_result"
    },
    {
     "data": {
      "text/plain": [
       "Pred is\t392433275.75045\t\n",
       "Real is\t392433278\t\n",
       "Diff is\t-2.249551653862\t"
      ]
     },
     "execution_count": 1,
     "metadata": {},
     "output_type": "execute_result"
    },
    {
     "data": {
      "text/plain": [
       "\n",
       "\t\n"
      ]
     },
     "execution_count": 1,
     "metadata": {},
     "output_type": "execute_result"
    },
    {
     "data": {
      "text/plain": [
       "Pred is\t392433275.34748\t\n",
       "Real is\t392433116\t\n",
       "Diff is\t159.34748333693\t\n",
       "\t\n"
      ]
     },
     "execution_count": 1,
     "metadata": {},
     "output_type": "execute_result"
    },
    {
     "data": {
      "text/plain": [
       "Pred is\t392433275.87538\t\n",
       "Real is\t392433310\t\n",
       "Diff is\t-34.124623060226\t\n",
       "\t\n"
      ]
     },
     "execution_count": 1,
     "metadata": {},
     "output_type": "execute_result"
    },
    {
     "data": {
      "text/plain": [
       "Pred is\t392433275.83483\t\n",
       "Real is\t392433204\t\n",
       "Diff is\t71.83483093977\t\n",
       "\t\n"
      ]
     },
     "execution_count": 1,
     "metadata": {},
     "output_type": "execute_result"
    },
    {
     "data": {
      "text/plain": [
       "Pred is\t392433279.4318\t\n",
       "Real is\t392433372\t\n",
       "Diff is\t-92.568196833134\t\n",
       "\t\n"
      ]
     },
     "execution_count": 1,
     "metadata": {},
     "output_type": "execute_result"
    },
    {
     "data": {
      "text/plain": [
       "Pred is\t392433272.88135\t\n",
       "Real is\t392433244\t\n",
       "Diff is\t28.881349265575\t\n",
       "\t\n"
      ]
     },
     "execution_count": 1,
     "metadata": {},
     "output_type": "execute_result"
    },
    {
     "data": {
      "text/plain": [
       "Pred is\t392433276.39535\t\n",
       "Real is\t392433095\t\n",
       "Diff is\t181.3953499794\t\n",
       "\t\n"
      ]
     },
     "execution_count": 1,
     "metadata": {},
     "output_type": "execute_result"
    },
    {
     "data": {
      "text/plain": [
       "Pred is\t392433278.72827\t\n",
       "Real is\t392433394\t\n",
       "Diff is\t-115.27172678709\t\n",
       "\t\n"
      ]
     },
     "execution_count": 1,
     "metadata": {},
     "output_type": "execute_result"
    },
    {
     "data": {
      "text/plain": [
       "Pred is\t392433276.01853\t\n",
       "Real is\t392433212\t\n",
       "Diff is\t64.018525004387\t\n",
       "\t\n"
      ]
     },
     "execution_count": 1,
     "metadata": {},
     "output_type": "execute_result"
    },
    {
     "data": {
      "text/plain": [
       "Pred is\t392433275.54017\t\n",
       "Real is\t392433321\t\n",
       "Diff is\t-45.459834933281\t\n",
       "\t\n"
      ]
     },
     "execution_count": 1,
     "metadata": {},
     "output_type": "execute_result"
    },
    {
     "data": {
      "text/plain": [
       "Pred is\t392433280.21336\t\n",
       "Real is\t392433136\t\n",
       "Diff is\t144.21335542202\t\n",
       "\t\n"
      ]
     },
     "execution_count": 1,
     "metadata": {},
     "output_type": "execute_result"
    },
    {
     "data": {
      "text/plain": [
       "Pred is\t392433281.09798\t\n",
       "Real is\t392433137\t\n",
       "Diff is\t144.09797918797\t\n",
       "\t\n"
      ]
     },
     "execution_count": 1,
     "metadata": {},
     "output_type": "execute_result"
    },
    {
     "data": {
      "text/plain": [
       "Pred is\t392433279.22755\t\n",
       "Real is\t392433204\t\n",
       "Diff is\t75.227550446987\t\n",
       "\t\n"
      ]
     },
     "execution_count": 1,
     "metadata": {},
     "output_type": "execute_result"
    },
    {
     "data": {
      "text/plain": [
       "Pred is\t392433275.05478\t"
      ]
     },
     "execution_count": 1,
     "metadata": {},
     "output_type": "execute_result"
    },
    {
     "data": {
      "text/plain": [
       "\n",
       "Real is\t392433305\t\n",
       "Diff is\t-29.945224225521\t\n",
       "\t\n"
      ]
     },
     "execution_count": 1,
     "metadata": {},
     "output_type": "execute_result"
    },
    {
     "data": {
      "text/plain": [
       "Pred is\t392433275.81293\t\n",
       "Real is\t392433135\t\n",
       "Diff is\t140.8129336834\t\n",
       "\t\n"
      ]
     },
     "execution_count": 1,
     "metadata": {},
     "output_type": "execute_result"
    },
    {
     "data": {
      "text/plain": [
       "Pred is\t392433281.41104\t\n",
       "Real is\t392433344\t\n",
       "Diff is\t-62.588958382607\t\n",
       "\t\n"
      ]
     },
     "execution_count": 1,
     "metadata": {},
     "output_type": "execute_result"
    },
    {
     "data": {
      "text/plain": [
       "Pred is\t392433276.60798\t\n",
       "Real is\t392433284\t\n",
       "Diff is\t-7.3920233845711\t\n",
       "\t\n"
      ]
     },
     "execution_count": 1,
     "metadata": {},
     "output_type": "execute_result"
    },
    {
     "data": {
      "text/plain": [
       "Pred is\t392433278.57644\t\n",
       "Real is\t392433215\t\n",
       "Diff is\t63.576441049576\t\n",
       "\t\n"
      ]
     },
     "execution_count": 1,
     "metadata": {},
     "output_type": "execute_result"
    },
    {
     "data": {
      "text/plain": [
       "Pred is\t392433276.58215\t\n",
       "Real is\t392433175\t\n"
      ]
     },
     "execution_count": 1,
     "metadata": {},
     "output_type": "execute_result"
    },
    {
     "data": {
      "text/plain": [
       "Diff is\t101.58215391636\t\n",
       "\t\n"
      ]
     },
     "execution_count": 1,
     "metadata": {},
     "output_type": "execute_result"
    },
    {
     "data": {
      "text/plain": [
       "Pred is\t392433280.64993\t\n",
       "Real is\t392433233\t\n",
       "Diff is\t47.649933815002\t\n",
       "\t\n"
      ]
     },
     "execution_count": 1,
     "metadata": {},
     "output_type": "execute_result"
    },
    {
     "data": {
      "text/plain": [
       "Pred is\t392433279.77263\t\n",
       "Real is\t392433416\t\n",
       "Diff is\t-136.22736936808\t\n",
       "\t\n"
      ]
     },
     "execution_count": 1,
     "metadata": {},
     "output_type": "execute_result"
    },
    {
     "data": {
      "text/plain": [
       "Pred is\t392433276.35273\t\n",
       "Real is\t392433290\t"
      ]
     },
     "execution_count": 1,
     "metadata": {},
     "output_type": "execute_result"
    },
    {
     "data": {
      "text/plain": [
       "\n",
       "Diff is\t-13.647266626358\t\n",
       "\t\n"
      ]
     },
     "execution_count": 1,
     "metadata": {},
     "output_type": "execute_result"
    },
    {
     "data": {
      "text/plain": [
       "Pred is\t392433279.09323\t\n",
       "Real is\t392433229\t\n",
       "Diff is\t50.093226790428\t\n",
       "\t\n"
      ]
     },
     "execution_count": 1,
     "metadata": {},
     "output_type": "execute_result"
    },
    {
     "data": {
      "text/plain": [
       "Pred is\t392433277.20135\t\n",
       "Real is\t392433259\t\n",
       "Diff is\t18.201346158981\t\n",
       "\t\n"
      ]
     },
     "execution_count": 1,
     "metadata": {},
     "output_type": "execute_result"
    },
    {
     "data": {
      "text/plain": [
       "Pred is\t392433277.05669\t\n",
       "Real is\t392433259\t\n",
       "Diff is\t18.056688547134\t\n",
       "\t\n"
      ]
     },
     "execution_count": 1,
     "metadata": {},
     "output_type": "execute_result"
    },
    {
     "data": {
      "text/plain": [
       "Pred is\t392433280.03753\t\n",
       "Real is\t392433202\t\n",
       "Diff is\t78.037526488304\t\n",
       "\t\n"
      ]
     },
     "execution_count": 1,
     "metadata": {},
     "output_type": "execute_result"
    },
    {
     "data": {
      "text/plain": [
       "Pred is\t392433279.67093\t\n",
       "Real is\t392433292\t\n",
       "Diff is\t-12.329074680805\t\n",
       "\t\n"
      ]
     },
     "execution_count": 1,
     "metadata": {},
     "output_type": "execute_result"
    },
    {
     "data": {
      "text/plain": [
       "Pred is\t392433278.33947\t\n",
       "Real is\t392433120\t\n",
       "Diff is\t158.33947408199\t\n",
       "\t\n"
      ]
     },
     "execution_count": 1,
     "metadata": {},
     "output_type": "execute_result"
    },
    {
     "data": {
      "text/plain": [
       "Pred is\t392433279.64127\t\n",
       "Real is\t392433308\t\n",
       "Diff is\t-28.358726799488\t\n",
       "\t\n"
      ]
     },
     "execution_count": 1,
     "metadata": {},
     "output_type": "execute_result"
    },
    {
     "data": {
      "text/plain": [
       "Pred is\t392433278.11393\t\n",
       "Real is\t392433230\t\n",
       "Diff is\t48.113929867744\t\n",
       "\t\n"
      ]
     },
     "execution_count": 1,
     "metadata": {},
     "output_type": "execute_result"
    },
    {
     "data": {
      "text/plain": [
       "Pred is\t392433276.76042\t\n",
       "Real is\t392433129\t\n",
       "Diff is\t147.76042485237\t\n",
       "\t\n"
      ]
     },
     "execution_count": 1,
     "metadata": {},
     "output_type": "execute_result"
    },
    {
     "data": {
      "text/plain": [
       "Pred is\t392433277.81768\t\n",
       "Real is\t392433366\t\n",
       "Diff is\t-88.182322800159\t\n",
       "\t\n"
      ]
     },
     "execution_count": 1,
     "metadata": {},
     "output_type": "execute_result"
    },
    {
     "data": {
      "text/plain": [
       "Pred is\t392433276.24362\t\n",
       "Real is\t392433330\t\n",
       "Diff is\t-53.756376743317\t\n",
       "\t\n"
      ]
     },
     "execution_count": 1,
     "metadata": {},
     "output_type": "execute_result"
    },
    {
     "data": {
      "text/plain": [
       "Pred is\t392433275.0489\t\n",
       "Real is\t392433330\t\n",
       "Diff is\t-54.951103031635\t\n",
       "\t\n"
      ]
     },
     "execution_count": 1,
     "metadata": {},
     "output_type": "execute_result"
    },
    {
     "data": {
      "text/plain": [
       "Pred is\t392433281.37762\t\n",
       "Real is\t392433159\t\n",
       "Diff is\t122.37761944532\t\n",
       "\t\n"
      ]
     },
     "execution_count": 1,
     "metadata": {},
     "output_type": "execute_result"
    },
    {
     "data": {
      "text/plain": [
       "Pred is\t392433278.92375\t\n",
       "Real is\t392433113\t\n",
       "Diff is\t165.92374801636\t\n",
       "\t\n"
      ]
     },
     "execution_count": 1,
     "metadata": {},
     "output_type": "execute_result"
    },
    {
     "data": {
      "text/plain": [
       "Pred is\t392433277.55275\t\n",
       "Real is\t392433236\t\n",
       "Diff is\t41.552747428417\t\n",
       "\t\n"
      ]
     },
     "execution_count": 1,
     "metadata": {},
     "output_type": "execute_result"
    },
    {
     "data": {
      "text/plain": [
       "Pred is\t392433280.874\t\n",
       "Real is\t392433260\t\n",
       "Diff is\t20.874001383781\t\n",
       "\t\n"
      ]
     },
     "execution_count": 1,
     "metadata": {},
     "output_type": "execute_result"
    },
    {
     "data": {
      "text/plain": [
       "Pred is\t392433277.91375\t\n",
       "Real is\t392433370\t\n",
       "Diff is\t-92.086251616478\t\n",
       "\t\n"
      ]
     },
     "execution_count": 1,
     "metadata": {},
     "output_type": "execute_result"
    },
    {
     "data": {
      "text/plain": [
       "Pred is\t392433277.84188\t\n",
       "Real is\t392433343\t\n",
       "Diff is\t-65.158122897148\t\n",
       "\t\n"
      ]
     },
     "execution_count": 1,
     "metadata": {},
     "output_type": "execute_result"
    },
    {
     "data": {
      "text/plain": [
       "Pred is\t392433281.26003\t\n",
       "Real is\t392433095\t\n",
       "Diff is\t186.26002591848\t\n",
       "\t\n"
      ]
     },
     "execution_count": 1,
     "metadata": {},
     "output_type": "execute_result"
    },
    {
     "data": {
      "text/plain": [
       "Pred is\t392433279.41875\t\n",
       "Real is\t392433187\t\n",
       "Diff is\t92.418754637241\t\n",
       "\t\n"
      ]
     },
     "execution_count": 1,
     "metadata": {},
     "output_type": "execute_result"
    },
    {
     "data": {
      "text/plain": [
       "Pred is\t392433278.17425\t\n",
       "Real is\t392433415\t\n",
       "Diff is\t-136.82575035095\t\n",
       "\t\n"
      ]
     },
     "execution_count": 1,
     "metadata": {},
     "output_type": "execute_result"
    },
    {
     "data": {
      "text/plain": [
       "Pred is\t392433280.53956\t\n",
       "Real is\t392433167\t\n",
       "Diff is\t113.53956055641\t\n",
       "\t\n"
      ]
     },
     "execution_count": 1,
     "metadata": {},
     "output_type": "execute_result"
    },
    {
     "data": {
      "text/plain": [
       "Pred is\t392433275.09221\t\n",
       "Real is\t392433341\t\n",
       "Diff is\t-65.907786607742\t\n",
       "\t\n"
      ]
     },
     "execution_count": 1,
     "metadata": {},
     "output_type": "execute_result"
    },
    {
     "data": {
      "text/plain": [
       "Pred is\t392433274.1958\t\n",
       "Real is\t392433260\t\n",
       "Diff is\t14.19580245018\t\n",
       "\t\n"
      ]
     },
     "execution_count": 1,
     "metadata": {},
     "output_type": "execute_result"
    },
    {
     "data": {
      "text/plain": [
       "Pred is\t392433274.80381\t\n",
       "Real is\t392433331\t\n",
       "Diff is\t-56.196189463139\t\n",
       "\t\n"
      ]
     },
     "execution_count": 1,
     "metadata": {},
     "output_type": "execute_result"
    },
    {
     "data": {
      "text/plain": [
       "Pred is\t392433279.82816\t\n",
       "Real is\t392433341\t\n",
       "Diff is\t-61.171839416027\t\n",
       "\t\n"
      ]
     },
     "execution_count": 1,
     "metadata": {},
     "output_type": "execute_result"
    },
    {
     "data": {
      "text/plain": [
       "Pred is\t392433274.27021\t\n",
       "Real is\t392433385\t\n",
       "Diff is\t-110.72978550196\t\n",
       "\t\n"
      ]
     },
     "execution_count": 1,
     "metadata": {},
     "output_type": "execute_result"
    },
    {
     "data": {
      "text/plain": [
       "Pred is\t392433283.18117\t\n",
       "Real is\t392433195\t\n",
       "Diff is\t88.181169390678\t\n",
       "\t\n"
      ]
     },
     "execution_count": 1,
     "metadata": {},
     "output_type": "execute_result"
    },
    {
     "data": {
      "text/plain": [
       "Pred is\t392433281.26346\t\n",
       "Real is\t392433243\t\n",
       "Diff is\t38.26345705986\t\n",
       "\t\n"
      ]
     },
     "execution_count": 1,
     "metadata": {},
     "output_type": "execute_result"
    },
    {
     "data": {
      "text/plain": [
       "Pred is\t392433277.45634\t\n",
       "Real is\t392433205\t\n",
       "Diff is\t72.456342577934\t\n",
       "\t\n"
      ]
     },
     "execution_count": 1,
     "metadata": {},
     "output_type": "execute_result"
    },
    {
     "data": {
      "text/plain": [
       "Pred is\t392433282.71792\t\n",
       "Real is\t392433191\t\n",
       "Diff is\t91.717917144299\t\n",
       "\t\n"
      ]
     },
     "execution_count": 1,
     "metadata": {},
     "output_type": "execute_result"
    },
    {
     "data": {
      "text/plain": [
       "Pred is\t392433278.57703\t\n",
       "Real is\t392433315\t\n",
       "Diff is\t-36.422969281673\t\n",
       "\t\n"
      ]
     },
     "execution_count": 1,
     "metadata": {},
     "output_type": "execute_result"
    },
    {
     "data": {
      "text/plain": [
       "Pred is\t392433280.51806\t\n",
       "Real is\t392433284\t\n",
       "Diff is\t-3.481943488121\t\n",
       "\t\n"
      ]
     },
     "execution_count": 1,
     "metadata": {},
     "output_type": "execute_result"
    },
    {
     "data": {
      "text/plain": [
       "Pred is\t392433282.54248\t\n",
       "Real is\t392433336\t\n",
       "Diff is\t-53.457519650459\t\n",
       "\t\n"
      ]
     },
     "execution_count": 1,
     "metadata": {},
     "output_type": "execute_result"
    },
    {
     "data": {
      "text/plain": [
       "Pred is\t392433278.9991\t\n",
       "Real is\t392433403\t\n",
       "Diff is\t-124.00090426207\t\n",
       "\t\n"
      ]
     },
     "execution_count": 1,
     "metadata": {},
     "output_type": "execute_result"
    },
    {
     "data": {
      "text/plain": [
       "Pred is\t392433282.18212\t\n",
       "Real is\t392433113\t\n",
       "Diff is\t169.1821192503\t\n",
       "\t\n"
      ]
     },
     "execution_count": 1,
     "metadata": {},
     "output_type": "execute_result"
    },
    {
     "data": {
      "text/plain": [
       "Pred is\t392433277.41891\t\n",
       "Real is\t392433323\t\n",
       "Diff is\t-45.581088781357\t\n",
       "\t\n"
      ]
     },
     "execution_count": 1,
     "metadata": {},
     "output_type": "execute_result"
    },
    {
     "data": {
      "text/plain": [
       "Pred is\t392433277.57343\t\n",
       "Real is\t392433145\t\n",
       "Diff is\t132.5734295249\t\n",
       "\t\n"
      ]
     },
     "execution_count": 1,
     "metadata": {},
     "output_type": "execute_result"
    },
    {
     "data": {
      "text/plain": [
       "Pred is\t392433280.2242\t\n",
       "Real is\t392433262\t\n",
       "Diff is\t18.224201202393\t\n",
       "\t\n"
      ]
     },
     "execution_count": 1,
     "metadata": {},
     "output_type": "execute_result"
    },
    {
     "data": {
      "text/plain": [
       "Pred is\t392433278.31871\t\n",
       "Real is\t392433273\t\n",
       "Diff is\t5.3187101483345\t\n",
       "\t\n"
      ]
     },
     "execution_count": 1,
     "metadata": {},
     "output_type": "execute_result"
    },
    {
     "data": {
      "text/plain": [
       "Pred is\t392433278.87775\t\n",
       "Real is\t392433370\t\n",
       "Diff is\t-91.122246742249\t\n",
       "\t\n"
      ]
     },
     "execution_count": 1,
     "metadata": {},
     "output_type": "execute_result"
    },
    {
     "data": {
      "text/plain": [
       "Pred is\t392433284.62355\t\n",
       "Real is\t392433394\t\n",
       "Diff is\t-109.37644809484\t\n",
       "\t\n"
      ]
     },
     "execution_count": 1,
     "metadata": {},
     "output_type": "execute_result"
    },
    {
     "data": {
      "text/plain": [
       "Pred is\t392433277.41743\t\n",
       "Real is\t392433244\t\n",
       "Diff is\t33.417434513569\t\n",
       "\t\n"
      ]
     },
     "execution_count": 1,
     "metadata": {},
     "output_type": "execute_result"
    },
    {
     "data": {
      "text/plain": [
       "Pred is\t392433277.2289\t\n",
       "Real is\t392433172\t\n",
       "Diff is\t105.22890245914\t\n",
       "\t\n"
      ]
     },
     "execution_count": 1,
     "metadata": {},
     "output_type": "execute_result"
    },
    {
     "data": {
      "text/plain": [
       "Pred is\t392433278.88566\t\n",
       "Real is\t392433291\t\n",
       "Diff is\t-12.114339351654\t\n",
       "\t\n"
      ]
     },
     "execution_count": 1,
     "metadata": {},
     "output_type": "execute_result"
    },
    {
     "data": {
      "text/plain": [
       "Pred is\t392433274.67097\t\n",
       "Real is\t392433255\t\n",
       "Diff is\t19.670971810818\t\n",
       "\t\n"
      ]
     },
     "execution_count": 1,
     "metadata": {},
     "output_type": "execute_result"
    },
    {
     "data": {
      "text/plain": [
       "Pred is\t392433279.90783\t\n",
       "Real is\t392433279\t\n",
       "Diff is\t0.9078277349472\t\n",
       "\t\n"
      ]
     },
     "execution_count": 1,
     "metadata": {},
     "output_type": "execute_result"
    },
    {
     "data": {
      "text/plain": [
       "Pred is\t392433278.918\t\n",
       "Real is\t392433347\t\n",
       "Diff is\t-68.08200275898\t\n",
       "\t\n"
      ]
     },
     "execution_count": 1,
     "metadata": {},
     "output_type": "execute_result"
    },
    {
     "data": {
      "text/plain": [
       "Pred is\t392433282.0471\t\n",
       "Real is\t392433324\t\n",
       "Diff is\t-41.952897548676\t\n",
       "\t\n"
      ]
     },
     "execution_count": 1,
     "metadata": {},
     "output_type": "execute_result"
    },
    {
     "data": {
      "text/plain": [
       "Pred is\t392433278.1758\t\n",
       "Real is\t392433341\t\n",
       "Diff is\t-62.8241969347\t\n",
       "\t\n"
      ]
     },
     "execution_count": 1,
     "metadata": {},
     "output_type": "execute_result"
    },
    {
     "data": {
      "text/plain": [
       "Pred is\t392433275.63371\t\n",
       "Real is\t392433375\t\n",
       "Diff is\t-99.366291344166\t\n",
       "\t\n"
      ]
     },
     "execution_count": 1,
     "metadata": {},
     "output_type": "execute_result"
    },
    {
     "data": {
      "text/plain": [
       "Pred is\t392433282.23932\t\n",
       "Real is\t392433374\t\n",
       "Diff is\t-91.760684490204\t\n",
       "\t\n"
      ]
     },
     "execution_count": 1,
     "metadata": {},
     "output_type": "execute_result"
    },
    {
     "data": {
      "text/plain": [
       "Pred is\t392433276.93945\t\n",
       "Real is\t392433251\t\n",
       "Diff is\t25.939454138279\t\n",
       "\t\n"
      ]
     },
     "execution_count": 1,
     "metadata": {},
     "output_type": "execute_result"
    },
    {
     "data": {
      "text/plain": [
       "Pred is\t392433276.30389\t\n",
       "Real is\t392433287\t\n",
       "Diff is\t-10.696106135845\t\n",
       "\t\n"
      ]
     },
     "execution_count": 1,
     "metadata": {},
     "output_type": "execute_result"
    },
    {
     "data": {
      "text/plain": [
       "Pred is\t392433277.9966\t\n",
       "Real is\t392433259\t\n",
       "Diff is\t18.996601164341\t\n",
       "\t\n"
      ]
     },
     "execution_count": 1,
     "metadata": {},
     "output_type": "execute_result"
    },
    {
     "data": {
      "text/plain": [
       "Pred is\t392433279.45395\t\n",
       "Real is\t392433347\t\n",
       "Diff is\t-67.546050190926\t\n",
       "\t\n"
      ]
     },
     "execution_count": 1,
     "metadata": {},
     "output_type": "execute_result"
    },
    {
     "data": {
      "text/plain": [
       "Pred is\t392433285.44228\t\n",
       "Real is\t392433176\t\n",
       "Diff is\t109.44227916002\t\n",
       "\t\n"
      ]
     },
     "execution_count": 1,
     "metadata": {},
     "output_type": "execute_result"
    },
    {
     "data": {
      "text/plain": [
       "Pred is\t392433275.43401\t\n",
       "Real is\t392433389\t\n",
       "Diff is\t-113.56599289179\t\n",
       "\t\n"
      ]
     },
     "execution_count": 1,
     "metadata": {},
     "output_type": "execute_result"
    },
    {
     "data": {
      "text/plain": [
       "Pred is\t392433280.93291\t\n",
       "Real is\t392433310\t\n",
       "Diff is\t-29.067087292671\t\n",
       "\t\n"
      ]
     },
     "execution_count": 1,
     "metadata": {},
     "output_type": "execute_result"
    },
    {
     "data": {
      "text/plain": [
       "Pred is\t392433278.28692\t\n",
       "Real is\t392433364\t\n",
       "Diff is\t-85.71307516098\t\n",
       "\t\n"
      ]
     },
     "execution_count": 1,
     "metadata": {},
     "output_type": "execute_result"
    },
    {
     "data": {
      "text/plain": [
       "Pred is\t392433276.92691\t\n",
       "Real is\t392433403\t\n",
       "Diff is\t-126.07309019566\t\n",
       "\t\n"
      ]
     },
     "execution_count": 1,
     "metadata": {},
     "output_type": "execute_result"
    },
    {
     "data": {
      "text/plain": [
       "Pred is\t392433277.46691\t\n",
       "Real is\t392433153\t\n",
       "Diff is\t124.4669136405\t\n",
       "\t\n"
      ]
     },
     "execution_count": 1,
     "metadata": {},
     "output_type": "execute_result"
    },
    {
     "data": {
      "text/plain": [
       "Pred is\t392433274.6964\t\n",
       "Real is\t392433314\t\n",
       "Diff is\t-39.303603231907\t\n",
       "\t\n"
      ]
     },
     "execution_count": 1,
     "metadata": {},
     "output_type": "execute_result"
    },
    {
     "data": {
      "text/plain": [
       "Pred is\t"
      ]
     },
     "execution_count": 1,
     "metadata": {},
     "output_type": "execute_result"
    },
    {
     "data": {
      "text/plain": [
       "392433273.75314\t\n",
       "Real is\t392433309\t\n",
       "Diff is\t-35.246856808662\t\n",
       "\t\n"
      ]
     },
     "execution_count": 1,
     "metadata": {},
     "output_type": "execute_result"
    },
    {
     "data": {
      "text/plain": [
       "Pred is\t392433279.99435\t\n",
       "Real is\t392433203\t\n",
       "Diff is\t76.994346499443\t\n",
       "\t\n"
      ]
     },
     "execution_count": 1,
     "metadata": {},
     "output_type": "execute_result"
    },
    {
     "data": {
      "text/plain": [
       "Pred is\t392433277.43598\t\n",
       "Real is\t392433140\t\n",
       "Diff is\t137.43597990274\t\n",
       "\t\n"
      ]
     },
     "execution_count": 1,
     "metadata": {},
     "output_type": "execute_result"
    },
    {
     "data": {
      "text/plain": [
       "Pred is\t392433278.90368\t\n",
       "Real is\t392433236\t\n",
       "Diff is\t42.903679192066\t\n",
       "\t\n"
      ]
     },
     "execution_count": 1,
     "metadata": {},
     "output_type": "execute_result"
    },
    {
     "data": {
      "text/plain": [
       "Pred is\t392433281.04248\t\n",
       "Real is\t392433225\t\n",
       "Diff is\t56.042475342751\t\n",
       "\t\n"
      ]
     },
     "execution_count": 1,
     "metadata": {},
     "output_type": "execute_result"
    },
    {
     "data": {
      "text/plain": [
       "Pred is\t392433278.24103\t\n",
       "Real is\t392433153\t\n",
       "Diff is\t125.24102622271\t\n",
       "\t\n"
      ]
     },
     "execution_count": 1,
     "metadata": {},
     "output_type": "execute_result"
    },
    {
     "data": {
      "text/plain": [
       "Pred is\t392433276.70231\t\n",
       "Real is\t392433206\t\n",
       "Diff is\t70.702313840389\t\n",
       "\t\n"
      ]
     },
     "execution_count": 1,
     "metadata": {},
     "output_type": "execute_result"
    },
    {
     "data": {
      "text/plain": [
       "Pred is\t392433274.7092\t\n",
       "Real is\t392433329\t\n",
       "Diff is\t-54.290801823139\t\n",
       "\t\n"
      ]
     },
     "execution_count": 1,
     "metadata": {},
     "output_type": "execute_result"
    },
    {
     "data": {
      "text/plain": [
       "Pred is\t392433278.07583\t\n",
       "Real is\t392433313\t\n",
       "Diff is\t-34.924173295498\t\n",
       "\t\n"
      ]
     },
     "execution_count": 1,
     "metadata": {},
     "output_type": "execute_result"
    },
    {
     "data": {
      "text/plain": [
       "Pred is\t392433278.80912\t\n",
       "Real is\t392433184\t\n",
       "Diff is\t94.809117555618\t\n",
       "\t\n"
      ]
     },
     "execution_count": 1,
     "metadata": {},
     "output_type": "execute_result"
    },
    {
     "data": {
      "text/plain": [
       "Pred is\t392433275.314\t\n",
       "Real is\t392433310\t\n",
       "Diff is\t-34.686002910137\t\n",
       "\t\n"
      ]
     },
     "execution_count": 1,
     "metadata": {},
     "output_type": "execute_result"
    },
    {
     "data": {
      "text/plain": [
       "Pred is\t392433279.50466\t\n",
       "Real is\t392433252\t\n",
       "Diff is\t27.504658639431\t\n",
       "\t\n"
      ]
     },
     "execution_count": 1,
     "metadata": {},
     "output_type": "execute_result"
    },
    {
     "data": {
      "text/plain": [
       "Pred is\t392433277.50526\t\n",
       "Real is\t392433347\t\n",
       "Diff is\t-69.494744241238\t\n",
       "\t\n"
      ]
     },
     "execution_count": 1,
     "metadata": {},
     "output_type": "execute_result"
    },
    {
     "data": {
      "text/plain": [
       "Pred is\t392433276.91633\t\n",
       "Real is\t392433269\t\n",
       "Diff is\t7.916334271431\t\n",
       "\t\n"
      ]
     },
     "execution_count": 1,
     "metadata": {},
     "output_type": "execute_result"
    },
    {
     "data": {
      "text/plain": [
       "Pred is\t392433278.78578\t\n",
       "Real is\t392433347\t\n",
       "Diff is\t-68.214219748974\t\n",
       "\t\n"
      ]
     },
     "execution_count": 1,
     "metadata": {},
     "output_type": "execute_result"
    },
    {
     "data": {
      "text/plain": [
       "Pred is\t392433277.61459\t\n",
       "Real is\t392433294\t\n",
       "Diff is\t-16.385410904884\t\n",
       "\t\n"
      ]
     },
     "execution_count": 1,
     "metadata": {},
     "output_type": "execute_result"
    },
    {
     "data": {
      "text/plain": [
       "Pred is\t392433281.74702\t\n",
       "Real is\t392433185\t\n",
       "Diff is\t96.747023940086\t\n",
       "\t\n"
      ]
     },
     "execution_count": 1,
     "metadata": {},
     "output_type": "execute_result"
    },
    {
     "data": {
      "text/plain": [
       "Pred is\t392433275.21403\t\n",
       "Real is\t392433167\t\n",
       "Diff is\t108.21402692795\t\n",
       "\t\n"
      ]
     },
     "execution_count": 1,
     "metadata": {},
     "output_type": "execute_result"
    },
    {
     "data": {
      "text/plain": [
       "Pred is\t392433280.69708\t\n",
       "Real is\t392433100\t\n",
       "Diff is\t180.69708132744\t\n",
       "\t\n"
      ]
     },
     "execution_count": 1,
     "metadata": {},
     "output_type": "execute_result"
    },
    {
     "data": {
      "text/plain": [
       "Pred is\t392433279.2071\t\n",
       "Real is\t392433381\t\n",
       "Diff is\t-101.79289889336\t\n",
       "\t\n"
      ]
     },
     "execution_count": 1,
     "metadata": {},
     "output_type": "execute_result"
    },
    {
     "data": {
      "text/plain": [
       "Pred is\t392433279.08438\t\n",
       "Real is\t392433245\t\n",
       "Diff is\t34.08437538147\t\n",
       "\t\n"
      ]
     },
     "execution_count": 1,
     "metadata": {},
     "output_type": "execute_result"
    },
    {
     "data": {
      "text/plain": [
       "Pred is\t392433279.55321\t\n",
       "Real is\t392433205\t\n",
       "Diff is\t74.553212940693\t\n",
       "\t\n"
      ]
     },
     "execution_count": 1,
     "metadata": {},
     "output_type": "execute_result"
    },
    {
     "data": {
      "text/plain": [
       "Pred is\t392433277.99348\t\n",
       "Real is\t392433336\t\n",
       "Diff is\t-58.006521999836\t\n",
       "\t\n"
      ]
     },
     "execution_count": 1,
     "metadata": {},
     "output_type": "execute_result"
    },
    {
     "data": {
      "text/plain": [
       "Pred is\t392433279.75243\t\n",
       "Real is\t392433201\t\n",
       "Diff is\t78.752432405949\t\n",
       "\t\n"
      ]
     },
     "execution_count": 1,
     "metadata": {},
     "output_type": "execute_result"
    },
    {
     "data": {
      "text/plain": [
       "Pred is\t392433277.78087\t\n",
       "Real is\t392433226\t\n",
       "Diff is\t51.780871212482\t\n",
       "\t\n"
      ]
     },
     "execution_count": 1,
     "metadata": {},
     "output_type": "execute_result"
    },
    {
     "data": {
      "text/plain": [
       "Pred is\t392433278.5174\t\n",
       "Real is\t392433371\t\n",
       "Diff is\t-92.482601463795\t\n",
       "\t\n"
      ]
     },
     "execution_count": 1,
     "metadata": {},
     "output_type": "execute_result"
    },
    {
     "data": {
      "text/plain": [
       "Pred is\t392433276.79243\t\n",
       "Real is\t392433320\t\n",
       "Diff is\t-43.207574129105\t\n",
       "\t\n"
      ]
     },
     "execution_count": 1,
     "metadata": {},
     "output_type": "execute_result"
    },
    {
     "data": {
      "text/plain": [
       "Pred is\t392433279.91051\t\n",
       "Real is\t392433193\t\n",
       "Diff is\t86.910508513451\t\n",
       "\t\n"
      ]
     },
     "execution_count": 1,
     "metadata": {},
     "output_type": "execute_result"
    },
    {
     "data": {
      "text/plain": [
       "Pred is\t392433278.26222\t\n",
       "Real is\t392433232\t\n",
       "Diff is\t46.26222383976\t\n",
       "\t\n"
      ]
     },
     "execution_count": 1,
     "metadata": {},
     "output_type": "execute_result"
    },
    {
     "data": {
      "text/plain": [
       "Pred is\t392433275.87381\t\n",
       "Real is\t392433305\t\n",
       "Diff is\t-29.126188755035\t\n",
       "\t\n"
      ]
     },
     "execution_count": 1,
     "metadata": {},
     "output_type": "execute_result"
    },
    {
     "data": {
      "text/plain": [
       "Pred is\t392433277.22809\t\n",
       "Real is\t392433210\t\n",
       "Diff is\t67.228087186813\t\n",
       "\t\n"
      ]
     },
     "execution_count": 1,
     "metadata": {},
     "output_type": "execute_result"
    },
    {
     "data": {
      "text/plain": [
       "Pred is\t392433279.56825\t\n",
       "Real is\t392433347\t\n",
       "Diff is\t-67.43174892664\t\n",
       "\t\n"
      ]
     },
     "execution_count": 1,
     "metadata": {},
     "output_type": "execute_result"
    },
    {
     "data": {
      "text/plain": [
       "Pred is\t392433281.17857\t\n",
       "Real is\t392433223\t\n",
       "Diff is\t58.178571224213\t\n",
       "\t\n"
      ]
     },
     "execution_count": 1,
     "metadata": {},
     "output_type": "execute_result"
    },
    {
     "data": {
      "text/plain": [
       "Pred is\t392433279.31239\t\n",
       "Real is\t392433097\t\n",
       "Diff is\t182.31239187717\t\n",
       "\t\n"
      ]
     },
     "execution_count": 1,
     "metadata": {},
     "output_type": "execute_result"
    },
    {
     "data": {
      "text/plain": [
       "Pred is\t392433275.34243\t\n",
       "Real is\t392433131\t\n",
       "Diff is\t144.34243017435\t\n",
       "\t\n"
      ]
     },
     "execution_count": 1,
     "metadata": {},
     "output_type": "execute_result"
    },
    {
     "data": {
      "text/plain": [
       "Pred is\t392433278.63197\t\n",
       "Real is\t392433347\t\n",
       "Diff is\t-68.368034005165\t\n",
       "\t\n"
      ]
     },
     "execution_count": 1,
     "metadata": {},
     "output_type": "execute_result"
    },
    {
     "data": {
      "text/plain": [
       "Pred is\t392433274.82326\t\n",
       "Real is\t392433255\t\n",
       "Diff is\t19.823261260986\t\n",
       "\t\n"
      ]
     },
     "execution_count": 1,
     "metadata": {},
     "output_type": "execute_result"
    },
    {
     "data": {
      "text/plain": [
       "Pred is\t392433282.52345\t\n",
       "Real is\t392433150\t\n",
       "Diff is\t132.52345246077\t\n",
       "\t\n"
      ]
     },
     "execution_count": 1,
     "metadata": {},
     "output_type": "execute_result"
    },
    {
     "data": {
      "text/plain": [
       "Pred is\t392433277.84485\t\n",
       "Real is\t392433099\t\n",
       "Diff is\t178.84484899044\t\n",
       "\t\n"
      ]
     },
     "execution_count": 1,
     "metadata": {},
     "output_type": "execute_result"
    },
    {
     "data": {
      "text/plain": [
       "Pred is\t392433278.17272\t\n",
       "Real is\t392433210\t\n",
       "Diff is\t68.172717571259\t\n"
      ]
     },
     "execution_count": 1,
     "metadata": {},
     "output_type": "execute_result"
    },
    {
     "data": {
      "text/plain": [
       "\t\n"
      ]
     },
     "execution_count": 1,
     "metadata": {},
     "output_type": "execute_result"
    },
    {
     "data": {
      "text/plain": [
       "Pred is\t392433276.36032\t\n",
       "Real is\t392433341\t\n",
       "Diff is\t-64.639678180218\t\n",
       "\t\n"
      ]
     },
     "execution_count": 1,
     "metadata": {},
     "output_type": "execute_result"
    },
    {
     "data": {
      "text/plain": [
       "Pred is\t392433278.18199\t\n",
       "Real is\t392433291\t\n",
       "Diff is\t-12.818011820316\t\n",
       "\t\n"
      ]
     },
     "execution_count": 1,
     "metadata": {},
     "output_type": "execute_result"
    },
    {
     "data": {
      "text/plain": [
       "Pred is\t392433274.19645\t\n",
       "Real is\t392433341\t\n",
       "Diff is\t-66.803546607494\t\n",
       "\t\n"
      ]
     },
     "execution_count": 1,
     "metadata": {},
     "output_type": "execute_result"
    },
    {
     "data": {
      "text/plain": [
       "Pred is\t392433278.16751\t\n",
       "Real is\t392433341\t\n",
       "Diff is\t-62.832486987114\t\n",
       "\t\n"
      ]
     },
     "execution_count": 1,
     "metadata": {},
     "output_type": "execute_result"
    },
    {
     "data": {
      "text/plain": [
       "Pred is\t392433278.11753\t\n",
       "Real is\t392433341\t\n",
       "Diff is\t-62.882468879223\t\n",
       "\t\n"
      ]
     },
     "execution_count": 1,
     "metadata": {},
     "output_type": "execute_result"
    },
    {
     "data": {
      "text/plain": [
       "Pred is\t392433275.67937\t\n",
       "Real is\t392433251\t\n",
       "Diff is\t24.679368257523\t\n",
       "\t\n"
      ]
     },
     "execution_count": 1,
     "metadata": {},
     "output_type": "execute_result"
    },
    {
     "data": {
      "text/plain": [
       "Pred is\t392433282.61865\t\n",
       "Real is\t392433328\t\n",
       "Diff is\t-45.381347060204\t\n",
       "\t\n"
      ]
     },
     "execution_count": 1,
     "metadata": {},
     "output_type": "execute_result"
    },
    {
     "data": {
      "text/plain": [
       "Pred is\t392433279.42472\t\n",
       "Real is\t392433148\t\n",
       "Diff is\t131.42471832037\t\n",
       "\t\n"
      ]
     },
     "execution_count": 1,
     "metadata": {},
     "output_type": "execute_result"
    },
    {
     "data": {
      "text/plain": [
       "Pred is\t392433277.03472\t\n",
       "Real is\t392433226\t\n",
       "Diff is\t51.03471660614\t\n",
       "\t\n"
      ]
     },
     "execution_count": 1,
     "metadata": {},
     "output_type": "execute_result"
    },
    {
     "data": {
      "text/plain": [
       "Pred is\t392433275.2718\t\n",
       "Real is\t392433288\t\n",
       "Diff is\t-12.728199779987\t\n",
       "\t\n"
      ]
     },
     "execution_count": 1,
     "metadata": {},
     "output_type": "execute_result"
    },
    {
     "data": {
      "text/plain": [
       "Pred is\t392433278.15606\t\n",
       "Real is\t392433225\t\n",
       "Diff is\t53.156056761742\t\n",
       "\t\n"
      ]
     },
     "execution_count": 1,
     "metadata": {},
     "output_type": "execute_result"
    },
    {
     "data": {
      "text/plain": [
       "Pred is\t392433278.03908\t\n",
       "Real is\t392433133\t\n",
       "Diff is\t145.03908228874\t\n",
       "\t\n"
      ]
     },
     "execution_count": 1,
     "metadata": {},
     "output_type": "execute_result"
    },
    {
     "data": {
      "text/plain": [
       "Pred is\t392433277.53427\t\n",
       "Real is\t392433127\t\n",
       "Diff is\t150.534270823\t\n",
       "\t\n"
      ]
     },
     "execution_count": 1,
     "metadata": {},
     "output_type": "execute_result"
    },
    {
     "data": {
      "text/plain": [
       "Pred is\t392433276.74434\t\n",
       "Real is\t392433146\t\n",
       "Diff is\t130.74434149265\t\n",
       "\t\n"
      ]
     },
     "execution_count": 1,
     "metadata": {},
     "output_type": "execute_result"
    },
    {
     "data": {
      "text/plain": [
       "Pred is\t392433282.23187\t\n",
       "Real is\t392433381\t\n",
       "Diff is\t-98.768134176731\t\n",
       "\t\n"
      ]
     },
     "execution_count": 1,
     "metadata": {},
     "output_type": "execute_result"
    },
    {
     "data": {
      "text/plain": [
       "Pred is\t392433278.97479\t\n",
       "Real is\t392433364\t\n",
       "Diff is\t-85.025207042694\t\n",
       "\t\n"
      ]
     },
     "execution_count": 1,
     "metadata": {},
     "output_type": "execute_result"
    },
    {
     "data": {
      "text/plain": [
       "Pred is\t392433277.69625\t\n",
       "Real is\t392433317\t\n",
       "Diff is\t-39.303746938705\t\n",
       "\t\n"
      ]
     },
     "execution_count": 1,
     "metadata": {},
     "output_type": "execute_result"
    },
    {
     "data": {
      "text/plain": [
       "Pred is\t392433277.58287\t\n",
       "Real is\t392433210\t\n",
       "Diff is\t67.582874596119\t\n",
       "\t\n"
      ]
     },
     "execution_count": 1,
     "metadata": {},
     "output_type": "execute_result"
    },
    {
     "data": {
      "text/plain": [
       "Pred is\t392433277.1836\t\n",
       "Real is\t392433287\t\n",
       "Diff is\t-9.8163977861404\t\n",
       "\t\n"
      ]
     },
     "execution_count": 1,
     "metadata": {},
     "output_type": "execute_result"
    },
    {
     "data": {
      "text/plain": [
       "Pred is\t392433277.13926\t\n",
       "Real is\t392433363\t\n",
       "Diff is\t-85.860736310482\t\n",
       "\t\n"
      ]
     },
     "execution_count": 1,
     "metadata": {},
     "output_type": "execute_result"
    },
    {
     "data": {
      "text/plain": [
       "Pred is\t392433279.64103\t\n",
       "Real is\t392433227\t\n",
       "Diff is\t52.641033291817\t\n",
       "\t\n"
      ]
     },
     "execution_count": 1,
     "metadata": {},
     "output_type": "execute_result"
    },
    {
     "data": {
      "text/plain": [
       "Pred is\t392433275.41426\t\n",
       "Real is\t392433341\t\n",
       "Diff is\t-65.585742473602\t\n",
       "\t\n"
      ]
     },
     "execution_count": 1,
     "metadata": {},
     "output_type": "execute_result"
    },
    {
     "data": {
      "text/plain": [
       "Pred is\t392433279.13652\t\n",
       "Real is\t392433096\t\n",
       "Diff is\t183.13651782274\t\n",
       "\t\n"
      ]
     },
     "execution_count": 1,
     "metadata": {},
     "output_type": "execute_result"
    },
    {
     "data": {
      "text/plain": [
       "Pred is\t392433278.85855\t\n",
       "Real is\t392433150\t\n",
       "Diff is\t128.85855442286\t\n",
       "\t\n"
      ]
     },
     "execution_count": 1,
     "metadata": {},
     "output_type": "execute_result"
    },
    {
     "data": {
      "text/plain": [
       "Pred is\t"
      ]
     },
     "execution_count": 1,
     "metadata": {},
     "output_type": "execute_result"
    },
    {
     "data": {
      "text/plain": [
       "392433277.67047\t\n",
       "Real is\t392433158\t\n",
       "Diff is\t119.67046964169\t\n",
       "\t\n"
      ]
     },
     "execution_count": 1,
     "metadata": {},
     "output_type": "execute_result"
    },
    {
     "data": {
      "text/plain": [
       "Pred is\t392433276.29663\t\n",
       "Real is\t392433296\t\n",
       "Diff is\t-19.703370153904\t\n",
       "\t\n"
      ]
     },
     "execution_count": 1,
     "metadata": {},
     "output_type": "execute_result"
    },
    {
     "data": {
      "text/plain": [
       "Pred is\t392433279.25517\t\n",
       "Real is\t392433317\t\n",
       "Diff is\t-37.744833648205\t\n",
       "\t\n"
      ]
     },
     "execution_count": 1,
     "metadata": {},
     "output_type": "execute_result"
    },
    {
     "data": {
      "text/plain": [
       "Pred is\t392433276.75993\t\n",
       "Real is\t392433283\t\n",
       "Diff is\t-6.2400651574135\t\n",
       "\t\n"
      ]
     },
     "execution_count": 1,
     "metadata": {},
     "output_type": "execute_result"
    },
    {
     "data": {
      "text/plain": [
       "Pred is\t392433274.6519\t\n",
       "Real is\t392433260\t\n",
       "Diff is\t14.651900947094\t\n",
       "\t\n"
      ]
     },
     "execution_count": 1,
     "metadata": {},
     "output_type": "execute_result"
    },
    {
     "data": {
      "text/plain": [
       "Pred is\t392433278.61289\t\n"
      ]
     },
     "execution_count": 1,
     "metadata": {},
     "output_type": "execute_result"
    },
    {
     "data": {
      "text/plain": [
       "Real is\t392433305\t\n",
       "Diff is\t-26.387112498283\t\n",
       "\t\n"
      ]
     },
     "execution_count": 1,
     "metadata": {},
     "output_type": "execute_result"
    },
    {
     "data": {
      "text/plain": [
       "Pred is\t392433280.97491\t\n",
       "Real is\t392433191\t\n",
       "Diff is\t89.974909603596\t\n",
       "\t\n"
      ]
     },
     "execution_count": 1,
     "metadata": {},
     "output_type": "execute_result"
    },
    {
     "data": {
      "text/plain": [
       "Pred is\t392433281.69968\t\n",
       "Real is\t392433266\t\n",
       "Diff is\t15.69967931509\t\n",
       "\t\n"
      ]
     },
     "execution_count": 1,
     "metadata": {},
     "output_type": "execute_result"
    },
    {
     "data": {
      "text/plain": [
       "Pred is\t392433279.91455\t\n",
       "Real is\t392433235\t\n",
       "Diff is\t44.914554536343\t\n",
       "\t\n"
      ]
     },
     "execution_count": 1,
     "metadata": {},
     "output_type": "execute_result"
    },
    {
     "data": {
      "text/plain": [
       "Pred is\t392433276.55134\t\n",
       "Real is\t392433367\t\n",
       "Diff is\t-90.448655068874\t\n",
       "\t\n"
      ]
     },
     "execution_count": 1,
     "metadata": {},
     "output_type": "execute_result"
    },
    {
     "data": {
      "text/plain": [
       "Pred is\t392433277.0337\t\n",
       "Real is\t392433297\t\n",
       "Diff is\t-19.966302871704\t\n",
       "\t\n"
      ]
     },
     "execution_count": 1,
     "metadata": {},
     "output_type": "execute_result"
    },
    {
     "data": {
      "text/plain": [
       "Pred is\t392433277.00018\t\n",
       "Real is\t392433139\t\n",
       "Diff is\t138.00017809868\t\n",
       "\t\n"
      ]
     },
     "execution_count": 1,
     "metadata": {},
     "output_type": "execute_result"
    },
    {
     "data": {
      "text/plain": [
       "Pred is\t392433279.93982\t\n",
       "Real is\t392433184\t\n",
       "Diff is\t95.939817726612\t\n",
       "\t\n"
      ]
     },
     "execution_count": 1,
     "metadata": {},
     "output_type": "execute_result"
    },
    {
     "data": {
      "text/plain": [
       "Pred is\t392433278.2483\t\n",
       "Real is\t392433347\t\n",
       "Diff is\t-68.751698732376\t\n",
       "\t\n"
      ]
     },
     "execution_count": 1,
     "metadata": {},
     "output_type": "execute_result"
    },
    {
     "data": {
      "text/plain": [
       "Pred is\t392433279.75866\t\n",
       "Real is\t392433102\t\n",
       "Diff is\t177.75866270065\t\n",
       "\t\n"
      ]
     },
     "execution_count": 1,
     "metadata": {},
     "output_type": "execute_result"
    },
    {
     "data": {
      "text/plain": [
       "Pred is\t392433278.85898\t\n",
       "Real is\t392433347\t\n",
       "Diff is\t-68.141023516655\t\n",
       "\t\n"
      ]
     },
     "execution_count": 1,
     "metadata": {},
     "output_type": "execute_result"
    },
    {
     "data": {
      "text/plain": [
       "Pred is\t392433279.38068\t\n",
       "Real is\t392433370\t\n",
       "Diff is\t-90.619316697121\t\n",
       "\t\n"
      ]
     },
     "execution_count": 1,
     "metadata": {},
     "output_type": "execute_result"
    },
    {
     "data": {
      "text/plain": [
       "Pred is\t"
      ]
     },
     "execution_count": 1,
     "metadata": {},
     "output_type": "execute_result"
    },
    {
     "data": {
      "text/plain": [
       "392433277.39534\t\n",
       "Real is\t392433298\t\n",
       "Diff is\t-20.604664504528\t\n",
       "\t\n"
      ]
     },
     "execution_count": 1,
     "metadata": {},
     "output_type": "execute_result"
    },
    {
     "data": {
      "text/plain": [
       "Pred is\t392433277.99938\t\n",
       "Real is\t392433259\t\n",
       "Diff is\t18.999378442764\t\n",
       "\t\n"
      ]
     },
     "execution_count": 1,
     "metadata": {},
     "output_type": "execute_result"
    },
    {
     "data": {
      "text/plain": [
       "Pred is\t392433276.50043\t\n",
       "Real is\t392433329\t\n",
       "Diff is\t-52.499572217464\t\n",
       "\t\n"
      ]
     },
     "execution_count": 1,
     "metadata": {},
     "output_type": "execute_result"
    },
    {
     "data": {
      "text/plain": [
       "Pred is\t392433279.31839\t\n",
       "Real is\t392433222\t\n",
       "Diff is\t57.318394184113\t\n",
       "\t\n"
      ]
     },
     "execution_count": 1,
     "metadata": {},
     "output_type": "execute_result"
    },
    {
     "data": {
      "text/plain": [
       "Pred is\t392433279.54634\t\n",
       "Real is\t392433254\t\n",
       "Diff is\t25.54633975029\t\n",
       "\t\n"
      ]
     },
     "execution_count": 1,
     "metadata": {},
     "output_type": "execute_result"
    },
    {
     "data": {
      "text/plain": [
       "Pred is\t392433278.27011\t\n",
       "Real is\t392433126\t\n",
       "Diff is\t152.27010536194\t\n",
       "\t\n"
      ]
     },
     "execution_count": 1,
     "metadata": {},
     "output_type": "execute_result"
    },
    {
     "data": {
      "text/plain": [
       "Pred is\t392433279.92215\t\n",
       "Real is\t392433266\t\n",
       "Diff is\t13.922151744366\t\n",
       "\t\n"
      ]
     },
     "execution_count": 1,
     "metadata": {},
     "output_type": "execute_result"
    },
    {
     "data": {
      "text/plain": [
       "Pred is\t392433277.50814\t\n",
       "Real is\t392433217\t\n",
       "Diff is\t60.508141577244\t\n",
       "\t\n"
      ]
     },
     "execution_count": 1,
     "metadata": {},
     "output_type": "execute_result"
    },
    {
     "data": {
      "text/plain": [
       "Pred is\t392433278.29984\t\n",
       "Real is\t392433354\t\n",
       "Diff is\t-75.700156092644\t\n",
       "\t\n"
      ]
     },
     "execution_count": 1,
     "metadata": {},
     "output_type": "execute_result"
    },
    {
     "data": {
      "text/plain": [
       "Pred is\t392433273.84106\t\n",
       "Real is\t392433269\t\n",
       "Diff is\t"
      ]
     },
     "execution_count": 1,
     "metadata": {},
     "output_type": "execute_result"
    },
    {
     "data": {
      "text/plain": [
       "4.8410630226135\t\n",
       "\t\n"
      ]
     },
     "execution_count": 1,
     "metadata": {},
     "output_type": "execute_result"
    },
    {
     "data": {
      "text/plain": [
       "Pred is\t392433276.90991\t\n",
       "Real is\t392433122\t\n",
       "Diff is\t154.90991014242\t\n",
       "\t\n"
      ]
     },
     "execution_count": 1,
     "metadata": {},
     "output_type": "execute_result"
    },
    {
     "data": {
      "text/plain": [
       "Pred is\t392433277.96807\t\n"
      ]
     },
     "execution_count": 1,
     "metadata": {},
     "output_type": "execute_result"
    },
    {
     "data": {
      "text/plain": [
       "Real is\t392433269\t\n",
       "Diff is\t8.9680690169334\t\n",
       "\t\n"
      ]
     },
     "execution_count": 1,
     "metadata": {},
     "output_type": "execute_result"
    },
    {
     "data": {
      "text/plain": [
       "Pred is\t392433280.00433\t\n",
       "Real is\t392433347\t\n",
       "Diff is\t-66.995672523975\t\n",
       "\t\n"
      ]
     },
     "execution_count": 1,
     "metadata": {},
     "output_type": "execute_result"
    },
    {
     "data": {
      "text/plain": [
       "Pred is\t392433277.06552\t\n",
       "Real is\t392433125\t\n",
       "Diff is\t152.06552380323\t\n",
       "\t\n"
      ]
     },
     "execution_count": 1,
     "metadata": {},
     "output_type": "execute_result"
    },
    {
     "data": {
      "text/plain": [
       "Pred is\t392433276.14164\t\n",
       "Real is\t392433292\t\n",
       "Diff is\t-15.858358263969\t\n",
       "\t\n"
      ]
     },
     "execution_count": 1,
     "metadata": {},
     "output_type": "execute_result"
    },
    {
     "data": {
      "text/plain": [
       "Pred is\t392433280.97639\t\n",
       "Real is\t392433229\t\n",
       "Diff is\t51.976385593414\t\n",
       "\t\n"
      ]
     },
     "execution_count": 1,
     "metadata": {},
     "output_type": "execute_result"
    },
    {
     "data": {
      "text/plain": [
       "Pred is\t392433278.58714\t\n",
       "Real is\t392433276\t\n",
       "Diff is\t2.5871438384056\t\n",
       "\t\n"
      ]
     },
     "execution_count": 1,
     "metadata": {},
     "output_type": "execute_result"
    },
    {
     "data": {
      "text/plain": [
       "Pred is\t392433279.00868\t\n",
       "Real is\t392433215\t\n",
       "Diff is\t64.008678972721\t\n",
       "\t\n"
      ]
     },
     "execution_count": 1,
     "metadata": {},
     "output_type": "execute_result"
    },
    {
     "data": {
      "text/plain": [
       "Pred is\t392433279.95593\t\n",
       "Real is\t392433359\t\n",
       "Diff is\t-79.044065773487\t\n",
       "\t\n"
      ]
     },
     "execution_count": 1,
     "metadata": {},
     "output_type": "execute_result"
    },
    {
     "data": {
      "text/plain": [
       "Pred is\t392433279.49573\t\n",
       "Real is\t392433372\t\n",
       "Diff is\t-92.504274785519\t\n",
       "\t\n"
      ]
     },
     "execution_count": 1,
     "metadata": {},
     "output_type": "execute_result"
    },
    {
     "data": {
      "text/plain": [
       "Pred is\t392433274.69486\t\n",
       "Real is\t392433228\t\n",
       "Diff is\t46.694861531258\t\n",
       "\t\n"
      ]
     },
     "execution_count": 1,
     "metadata": {},
     "output_type": "execute_result"
    },
    {
     "data": {
      "text/plain": [
       "Pred is\t392433277.44589\t\n",
       "Real is\t392433210\t\n",
       "Diff is\t67.445890367031\t\n",
       "\t\n"
      ]
     },
     "execution_count": 1,
     "metadata": {},
     "output_type": "execute_result"
    },
    {
     "data": {
      "text/plain": [
       "Pred is\t392433279.4468\t\n",
       "Real is\t392433341\t\n",
       "Diff is\t-61.55319839716\t\n",
       "\t\n"
      ]
     },
     "execution_count": 1,
     "metadata": {},
     "output_type": "execute_result"
    },
    {
     "data": {
      "text/plain": [
       "Pred is\t392433280.52935\t\n",
       "Real is\t392433330\t\n",
       "Diff is\t-49.470647871494\t\n",
       "\t\n"
      ]
     },
     "execution_count": 1,
     "metadata": {},
     "output_type": "execute_result"
    },
    {
     "data": {
      "text/plain": [
       "Pred is\t392433278.52032\t\n",
       "Real is\t392433283\t\n",
       "Diff is\t-4.4796770811081\t\n",
       "\t\n"
      ]
     },
     "execution_count": 1,
     "metadata": {},
     "output_type": "execute_result"
    },
    {
     "data": {
      "text/plain": [
       "Pred is\t392433278.26334\t\n",
       "Real is\t392433142\t\n",
       "Diff is\t136.26333993673\t\n",
       "\t\n"
      ]
     },
     "execution_count": 1,
     "metadata": {},
     "output_type": "execute_result"
    },
    {
     "data": {
      "text/plain": [
       "Pred is\t392433281.78967\t\n",
       "Real is\t392433264\t\n",
       "Diff is\t17.789672732353\t\n",
       "\t\n"
      ]
     },
     "execution_count": 1,
     "metadata": {},
     "output_type": "execute_result"
    },
    {
     "data": {
      "text/plain": [
       "Pred is\t392433280.42226\t\n",
       "Real is\t392433354\t\n",
       "Diff is\t-73.577741444111\t\n",
       "\t\n"
      ]
     },
     "execution_count": 1,
     "metadata": {},
     "output_type": "execute_result"
    },
    {
     "data": {
      "text/plain": [
       "Pred is\t392433282.05971\t\n",
       "Real is\t392433343\t"
      ]
     },
     "execution_count": 1,
     "metadata": {},
     "output_type": "execute_result"
    },
    {
     "data": {
      "text/plain": [
       "\n",
       "Diff is\t-60.940286397934\t\n",
       "\t\n"
      ]
     },
     "execution_count": 1,
     "metadata": {},
     "output_type": "execute_result"
    },
    {
     "data": {
      "text/plain": [
       "Pred is\t392433277.06084\t\n",
       "Real is\t392433300\t\n",
       "Diff is\t-22.939162313938\t\n",
       "\t\n"
      ]
     },
     "execution_count": 1,
     "metadata": {},
     "output_type": "execute_result"
    },
    {
     "data": {
      "text/plain": [
       "Pred is\t392433277.82862\t\n",
       "Real is\t392433341\t\n",
       "Diff is\t-63.171383023262\t\n",
       "\t\n"
      ]
     },
     "execution_count": 1,
     "metadata": {},
     "output_type": "execute_result"
    },
    {
     "data": {
      "text/plain": [
       "Pred is\t392433281.13288\t\n",
       "Real is\t392433313\t\n",
       "Diff is\t-31.867119550705\t\n",
       "\t\n"
      ]
     },
     "execution_count": 1,
     "metadata": {},
     "output_type": "execute_result"
    },
    {
     "data": {
      "text/plain": [
       "Pred is\t392433276.80585\t\n",
       "Real is\t392433098\t\n",
       "Diff is\t178.80585420132\t\n",
       "\t\n"
      ]
     },
     "execution_count": 1,
     "metadata": {},
     "output_type": "execute_result"
    },
    {
     "data": {
      "text/plain": [
       "Pred is\t392433275.07312\t\n",
       "Real is\t392433368\t\n",
       "Diff is\t-92.926882207394\t\n",
       "\t"
      ]
     },
     "execution_count": 1,
     "metadata": {},
     "output_type": "execute_result"
    },
    {
     "data": {
      "text/plain": [
       "\n"
      ]
     },
     "execution_count": 1,
     "metadata": {},
     "output_type": "execute_result"
    },
    {
     "data": {
      "text/plain": [
       "Pred is\t392433278.22156\t\n",
       "Real is\t392433177\t\n",
       "Diff is\t101.22155928612\t\n",
       "\t\n"
      ]
     },
     "execution_count": 1,
     "metadata": {},
     "output_type": "execute_result"
    },
    {
     "data": {
      "text/plain": [
       "Pred is\t392433280.67005\t\n",
       "Real is\t392433228\t\n",
       "Diff is\t52.670047223568\t\n",
       "\t\n"
      ]
     },
     "execution_count": 1,
     "metadata": {},
     "output_type": "execute_result"
    },
    {
     "data": {
      "text/plain": [
       "Pred is\t392433279.10943\t\n",
       "Real is\t392433240\t\n",
       "Diff is\t39.109433948994\t\n",
       "\t\n"
      ]
     },
     "execution_count": 1,
     "metadata": {},
     "output_type": "execute_result"
    },
    {
     "data": {
      "text/plain": [
       "Pred is\t392433276.42763\t\n",
       "Real is\t392433347\t\n",
       "Diff is\t-70.572371661663\t\n",
       "\t\n"
      ]
     },
     "execution_count": 1,
     "metadata": {},
     "output_type": "execute_result"
    },
    {
     "data": {
      "text/plain": [
       "Pred is\t392433281.12934\t\n",
       "Real is\t392433193\t\n",
       "Diff is\t88.129338979721\t\n",
       "\t\n"
      ]
     },
     "execution_count": 1,
     "metadata": {},
     "output_type": "execute_result"
    },
    {
     "data": {
      "text/plain": [
       "Pred is\t392433280.08493\t\n",
       "Real is\t392433331\t\n",
       "Diff is\t-50.915071129799\t\n",
       "\t\n"
      ]
     },
     "execution_count": 1,
     "metadata": {},
     "output_type": "execute_result"
    },
    {
     "data": {
      "text/plain": [
       "Pred is\t392433280.22527\t\n",
       "Real is\t392433291\t\n",
       "Diff is\t-10.774729669094\t\n",
       "\t\n"
      ]
     },
     "execution_count": 1,
     "metadata": {},
     "output_type": "execute_result"
    },
    {
     "data": {
      "text/plain": [
       "Pred is\t392433279.09611\t\n",
       "Real is\t392433308\t\n",
       "Diff is\t-28.903889358044\t\n",
       "\t\n"
      ]
     },
     "execution_count": 1,
     "metadata": {},
     "output_type": "execute_result"
    },
    {
     "data": {
      "text/plain": [
       "Pred is\t392433276.76947\t\n",
       "Real is\t392433347\t\n",
       "Diff is\t-70.230531990528\t\n",
       "\t\n"
      ]
     },
     "execution_count": 1,
     "metadata": {},
     "output_type": "execute_result"
    },
    {
     "data": {
      "text/plain": [
       "Pred is\t392433281.21253\t\n",
       "Real is\t392433195\t\n",
       "Diff is\t86.212534487247\t\n",
       "\t\n"
      ]
     },
     "execution_count": 1,
     "metadata": {},
     "output_type": "execute_result"
    },
    {
     "data": {
      "text/plain": [
       "Pred is\t392433277.9408\t\n",
       "Real is\t392433307\t\n",
       "Diff is\t-29.059202075005\t\n",
       "\t\n"
      ]
     },
     "execution_count": 1,
     "metadata": {},
     "output_type": "execute_result"
    },
    {
     "data": {
      "text/plain": [
       "Pred is\t392433278.75979\t\n",
       "Real is\t392433318\t\n",
       "Diff is\t-39.240212738514\t\n",
       "\t\n"
      ]
     },
     "execution_count": 1,
     "metadata": {},
     "output_type": "execute_result"
    },
    {
     "data": {
      "text/plain": [
       "Pred is\t392433277.03809\t\n",
       "Real is\t392433412\t\n",
       "Diff is\t-134.96190667152\t\n",
       "\t\n"
      ]
     },
     "execution_count": 1,
     "metadata": {},
     "output_type": "execute_result"
    },
    {
     "data": {
      "text/plain": [
       "Pred is\t392433276.54562\t\n",
       "Real is\t392433364\t\n",
       "Diff is\t-87.454375624657\t\n",
       "\t\n"
      ]
     },
     "execution_count": 1,
     "metadata": {},
     "output_type": "execute_result"
    },
    {
     "data": {
      "text/plain": [
       "Pred is\t392433274.80061\t\n",
       "Real is\t392433206\t\n",
       "Diff is\t68.800607740879\t\n",
       "\t\n"
      ]
     },
     "execution_count": 1,
     "metadata": {},
     "output_type": "execute_result"
    },
    {
     "data": {
      "text/plain": [
       "Pred is\t392433277.70819\t\n",
       "Real is\t392433247\t\n",
       "Diff is\t30.708192884922\t\n",
       "\t\n"
      ]
     },
     "execution_count": 1,
     "metadata": {},
     "output_type": "execute_result"
    },
    {
     "data": {
      "text/plain": [
       "Pred is\t392433281.22508\t\n",
       "Real is\t392433155\t\n",
       "Diff is\t126.22507852316\t\n",
       "\t\n"
      ]
     },
     "execution_count": 1,
     "metadata": {},
     "output_type": "execute_result"
    },
    {
     "data": {
      "text/plain": [
       "Pred is\t392433279.63276\t\n",
       "Real is\t392433346\t\n",
       "Diff is\t-66.367236077785\t\n",
       "\t\n"
      ]
     },
     "execution_count": 1,
     "metadata": {},
     "output_type": "execute_result"
    },
    {
     "data": {
      "text/plain": [
       "Pred is\t392433283.11747\t\n",
       "Real is\t392433281\t\n",
       "Diff is\t2.1174721121788\t\n",
       "\t\n"
      ]
     },
     "execution_count": 1,
     "metadata": {},
     "output_type": "execute_result"
    },
    {
     "data": {
      "text/plain": [
       "Pred is\t392433276.71059\t\n",
       "Real is\t392433187\t\n",
       "Diff is\t"
      ]
     },
     "execution_count": 1,
     "metadata": {},
     "output_type": "execute_result"
    },
    {
     "data": {
      "text/plain": [
       "89.710590481758\t\n",
       "\t\n"
      ]
     },
     "execution_count": 1,
     "metadata": {},
     "output_type": "execute_result"
    },
    {
     "data": {
      "text/plain": [
       "Pred is\t392433278.49937\t\n",
       "Real is\t392433325\t\n",
       "Diff is\t-46.500628113747\t\n",
       "\t\n"
      ]
     },
     "execution_count": 1,
     "metadata": {},
     "output_type": "execute_result"
    },
    {
     "data": {
      "text/plain": [
       "Pred is\t392433278.6402\t\n",
       "Real is\t392433381\t\n",
       "Diff is\t-102.35979545116\t\n",
       "\t\n"
      ]
     },
     "execution_count": 1,
     "metadata": {},
     "output_type": "execute_result"
    },
    {
     "data": {
      "text/plain": [
       "Pred is\t392433282.13522\t\n",
       "Real is\t392433341\t\n",
       "Diff is\t-58.864783585072\t\n",
       "\t\n"
      ]
     },
     "execution_count": 1,
     "metadata": {},
     "output_type": "execute_result"
    },
    {
     "data": {
      "text/plain": [
       "Pred is\t392433280.1862\t\n",
       "Real is\t392433393\t\n",
       "Diff is\t-112.8138037324\t\n",
       "\t\n"
      ]
     },
     "execution_count": 1,
     "metadata": {},
     "output_type": "execute_result"
    },
    {
     "data": {
      "text/plain": [
       "Pred is\t392433281.5903\t\n",
       "Real is\t392433196\t\n",
       "Diff is\t85.59029853344\t\n",
       "\t\n"
      ]
     },
     "execution_count": 1,
     "metadata": {},
     "output_type": "execute_result"
    },
    {
     "data": {
      "text/plain": [
       "Pred is\t392433281.44982\t\n",
       "Real is\t392433252\t\n",
       "Diff is\t29.449817419052\t\n",
       "\t\n"
      ]
     },
     "execution_count": 1,
     "metadata": {},
     "output_type": "execute_result"
    },
    {
     "data": {
      "text/plain": [
       "Pred is\t392433281.78737\t\n",
       "Real is\t392433379\t\n",
       "Diff is\t-97.212627232075\t\n",
       "\t\n"
      ]
     },
     "execution_count": 1,
     "metadata": {},
     "output_type": "execute_result"
    },
    {
     "data": {
      "text/plain": [
       "Pred is\t392433280.62533\t\n",
       "Real is\t392433195\t\n",
       "Diff is\t85.625327110291\t\n",
       "\t\n"
      ]
     },
     "execution_count": 1,
     "metadata": {},
     "output_type": "execute_result"
    },
    {
     "data": {
      "text/plain": [
       "Pred is\t392433275.77181\t\n",
       "Real is\t392433125\t\n",
       "Diff is\t150.77181267738\t\n",
       "\t\n"
      ]
     },
     "execution_count": 1,
     "metadata": {},
     "output_type": "execute_result"
    },
    {
     "data": {
      "text/plain": [
       "Pred is\t392433278.107\t\n",
       "Real is\t392433272\t\n",
       "Diff is\t6.1069990992546\t\n",
       "\t\n"
      ]
     },
     "execution_count": 1,
     "metadata": {},
     "output_type": "execute_result"
    },
    {
     "data": {
      "text/plain": [
       "Pred is\t392433279.56105\t\n",
       "Real is\t392433128\t\n",
       "Diff is\t151.56105148792\t\n",
       "\t\n"
      ]
     },
     "execution_count": 1,
     "metadata": {},
     "output_type": "execute_result"
    },
    {
     "data": {
      "text/plain": [
       "Pred is\t392433276.80091\t\n",
       "Real is\t392433355\t\n",
       "Diff is\t-78.199090600014\t\n",
       "\t\n"
      ]
     },
     "execution_count": 1,
     "metadata": {},
     "output_type": "execute_result"
    },
    {
     "data": {
      "text/plain": [
       "Pred is\t392433277.70965\t\n",
       "Real is\t392433176\t\n",
       "Diff is\t101.70965462923\t\n",
       "\t\n"
      ]
     },
     "execution_count": 1,
     "metadata": {},
     "output_type": "execute_result"
    },
    {
     "data": {
      "text/plain": [
       "Pred is\t392433278.03598\t\n",
       "Real is\t392433225\t\n",
       "Diff is\t53.035975694656\t\n",
       "\t\n"
      ]
     },
     "execution_count": 1,
     "metadata": {},
     "output_type": "execute_result"
    },
    {
     "data": {
      "text/plain": [
       "Pred is\t392433277.56272\t\n",
       "Real is\t392433347\t\n",
       "Diff is\t-69.437279999256\t\n",
       "\t\n"
      ]
     },
     "execution_count": 1,
     "metadata": {},
     "output_type": "execute_result"
    },
    {
     "data": {
      "text/plain": [
       "Pred is\t392433276.84794\t\n",
       "Real is\t392433347\t\n",
       "Diff is\t-70.152064502239\t\n",
       "\t\n"
      ]
     },
     "execution_count": 1,
     "metadata": {},
     "output_type": "execute_result"
    },
    {
     "data": {
      "text/plain": [
       "Pred is\t392433283.10209\t\n",
       "Real is\t392433309\t\n",
       "Diff is\t-25.897909224033\t\n",
       "\t\n"
      ]
     },
     "execution_count": 1,
     "metadata": {},
     "output_type": "execute_result"
    },
    {
     "data": {
      "text/plain": [
       "Pred is\t392433282.7472\t\n",
       "Real is\t392433172\t\n",
       "Diff is\t110.74719923735\t\n",
       "\t\n"
      ]
     },
     "execution_count": 1,
     "metadata": {},
     "output_type": "execute_result"
    },
    {
     "data": {
      "text/plain": [
       "Pred is\t392433275.28079\t\n",
       "Real is\t392433393\t\n",
       "Diff is\t-117.71921038628\t\n",
       "\t\n"
      ]
     },
     "execution_count": 1,
     "metadata": {},
     "output_type": "execute_result"
    },
    {
     "data": {
      "text/plain": [
       "Pred is\t392433273.34286\t\n",
       "Real is\t392433118\t\n",
       "Diff is\t155.34285664558\t\n",
       "\t\n"
      ]
     },
     "execution_count": 1,
     "metadata": {},
     "output_type": "execute_result"
    },
    {
     "data": {
      "text/plain": [
       "Pred is\t392433279.00237\t\n",
       "Real is\t392433253\t\n",
       "Diff is\t26.002373278141\t\n",
       "\t\n"
      ]
     },
     "execution_count": 1,
     "metadata": {},
     "output_type": "execute_result"
    },
    {
     "data": {
      "text/plain": [
       "Pred is\t392433281.38886\t\n",
       "Real is\t392433347\t\n",
       "Diff is\t-65.611144065857\t\n",
       "\t\n"
      ]
     },
     "execution_count": 1,
     "metadata": {},
     "output_type": "execute_result"
    },
    {
     "data": {
      "text/plain": [
       "Pred is\t392433280.51699\t\n",
       "Real is\t392433223\t\n",
       "Diff is\t57.516993224621\t\n",
       "\t\n"
      ]
     },
     "execution_count": 1,
     "metadata": {},
     "output_type": "execute_result"
    },
    {
     "data": {
      "text/plain": [
       "Pred is\t392433277.74057\t\n",
       "Real is\t392433184\t\n",
       "Diff is\t93.740570306778\t\n",
       "\t\n"
      ]
     },
     "execution_count": 1,
     "metadata": {},
     "output_type": "execute_result"
    },
    {
     "data": {
      "text/plain": [
       "Pred is\t392433275.91112\t\n",
       "Real is\t392433296\t\n",
       "Diff is\t-20.088876307011\t\n",
       "\t\n"
      ]
     },
     "execution_count": 1,
     "metadata": {},
     "output_type": "execute_result"
    },
    {
     "data": {
      "text/plain": [
       "Pred is\t392433275.10887\t\n",
       "Real is\t392433141\t\n",
       "Diff is\t134.10887438059\t\n",
       "\t\n"
      ]
     },
     "execution_count": 1,
     "metadata": {},
     "output_type": "execute_result"
    },
    {
     "data": {
      "text/plain": [
       "Pred is\t392433276.62323\t\n",
       "Real is\t392433339\t\n",
       "Diff is\t-62.376767277718\t\n",
       "\t\n"
      ]
     },
     "execution_count": 1,
     "metadata": {},
     "output_type": "execute_result"
    },
    {
     "data": {
      "text/plain": [
       "Pred is\t392433276.42953\t\n",
       "Real is\t392433178\t\n",
       "Diff is\t98.429533958435\t\n",
       "\t\n"
      ]
     },
     "execution_count": 1,
     "metadata": {},
     "output_type": "execute_result"
    },
    {
     "data": {
      "text/plain": [
       "Pred is\t392433280.74234\t\n",
       "Real is\t392433225\t\n",
       "Diff is\t55.742343664169\t\n",
       "\t\n"
      ]
     },
     "execution_count": 1,
     "metadata": {},
     "output_type": "execute_result"
    },
    {
     "data": {
      "text/plain": [
       "Pred is\t392433277.73166\t\n",
       "Real is\t392433341\t\n",
       "Diff is\t-63.268335521221\t\n",
       "\t\n"
      ]
     },
     "execution_count": 1,
     "metadata": {},
     "output_type": "execute_result"
    },
    {
     "data": {
      "text/plain": [
       "Pred is\t392433275.04402\t\n",
       "Real is\t392433239\t\n",
       "Diff is\t36.044019460678\t\n",
       "\t\n"
      ]
     },
     "execution_count": 1,
     "metadata": {},
     "output_type": "execute_result"
    },
    {
     "data": {
      "text/plain": [
       "Pred is\t392433276.4528\t\n",
       "Real is\t392433347\t\n",
       "Diff is\t-70.547197759151\t\n",
       "\t\n"
      ]
     },
     "execution_count": 1,
     "metadata": {},
     "output_type": "execute_result"
    },
    {
     "data": {
      "text/plain": [
       "Pred is\t392433273.94091\t\n",
       "Real is\t392433242\t\n",
       "Diff is\t31.940907537937\t\n",
       "\t\n"
      ]
     },
     "execution_count": 1,
     "metadata": {},
     "output_type": "execute_result"
    },
    {
     "data": {
      "text/plain": [
       "Pred is\t392433278.71143\t\n",
       "Real is\t392433361\t\n",
       "Diff is\t-82.288565456867\t\n",
       "\t\n"
      ]
     },
     "execution_count": 1,
     "metadata": {},
     "output_type": "execute_result"
    },
    {
     "data": {
      "text/plain": [
       "Pred is\t392433280.72006\t\n",
       "Real is\t392433261\t\n",
       "Diff is\t19.720057249069\t\n",
       "\t\n"
      ]
     },
     "execution_count": 1,
     "metadata": {},
     "output_type": "execute_result"
    },
    {
     "data": {
      "text/plain": [
       "Pred is\t392433280.75764\t\n",
       "Real is\t392433341\t\n",
       "Diff is\t-60.242360591888\t\n",
       "\t\n"
      ]
     },
     "execution_count": 1,
     "metadata": {},
     "output_type": "execute_result"
    },
    {
     "data": {
      "text/plain": [
       "Pred is\t392433275.62195\t\n",
       "Real is\t392433233\t\n",
       "Diff is\t42.621951282024\t\n",
       "\t\n"
      ]
     },
     "execution_count": 1,
     "metadata": {},
     "output_type": "execute_result"
    },
    {
     "data": {
      "text/plain": [
       "Pred is\t392433278.41126\t\n",
       "Real is\t392433208\t\n",
       "Diff is\t70.411258101463\t\n",
       "\t\n"
      ]
     },
     "execution_count": 1,
     "metadata": {},
     "output_type": "execute_result"
    },
    {
     "data": {
      "text/plain": [
       "Pred is\t392433279.76632\t\n",
       "Real is\t392433180\t\n",
       "Diff is\t99.766320943832\t\n",
       "\t\n"
      ]
     },
     "execution_count": 1,
     "metadata": {},
     "output_type": "execute_result"
    },
    {
     "data": {
      "text/plain": [
       "Pred is\t392433281.45661\t\n",
       "Real is\t392433264\t\n",
       "Diff is\t17.456607222557\t\n",
       "\t\n"
      ]
     },
     "execution_count": 1,
     "metadata": {},
     "output_type": "execute_result"
    },
    {
     "data": {
      "text/plain": [
       "Pred is\t392433280.67874\t\n",
       "Real is\t392433184\t\n",
       "Diff is\t96.678741157055\t\n",
       "\t\n"
      ]
     },
     "execution_count": 1,
     "metadata": {},
     "output_type": "execute_result"
    },
    {
     "data": {
      "text/plain": [
       "Pred is\t392433275.55445\t\n",
       "Real is\t392433185\t\n",
       "Diff is\t90.554449498653\t\n",
       "\t\n"
      ]
     },
     "execution_count": 1,
     "metadata": {},
     "output_type": "execute_result"
    },
    {
     "data": {
      "text/plain": [
       "Pred is\t392433276.32325\t\n",
       "Real is\t392433253\t\n",
       "Diff is\t23.323254883289\t\n",
       "\t\n"
      ]
     },
     "execution_count": 1,
     "metadata": {},
     "output_type": "execute_result"
    },
    {
     "data": {
      "text/plain": [
       "Pred is\t392433278.87014\t\n",
       "Real is\t392433301\t\n",
       "Diff is\t-22.129859685898\t\n",
       "\t\n"
      ]
     },
     "execution_count": 1,
     "metadata": {},
     "output_type": "execute_result"
    },
    {
     "data": {
      "text/plain": [
       "Pred is\t392433278.99998\t\n",
       "Real is\t392433347\t\n",
       "Diff is\t-68.000022530556\t\n",
       "\t\n"
      ]
     },
     "execution_count": 1,
     "metadata": {},
     "output_type": "execute_result"
    },
    {
     "data": {
      "text/plain": [
       "Pred is\t392433280.58764\t\n",
       "Real is\t392433235\t\n",
       "Diff is\t45.587637782097\t\n",
       "\t\n"
      ]
     },
     "execution_count": 1,
     "metadata": {},
     "output_type": "execute_result"
    },
    {
     "data": {
      "text/plain": [
       "Pred is\t392433274.86095\t\n",
       "Real is\t392433369\t\n",
       "Diff is\t-94.139048218727\t\n",
       "\t\n"
      ]
     },
     "execution_count": 1,
     "metadata": {},
     "output_type": "execute_result"
    },
    {
     "data": {
      "text/plain": [
       "Pred is\t392433277.06423\t\n",
       "Real is\t392433098\t\n",
       "Diff is\t179.06423014402\t\n",
       "\t\n"
      ]
     },
     "execution_count": 1,
     "metadata": {},
     "output_type": "execute_result"
    },
    {
     "data": {
      "text/plain": [
       "Pred is\t392433279.35636\t\n",
       "Real is\t392433138\t\n",
       "Diff is\t141.35636305809\t\n",
       "\t\n"
      ]
     },
     "execution_count": 1,
     "metadata": {},
     "output_type": "execute_result"
    },
    {
     "data": {
      "text/plain": [
       "Pred is\t392433275.861\t\n",
       "Real is\t392433278\t\n",
       "Diff is\t-2.1390016078949\t\n",
       "\t\n"
      ]
     },
     "execution_count": 1,
     "metadata": {},
     "output_type": "execute_result"
    },
    {
     "data": {
      "text/plain": [
       "Pred is\t392433283.37129\t\n",
       "Real is\t392433264\t\n",
       "Diff is\t19.371289134026\t\n",
       "\t\n"
      ]
     },
     "execution_count": 1,
     "metadata": {},
     "output_type": "execute_result"
    },
    {
     "data": {
      "text/plain": [
       "Pred is\t392433278.34293\t\n",
       "Real is\t392433219\t\n",
       "Diff is\t59.342928528786\t\n",
       "\t\n"
      ]
     },
     "execution_count": 1,
     "metadata": {},
     "output_type": "execute_result"
    },
    {
     "data": {
      "text/plain": [
       "Pred is\t392433281.76552\t\n",
       "Real is\t392433341\t\n",
       "Diff is\t-59.234481811523\t\n",
       "\t\n"
      ]
     },
     "execution_count": 1,
     "metadata": {},
     "output_type": "execute_result"
    },
    {
     "data": {
      "text/plain": [
       "Pred is\t392433276.54725\t\n",
       "Real is\t392433281\t\n",
       "Diff is\t-4.4527524113655\t\n",
       "\t\n"
      ]
     },
     "execution_count": 1,
     "metadata": {},
     "output_type": "execute_result"
    },
    {
     "data": {
      "text/plain": [
       "Pred is\t392433280.05709\t\n",
       "Real is\t392433094\t\n",
       "Diff is\t186.05709189177\t\n",
       "\t\n"
      ]
     },
     "execution_count": 1,
     "metadata": {},
     "output_type": "execute_result"
    },
    {
     "data": {
      "text/plain": [
       "Pred is\t392433275.28009\t\n",
       "Real is\t392433188\t\n",
       "Diff is\t87.280085682869\t\n",
       "\t\n"
      ]
     },
     "execution_count": 1,
     "metadata": {},
     "output_type": "execute_result"
    },
    {
     "data": {
      "text/plain": [
       "Pred is\t392433277.27047\t\n",
       "Real is\t392433358\t\n",
       "Diff is\t-80.729532361031\t\n",
       "\t\n"
      ]
     },
     "execution_count": 1,
     "metadata": {},
     "output_type": "execute_result"
    },
    {
     "data": {
      "text/plain": [
       "Pred is\t392433278.56756\t\n",
       "Real is\t392433095\t\n",
       "Diff is\t183.5675573349\t\n",
       "\t\n"
      ]
     },
     "execution_count": 1,
     "metadata": {},
     "output_type": "execute_result"
    },
    {
     "data": {
      "text/plain": [
       "Pred is\t392433279.17895\t\n",
       "Real is\t392433250\t\n",
       "Diff is\t29.178946971893\t\n",
       "\t\n"
      ]
     },
     "execution_count": 1,
     "metadata": {},
     "output_type": "execute_result"
    },
    {
     "data": {
      "text/plain": [
       "Pred is\t392433277.52566\t\n",
       "Real is\t392433186\t\n",
       "Diff is\t91.525655031204\t\n",
       "\t\n"
      ]
     },
     "execution_count": 1,
     "metadata": {},
     "output_type": "execute_result"
    },
    {
     "data": {
      "text/plain": [
       "Pred is\t392433277.19229\t\n",
       "Real is\t392433133\t\n",
       "Diff is\t144.19229251146\t\n",
       "\t\n"
      ]
     },
     "execution_count": 1,
     "metadata": {},
     "output_type": "execute_result"
    },
    {
     "data": {
      "text/plain": [
       "Pred is\t392433278.80521\t\n",
       "Real is\t392433146\t\n",
       "Diff is\t132.80521434546\t\n",
       "\t\n"
      ]
     },
     "execution_count": 1,
     "metadata": {},
     "output_type": "execute_result"
    },
    {
     "data": {
      "text/plain": [
       "Pred is\t392433278.68805\t\n",
       "Real is\t392433327\t\n",
       "Diff is\t-48.311945259571\t\n",
       "\t\n"
      ]
     },
     "execution_count": 1,
     "metadata": {},
     "output_type": "execute_result"
    },
    {
     "data": {
      "text/plain": [
       "Pred is\t392433275.51418\t\n",
       "Real is\t392433392\t\n",
       "Diff is\t-116.48581808805\t\n",
       "\t\n"
      ]
     },
     "execution_count": 1,
     "metadata": {},
     "output_type": "execute_result"
    },
    {
     "data": {
      "text/plain": [
       "Pred is\t392433279.34424\t\n",
       "Real is\t392433228\t\n",
       "Diff is\t51.344240367413\t\n",
       "\t\n"
      ]
     },
     "execution_count": 1,
     "metadata": {},
     "output_type": "execute_result"
    },
    {
     "data": {
      "text/plain": [
       "Pred is\t392433278.74796\t\n",
       "Real is\t392433337\t\n",
       "Diff is\t-58.252037882805\t\n",
       "\t\n"
      ]
     },
     "execution_count": 1,
     "metadata": {},
     "output_type": "execute_result"
    },
    {
     "data": {
      "text/plain": [
       "Pred is\t392433278.03847\t\n",
       "Real is\t392433386\t\n",
       "Diff is\t-107.96152836084\t\n",
       "\t\n"
      ]
     },
     "execution_count": 1,
     "metadata": {},
     "output_type": "execute_result"
    },
    {
     "data": {
      "text/plain": [
       "Pred is\t392433277.6037\t\n",
       "Real is\t392433311\t\n",
       "Diff is\t-33.396304249763\t\n",
       "\t\n"
      ]
     },
     "execution_count": 1,
     "metadata": {},
     "output_type": "execute_result"
    },
    {
     "data": {
      "text/plain": [
       "Pred is\t392433277.01367\t\n",
       "Real is\t392433229\t\n",
       "Diff is\t48.013674259186\t\n",
       "\t\n"
      ]
     },
     "execution_count": 1,
     "metadata": {},
     "output_type": "execute_result"
    },
    {
     "data": {
      "text/plain": [
       "Pred is\t392433279.78694\t\n",
       "Real is\t392433302\t\n",
       "Diff is\t-22.213058590889\t\n",
       "\t\n"
      ]
     },
     "execution_count": 1,
     "metadata": {},
     "output_type": "execute_result"
    },
    {
     "data": {
      "text/plain": [
       "Pred is\t392433276.70969\t\n",
       "Real is\t392433329\t\n",
       "Diff is\t-52.290311276913\t\n",
       "\t\n"
      ]
     },
     "execution_count": 1,
     "metadata": {},
     "output_type": "execute_result"
    },
    {
     "data": {
      "text/plain": [
       "Pred is\t392433277.83238\t\n",
       "Real is\t392433232\t\n",
       "Diff is\t45.83237850666\t\n",
       "\t\n"
      ]
     },
     "execution_count": 1,
     "metadata": {},
     "output_type": "execute_result"
    },
    {
     "data": {
      "text/plain": [
       "Pred is\t392433278.78567\t\n",
       "Real is\t392433167\t\n",
       "Diff is\t111.78567075729\t\n",
       "\t\n"
      ]
     },
     "execution_count": 1,
     "metadata": {},
     "output_type": "execute_result"
    },
    {
     "data": {
      "text/plain": [
       "Pred is\t392433278.46617\t\n",
       "Real is\t392433203\t\n",
       "Diff is\t75.466174125671\t\n",
       "\t\n"
      ]
     },
     "execution_count": 1,
     "metadata": {},
     "output_type": "execute_result"
    },
    {
     "data": {
      "text/plain": [
       "Pred is\t392433277.36079\t\n",
       "Real is\t392433347\t\n",
       "Diff is\t-69.639206111431\t\n",
       "\t\n"
      ]
     },
     "execution_count": 1,
     "metadata": {},
     "output_type": "execute_result"
    },
    {
     "data": {
      "text/plain": [
       "Pred is\t392433278.34055\t\n",
       "Real is\t392433347\t\n",
       "Diff is\t-68.659454286098\t\n",
       "\t\n"
      ]
     },
     "execution_count": 1,
     "metadata": {},
     "output_type": "execute_result"
    },
    {
     "data": {
      "text/plain": [
       "Pred is\t392433274.51895\t\n",
       "Real is\t392433113\t\n",
       "Diff is\t161.51895314455\t\n",
       "\t\n"
      ]
     },
     "execution_count": 1,
     "metadata": {},
     "output_type": "execute_result"
    },
    {
     "data": {
      "text/plain": [
       "Pred is\t392433279.31019\t\n",
       "Real is\t392433236\t\n",
       "Diff is\t43.310187935829\t\n",
       "\t\n"
      ]
     },
     "execution_count": 1,
     "metadata": {},
     "output_type": "execute_result"
    },
    {
     "data": {
      "text/plain": [
       "Pred is\t392433276.73126\t\n",
       "Real is\t392433347\t\n",
       "Diff is\t-70.268742322922\t\n",
       "\t\n"
      ]
     },
     "execution_count": 1,
     "metadata": {},
     "output_type": "execute_result"
    },
    {
     "data": {
      "text/plain": [
       "Pred is\t392433278.63331\t\n",
       "Real is\t392433117\t\n",
       "Diff is\t161.63330751657\t\n",
       "\t\n"
      ]
     },
     "execution_count": 1,
     "metadata": {},
     "output_type": "execute_result"
    },
    {
     "data": {
      "text/plain": [
       "Pred is\t392433279.6661\t\n",
       "Real is\t392433098\t\n",
       "Diff is\t181.66609841585\t\n",
       "\t\n"
      ]
     },
     "execution_count": 1,
     "metadata": {},
     "output_type": "execute_result"
    },
    {
     "data": {
      "text/plain": [
       "Pred is\t392433277.11753\t\n",
       "Real is\t392433215\t\n",
       "Diff is\t62.117533922195\t\n",
       "\t\n"
      ]
     },
     "execution_count": 1,
     "metadata": {},
     "output_type": "execute_result"
    },
    {
     "data": {
      "text/plain": [
       "Pred is\t392433276.53517\t\n",
       "Real is\t392433243\t\n",
       "Diff is\t33.535166621208\t\n",
       "\t\n"
      ]
     },
     "execution_count": 1,
     "metadata": {},
     "output_type": "execute_result"
    },
    {
     "data": {
      "text/plain": [
       "Pred is\t392433279.1081\t\n",
       "Real is\t392433223\t\n",
       "Diff is\t56.108102321625\t\n",
       "\t\n"
      ]
     },
     "execution_count": 1,
     "metadata": {},
     "output_type": "execute_result"
    },
    {
     "data": {
      "text/plain": [
       "Pred is\t392433280.54502\t\n",
       "Real is\t392433334\t\n",
       "Diff is\t-53.454984307289\t\n",
       "\t\n"
      ]
     },
     "execution_count": 1,
     "metadata": {},
     "output_type": "execute_result"
    },
    {
     "data": {
      "text/plain": [
       "Pred is\t392433278.13385\t\n",
       "Real is\t392433135\t\n",
       "Diff is\t143.1338506341\t\n",
       "\t\n"
      ]
     },
     "execution_count": 1,
     "metadata": {},
     "output_type": "execute_result"
    },
    {
     "data": {
      "text/plain": [
       "Pred is\t392433279.80482\t\n",
       "Real is\t392433228\t\n",
       "Diff is\t51.804818153381\t\n",
       "\t\n"
      ]
     },
     "execution_count": 1,
     "metadata": {},
     "output_type": "execute_result"
    },
    {
     "data": {
      "text/plain": [
       "Pred is\t392433277.12484\t\n",
       "Real is\t392433223\t\n",
       "Diff is\t54.124837994576\t\n",
       "\t\n"
      ]
     },
     "execution_count": 1,
     "metadata": {},
     "output_type": "execute_result"
    },
    {
     "data": {
      "text/plain": [
       "Pred is\t392433280.47493\t\n",
       "Real is\t392433274\t\n",
       "Diff is\t6.4749301075935\t\n",
       "\t\n"
      ]
     },
     "execution_count": 1,
     "metadata": {},
     "output_type": "execute_result"
    },
    {
     "data": {
      "text/plain": [
       "Pred is\t392433278.0615\t\n",
       "Real is\t392433141\t\n",
       "Diff is\t137.0614989996\t\n",
       "\t\n"
      ]
     },
     "execution_count": 1,
     "metadata": {},
     "output_type": "execute_result"
    },
    {
     "data": {
      "text/plain": [
       "Pred is\t392433282.33228\t\n",
       "Real is\t392433216\t\n",
       "Diff is\t66.332281649113\t\n",
       "\t\n"
      ]
     },
     "execution_count": 1,
     "metadata": {},
     "output_type": "execute_result"
    },
    {
     "data": {
      "text/plain": [
       "Pred is\t392433283.09354\t\n",
       "Real is\t392433329\t\n",
       "Diff is\t-45.906462311745\t\n",
       "\t\n"
      ]
     },
     "execution_count": 1,
     "metadata": {},
     "output_type": "execute_result"
    },
    {
     "data": {
      "text/plain": [
       "Pred is\t392433278.84063\t\n",
       "Real is\t392433395\t\n",
       "Diff is\t-116.15937185287\t\n",
       "\t\n"
      ]
     },
     "execution_count": 1,
     "metadata": {},
     "output_type": "execute_result"
    },
    {
     "data": {
      "text/plain": [
       "Pred is\t392433278.3615\t\n",
       "Real is\t392433229\t\n",
       "Diff is\t49.361504435539\t\n",
       "\t\n"
      ]
     },
     "execution_count": 1,
     "metadata": {},
     "output_type": "execute_result"
    },
    {
     "data": {
      "text/plain": [
       "Pred is\t392433281.36403\t\n",
       "Real is\t392433315\t\n",
       "Diff is\t-33.63597214222\t\n",
       "\t\n"
      ]
     },
     "execution_count": 1,
     "metadata": {},
     "output_type": "execute_result"
    },
    {
     "data": {
      "text/plain": [
       "Pred is\t392433281.23199\t\n",
       "Real is\t392433287\t\n",
       "Diff is\t-5.768007516861\t\n",
       "\t\n"
      ]
     },
     "execution_count": 1,
     "metadata": {},
     "output_type": "execute_result"
    },
    {
     "data": {
      "text/plain": [
       "Pred is\t392433278.52042\t\n",
       "Real is\t392433241\t\n",
       "Diff is\t37.520422637463\t\n",
       "\t\n"
      ]
     },
     "execution_count": 1,
     "metadata": {},
     "output_type": "execute_result"
    },
    {
     "data": {
      "text/plain": [
       "Pred is\t392433276.981\t\n",
       "Real is\t392433122\t\n",
       "Diff is\t154.9809961319\t\n",
       "\t\n"
      ]
     },
     "execution_count": 1,
     "metadata": {},
     "output_type": "execute_result"
    },
    {
     "data": {
      "text/plain": [
       "Pred is\t392433277.11636\t\n",
       "Real is\t392433294\t\n",
       "Diff is\t-16.883642017841\t\n",
       "\t\n"
      ]
     },
     "execution_count": 1,
     "metadata": {},
     "output_type": "execute_result"
    },
    {
     "data": {
      "text/plain": [
       "Pred is\t392433277.86334\t\n",
       "Real is\t392433273\t\n",
       "Diff is\t4.8633399605751\t\n",
       "\t\n"
      ]
     },
     "execution_count": 1,
     "metadata": {},
     "output_type": "execute_result"
    },
    {
     "data": {
      "text/plain": [
       "Pred is\t392433275.56061\t\n",
       "Real is\t392433223\t\n",
       "Diff is\t52.560614049435\t\n",
       "\t\n"
      ]
     },
     "execution_count": 1,
     "metadata": {},
     "output_type": "execute_result"
    },
    {
     "data": {
      "text/plain": [
       "Pred is\t392433279.93846\t\n",
       "Real is\t392433177\t\n",
       "Diff is\t102.93845528364\t\n",
       "\t\n"
      ]
     },
     "execution_count": 1,
     "metadata": {},
     "output_type": "execute_result"
    },
    {
     "data": {
      "text/plain": [
       "Pred is\t392433278.62926\t\n",
       "Real is\t392433347\t\n",
       "Diff is\t-68.370740234852\t\n",
       "\t\n"
      ]
     },
     "execution_count": 1,
     "metadata": {},
     "output_type": "execute_result"
    },
    {
     "data": {
      "text/plain": [
       "Pred is\t392433276.36219\t\n",
       "Real is\t392433333\t\n",
       "Diff is\t-56.637811839581\t\n",
       "\t\n"
      ]
     },
     "execution_count": 1,
     "metadata": {},
     "output_type": "execute_result"
    },
    {
     "data": {
      "text/plain": [
       "Pred is\t392433277.49981\t\n",
       "Real is\t392433099\t\n",
       "Diff is\t178.49981129169\t\n",
       "\t\n"
      ]
     },
     "execution_count": 1,
     "metadata": {},
     "output_type": "execute_result"
    },
    {
     "data": {
      "text/plain": [
       "Pred is\t392433277.33558\t\n",
       "Real is\t392433241\t\n",
       "Diff is\t36.335582017899\t\n",
       "\t\n"
      ]
     },
     "execution_count": 1,
     "metadata": {},
     "output_type": "execute_result"
    },
    {
     "data": {
      "text/plain": [
       "Pred is\t392433279.36734\t\n",
       "Real is\t392433109\t\n",
       "Diff is\t170.36733680964\t\n",
       "\t\n"
      ]
     },
     "execution_count": 1,
     "metadata": {},
     "output_type": "execute_result"
    },
    {
     "data": {
      "text/plain": [
       "Pred is\t392433276.93254\t\n",
       "Real is\t392433271\t\n",
       "Diff is\t5.9325380325317\t\n",
       "\t\n"
      ]
     },
     "execution_count": 1,
     "metadata": {},
     "output_type": "execute_result"
    },
    {
     "data": {
      "text/plain": [
       "Pred is\t392433278.17779\t\n",
       "Real is\t392433239\t\n",
       "Diff is\t39.177789866924\t\n",
       "\t\n"
      ]
     },
     "execution_count": 1,
     "metadata": {},
     "output_type": "execute_result"
    },
    {
     "data": {
      "text/plain": [
       "Pred is\t392433274.74218\t\n",
       "Real is\t392433347\t\n",
       "Diff is\t-72.257818222046\t\n",
       "\t\n"
      ]
     },
     "execution_count": 1,
     "metadata": {},
     "output_type": "execute_result"
    },
    {
     "data": {
      "text/plain": [
       "Pred is\t392433275.93995\t\n",
       "Real is\t392433143\t\n",
       "Diff is\t132.93995368481\t\n",
       "\t\n"
      ]
     },
     "execution_count": 1,
     "metadata": {},
     "output_type": "execute_result"
    },
    {
     "data": {
      "text/plain": [
       "Pred is\t392433277.07989\t\n",
       "Real is\t392433223\t\n",
       "Diff is\t54.079889118671\t\n",
       "\t\n"
      ]
     },
     "execution_count": 1,
     "metadata": {},
     "output_type": "execute_result"
    },
    {
     "data": {
      "text/plain": [
       "Pred is\t392433280.63856\t\n",
       "Real is\t392433294\t\n",
       "Diff is\t-13.361437737942\t\n",
       "\t\n"
      ]
     },
     "execution_count": 1,
     "metadata": {},
     "output_type": "execute_result"
    },
    {
     "data": {
      "text/plain": [
       "Pred is\t392433280.51953\t\n",
       "Real is\t392433270\t\n",
       "Diff is\t10.519532501698\t\n",
       "\t\n"
      ]
     },
     "execution_count": 1,
     "metadata": {},
     "output_type": "execute_result"
    },
    {
     "data": {
      "text/plain": [
       "Pred is\t392433278.90189\t\n",
       "Real is\t392433125\t\n",
       "Diff is\t153.9018882513\t\n",
       "\t\n"
      ]
     },
     "execution_count": 1,
     "metadata": {},
     "output_type": "execute_result"
    },
    {
     "data": {
      "text/plain": [
       "Pred is\t392433275.1985\t\n",
       "Real is\t392433247\t\n",
       "Diff is\t28.19849640131\t\n",
       "\t\n"
      ]
     },
     "execution_count": 1,
     "metadata": {},
     "output_type": "execute_result"
    },
    {
     "data": {
      "text/plain": [
       "Pred is\t392433278.00612\t\n",
       "Real is\t392433347\t\n",
       "Diff is\t-68.993879079819\t\n",
       "\t\n"
      ]
     },
     "execution_count": 1,
     "metadata": {},
     "output_type": "execute_result"
    },
    {
     "data": {
      "text/plain": [
       "Pred is\t392433277.75362\t\n",
       "Real is\t392433157\t\n",
       "Diff is\t120.75362402201\t\n",
       "\t\n"
      ]
     },
     "execution_count": 1,
     "metadata": {},
     "output_type": "execute_result"
    },
    {
     "data": {
      "text/plain": [
       "Pred is\t392433281.04937\t\n",
       "Real is\t392433094\t\n",
       "Diff is\t187.04937332869\t\n",
       "\t\n"
      ]
     },
     "execution_count": 1,
     "metadata": {},
     "output_type": "execute_result"
    },
    {
     "data": {
      "text/plain": [
       "Pred is\t392433275.94955\t\n"
      ]
     },
     "execution_count": 1,
     "metadata": {},
     "output_type": "execute_result"
    },
    {
     "data": {
      "text/plain": [
       "Real is\t392433324\t\n",
       "Diff is\t-48.050450325012\t\n",
       "\t\n"
      ]
     },
     "execution_count": 1,
     "metadata": {},
     "output_type": "execute_result"
    },
    {
     "data": {
      "text/plain": [
       "Pred is\t392433276.16468\t\n",
       "Real is\t392433231\t\n",
       "Diff is\t45.164681375027\t\n",
       "\t\n"
      ]
     },
     "execution_count": 1,
     "metadata": {},
     "output_type": "execute_result"
    },
    {
     "data": {
      "text/plain": [
       "Pred is\t392433278.50951\t\n",
       "Real is\t392433204\t\n",
       "Diff is\t74.509512841702\t\n",
       "\t\n"
      ]
     },
     "execution_count": 1,
     "metadata": {},
     "output_type": "execute_result"
    },
    {
     "data": {
      "text/plain": [
       "Pred is\t392433277.52306\t\n",
       "Real is\t392433257\t\n",
       "Diff is\t20.523055076599\t\n",
       "\t\n"
      ]
     },
     "execution_count": 1,
     "metadata": {},
     "output_type": "execute_result"
    },
    {
     "data": {
      "text/plain": [
       "Pred is\t392433277.13866\t\n",
       "Real is\t392433381\t\n",
       "Diff is\t-103.86134427786\t\n",
       "\t\n"
      ]
     },
     "execution_count": 1,
     "metadata": {},
     "output_type": "execute_result"
    },
    {
     "data": {
      "text/plain": [
       "Pred is\t392433279.93545\t\n",
       "Real is\t392433341\t\n",
       "Diff is\t-61.064550101757\t\n",
       "\t\n"
      ]
     },
     "execution_count": 1,
     "metadata": {},
     "output_type": "execute_result"
    },
    {
     "data": {
      "text/plain": [
       "Pred is\t392433278.97118\t\n",
       "Real is\t392433341\t\n",
       "Diff is\t-62.028815031052\t\n",
       "\t\n"
      ]
     },
     "execution_count": 1,
     "metadata": {},
     "output_type": "execute_result"
    },
    {
     "data": {
      "text/plain": [
       "Pred is\t392433280.80108\t\n",
       "Real is\t392433356\t\n",
       "Diff is\t-75.198921978474\t\n",
       "\t\n"
      ]
     },
     "execution_count": 1,
     "metadata": {},
     "output_type": "execute_result"
    },
    {
     "data": {
      "text/plain": [
       "Pred is\t392433279.48192\t\n",
       "Real is\t392433257\t\n",
       "Diff is\t22.481915533543\t\n",
       "\t\n"
      ]
     },
     "execution_count": 1,
     "metadata": {},
     "output_type": "execute_result"
    },
    {
     "data": {
      "text/plain": [
       "Pred is\t392433281.24281\t\n"
      ]
     },
     "execution_count": 1,
     "metadata": {},
     "output_type": "execute_result"
    },
    {
     "data": {
      "text/plain": [
       "Real is\t392433348\t\n",
       "Diff is\t-66.75718909502\t\n",
       "\t\n"
      ]
     },
     "execution_count": 1,
     "metadata": {},
     "output_type": "execute_result"
    },
    {
     "data": {
      "text/plain": [
       "Pred is\t392433275.62125\t\n",
       "Real is\t392433230\t\n",
       "Diff is\t45.62125146389\t\n",
       "\t\n"
      ]
     },
     "execution_count": 1,
     "metadata": {},
     "output_type": "execute_result"
    },
    {
     "data": {
      "text/plain": [
       "Pred is\t392433275.88866\t\n",
       "Real is\t392433217\t\n",
       "Diff is\t58.888656973839\t\n",
       "\t\n"
      ]
     },
     "execution_count": 1,
     "metadata": {},
     "output_type": "execute_result"
    },
    {
     "data": {
      "text/plain": [
       "Pred is\t392433276.21239\t\n",
       "Real is\t392433369\t\n",
       "Diff is\t-92.787605881691\t\n",
       "\t\n"
      ]
     },
     "execution_count": 1,
     "metadata": {},
     "output_type": "execute_result"
    },
    {
     "data": {
      "text/plain": [
       "Pred is\t392433279.692\t\n",
       "Real is\t392433240\t\n",
       "Diff is\t39.691998720169\t\n",
       "\t\n"
      ]
     },
     "execution_count": 1,
     "metadata": {},
     "output_type": "execute_result"
    },
    {
     "data": {
      "text/plain": [
       "Pred is\t392433276.20556\t\n",
       "Real is\t392433153\t\n",
       "Diff is\t123.20556080341\t\n",
       "\t\n"
      ]
     },
     "execution_count": 1,
     "metadata": {},
     "output_type": "execute_result"
    },
    {
     "data": {
      "text/plain": [
       "Pred is\t392433278.30486\t\n",
       "Real is\t392433265\t\n",
       "Diff is\t13.304855048656\t\n",
       "\t\n"
      ]
     },
     "execution_count": 1,
     "metadata": {},
     "output_type": "execute_result"
    },
    {
     "data": {
      "text/plain": [
       "Pred is\t392433276.49368\t\n",
       "Real is\t392433249\t\n",
       "Diff is\t27.493678569794\t\n",
       "\t\n"
      ]
     },
     "execution_count": 1,
     "metadata": {},
     "output_type": "execute_result"
    },
    {
     "data": {
      "text/plain": [
       "Pred is\t392433277.4798\t\n",
       "Real is\t392433319\t\n",
       "Diff is\t-41.520202517509\t\n",
       "\t\n"
      ]
     },
     "execution_count": 1,
     "metadata": {},
     "output_type": "execute_result"
    },
    {
     "data": {
      "text/plain": [
       "Pred is\t392433278.74822\t\n",
       "Real is\t392433270\t\n",
       "Diff is\t8.7482207417488\t\n",
       "\t\n"
      ]
     },
     "execution_count": 1,
     "metadata": {},
     "output_type": "execute_result"
    },
    {
     "data": {
      "text/plain": [
       "Pred is\t392433277.55223\t\n",
       "Real is\t392433174\t\n",
       "Diff is\t103.55223447084\t\n",
       "\t\n"
      ]
     },
     "execution_count": 1,
     "metadata": {},
     "output_type": "execute_result"
    },
    {
     "data": {
      "text/plain": [
       "Pred is\t392433279.14651\t\n",
       "Real is\t392433347\t\n",
       "Diff is\t-67.85348623991\t\n",
       "\t\n"
      ]
     },
     "execution_count": 1,
     "metadata": {},
     "output_type": "execute_result"
    },
    {
     "data": {
      "text/plain": [
       "Pred is\t392433276.92537\t\n",
       "Real is\t392433394\t\n",
       "Diff is\t-117.07462579012\t\n",
       "\t\n"
      ]
     },
     "execution_count": 1,
     "metadata": {},
     "output_type": "execute_result"
    },
    {
     "data": {
      "text/plain": [
       "Pred is\t392433276.25493\t\n",
       "Real is\t392433341\t\n",
       "Diff is\t-64.745066702366\t\n",
       "\t\n"
      ]
     },
     "execution_count": 1,
     "metadata": {},
     "output_type": "execute_result"
    },
    {
     "data": {
      "text/plain": [
       "Pred is\t392433276.76604\t\n",
       "Real is\t392433347\t\n",
       "Diff is\t-70.233955323696\t\n",
       "\t\n"
      ]
     },
     "execution_count": 1,
     "metadata": {},
     "output_type": "execute_result"
    },
    {
     "data": {
      "text/plain": [
       "Pred is\t392433277.9828\t\n",
       "Real is\t392433286\t\n",
       "Diff is\t-8.0171953439713\t\n",
       "\t\n"
      ]
     },
     "execution_count": 1,
     "metadata": {},
     "output_type": "execute_result"
    },
    {
     "data": {
      "text/plain": [
       "Pred is\t392433277.77931\t\n",
       "Real is\t392433244\t\n",
       "Diff is\t33.779312908649\t\n",
       "\t\n"
      ]
     },
     "execution_count": 1,
     "metadata": {},
     "output_type": "execute_result"
    },
    {
     "data": {
      "text/plain": [
       "Pred is\t392433277.0743\t\n",
       "Real is\t392433410\t\n",
       "Diff is\t-132.92569500208\t\n",
       "\t\n"
      ]
     },
     "execution_count": 1,
     "metadata": {},
     "output_type": "execute_result"
    },
    {
     "data": {
      "text/plain": [
       "Pred is\t392433280.05384\t\n",
       "Real is\t392433186\t\n",
       "Diff is\t94.053842425346\t\n",
       "\t\n"
      ]
     },
     "execution_count": 1,
     "metadata": {},
     "output_type": "execute_result"
    },
    {
     "data": {
      "text/plain": [
       "Pred is\t392433280.22865\t\n",
       "Real is\t392433380\t\n",
       "Diff is\t-99.771350681782\t\n",
       "\t\n"
      ]
     },
     "execution_count": 1,
     "metadata": {},
     "output_type": "execute_result"
    },
    {
     "data": {
      "text/plain": [
       "Pred is\t392433274.5018\t\n",
       "Real is\t392433281\t\n",
       "Diff is\t-6.4982032179832\t\n",
       "\t\n"
      ]
     },
     "execution_count": 1,
     "metadata": {},
     "output_type": "execute_result"
    },
    {
     "data": {
      "text/plain": [
       "Pred is\t392433278.72163\t\n",
       "Real is\t392433286\t\n",
       "Diff is\t-7.2783673405647\t\n",
       "\t\n"
      ]
     },
     "execution_count": 1,
     "metadata": {},
     "output_type": "execute_result"
    },
    {
     "data": {
      "text/plain": [
       "Pred is\t392433278.12616\t\n",
       "Real is\t392433305\t\n",
       "Diff is\t-26.873844027519\t\n",
       "\t\n"
      ]
     },
     "execution_count": 1,
     "metadata": {},
     "output_type": "execute_result"
    },
    {
     "data": {
      "text/plain": [
       "Pred is\t392433277.59522\t\n",
       "Real is\t392433221\t\n",
       "Diff is\t56.595215201378\t\n",
       "\t\n"
      ]
     },
     "execution_count": 1,
     "metadata": {},
     "output_type": "execute_result"
    },
    {
     "data": {
      "text/plain": [
       "Pred is\t392433277.05617\t\n",
       "Real is\t392433189\t\n",
       "Diff is\t88.056168377399\t\n",
       "\t\n"
      ]
     },
     "execution_count": 1,
     "metadata": {},
     "output_type": "execute_result"
    },
    {
     "data": {
      "text/plain": [
       "Pred is\t392433277.77233\t\n",
       "Real is\t392433279\t\n",
       "Diff is\t-1.2276661992073\t\n",
       "\t\n"
      ]
     },
     "execution_count": 1,
     "metadata": {},
     "output_type": "execute_result"
    },
    {
     "data": {
      "text/plain": [
       "Pred is\t392433276.677\t\n",
       "Real is\t392433314\t\n",
       "Diff is\t-37.323004364967\t\n",
       "\t\n"
      ]
     },
     "execution_count": 1,
     "metadata": {},
     "output_type": "execute_result"
    },
    {
     "data": {
      "text/plain": [
       "Pred is\t392433278.55536\t\n",
       "Real is\t392433231\t\n",
       "Diff is\t47.555364966393\t\n",
       "\t\n"
      ]
     },
     "execution_count": 1,
     "metadata": {},
     "output_type": "execute_result"
    },
    {
     "data": {
      "text/plain": [
       "Pred is\t392433276.357\t\n",
       "Real is\t392433347\t\n",
       "Diff is\t-70.64299672842\t\n",
       "\t\n"
      ]
     },
     "execution_count": 1,
     "metadata": {},
     "output_type": "execute_result"
    },
    {
     "data": {
      "text/plain": [
       "Pred is\t392433277.75077\t\n",
       "Real is\t392433251\t\n",
       "Diff is\t26.75076842308\t\n",
       "\t\n"
      ]
     },
     "execution_count": 1,
     "metadata": {},
     "output_type": "execute_result"
    },
    {
     "data": {
      "text/plain": [
       "Pred is\t392433275.2702\t\n",
       "Real is\t392433137\t\n",
       "Diff is\t138.270195961\t\n",
       "\t\n"
      ]
     },
     "execution_count": 1,
     "metadata": {},
     "output_type": "execute_result"
    },
    {
     "data": {
      "text/plain": [
       "Pred is\t392433280.26088\t\n",
       "Real is\t392433095\t\n",
       "Diff is\t185.26087510586\t\n",
       "\t\n"
      ]
     },
     "execution_count": 1,
     "metadata": {},
     "output_type": "execute_result"
    },
    {
     "data": {
      "text/plain": [
       "Pred is\t392433278.31517\t\n",
       "Real is\t392433351\t\n",
       "Diff is\t-72.684825003147\t\n",
       "\t\n"
      ]
     },
     "execution_count": 1,
     "metadata": {},
     "output_type": "execute_result"
    },
    {
     "data": {
      "text/plain": [
       "Pred is\t392433276.29353\t\n",
       "Real is\t392433205\t\n",
       "Diff is\t71.293525457382\t\n",
       "\t\n"
      ]
     },
     "execution_count": 1,
     "metadata": {},
     "output_type": "execute_result"
    },
    {
     "data": {
      "text/plain": [
       "Pred is\t392433275.15757\t\n",
       "Real is\t392433272\t\n",
       "Diff is\t3.1575693488121\t\n",
       "\t\n"
      ]
     },
     "execution_count": 1,
     "metadata": {},
     "output_type": "execute_result"
    },
    {
     "data": {
      "text/plain": [
       "Pred is\t392433276.48641\t\n",
       "Real is\t392433265\t\n",
       "Diff is\t11.486408412457\t\n",
       "\t\n"
      ]
     },
     "execution_count": 1,
     "metadata": {},
     "output_type": "execute_result"
    },
    {
     "data": {
      "text/plain": [
       "Pred is\t392433275.92823\t\n",
       "Real is\t392433347\t\n",
       "Diff is\t-71.071767151356\t\n",
       "\t\n"
      ]
     },
     "execution_count": 1,
     "metadata": {},
     "output_type": "execute_result"
    },
    {
     "data": {
      "text/plain": [
       "Pred is\t392433276.68548\t\n",
       "Real is\t392433312\t\n",
       "Diff is\t-35.314517974854\t\n",
       "\t\n"
      ]
     },
     "execution_count": 1,
     "metadata": {},
     "output_type": "execute_result"
    },
    {
     "data": {
      "text/plain": [
       "Pred is\t392433278.72622\t\n",
       "Real is\t392433231\t\n",
       "Diff is\t47.726222574711\t\n",
       "\t\n"
      ]
     },
     "execution_count": 1,
     "metadata": {},
     "output_type": "execute_result"
    },
    {
     "data": {
      "text/plain": [
       "Pred is\t392433279.40348\t\n",
       "Real is\t392433319\t\n",
       "Diff is\t-39.596523821354\t\n",
       "\t\n"
      ]
     },
     "execution_count": 1,
     "metadata": {},
     "output_type": "execute_result"
    },
    {
     "data": {
      "text/plain": [
       "Pred is\t392433280.69432\t\n",
       "Real is\t392433215\t\n",
       "Diff is\t65.694317817688\t\n",
       "\t\n"
      ]
     },
     "execution_count": 1,
     "metadata": {},
     "output_type": "execute_result"
    },
    {
     "data": {
      "text/plain": [
       "Pred is\t392433277.96755\t\n",
       "Real is\t392433347\t\n",
       "Diff is\t-69.032454431057\t\n",
       "\t\n"
      ]
     },
     "execution_count": 1,
     "metadata": {},
     "output_type": "execute_result"
    },
    {
     "data": {
      "text/plain": [
       "Pred is\t392433277.61813\t\n",
       "Real is\t392433364\t\n",
       "Diff is\t-86.381867170334\t\n",
       "\t\n"
      ]
     },
     "execution_count": 1,
     "metadata": {},
     "output_type": "execute_result"
    },
    {
     "data": {
      "text/plain": [
       "Pred is\t392433277.31671\t\n",
       "Real is\t392433200\t\n",
       "Diff is\t77.316713213921\t\n",
       "\t\n"
      ]
     },
     "execution_count": 1,
     "metadata": {},
     "output_type": "execute_result"
    },
    {
     "data": {
      "text/plain": [
       "Pred is\t392433280.56641\t\n",
       "Real is\t392433199\t\n",
       "Diff is\t81.566410422325\t\n",
       "\t\n"
      ]
     },
     "execution_count": 1,
     "metadata": {},
     "output_type": "execute_result"
    },
    {
     "data": {
      "text/plain": [
       "Pred is\t392433277.21014\t\n",
       "Real is\t392433241\t\n",
       "Diff is\t36.210138440132\t\n",
       "\t\n"
      ]
     },
     "execution_count": 1,
     "metadata": {},
     "output_type": "execute_result"
    },
    {
     "data": {
      "text/plain": [
       "Pred is\t392433280.07226\t\n",
       "Real is\t392433374\t\n",
       "Diff is\t-93.927738666534\t\n",
       "\t\n"
      ]
     },
     "execution_count": 1,
     "metadata": {},
     "output_type": "execute_result"
    },
    {
     "data": {
      "text/plain": [
       "Pred is\t392433276.90074\t\n",
       "Real is\t392433347\t\n",
       "Diff is\t-70.099258720875\t\n",
       "\t\n"
      ]
     },
     "execution_count": 1,
     "metadata": {},
     "output_type": "execute_result"
    },
    {
     "data": {
      "text/plain": [
       "Pred is\t392433278.93323\t\n",
       "Real is\t392433345\t\n",
       "Diff is\t-66.06676530838\t\n",
       "\t\n"
      ]
     },
     "execution_count": 1,
     "metadata": {},
     "output_type": "execute_result"
    },
    {
     "data": {
      "text/plain": [
       "Pred is\t392433280.25708\t\n",
       "Real is\t392433352\t\n",
       "Diff is\t-71.742919623852\t\n",
       "\t\n"
      ]
     },
     "execution_count": 1,
     "metadata": {},
     "output_type": "execute_result"
    },
    {
     "data": {
      "text/plain": [
       "Pred is\t392433279.06136\t\n",
       "Real is\t392433334\t\n",
       "Diff is\t-54.938635289669\t\n",
       "\t\n"
      ]
     },
     "execution_count": 1,
     "metadata": {},
     "output_type": "execute_result"
    },
    {
     "data": {
      "text/plain": [
       "Pred is\t392433277.9763\t\n",
       "Real is\t392433134\t\n",
       "Diff is\t143.97630304098\t\n",
       "\t\n"
      ]
     },
     "execution_count": 1,
     "metadata": {},
     "output_type": "execute_result"
    },
    {
     "data": {
      "text/plain": [
       "Pred is\t392433276.04436\t\n",
       "Real is\t392433120\t\n",
       "Diff is\t156.04435539246\t\n",
       "\t\n"
      ]
     },
     "execution_count": 1,
     "metadata": {},
     "output_type": "execute_result"
    },
    {
     "data": {
      "text/plain": [
       "Pred is\t392433274.39051\t\n",
       "Real is\t392433105\t\n",
       "Diff is\t169.39051294327\t\n",
       "\t\n"
      ]
     },
     "execution_count": 1,
     "metadata": {},
     "output_type": "execute_result"
    },
    {
     "data": {
      "text/plain": [
       "Pred is\t392433277.75686\t\n",
       "Real is\t392433219\t\n",
       "Diff is\t58.756862819195\t\n",
       "\t\n"
      ]
     },
     "execution_count": 1,
     "metadata": {},
     "output_type": "execute_result"
    },
    {
     "data": {
      "text/plain": [
       "Pred is\t392433279.17277\t\n",
       "Real is\t392433142\t\n",
       "Diff is\t137.17277431488\t\n",
       "\t\n"
      ]
     },
     "execution_count": 1,
     "metadata": {},
     "output_type": "execute_result"
    },
    {
     "data": {
      "text/plain": [
       "Pred is\t392433275.83988\t\n",
       "Real is\t392433219\t\n",
       "Diff is\t56.839884519577\t\n",
       "\t\n"
      ]
     },
     "execution_count": 1,
     "metadata": {},
     "output_type": "execute_result"
    },
    {
     "data": {
      "text/plain": [
       "Pred is\t392433274.69446\t\n",
       "Real is\t392433186\t\n",
       "Diff is\t88.694457709789\t\n",
       "\t\n"
      ]
     },
     "execution_count": 1,
     "metadata": {},
     "output_type": "execute_result"
    },
    {
     "data": {
      "text/plain": [
       "Pred is\t392433278.63703\t\n",
       "Real is\t392433283\t\n",
       "Diff is\t-4.3629677295685\t\n",
       "\t\n"
      ]
     },
     "execution_count": 1,
     "metadata": {},
     "output_type": "execute_result"
    },
    {
     "data": {
      "text/plain": [
       "Pred is\t392433278.93806\t\n",
       "Real is\t392433254\t\n",
       "Diff is\t24.938059806824\t\n",
       "\t\n"
      ]
     },
     "execution_count": 1,
     "metadata": {},
     "output_type": "execute_result"
    },
    {
     "data": {
      "text/plain": [
       "Pred is\t392433276.57636\t\n",
       "Real is\t392433292\t\n",
       "Diff is\t-15.423641622066\t\n",
       "\t\n"
      ]
     },
     "execution_count": 1,
     "metadata": {},
     "output_type": "execute_result"
    },
    {
     "data": {
      "text/plain": [
       "Pred is\t392433280.96735\t\n",
       "Real is\t392433310\t\n",
       "Diff is\t-29.032650589943\t\n",
       "\t\n"
      ]
     },
     "execution_count": 1,
     "metadata": {},
     "output_type": "execute_result"
    },
    {
     "data": {
      "text/plain": [
       "Pred is\t392433276.5618\t\n",
       "Real is\t392433212\t\n",
       "Diff is\t64.56179702282\t\n",
       "\t\n"
      ]
     },
     "execution_count": 1,
     "metadata": {},
     "output_type": "execute_result"
    },
    {
     "data": {
      "text/plain": [
       "Pred is\t392433279.63445\t\n",
       "Real is\t392433165\t"
      ]
     },
     "execution_count": 1,
     "metadata": {},
     "output_type": "execute_result"
    },
    {
     "data": {
      "text/plain": [
       "\n",
       "Diff is\t114.63444769382\t\n",
       "\t\n"
      ]
     },
     "execution_count": 1,
     "metadata": {},
     "output_type": "execute_result"
    },
    {
     "data": {
      "text/plain": [
       "Pred is\t392433277.02166\t\n",
       "Real is\t392433114\t\n",
       "Diff is\t163.02166008949\t\n",
       "\t\n"
      ]
     },
     "execution_count": 1,
     "metadata": {},
     "output_type": "execute_result"
    },
    {
     "data": {
      "text/plain": [
       "Pred is\t392433276.37478\t\n",
       "Real is\t392433229\t\n",
       "Diff is\t47.374784469604\t\n",
       "\t\n"
      ]
     },
     "execution_count": 1,
     "metadata": {},
     "output_type": "execute_result"
    },
    {
     "data": {
      "text/plain": [
       "Pred is\t392433272.46257\t\n",
       "Real is\t392433265\t\n",
       "Diff is\t7.4625676870346\t\n",
       "\t\n"
      ]
     },
     "execution_count": 1,
     "metadata": {},
     "output_type": "execute_result"
    },
    {
     "data": {
      "text/plain": [
       "Pred is\t392433281.03956\t\n",
       "Real is\t392433140\t\n",
       "Diff is\t141.03956365585\t\n",
       "\t\n"
      ]
     },
     "execution_count": 1,
     "metadata": {},
     "output_type": "execute_result"
    },
    {
     "data": {
      "text/plain": [
       "Pred is\t392433278.66827\t\n",
       "Real is\t392433360\t\n",
       "Diff is\t-81.331729114056\t\n",
       "\t\n"
      ]
     },
     "execution_count": 1,
     "metadata": {},
     "output_type": "execute_result"
    },
    {
     "data": {
      "text/plain": [
       "Pred is\t392433279.70969\t\n",
       "Real is\t392433370\t\n",
       "Diff is\t-90.290309309959\t\n",
       "\t\n"
      ]
     },
     "execution_count": 1,
     "metadata": {},
     "output_type": "execute_result"
    },
    {
     "data": {
      "text/plain": [
       "Pred is\t392433276.95799\t\n",
       "Real is\t392433221\t\n",
       "Diff is\t55.957988500595\t\n",
       "\t\n"
      ]
     },
     "execution_count": 1,
     "metadata": {},
     "output_type": "execute_result"
    },
    {
     "data": {
      "text/plain": [
       "Pred is\t392433281.22845\t\n",
       "Real is\t392433331\t\n",
       "Diff is\t-49.77154737711\t\n",
       "\t\n"
      ]
     },
     "execution_count": 1,
     "metadata": {},
     "output_type": "execute_result"
    },
    {
     "data": {
      "text/plain": [
       "Pred is\t392433276.49039\t\n",
       "Real is\t392433261\t\n",
       "Diff is\t15.490388989449\t\n",
       "\t\n"
      ]
     },
     "execution_count": 1,
     "metadata": {},
     "output_type": "execute_result"
    },
    {
     "data": {
      "text/plain": [
       "Pred is\t392433279.53353\t\n",
       "Real is\t392433270\t\n",
       "Diff is\t9.5335298776627\t\n",
       "\t\n"
      ]
     },
     "execution_count": 1,
     "metadata": {},
     "output_type": "execute_result"
    },
    {
     "data": {
      "text/plain": [
       "Pred is\t392433278.33565\t\n",
       "Real is\t392433279\t\n",
       "Diff is\t-0.66434508562088\t\n",
       "\t\n"
      ]
     },
     "execution_count": 1,
     "metadata": {},
     "output_type": "execute_result"
    },
    {
     "data": {
      "text/plain": [
       "Pred is\t392433279.17485\t\n",
       "Real is\t392433161\t\n",
       "Diff is\t118.1748470664\t\n",
       "\t\n"
      ]
     },
     "execution_count": 1,
     "metadata": {},
     "output_type": "execute_result"
    },
    {
     "data": {
      "text/plain": [
       "Pred is\t392433277.97774\t\n",
       "Real is\t392433307\t\n",
       "Diff is\t-29.022262632847\t\n",
       "\t\n"
      ]
     },
     "execution_count": 1,
     "metadata": {},
     "output_type": "execute_result"
    },
    {
     "data": {
      "text/plain": [
       "Pred is\t392433280.30492\t\n",
       "Real is\t392433145\t\n",
       "Diff is\t135.30492097139\t\n",
       "\t\n"
      ]
     },
     "execution_count": 1,
     "metadata": {},
     "output_type": "execute_result"
    },
    {
     "data": {
      "text/plain": [
       "Pred is\t392433274.86869\t\n",
       "Real is\t392433102\t\n",
       "Diff is\t172.86869341135\t\n",
       "\t\n"
      ]
     },
     "execution_count": 1,
     "metadata": {},
     "output_type": "execute_result"
    },
    {
     "data": {
      "text/plain": [
       "Pred is\t392433276.35331\t\n",
       "Real is\t392433328\t\n",
       "Diff is\t-51.64669251442\t\n",
       "\t\n"
      ]
     },
     "execution_count": 1,
     "metadata": {},
     "output_type": "execute_result"
    },
    {
     "data": {
      "text/plain": [
       "Pred is\t392433281.13739\t\n",
       "Real is\t392433121\t\n",
       "Diff is\t160.13739132881\t\n",
       "\t\n"
      ]
     },
     "execution_count": 1,
     "metadata": {},
     "output_type": "execute_result"
    },
    {
     "data": {
      "text/plain": [
       "Pred is\t392433280.73746\t\n",
       "Real is\t392433135\t\n",
       "Diff is\t145.73746204376\t\n",
       "\t\n"
      ]
     },
     "execution_count": 1,
     "metadata": {},
     "output_type": "execute_result"
    },
    {
     "data": {
      "text/plain": [
       "Pred is\t392433277.47688\t\n",
       "Real is\t392433347\t\n",
       "Diff is\t-69.523121654987\t\n",
       "\t\n"
      ]
     },
     "execution_count": 1,
     "metadata": {},
     "output_type": "execute_result"
    },
    {
     "data": {
      "text/plain": [
       "Pred is\t392433276.13906\t\n",
       "Real is\t392433347\t\n",
       "Diff is\t-70.860935986042\t\n",
       "\t\n"
      ]
     },
     "execution_count": 1,
     "metadata": {},
     "output_type": "execute_result"
    },
    {
     "data": {
      "text/plain": [
       "Pred is\t392433278.49131\t\n",
       "Real is\t392433308\t\n",
       "Diff is\t-29.508685469627\t\n",
       "\t\n"
      ]
     },
     "execution_count": 1,
     "metadata": {},
     "output_type": "execute_result"
    },
    {
     "data": {
      "text/plain": [
       "Pred is\t392433279.58189\t\n",
       "Real is\t392433208\t\n",
       "Diff is\t71.58189201355\t\n",
       "\t\n"
      ]
     },
     "execution_count": 1,
     "metadata": {},
     "output_type": "execute_result"
    },
    {
     "data": {
      "text/plain": [
       "Pred is\t392433279.6363\t\n",
       "Real is\t392433347\t\n",
       "Diff is\t-67.363695979118\t\n",
       "\t\n"
      ]
     },
     "execution_count": 1,
     "metadata": {},
     "output_type": "execute_result"
    },
    {
     "data": {
      "text/plain": [
       "Pred is\t392433277.11966\t\n",
       "Real is\t392433405\t\n",
       "Diff is\t-127.88034498692\t\n",
       "\t\n"
      ]
     },
     "execution_count": 1,
     "metadata": {},
     "output_type": "execute_result"
    },
    {
     "data": {
      "text/plain": [
       "Pred is\t392433276.56473\t\n",
       "Real is\t392433367\t\n",
       "Diff is\t-90.435269415379\t\n",
       "\t\n"
      ]
     },
     "execution_count": 1,
     "metadata": {},
     "output_type": "execute_result"
    },
    {
     "data": {
      "text/plain": [
       "Pred is\t392433280.20399\t\n",
       "Real is\t392433223\t\n",
       "Diff is\t57.203985214233\t\n",
       "\t\n"
      ]
     },
     "execution_count": 1,
     "metadata": {},
     "output_type": "execute_result"
    },
    {
     "data": {
      "text/plain": [
       "Pred is\t392433277.81542\t\n",
       "Real is\t392433332\t\n",
       "Diff is\t-54.184583544731\t\n",
       "\t\n"
      ]
     },
     "execution_count": 1,
     "metadata": {},
     "output_type": "execute_result"
    },
    {
     "data": {
      "text/plain": [
       "Pred is\t392433277.65701\t\n",
       "Real is\t392433321\t\n",
       "Diff is\t-43.3429941535\t\n",
       "\t\n"
      ]
     },
     "execution_count": 1,
     "metadata": {},
     "output_type": "execute_result"
    },
    {
     "data": {
      "text/plain": [
       "Pred is\t392433278.25494\t\n",
       "Real is\t392433257\t\n",
       "Diff is\t21.254943847656\t\n",
       "\t\n"
      ]
     },
     "execution_count": 1,
     "metadata": {},
     "output_type": "execute_result"
    },
    {
     "data": {
      "text/plain": [
       "Pred is\t392433279.80051\t\n",
       "Real is\t392433347\t\n",
       "Diff is\t-67.19948977232\t\n",
       "\t\n"
      ]
     },
     "execution_count": 1,
     "metadata": {},
     "output_type": "execute_result"
    },
    {
     "data": {
      "text/plain": [
       "Pred is\t392433277.69372\t\n",
       "Real is\t392433245\t\n",
       "Diff is\t32.693722844124\t\n",
       "\t\n"
      ]
     },
     "execution_count": 1,
     "metadata": {},
     "output_type": "execute_result"
    },
    {
     "data": {
      "text/plain": [
       "Pred is\t392433278.02932\t\n",
       "Real is\t392433247\t\n",
       "Diff is\t31.0293212533\t\n",
       "\t\n"
      ]
     },
     "execution_count": 1,
     "metadata": {},
     "output_type": "execute_result"
    },
    {
     "data": {
      "text/plain": [
       "Pred is\t392433278.08987\t\n",
       "Real is\t392433347\t\n",
       "Diff is\t-68.910134613514\t\n",
       "\t\n"
      ]
     },
     "execution_count": 1,
     "metadata": {},
     "output_type": "execute_result"
    },
    {
     "data": {
      "text/plain": [
       "Pred is\t392433279.30456\t\n",
       "Real is\t392433262\t\n",
       "Diff is\t17.304555594921\t\n",
       "\t\n"
      ]
     },
     "execution_count": 1,
     "metadata": {},
     "output_type": "execute_result"
    },
    {
     "data": {
      "text/plain": [
       "Pred is\t392433276.18714\t\n",
       "Real is\t392433188\t\n",
       "Diff is\t88.187143445015\t\n",
       "\t\n"
      ]
     },
     "execution_count": 1,
     "metadata": {},
     "output_type": "execute_result"
    },
    {
     "data": {
      "text/plain": [
       "Pred is\t392433280.71063\t\n",
       "Real is\t392433328\t\n",
       "Diff is\t-47.289371907711\t\n",
       "\t\n"
      ]
     },
     "execution_count": 1,
     "metadata": {},
     "output_type": "execute_result"
    },
    {
     "data": {
      "text/plain": [
       "Pred is\t392433277.07804\t\n",
       "Real is\t392433385\t\n",
       "Diff is\t-107.92196428776\t\n",
       "\t\n"
      ]
     },
     "execution_count": 1,
     "metadata": {},
     "output_type": "execute_result"
    },
    {
     "data": {
      "text/plain": [
       "Pred is\t392433277.63174\t\n",
       "Real is\t392433252\t\n",
       "Diff is\t25.631735920906\t\n",
       "\t\n"
      ]
     },
     "execution_count": 1,
     "metadata": {},
     "output_type": "execute_result"
    },
    {
     "data": {
      "text/plain": [
       "Pred is\t392433274.31694\t\n",
       "Real is\t392433305\t\n",
       "Diff is\t-30.683064520359\t\n",
       "\t\n"
      ]
     },
     "execution_count": 1,
     "metadata": {},
     "output_type": "execute_result"
    },
    {
     "data": {
      "text/plain": [
       "Pred is\t392433278.95002\t\n",
       "Real is\t392433188\t\n",
       "Diff is\t90.950023114681\t\n",
       "\t\n"
      ]
     },
     "execution_count": 1,
     "metadata": {},
     "output_type": "execute_result"
    },
    {
     "data": {
      "text/plain": [
       "Pred is\t392433278.10548\t\n",
       "Real is\t392433261\t\n"
      ]
     },
     "execution_count": 1,
     "metadata": {},
     "output_type": "execute_result"
    },
    {
     "data": {
      "text/plain": [
       "Diff is\t17.105477154255\t\n",
       "\t\n"
      ]
     },
     "execution_count": 1,
     "metadata": {},
     "output_type": "execute_result"
    },
    {
     "data": {
      "text/plain": [
       "Pred is\t392433281.01208\t\n",
       "Real is\t392433294\t\n",
       "Diff is\t-12.987916707993\t\n",
       "\t\n"
      ]
     },
     "execution_count": 1,
     "metadata": {},
     "output_type": "execute_result"
    },
    {
     "data": {
      "text/plain": [
       "Pred is\t392433279.92456\t\n",
       "Real is\t392433363\t\n",
       "Diff is\t-83.075436651707\t\n",
       "\t\n"
      ]
     },
     "execution_count": 1,
     "metadata": {},
     "output_type": "execute_result"
    },
    {
     "data": {
      "text/plain": [
       "Pred is\t392433278.96891\t\n",
       "Real is\t392433233\t\n",
       "Diff is\t45.96890848875\t\n",
       "\t\n"
      ]
     },
     "execution_count": 1,
     "metadata": {},
     "output_type": "execute_result"
    },
    {
     "data": {
      "text/plain": [
       "Pred is\t392433276.93701\t\n",
       "Real is\t392433248\t\n",
       "Diff is\t28.937012791634\t\n",
       "\t\n"
      ]
     },
     "execution_count": 1,
     "metadata": {},
     "output_type": "execute_result"
    },
    {
     "data": {
      "text/plain": [
       "Pred is\t392433280.30637\t\n",
       "Real is\t392433319\t\n",
       "Diff is\t-38.693631649017\t\n",
       "\t\n"
      ]
     },
     "execution_count": 1,
     "metadata": {},
     "output_type": "execute_result"
    },
    {
     "data": {
      "text/plain": [
       "Pred is\t392433278.15531\t\n",
       "Real is\t392433229\t\n",
       "Diff is\t49.155311942101\t\n",
       "\t\n"
      ]
     },
     "execution_count": 1,
     "metadata": {},
     "output_type": "execute_result"
    },
    {
     "data": {
      "text/plain": [
       "Pred is\t392433278.60333\t\n",
       "Real is\t392433347\t\n",
       "Diff is\t-68.396671950817\t\n",
       "\t\n"
      ]
     },
     "execution_count": 1,
     "metadata": {},
     "output_type": "execute_result"
    },
    {
     "data": {
      "text/plain": [
       "Pred is\t392433280.58387\t\n",
       "Real is\t392433163\t\n",
       "Diff is\t117.58387386799\t\n",
       "\t\n"
      ]
     },
     "execution_count": 1,
     "metadata": {},
     "output_type": "execute_result"
    },
    {
     "data": {
      "text/plain": [
       "Pred is\t392433277.4086\t\n",
       "Real is\t392433347\t\n",
       "Diff is\t-69.591403007507\t\n",
       "\t"
      ]
     },
     "execution_count": 1,
     "metadata": {},
     "output_type": "execute_result"
    },
    {
     "data": {
      "text/plain": [
       "\n"
      ]
     },
     "execution_count": 1,
     "metadata": {},
     "output_type": "execute_result"
    },
    {
     "data": {
      "text/plain": [
       "Pred is\t392433281.0964\t\n",
       "Real is\t392433210\t\n",
       "Diff is\t71.096396863461\t\n",
       "\t\n"
      ]
     },
     "execution_count": 1,
     "metadata": {},
     "output_type": "execute_result"
    },
    {
     "data": {
      "text/plain": [
       "Pred is\t392433277.34476\t\n",
       "Real is\t392433142\t\n",
       "Diff is\t135.34475523233\t\n",
       "\t\n"
      ]
     },
     "execution_count": 1,
     "metadata": {},
     "output_type": "execute_result"
    },
    {
     "data": {
      "text/plain": [
       "Pred is\t392433277.99555\t\n",
       "Real is\t392433248\t\n",
       "Diff is\t29.995551109314\t\n",
       "\t\n"
      ]
     },
     "execution_count": 1,
     "metadata": {},
     "output_type": "execute_result"
    },
    {
     "data": {
      "text/plain": [
       "Pred is\t392433275.25469\t\n",
       "Real is\t392433181\t\n",
       "Diff is\t94.254686832428\t\n",
       "\t\n"
      ]
     },
     "execution_count": 1,
     "metadata": {},
     "output_type": "execute_result"
    },
    {
     "data": {
      "text/plain": [
       "Pred is\t392433278.00324\t\n",
       "Real is\t392433290\t\n",
       "Diff is\t-11.99675565958\t\n",
       "\t\n"
      ]
     },
     "execution_count": 1,
     "metadata": {},
     "output_type": "execute_result"
    },
    {
     "data": {
      "text/plain": [
       "Pred is\t392433280.11265\t\n",
       "Real is\t392433329\t\n",
       "Diff is\t-48.887345194817\t\n",
       "\t\n"
      ]
     },
     "execution_count": 1,
     "metadata": {},
     "output_type": "execute_result"
    },
    {
     "data": {
      "text/plain": [
       "Pred is\t392433276.19873\t\n",
       "Real is\t392433204\t\n",
       "Diff is\t72.198726415634\t\n",
       "\t\n"
      ]
     },
     "execution_count": 1,
     "metadata": {},
     "output_type": "execute_result"
    },
    {
     "data": {
      "text/plain": [
       "Pred is\t392433276.67913\t\n",
       "Real is\t392433245\t\n",
       "Diff is\t31.679133415222\t\n",
       "\t\n"
      ]
     },
     "execution_count": 1,
     "metadata": {},
     "output_type": "execute_result"
    },
    {
     "data": {
      "text/plain": [
       "Pred is\t392433276.09891\t\n",
       "Real is\t392433285\t\n",
       "Diff is\t-8.9010943770409\t\n",
       "\t\n"
      ]
     },
     "execution_count": 1,
     "metadata": {},
     "output_type": "execute_result"
    },
    {
     "data": {
      "text/plain": [
       "Pred is\t392433278.0961\t\n",
       "Real is\t392433347\t\n",
       "Diff is\t-68.903900980949\t\n",
       "\t\n"
      ]
     },
     "execution_count": 1,
     "metadata": {},
     "output_type": "execute_result"
    },
    {
     "data": {
      "text/plain": [
       "Pred is\t392433279.39019\t\n",
       "Real is\t392433130\t\n",
       "Diff is\t149.39018964767\t\n",
       "\t\n"
      ]
     },
     "execution_count": 1,
     "metadata": {},
     "output_type": "execute_result"
    },
    {
     "data": {
      "text/plain": [
       "Pred is\t392433279.45248\t\n",
       "Real is\t392433402\t\n",
       "Diff is\t-122.54752361774\t\n",
       "\t\n"
      ]
     },
     "execution_count": 1,
     "metadata": {},
     "output_type": "execute_result"
    },
    {
     "data": {
      "text/plain": [
       "Pred is\t392433281.64497\t\n",
       "Real is\t392433182\t\n",
       "Diff is\t99.644971609116\t\n",
       "\t\n"
      ]
     },
     "execution_count": 1,
     "metadata": {},
     "output_type": "execute_result"
    },
    {
     "data": {
      "text/plain": [
       "Pred is\t392433278.12134\t\n",
       "Real is\t392433315\t\n",
       "Diff is\t-36.878661990166\t\n",
       "\t\n"
      ]
     },
     "execution_count": 1,
     "metadata": {},
     "output_type": "execute_result"
    },
    {
     "data": {
      "text/plain": [
       "Pred is\t392433278.55455\t\n",
       "Real is\t392433221\t\n",
       "Diff is\t57.554547190666\t\n",
       "\t\n"
      ]
     },
     "execution_count": 1,
     "metadata": {},
     "output_type": "execute_result"
    },
    {
     "data": {
      "text/plain": [
       "Pred is\t392433277.50618\t\n",
       "Real is\t392433347\t\n",
       "Diff is\t-69.493817567825\t\n",
       "\t\n"
      ]
     },
     "execution_count": 1,
     "metadata": {},
     "output_type": "execute_result"
    },
    {
     "data": {
      "text/plain": [
       "Pred is\t392433277.78996\t\n",
       "Real is\t392433160\t\n",
       "Diff is\t117.78995853662\t\n",
       "\t\n"
      ]
     },
     "execution_count": 1,
     "metadata": {},
     "output_type": "execute_result"
    },
    {
     "data": {
      "text/plain": [
       "Pred is\t392433277.6223\t\n",
       "Real is\t392433253\t\n",
       "Diff is\t24.62229770422\t\n",
       "\t\n"
      ]
     },
     "execution_count": 1,
     "metadata": {},
     "output_type": "execute_result"
    },
    {
     "data": {
      "text/plain": [
       "Pred is\t392433277.29296\t\n",
       "Real is\t392433273\t\n",
       "Diff is\t4.29295784235\t\n",
       "\t\n"
      ]
     },
     "execution_count": 1,
     "metadata": {},
     "output_type": "execute_result"
    },
    {
     "data": {
      "text/plain": [
       "Pred is\t392433277.42054\t\n",
       "Real is\t392433383\t\n",
       "Diff is\t-105.57946079969\t\n",
       "\t\n"
      ]
     },
     "execution_count": 1,
     "metadata": {},
     "output_type": "execute_result"
    },
    {
     "data": {
      "text/plain": [
       "Pred is\t392433276.2414\t\n",
       "Real is\t392433341\t\n",
       "Diff is\t-64.758596360683\t\n",
       "\t\n"
      ]
     },
     "execution_count": 1,
     "metadata": {},
     "output_type": "execute_result"
    },
    {
     "data": {
      "text/plain": [
       "Pred is\t392433277.1348\t\n",
       "Real is\t392433242\t\n",
       "Diff is\t35.134799182415\t\n",
       "\t\n"
      ]
     },
     "execution_count": 1,
     "metadata": {},
     "output_type": "execute_result"
    },
    {
     "data": {
      "text/plain": [
       "Pred is\t392433278.1096\t\n",
       "Real is\t392433347\t\n",
       "Diff is\t-68.890401124954\t\n",
       "\t\n"
      ]
     },
     "execution_count": 1,
     "metadata": {},
     "output_type": "execute_result"
    },
    {
     "data": {
      "text/plain": [
       "Pred is\t392433276.27931\t\n",
       "Real is\t392433189\t\n",
       "Diff is\t87.279309570789\t\n",
       "\t\n"
      ]
     },
     "execution_count": 1,
     "metadata": {},
     "output_type": "execute_result"
    },
    {
     "data": {
      "text/plain": [
       "Pred is\t392433273.68373\t\n",
       "Real is\t392433186\t\n",
       "Diff is\t87.683732151985\t\n",
       "\t\n"
      ]
     },
     "execution_count": 1,
     "metadata": {},
     "output_type": "execute_result"
    },
    {
     "data": {
      "text/plain": [
       "Pred is\t392433278.63467\t\n",
       "Real is\t392433393\t\n",
       "Diff is\t-114.36533397436\t\n",
       "\t\n"
      ]
     },
     "execution_count": 1,
     "metadata": {},
     "output_type": "execute_result"
    },
    {
     "data": {
      "text/plain": [
       "Pred is\t392433278.11008\t\n",
       "Real is\t392433130\t\n",
       "Diff is\t148.11008310318\t\n",
       "\t\n"
      ]
     },
     "execution_count": 1,
     "metadata": {},
     "output_type": "execute_result"
    },
    {
     "data": {
      "text/plain": [
       "Pred is\t392433275.29457\t\n",
       "Real is\t392433187\t\n",
       "Diff is\t88.294565677643\t\n",
       "\t\n"
      ]
     },
     "execution_count": 1,
     "metadata": {},
     "output_type": "execute_result"
    },
    {
     "data": {
      "text/plain": [
       "Pred is\t392433280.89453\t\n",
       "Real is\t392433334\t\n",
       "Diff is\t-53.105468213558\t\n",
       "\t\n"
      ]
     },
     "execution_count": 1,
     "metadata": {},
     "output_type": "execute_result"
    },
    {
     "data": {
      "text/plain": [
       "Pred is\t392433276.28524\t\n",
       "Real is\t392433176\t\n",
       "Diff is\t100.28523886204\t\n",
       "\t\n"
      ]
     },
     "execution_count": 1,
     "metadata": {},
     "output_type": "execute_result"
    },
    {
     "data": {
      "text/plain": [
       "Pred is\t392433276.86884\t\n",
       "Real is\t392433341\t\n",
       "Diff is\t-64.131155729294\t\n",
       "\t\n"
      ]
     },
     "execution_count": 1,
     "metadata": {},
     "output_type": "execute_result"
    },
    {
     "data": {
      "text/plain": [
       "Pred is\t392433278.90925\t\n",
       "Real is\t392433341\t\n",
       "Diff is\t-62.090749621391\t\n",
       "\t\n"
      ]
     },
     "execution_count": 1,
     "metadata": {},
     "output_type": "execute_result"
    },
    {
     "data": {
      "text/plain": [
       "Pred is\t392433280.63949\t\n",
       "Real is\t392433229\t\n",
       "Diff is\t51.639488220215\t\n",
       "\t\n"
      ]
     },
     "execution_count": 1,
     "metadata": {},
     "output_type": "execute_result"
    },
    {
     "data": {
      "text/plain": [
       "Pred is\t392433276.90556\t\n",
       "Real is\t392433271\t\n",
       "Diff is\t5.9055571556091\t\n",
       "\t\n"
      ]
     },
     "execution_count": 1,
     "metadata": {},
     "output_type": "execute_result"
    },
    {
     "data": {
      "text/plain": [
       "Pred is\t392433279.61278\t\n",
       "Real is\t392433159\t\n",
       "Diff is\t120.61277574301\t\n",
       "\t\n"
      ]
     },
     "execution_count": 1,
     "metadata": {},
     "output_type": "execute_result"
    },
    {
     "data": {
      "text/plain": [
       "Pred is\t392433277.98948\t\n",
       "Real is\t392433140\t\n",
       "Diff is\t137.98948216438\t\n",
       "\t\n"
      ]
     },
     "execution_count": 1,
     "metadata": {},
     "output_type": "execute_result"
    },
    {
     "data": {
      "text/plain": [
       "Pred is\t392433279.9785\t\n",
       "Real is\t392433103\t\n",
       "Diff is\t176.97849649191\t\n",
       "\t\n"
      ]
     },
     "execution_count": 1,
     "metadata": {},
     "output_type": "execute_result"
    },
    {
     "data": {
      "text/plain": [
       "Pred is\t392433276.25956\t\n",
       "Real is\t392433319\t\n",
       "Diff is\t-42.740440428257\t\n",
       "\t\n"
      ]
     },
     "execution_count": 1,
     "metadata": {},
     "output_type": "execute_result"
    },
    {
     "data": {
      "text/plain": [
       "Pred is\t392433275.84397\t\n",
       "Real is\t392433144\t\n",
       "Diff is\t131.8439656496\t\n",
       "\t\n"
      ]
     },
     "execution_count": 1,
     "metadata": {},
     "output_type": "execute_result"
    },
    {
     "data": {
      "text/plain": [
       "Pred is\t392433281.59244\t\n",
       "Real is\t392433256\t\n",
       "Diff is\t25.592438817024\t\n",
       "\t\n"
      ]
     },
     "execution_count": 1,
     "metadata": {},
     "output_type": "execute_result"
    },
    {
     "data": {
      "text/plain": [
       "Pred is\t392433276.21992\t\n",
       "Real is\t392433314\t\n",
       "Diff is\t-37.780076861382\t\n",
       "\t\n"
      ]
     },
     "execution_count": 1,
     "metadata": {},
     "output_type": "execute_result"
    },
    {
     "data": {
      "text/plain": [
       "Pred is\t392433275.48892\t\n",
       "Real is\t392433118\t\n",
       "Diff is\t157.48891794682\t\n",
       "\t\n"
      ]
     },
     "execution_count": 1,
     "metadata": {},
     "output_type": "execute_result"
    },
    {
     "data": {
      "text/plain": [
       "Pred is\t392433279.97583\t\n",
       "Real is\t392433338\t\n",
       "Diff is\t-58.024170339108\t\n",
       "\t\n"
      ]
     },
     "execution_count": 1,
     "metadata": {},
     "output_type": "execute_result"
    },
    {
     "data": {
      "text/plain": [
       "Pred is\t392433276.21617\t\n",
       "Real is\t392433185\t\n",
       "Diff is\t91.216173291206\t\n",
       "\t\n"
      ]
     },
     "execution_count": 1,
     "metadata": {},
     "output_type": "execute_result"
    },
    {
     "data": {
      "text/plain": [
       "Pred is\t392433278.55467\t\n",
       "Real is\t392433212\t\n",
       "Diff is\t66.55467414856\t\n",
       "\t\n"
      ]
     },
     "execution_count": 1,
     "metadata": {},
     "output_type": "execute_result"
    },
    {
     "data": {
      "text/plain": [
       "Pred is\t392433279.3167\t\n",
       "Real is\t392433142\t\n",
       "Diff is\t137.31669598818\t\n",
       "\t\n"
      ]
     },
     "execution_count": 1,
     "metadata": {},
     "output_type": "execute_result"
    },
    {
     "data": {
      "text/plain": [
       "Pred is\t392433276.31894\t\n",
       "Real is\t392433266\t\n",
       "Diff is\t10.318937897682\t\n",
       "\t\n"
      ]
     },
     "execution_count": 1,
     "metadata": {},
     "output_type": "execute_result"
    },
    {
     "data": {
      "text/plain": [
       "Pred is\t392433276.33244\t\n",
       "Real is\t392433213\t\n",
       "Diff is\t63.332438468933\t\n",
       "\t\n"
      ]
     },
     "execution_count": 1,
     "metadata": {},
     "output_type": "execute_result"
    },
    {
     "data": {
      "text/plain": [
       "Pred is\t392433278.13801\t\n",
       "Real is\t392433347\t\n",
       "Diff is\t-68.861992895603\t\n",
       "\t\n"
      ]
     },
     "execution_count": 1,
     "metadata": {},
     "output_type": "execute_result"
    },
    {
     "data": {
      "text/plain": [
       "Pred is\t392433276.50979\t\n",
       "Real is\t392433352\t\n",
       "Diff is\t-75.4902125597\t\n",
       "\t\n"
      ]
     },
     "execution_count": 1,
     "metadata": {},
     "output_type": "execute_result"
    },
    {
     "data": {
      "text/plain": [
       "Pred is\t392433278.94426\t\n",
       "Real is\t392433370\t\n",
       "Diff is\t-91.055743873119\t\n",
       "\t\n"
      ]
     },
     "execution_count": 1,
     "metadata": {},
     "output_type": "execute_result"
    },
    {
     "data": {
      "text/plain": [
       "Pred is\t392433276.47859\t\n",
       "Real is\t392433347\t\n",
       "Diff is\t-70.521409332752\t\n",
       "\t\n"
      ]
     },
     "execution_count": 1,
     "metadata": {},
     "output_type": "execute_result"
    },
    {
     "data": {
      "text/plain": [
       "Pred is\t392433279.14847\t\n",
       "Real is\t392433224\t\n",
       "Diff is\t55.148466646671\t\n",
       "\t\n"
      ]
     },
     "execution_count": 1,
     "metadata": {},
     "output_type": "execute_result"
    },
    {
     "data": {
      "text/plain": [
       "Pred is\t392433277.82139\t\n",
       "Real is\t392433347\t\n",
       "Diff is\t-69.178609609604\t\n",
       "\t\n"
      ]
     },
     "execution_count": 1,
     "metadata": {},
     "output_type": "execute_result"
    },
    {
     "data": {
      "text/plain": [
       "Pred is\t392433277.88083\t\n",
       "Real is\t392433378\t\n",
       "Diff is\t-100.11916822195\t\n",
       "\t\n"
      ]
     },
     "execution_count": 1,
     "metadata": {},
     "output_type": "execute_result"
    },
    {
     "data": {
      "text/plain": [
       "Pred is\t392433280.59419\t\n",
       "Real is\t392433347\t\n",
       "Diff is\t-66.405805587769\t\n",
       "\t\n"
      ]
     },
     "execution_count": 1,
     "metadata": {},
     "output_type": "execute_result"
    },
    {
     "data": {
      "text/plain": [
       "Pred is\t392433277.11546\t\n",
       "Real is\t392433280\t\n",
       "Diff is\t-2.8845357298851\t\n",
       "\t\n"
      ]
     },
     "execution_count": 1,
     "metadata": {},
     "output_type": "execute_result"
    },
    {
     "data": {
      "text/plain": [
       "Pred is\t392433276.44257\t\n",
       "Real is\t392433194\t\n",
       "Diff is\t82.442567825317\t\n",
       "\t\n"
      ]
     },
     "execution_count": 1,
     "metadata": {},
     "output_type": "execute_result"
    },
    {
     "data": {
      "text/plain": [
       "Pred is\t392433280.75022\t\n",
       "Real is\t392433324\t\n",
       "Diff is\t-43.249780595303\t\n",
       "\t\n"
      ]
     },
     "execution_count": 1,
     "metadata": {},
     "output_type": "execute_result"
    },
    {
     "data": {
      "text/plain": [
       "Pred is\t392433278.64752\t\n",
       "Real is\t392433391\t\n",
       "Diff is\t-112.35247576237\t\n",
       "\t\n"
      ]
     },
     "execution_count": 1,
     "metadata": {},
     "output_type": "execute_result"
    },
    {
     "data": {
      "text/plain": [
       "Pred is\t392433277.11444\t\n",
       "Real is\t392433410\t\n",
       "Diff is\t-132.88555651903\t\n",
       "\t\n"
      ]
     },
     "execution_count": 1,
     "metadata": {},
     "output_type": "execute_result"
    },
    {
     "data": {
      "text/plain": [
       "Pred is\t392433278.75262\t\n",
       "Real is\t392433355\t\n",
       "Diff is\t-76.247377574444\t\n",
       "\t\n"
      ]
     },
     "execution_count": 1,
     "metadata": {},
     "output_type": "execute_result"
    },
    {
     "data": {
      "text/plain": [
       "Pred is\t392433277.86784\t\n",
       "Real is\t392433330\t\n",
       "Diff is\t-52.132158637047\t\n",
       "\t\n"
      ]
     },
     "execution_count": 1,
     "metadata": {},
     "output_type": "execute_result"
    },
    {
     "data": {
      "text/plain": [
       "Pred is\t392433275.54906\t\n",
       "Real is\t392433263\t\n",
       "Diff is\t12.549059510231\t\n",
       "\t\n"
      ]
     },
     "execution_count": 1,
     "metadata": {},
     "output_type": "execute_result"
    },
    {
     "data": {
      "text/plain": [
       "Pred is\t392433277.81515\t\n",
       "Real is\t392433347\t\n",
       "Diff is\t-69.184846043587\t\n",
       "\t\n"
      ]
     },
     "execution_count": 1,
     "metadata": {},
     "output_type": "execute_result"
    },
    {
     "data": {
      "text/plain": [
       "Pred is\t392433274.82311\t\n",
       "Real is\t392433223\t\n",
       "Diff is\t51.823108971119\t\n",
       "\t\n"
      ]
     },
     "execution_count": 1,
     "metadata": {},
     "output_type": "execute_result"
    },
    {
     "data": {
      "text/plain": [
       "Pred is\t392433277.41884\t\n",
       "Real is\t392433219\t\n",
       "Diff is\t58.418842315674\t\n",
       "\t\n"
      ]
     },
     "execution_count": 1,
     "metadata": {},
     "output_type": "execute_result"
    },
    {
     "data": {
      "text/plain": [
       "Pred is\t392433277.37416\t\n",
       "Real is\t392433185\t\n",
       "Diff is\t92.374164640903\t\n",
       "\t\n"
      ]
     },
     "execution_count": 1,
     "metadata": {},
     "output_type": "execute_result"
    },
    {
     "data": {
      "text/plain": [
       "Pred is\t392433280.31909\t\n",
       "Real is\t392433343\t\n",
       "Diff is\t"
      ]
     },
     "execution_count": 1,
     "metadata": {},
     "output_type": "execute_result"
    },
    {
     "data": {
      "text/plain": [
       "-62.680910944939\t\n",
       "\t\n"
      ]
     },
     "execution_count": 1,
     "metadata": {},
     "output_type": "execute_result"
    },
    {
     "data": {
      "text/plain": [
       "Pred is\t392433277.79927\t\n",
       "Real is\t392433331\t\n"
      ]
     },
     "execution_count": 1,
     "metadata": {},
     "output_type": "execute_result"
    },
    {
     "data": {
      "text/plain": [
       "Diff is\t-53.200733959675\t\n",
       "\t\n"
      ]
     },
     "execution_count": 1,
     "metadata": {},
     "output_type": "execute_result"
    },
    {
     "data": {
      "text/plain": [
       "Pred is\t392433276.38092\t\n",
       "Real is\t392433247\t\n",
       "Diff is\t29.380915641785\t\n",
       "\t\n"
      ]
     },
     "execution_count": 1,
     "metadata": {},
     "output_type": "execute_result"
    },
    {
     "data": {
      "text/plain": [
       "Pred is\t392433283.25725\t\n",
       "Real is\t392433116\t\n",
       "Diff is\t167.25724697113\t\n",
       "\t\n"
      ]
     },
     "execution_count": 1,
     "metadata": {},
     "output_type": "execute_result"
    },
    {
     "data": {
      "text/plain": [
       "Pred is\t392433278.45761\t\n",
       "Real is\t392433277\t\n",
       "Diff is\t1.4576054215431\t\n",
       "\t\n"
      ]
     },
     "execution_count": 1,
     "metadata": {},
     "output_type": "execute_result"
    },
    {
     "data": {
      "text/plain": [
       "Pred is\t392433276.68387\t\n",
       "Real is\t392433339\t\n",
       "Diff is\t-62.316132724285\t\n",
       "\t\n"
      ]
     },
     "execution_count": 1,
     "metadata": {},
     "output_type": "execute_result"
    },
    {
     "data": {
      "text/plain": [
       "Pred is\t392433277.54316\t\n",
       "Real is\t392433316\t\n",
       "Diff is\t-38.456843137741\t\n",
       "\t\n"
      ]
     },
     "execution_count": 1,
     "metadata": {},
     "output_type": "execute_result"
    },
    {
     "data": {
      "text/plain": [
       "Pred is\t392433276.25008\t\n",
       "Real is\t392433362\t\n",
       "Diff is\t-85.749924480915\t\n",
       "\t\n"
      ]
     },
     "execution_count": 1,
     "metadata": {},
     "output_type": "execute_result"
    },
    {
     "data": {
      "text/plain": [
       "Pred is\t392433278.87034\t\n",
       "Real is\t392433315\t\n",
       "Diff is\t"
      ]
     },
     "execution_count": 1,
     "metadata": {},
     "output_type": "execute_result"
    },
    {
     "data": {
      "text/plain": [
       "-36.12965798378\t\n",
       "\t\n"
      ]
     },
     "execution_count": 1,
     "metadata": {},
     "output_type": "execute_result"
    },
    {
     "data": {
      "text/plain": [
       "Pred is\t392433282.42509\t\n",
       "Real is\t392433135\t\n",
       "Diff is\t147.42509013414\t\n",
       "\t\n"
      ]
     },
     "execution_count": 1,
     "metadata": {},
     "output_type": "execute_result"
    },
    {
     "data": {
      "text/plain": [
       "Pred is\t392433275.84711\t\n",
       "Real is\t392433313\t\n",
       "Diff is\t-37.152886450291\t\n",
       "\t\n"
      ]
     },
     "execution_count": 1,
     "metadata": {},
     "output_type": "execute_result"
    },
    {
     "data": {
      "text/plain": [
       "Pred is\t392433274.28658\t\n",
       "Real is\t392433215\t\n",
       "Diff is\t59.286576509476\t\n",
       "\t\n"
      ]
     },
     "execution_count": 1,
     "metadata": {},
     "output_type": "execute_result"
    },
    {
     "data": {
      "text/plain": [
       "Pred is\t392433276.00977\t\n",
       "Real is\t392433210\t\n",
       "Diff is\t66.009770393372\t\n",
       "\t\n"
      ]
     },
     "execution_count": 1,
     "metadata": {},
     "output_type": "execute_result"
    },
    {
     "data": {
      "text/plain": [
       "Pred is\t392433277.44344\t\n",
       "Real is\t392433139\t\n",
       "Diff is\t138.44343531132\t\n",
       "\t\n"
      ]
     },
     "execution_count": 1,
     "metadata": {},
     "output_type": "execute_result"
    },
    {
     "data": {
      "text/plain": [
       "Pred is\t392433279.50827\t\n",
       "Real is\t392433214\t\n",
       "Diff is\t65.508269429207\t\n",
       "\t\n"
      ]
     },
     "execution_count": 1,
     "metadata": {},
     "output_type": "execute_result"
    },
    {
     "data": {
      "text/plain": [
       "Pred is\t392433279.97309\t\n",
       "Real is\t392433395\t\n",
       "Diff is\t-115.0269126296\t\n",
       "\t\n"
      ]
     },
     "execution_count": 1,
     "metadata": {},
     "output_type": "execute_result"
    },
    {
     "data": {
      "text/plain": [
       "Pred is\t392433278.24245\t\n",
       "Real is\t392433277\t\n",
       "Diff is\t1.2424477934837\t\n",
       "\t\n"
      ]
     },
     "execution_count": 1,
     "metadata": {},
     "output_type": "execute_result"
    },
    {
     "data": {
      "text/plain": [
       "Pred is\t392433276.81402\t\n"
      ]
     },
     "execution_count": 1,
     "metadata": {},
     "output_type": "execute_result"
    },
    {
     "data": {
      "text/plain": [
       "Real is\t392433187\t\n",
       "Diff is\t89.814024686813\t\n",
       "\t\n"
      ]
     },
     "execution_count": 1,
     "metadata": {},
     "output_type": "execute_result"
    },
    {
     "data": {
      "text/plain": [
       "Pred is\t392433281.10164\t\n",
       "Real is\t392433302\t\n",
       "Diff is\t-20.898363113403\t\n",
       "\t\n"
      ]
     },
     "execution_count": 1,
     "metadata": {},
     "output_type": "execute_result"
    },
    {
     "data": {
      "text/plain": [
       "Pred is\t392433276.66577\t\n",
       "Real is\t392433341\t\n",
       "Diff is\t-64.334228336811\t\n",
       "\t\n"
      ]
     },
     "execution_count": 1,
     "metadata": {},
     "output_type": "execute_result"
    },
    {
     "data": {
      "text/plain": [
       "Pred is\t392433278.23882\t\n",
       "Real is\t392433341\t\n",
       "Diff is\t-62.761183738708\t\n",
       "\t\n"
      ]
     },
     "execution_count": 1,
     "metadata": {},
     "output_type": "execute_result"
    },
    {
     "data": {
      "text/plain": [
       "Pred is\t392433279.78442\t\n",
       "Real is\t392433328\t\n",
       "Diff is\t-48.215576708317\t\n",
       "\t\n"
      ]
     },
     "execution_count": 1,
     "metadata": {},
     "output_type": "execute_result"
    },
    {
     "data": {
      "text/plain": [
       "Pred is\t392433276.97573\t\n",
       "Real is\t392433370\t\n",
       "Diff is\t-93.024273335934\t\n",
       "\t\n"
      ]
     },
     "execution_count": 1,
     "metadata": {},
     "output_type": "execute_result"
    },
    {
     "data": {
      "text/plain": [
       "Pred is\t392433277.45851\t\n",
       "Real is\t392433118\t\n",
       "Diff is\t159.45850920677\t\n",
       "\t\n"
      ]
     },
     "execution_count": 1,
     "metadata": {},
     "output_type": "execute_result"
    },
    {
     "data": {
      "text/plain": [
       "Pred is\t392433277.30927\t\n",
       "Real is\t392433228\t\n",
       "Diff is\t49.309268534184\t\n",
       "\t\n"
      ]
     },
     "execution_count": 1,
     "metadata": {},
     "output_type": "execute_result"
    },
    {
     "data": {
      "text/plain": [
       "Pred is\t392433276.13406\t\n",
       "Real is\t392433175\t\n",
       "Diff is\t101.13405567408\t\n",
       "\t\n"
      ]
     },
     "execution_count": 1,
     "metadata": {},
     "output_type": "execute_result"
    },
    {
     "data": {
      "text/plain": [
       "Pred is\t392433276.99559\t\n",
       "Real is\t392433111\t\n",
       "Diff is\t165.99558722973\t\n",
       "\t\n"
      ]
     },
     "execution_count": 1,
     "metadata": {},
     "output_type": "execute_result"
    },
    {
     "data": {
      "text/plain": [
       "Pred is\t392433276.16547\t\n",
       "Real is\t392433317\t\n",
       "Diff is\t-40.834526598454\t\n",
       "\t\n"
      ]
     },
     "execution_count": 1,
     "metadata": {},
     "output_type": "execute_result"
    },
    {
     "data": {
      "text/plain": [
       "Pred is\t392433279.33452\t\n",
       "Real is\t392433332\t\n",
       "Diff is\t-52.665475189686\t\n",
       "\t\n"
      ]
     },
     "execution_count": 1,
     "metadata": {},
     "output_type": "execute_result"
    },
    {
     "data": {
      "text/plain": [
       "Pred is\t392433279.78075\t\n",
       "Real is\t392433271\t\n",
       "Diff is\t8.7807456851006\t\n",
       "\t\n"
      ]
     },
     "execution_count": 1,
     "metadata": {},
     "output_type": "execute_result"
    },
    {
     "data": {
      "text/plain": [
       "Pred is\t392433277.05969\t\n",
       "Real is\t392433365\t\n",
       "Diff is\t-87.940308749676\t\n",
       "\t\n"
      ]
     },
     "execution_count": 1,
     "metadata": {},
     "output_type": "execute_result"
    },
    {
     "data": {
      "text/plain": [
       "Pred is\t392433275.06901\t\n",
       "Real is\t392433257\t\n",
       "Diff is\t18.069014191628\t\n",
       "\t\n"
      ]
     },
     "execution_count": 1,
     "metadata": {},
     "output_type": "execute_result"
    },
    {
     "data": {
      "text/plain": [
       "Pred is\t392433280.2097\t\n",
       "Real is\t392433225\t\n",
       "Diff is\t55.20970261097\t\n",
       "\t\n"
      ]
     },
     "execution_count": 1,
     "metadata": {},
     "output_type": "execute_result"
    },
    {
     "data": {
      "text/plain": [
       "Pred is\t392433275.87299\t\n",
       "Real is\t392433289\t\n",
       "Diff is\t-13.127009749413\t\n",
       "\t\n"
      ]
     },
     "execution_count": 1,
     "metadata": {},
     "output_type": "execute_result"
    },
    {
     "data": {
      "text/plain": [
       "Pred is\t392433275.26122\t\n",
       "Real is\t392433138\t\n",
       "Diff is\t137.26122230291\t\n",
       "\t\n"
      ]
     },
     "execution_count": 1,
     "metadata": {},
     "output_type": "execute_result"
    },
    {
     "data": {
      "text/plain": [
       "Pred is\t392433280.15048\t\n",
       "Real is\t392433246\t\n",
       "Diff is\t34.150479435921\t\n",
       "\t\n"
      ]
     },
     "execution_count": 1,
     "metadata": {},
     "output_type": "execute_result"
    },
    {
     "data": {
      "text/plain": [
       "Pred is\t392433278.81061\t\n",
       "Real is\t392433323\t\n",
       "Diff is\t-44.189385890961\t\n",
       "\t\n"
      ]
     },
     "execution_count": 1,
     "metadata": {},
     "output_type": "execute_result"
    },
    {
     "data": {
      "text/plain": [
       "Pred is\t392433278.60664\t\n",
       "Real is\t392433339\t\n",
       "Diff is\t-60.393358707428\t\n",
       "\t\n"
      ]
     },
     "execution_count": 1,
     "metadata": {},
     "output_type": "execute_result"
    },
    {
     "data": {
      "text/plain": [
       "Pred is\t392433275.58471\t\n",
       "Real is\t392433240\t\n",
       "Diff is\t35.58470928669\t\n",
       "\t\n"
      ]
     },
     "execution_count": 1,
     "metadata": {},
     "output_type": "execute_result"
    },
    {
     "data": {
      "text/plain": [
       "Pred is\t392433280.82589\t\n",
       "Real is\t392433188\t\n",
       "Diff is\t92.825887799263\t\n",
       "\t\n"
      ]
     },
     "execution_count": 1,
     "metadata": {},
     "output_type": "execute_result"
    },
    {
     "data": {
      "text/plain": [
       "Pred is\t392433279.34443\t\n",
       "Real is\t392433321\t\n",
       "Diff is\t-41.655571937561\t\n",
       "\t\n"
      ]
     },
     "execution_count": 1,
     "metadata": {},
     "output_type": "execute_result"
    },
    {
     "data": {
      "text/plain": [
       "Pred is\t392433277.27296\t\n",
       "Real is\t392433359\t\n",
       "Diff is\t-81.727040171623\t\n",
       "\t\n"
      ]
     },
     "execution_count": 1,
     "metadata": {},
     "output_type": "execute_result"
    },
    {
     "data": {
      "text/plain": [
       "Pred is\t392433276.33242\t\n",
       "Real is\t392433351\t\n",
       "Diff is\t-74.667581379414\t\n",
       "\t\n"
      ]
     },
     "execution_count": 1,
     "metadata": {},
     "output_type": "execute_result"
    },
    {
     "data": {
      "text/plain": [
       "Pred is\t392433278.25243\t\n",
       "Real is\t392433189\t\n",
       "Diff is\t89.252426981926\t\n",
       "\t\n"
      ]
     },
     "execution_count": 1,
     "metadata": {},
     "output_type": "execute_result"
    },
    {
     "data": {
      "text/plain": [
       "Pred is\t392433278.07133\t\n",
       "Real is\t392433293\t\n",
       "Diff is\t-14.928667783737\t\n",
       "\t\n"
      ]
     },
     "execution_count": 1,
     "metadata": {},
     "output_type": "execute_result"
    },
    {
     "data": {
      "text/plain": [
       "Pred is\t392433275.34846\t\n",
       "Real is\t392433111\t\n",
       "Diff is\t164.34845852852\t\n",
       "\t\n"
      ]
     },
     "execution_count": 1,
     "metadata": {},
     "output_type": "execute_result"
    },
    {
     "data": {
      "text/plain": [
       "Pred is\t392433278.55735\t\n",
       "Real is\t392433316\t\n",
       "Diff is\t-37.442654728889\t\n",
       "\t\n"
      ]
     },
     "execution_count": 1,
     "metadata": {},
     "output_type": "execute_result"
    },
    {
     "data": {
      "text/plain": [
       "Pred is\t392433279.31389\t\n",
       "Real is\t392433219\t\n",
       "Diff is\t60.313893973827\t\n",
       "\t\n"
      ]
     },
     "execution_count": 1,
     "metadata": {},
     "output_type": "execute_result"
    },
    {
     "data": {
      "text/plain": [
       "Pred is\t392433278.07962\t\n",
       "Real is\t392433096\t\n",
       "Diff is\t182.07962471247\t\n",
       "\t\n"
      ]
     },
     "execution_count": 1,
     "metadata": {},
     "output_type": "execute_result"
    },
    {
     "data": {
      "text/plain": [
       "Pred is\t392433275.11456\t\n",
       "Real is\t392433326\t\n",
       "Diff is\t-50.885437011719\t\n",
       "\t\n"
      ]
     },
     "execution_count": 1,
     "metadata": {},
     "output_type": "execute_result"
    },
    {
     "data": {
      "text/plain": [
       "Pred is\t392433277.844\t\n"
      ]
     },
     "execution_count": 1,
     "metadata": {},
     "output_type": "execute_result"
    },
    {
     "data": {
      "text/plain": [
       "Real is\t392433374\t\n",
       "Diff is\t-96.156001746655\t\n",
       "\t\n"
      ]
     },
     "execution_count": 1,
     "metadata": {},
     "output_type": "execute_result"
    },
    {
     "data": {
      "text/plain": [
       "Pred is\t392433281.13899\t\n",
       "Real is\t392433185\t\n",
       "Diff is\t96.138994693756\t\n",
       "\t\n"
      ]
     },
     "execution_count": 1,
     "metadata": {},
     "output_type": "execute_result"
    },
    {
     "data": {
      "text/plain": [
       "Pred is\t392433278.99154\t\n",
       "Real is\t392433347\t\n",
       "Diff is\t-68.008464515209\t\n",
       "\t\n"
      ]
     },
     "execution_count": 1,
     "metadata": {},
     "output_type": "execute_result"
    },
    {
     "data": {
      "text/plain": [
       "Pred is\t392433277.23665\t\n",
       "Real is\t392433334\t\n",
       "Diff is\t-56.76334798336\t\n",
       "\t\n"
      ]
     },
     "execution_count": 1,
     "metadata": {},
     "output_type": "execute_result"
    },
    {
     "data": {
      "text/plain": [
       "Pred is\t392433274.89587\t\n",
       "Real is\t392433247\t\n",
       "Diff is\t27.89587020874\t\n",
       "\t\n"
      ]
     },
     "execution_count": 1,
     "metadata": {},
     "output_type": "execute_result"
    },
    {
     "data": {
      "text/plain": [
       "Pred is\t392433274.90369\t\n",
       "Real is\t392433268\t\n",
       "Diff is\t6.9036889672279\t\n",
       "\t\n"
      ]
     },
     "execution_count": 1,
     "metadata": {},
     "output_type": "execute_result"
    },
    {
     "data": {
      "text/plain": [
       "Pred is\t392433283.29854\t\n",
       "Real is\t392433310\t\n",
       "Diff is\t-26.701461136341\t\n",
       "\t\n"
      ]
     },
     "execution_count": 1,
     "metadata": {},
     "output_type": "execute_result"
    },
    {
     "data": {
      "text/plain": [
       "Pred is\t392433281.65303\t\n",
       "Real is\t392433325\t\n",
       "Diff is\t-43.346966207027\t\n",
       "\t\n"
      ]
     },
     "execution_count": 1,
     "metadata": {},
     "output_type": "execute_result"
    },
    {
     "data": {
      "text/plain": [
       "Pred is\t392433276.56176\t\n",
       "Real is\t392433347\t\n",
       "Diff is\t-70.438236474991\t\n",
       "\t\n"
      ]
     },
     "execution_count": 1,
     "metadata": {},
     "output_type": "execute_result"
    },
    {
     "data": {
      "text/plain": [
       "Pred is\t392433278.61016\t\n",
       "Real is\t392433389\t\n"
      ]
     },
     "execution_count": 1,
     "metadata": {},
     "output_type": "execute_result"
    },
    {
     "data": {
      "text/plain": [
       "Diff is\t-110.38983887434\t\n",
       "\t\n"
      ]
     },
     "execution_count": 1,
     "metadata": {},
     "output_type": "execute_result"
    },
    {
     "data": {
      "text/plain": [
       "Pred is\t392433281.40696\t\n",
       "Real is\t392433094\t\n",
       "Diff is\t187.40696197748\t\n",
       "\t\n"
      ]
     },
     "execution_count": 1,
     "metadata": {},
     "output_type": "execute_result"
    },
    {
     "data": {
      "text/plain": [
       "Pred is\t392433277.05906\t\n",
       "Real is\t392433316\t\n",
       "Diff is\t-38.940941751003\t\n",
       "\t\n"
      ]
     },
     "execution_count": 1,
     "metadata": {},
     "output_type": "execute_result"
    },
    {
     "data": {
      "text/plain": [
       "Pred is\t392433276.4603\t\n",
       "Real is\t392433311\t\n",
       "Diff is\t-34.539698064327\t\n",
       "\t\n"
      ]
     },
     "execution_count": 1,
     "metadata": {},
     "output_type": "execute_result"
    },
    {
     "data": {
      "text/plain": [
       "Pred is\t392433278.52584\t\n",
       "Real is\t392433268\t\n",
       "Diff is\t10.525835156441\t\n",
       "\t\n"
      ]
     },
     "execution_count": 1,
     "metadata": {},
     "output_type": "execute_result"
    },
    {
     "data": {
      "text/plain": [
       "Pred is\t392433281.31525\t\n",
       "Real is\t392433298\t\n",
       "Diff is\t-16.684745848179\t\n",
       "\t\n"
      ]
     },
     "execution_count": 1,
     "metadata": {},
     "output_type": "execute_result"
    },
    {
     "data": {
      "text/plain": [
       "Pred is\t392433277.41325\t\n",
       "Real is\t392433310\t\n",
       "Diff is\t-32.586748957634\t\n",
       "\t\n"
      ]
     },
     "execution_count": 1,
     "metadata": {},
     "output_type": "execute_result"
    },
    {
     "data": {
      "text/plain": [
       "Pred is\t392433279.64364\t\n",
       "Real is\t392433178\t\n",
       "Diff is\t101.64364302158\t\n",
       "\t\n"
      ]
     },
     "execution_count": 1,
     "metadata": {},
     "output_type": "execute_result"
    },
    {
     "data": {
      "text/plain": [
       "Pred is\t392433283.49355\t\n",
       "Real is\t392433300\t\n",
       "Diff is\t-16.506452620029\t\n",
       "\t\n"
      ]
     },
     "execution_count": 1,
     "metadata": {},
     "output_type": "execute_result"
    },
    {
     "data": {
      "text/plain": [
       "Pred is\t392433279.55642\t\n",
       "Real is\t392433270\t\n",
       "Diff is\t9.5564202070236\t\n",
       "\t\n"
      ]
     },
     "execution_count": 1,
     "metadata": {},
     "output_type": "execute_result"
    },
    {
     "data": {
      "text/plain": [
       "Pred is\t392433273.26996\t\n",
       "Real is\t392433341\t\n",
       "Diff is\t-67.73004424572\t\n",
       "\t\n"
      ]
     },
     "execution_count": 1,
     "metadata": {},
     "output_type": "execute_result"
    },
    {
     "data": {
      "text/plain": [
       "Pred is\t392433275.26743\t\n",
       "Real is\t392433371\t\n",
       "Diff is\t-95.732570111752\t\n",
       "\t\n"
      ]
     },
     "execution_count": 1,
     "metadata": {},
     "output_type": "execute_result"
    },
    {
     "data": {
      "text/plain": [
       "Pred is\t392433278.50993\t\n",
       "Real is\t392433244\t\n",
       "Diff is\t34.509932816029\t\n",
       "\t\n"
      ]
     },
     "execution_count": 1,
     "metadata": {},
     "output_type": "execute_result"
    },
    {
     "data": {
      "text/plain": [
       "Pred is\t392433278.31278\t\n",
       "Real is\t392433228\t\n",
       "Diff is\t50.312780022621\t\n",
       "\t\n"
      ]
     },
     "execution_count": 1,
     "metadata": {},
     "output_type": "execute_result"
    },
    {
     "data": {
      "text/plain": [
       "Pred is\t392433277.57434\t\n",
       "Real is\t392433296\t\n",
       "Diff is\t-18.425656974316\t\n",
       "\t\n"
      ]
     },
     "execution_count": 1,
     "metadata": {},
     "output_type": "execute_result"
    },
    {
     "data": {
      "text/plain": [
       "Pred is\t392433277.75218\t\n",
       "Real is\t392433308\t\n",
       "Diff is\t-30.24781614542\t\n",
       "\t\n"
      ]
     },
     "execution_count": 1,
     "metadata": {},
     "output_type": "execute_result"
    },
    {
     "data": {
      "text/plain": [
       "Pred is\t392433277.74132\t\n",
       "Real is\t392433101\t\n",
       "Diff is\t176.74132055044\t\n",
       "\t\n"
      ]
     },
     "execution_count": 1,
     "metadata": {},
     "output_type": "execute_result"
    },
    {
     "data": {
      "text/plain": [
       "Pred is\t392433282.16245\t\n",
       "Real is\t392433283\t\n",
       "Diff is\t-0.83755099773407\t\n",
       "\t\n"
      ]
     },
     "execution_count": 1,
     "metadata": {},
     "output_type": "execute_result"
    },
    {
     "data": {
      "text/plain": [
       "Pred is\t392433276.57837\t\n",
       "Real is\t392433267\t\n",
       "Diff is\t9.5783712267876\t\n",
       "\t\n"
      ]
     },
     "execution_count": 1,
     "metadata": {},
     "output_type": "execute_result"
    },
    {
     "data": {
      "text/plain": [
       "Pred is\t392433277.6641\t\n",
       "Real is\t392433261\t\n",
       "Diff is\t16.664104282856\t\n",
       "\t\n"
      ]
     },
     "execution_count": 1,
     "metadata": {},
     "output_type": "execute_result"
    },
    {
     "data": {
      "text/plain": [
       "Pred is\t392433278.7091\t\n",
       "Real is\t392433289\t\n",
       "Diff is\t-10.290897011757\t\n",
       "\t\n"
      ]
     },
     "execution_count": 1,
     "metadata": {},
     "output_type": "execute_result"
    },
    {
     "data": {
      "text/plain": [
       "Pred is\t392433275.81236\t\n",
       "Real is\t392433223\t\n",
       "Diff is\t52.812362372875\t\n",
       "\t\n"
      ]
     },
     "execution_count": 1,
     "metadata": {},
     "output_type": "execute_result"
    },
    {
     "data": {
      "text/plain": [
       "Pred is\t392433282.06048\t\n",
       "Real is\t392433232\t\n",
       "Diff is\t50.060476243496\t\n",
       "\t\n"
      ]
     },
     "execution_count": 1,
     "metadata": {},
     "output_type": "execute_result"
    },
    {
     "data": {
      "text/plain": [
       "Pred is\t392433275.14901\t\n",
       "Real is\t392433304\t\n",
       "Diff is\t-28.85099029541\t\n",
       "\t\n"
      ]
     },
     "execution_count": 1,
     "metadata": {},
     "output_type": "execute_result"
    },
    {
     "data": {
      "text/plain": [
       "Pred is\t392433275.99704\t\n",
       "Real is\t392433346\t\n",
       "Diff is\t-70.002961814404\t\n",
       "\t\n"
      ]
     },
     "execution_count": 1,
     "metadata": {},
     "output_type": "execute_result"
    },
    {
     "data": {
      "text/plain": [
       "Pred is\t392433279.42389\t\n",
       "Real is\t392433298\t\n",
       "Diff is\t-18.576108932495\t\n",
       "\t\n"
      ]
     },
     "execution_count": 1,
     "metadata": {},
     "output_type": "execute_result"
    },
    {
     "data": {
      "text/plain": [
       "Pred is\t392433277.24672\t\n",
       "Real is\t392433239\t\n",
       "Diff is\t38.246724784374\t\n",
       "\t\n"
      ]
     },
     "execution_count": 1,
     "metadata": {},
     "output_type": "execute_result"
    },
    {
     "data": {
      "text/plain": [
       "Pred is\t392433280.28516\t\n",
       "Real is\t392433203\t\n",
       "Diff is\t77.285160183907\t\n",
       "\t\n"
      ]
     },
     "execution_count": 1,
     "metadata": {},
     "output_type": "execute_result"
    },
    {
     "data": {
      "text/plain": [
       "Pred is\t392433278.783\t\n",
       "Real is\t392433219\t\n",
       "Diff is\t59.783004045486\t\n",
       "\t\n"
      ]
     },
     "execution_count": 1,
     "metadata": {},
     "output_type": "execute_result"
    },
    {
     "data": {
      "text/plain": [
       "Pred is\t392433280.16373\t\n",
       "Real is\t392433345\t\n",
       "Diff is\t-64.836265861988\t\n",
       "\t\n"
      ]
     },
     "execution_count": 1,
     "metadata": {},
     "output_type": "execute_result"
    },
    {
     "data": {
      "text/plain": [
       "Pred is\t392433275.42458\t\n",
       "Real is\t392433215\t\n",
       "Diff is\t60.424576342106\t\n",
       "\t\n"
      ]
     },
     "execution_count": 1,
     "metadata": {},
     "output_type": "execute_result"
    },
    {
     "data": {
      "text/plain": [
       "Pred is\t392433278.19044\t\n",
       "Real is\t392433189\t\n",
       "Diff is\t89.190438210964\t\n",
       "\t\n"
      ]
     },
     "execution_count": 1,
     "metadata": {},
     "output_type": "execute_result"
    },
    {
     "data": {
      "text/plain": [
       "Pred is\t392433278.16873\t\n",
       "Real is\t392433358\t\n",
       "Diff is\t-79.83126860857\t\n",
       "\t\n"
      ]
     },
     "execution_count": 1,
     "metadata": {},
     "output_type": "execute_result"
    },
    {
     "data": {
      "text/plain": [
       "Pred is\t392433280.4897\t\n",
       "Real is\t392433321\t\n",
       "Diff is\t-40.510299026966\t\n",
       "\t\n"
      ]
     },
     "execution_count": 1,
     "metadata": {},
     "output_type": "execute_result"
    },
    {
     "data": {
      "text/plain": [
       "Pred is\t392433278.93789\t\n",
       "Real is\t392433151\t\n",
       "Diff is\t127.93788677454\t\n",
       "\t\n"
      ]
     },
     "execution_count": 1,
     "metadata": {},
     "output_type": "execute_result"
    },
    {
     "data": {
      "text/plain": [
       "Pred is\t392433278.81395\t\n",
       "Real is\t392433116\t\n",
       "Diff is\t162.81394696236\t\n",
       "\t\n"
      ]
     },
     "execution_count": 1,
     "metadata": {},
     "output_type": "execute_result"
    },
    {
     "data": {
      "text/plain": [
       "Pred is\t392433276.578\t\n",
       "Real is\t392433116\t\n",
       "Diff is\t160.57800066471\t\n",
       "\t\n"
      ]
     },
     "execution_count": 1,
     "metadata": {},
     "output_type": "execute_result"
    },
    {
     "data": {
      "text/plain": [
       "Pred is\t392433278.26162\t\n",
       "Real is\t392433226\t\n",
       "Diff is\t52.261615455151\t\n",
       "\t\n"
      ]
     },
     "execution_count": 1,
     "metadata": {},
     "output_type": "execute_result"
    },
    {
     "data": {
      "text/plain": [
       "Pred is\t392433277.74073\t\n",
       "Real is\t392433347\t\n",
       "Diff is\t-69.259272933006\t\n",
       "\t\n"
      ]
     },
     "execution_count": 1,
     "metadata": {},
     "output_type": "execute_result"
    },
    {
     "data": {
      "text/plain": [
       "Pred is\t392433278.3305\t\n",
       "Real is\t392433219\t\n",
       "Diff is\t59.33050352335\t\n",
       "\t\n"
      ]
     },
     "execution_count": 1,
     "metadata": {},
     "output_type": "execute_result"
    },
    {
     "data": {
      "text/plain": [
       "Pred is\t392433274.88209\t\n",
       "Real is\t392433186\t\n",
       "Diff is\t88.882093191147\t\n",
       "\t\n"
      ]
     },
     "execution_count": 1,
     "metadata": {},
     "output_type": "execute_result"
    },
    {
     "data": {
      "text/plain": [
       "Pred is\t392433277.44883\t\n",
       "Real is\t392433358\t\n",
       "Diff is\t-80.551171302795\t\n",
       "\t\n"
      ]
     },
     "execution_count": 1,
     "metadata": {},
     "output_type": "execute_result"
    },
    {
     "data": {
      "text/plain": [
       "Pred is\t392433276.5255\t\n",
       "Real is\t392433322\t\n",
       "Diff is\t-45.47449696064\t\n",
       "\t\n"
      ]
     },
     "execution_count": 1,
     "metadata": {},
     "output_type": "execute_result"
    },
    {
     "data": {
      "text/plain": [
       "Pred is\t392433278.59124\t\n",
       "Real is\t392433347\t\n",
       "Diff is\t-68.408759474754\t\n",
       "\t\n"
      ]
     },
     "execution_count": 1,
     "metadata": {},
     "output_type": "execute_result"
    },
    {
     "data": {
      "text/plain": [
       "Pred is\t392433280.78305\t\n",
       "Real is\t392433179\t\n",
       "Diff is\t101.78304678202\t\n",
       "\t\n"
      ]
     },
     "execution_count": 1,
     "metadata": {},
     "output_type": "execute_result"
    },
    {
     "data": {
      "text/plain": [
       "Pred is\t392433281.50325\t\n",
       "Real is\t392433332\t\n",
       "Diff is\t-50.496745347977\t\n",
       "\t\n"
      ]
     },
     "execution_count": 1,
     "metadata": {},
     "output_type": "execute_result"
    },
    {
     "data": {
      "text/plain": [
       "Pred is\t392433277.67833\t\n",
       "Real is\t392433377\t\n",
       "Diff is\t-99.321672916412\t\n",
       "\t\n"
      ]
     },
     "execution_count": 1,
     "metadata": {},
     "output_type": "execute_result"
    },
    {
     "data": {
      "text/plain": [
       "Pred is\t392433276.96955\t\n",
       "Real is\t392433303\t\n",
       "Diff is\t-26.030452907085\t\n",
       "\t\n"
      ]
     },
     "execution_count": 1,
     "metadata": {},
     "output_type": "execute_result"
    },
    {
     "data": {
      "text/plain": [
       "Pred is\t392433282.50876\t\n",
       "Real is\t392433409\t\n",
       "Diff is\t-126.49124073982\t\n",
       "\t\n"
      ]
     },
     "execution_count": 1,
     "metadata": {},
     "output_type": "execute_result"
    },
    {
     "data": {
      "text/plain": [
       "Pred is\t392433275.99673\t\n",
       "Real is\t392433243\t\n",
       "Diff is\t32.996730029583\t\n",
       "\t\n"
      ]
     },
     "execution_count": 1,
     "metadata": {},
     "output_type": "execute_result"
    },
    {
     "data": {
      "text/plain": [
       "Pred is\t392433279.66497\t\n",
       "Real is\t392433207\t\n",
       "Diff is\t72.664974093437\t\n",
       "\t\n"
      ]
     },
     "execution_count": 1,
     "metadata": {},
     "output_type": "execute_result"
    },
    {
     "data": {
      "text/plain": [
       "Pred is\t392433278.25307\t\n",
       "Real is\t392433378\t\n",
       "Diff is\t-99.746933281422\t\n",
       "\t\n"
      ]
     },
     "execution_count": 1,
     "metadata": {},
     "output_type": "execute_result"
    },
    {
     "data": {
      "text/plain": [
       "Pred is\t392433277.92553\t\n",
       "Real is\t392433347\t\n",
       "Diff is\t-69.074466049671\t\n",
       "\t\n"
      ]
     },
     "execution_count": 1,
     "metadata": {},
     "output_type": "execute_result"
    },
    {
     "data": {
      "text/plain": [
       "Pred is\t392433282.77008\t\n",
       "Real is\t392433312\t\n",
       "Diff is\t-29.229924023151\t\n",
       "\t\n"
      ]
     },
     "execution_count": 1,
     "metadata": {},
     "output_type": "execute_result"
    },
    {
     "data": {
      "text/plain": [
       "Pred is\t392433279.76647\t\n",
       "Real is\t392433340\t\n",
       "Diff is\t-60.233530402184\t\n",
       "\t\n"
      ]
     },
     "execution_count": 1,
     "metadata": {},
     "output_type": "execute_result"
    },
    {
     "data": {
      "text/plain": [
       "Pred is\t392433279.2345\t\n",
       "Real is\t392433349\t\n",
       "Diff is\t-69.765501558781\t\n",
       "\t\n"
      ]
     },
     "execution_count": 1,
     "metadata": {},
     "output_type": "execute_result"
    },
    {
     "data": {
      "text/plain": [
       "Pred is\t392433279.44303\t\n",
       "Real is\t392433160\t\n",
       "Diff is\t119.44303232431\t\n",
       "\t\n"
      ]
     },
     "execution_count": 1,
     "metadata": {},
     "output_type": "execute_result"
    },
    {
     "data": {
      "text/plain": [
       "Pred is\t392433276.46385\t\n",
       "Real is\t392433286\t\n",
       "Diff is\t-9.5361518263817\t\n",
       "\t\n"
      ]
     },
     "execution_count": 1,
     "metadata": {},
     "output_type": "execute_result"
    },
    {
     "data": {
      "text/plain": [
       "Pred is\t392433274.44622\t\n",
       "Real is\t392433284\t\n",
       "Diff is\t-9.553781747818\t\n",
       "\t\n"
      ]
     },
     "execution_count": 1,
     "metadata": {},
     "output_type": "execute_result"
    },
    {
     "data": {
      "text/plain": [
       "Pred is\t392433275.39251\t\n",
       "Real is\t392433341\t\n",
       "Diff is\t-65.607491791248\t\n",
       "\t\n"
      ]
     },
     "execution_count": 1,
     "metadata": {},
     "output_type": "execute_result"
    },
    {
     "data": {
      "text/plain": [
       "Pred is\t392433280.86968\t\n",
       "Real is\t392433131\t\n",
       "Diff is\t149.86967658997\t\n",
       "\t\n"
      ]
     },
     "execution_count": 1,
     "metadata": {},
     "output_type": "execute_result"
    },
    {
     "data": {
      "text/plain": [
       "Pred is\t392433277.48996\t\n",
       "Real is\t392433341\t\n",
       "Diff is\t-63.510040640831\t\n",
       "\t\n"
      ]
     },
     "execution_count": 1,
     "metadata": {},
     "output_type": "execute_result"
    },
    {
     "data": {
      "text/plain": [
       "Pred is\t392433275.63232\t\n",
       "Real is\t392433201\t\n",
       "Diff is\t74.632320940495\t\n",
       "\t\n"
      ]
     },
     "execution_count": 1,
     "metadata": {},
     "output_type": "execute_result"
    },
    {
     "data": {
      "text/plain": [
       "Pred is\t392433279.0209\t\n",
       "Real is\t392433306\t\n",
       "Diff is\t-26.979098081589\t\n",
       "\t\n"
      ]
     },
     "execution_count": 1,
     "metadata": {},
     "output_type": "execute_result"
    },
    {
     "data": {
      "text/plain": [
       "Pred is\t392433278.95761\t\n",
       "Real is\t392433363\t\n",
       "Diff is\t-84.042386293411\t\n",
       "\t\n"
      ]
     },
     "execution_count": 1,
     "metadata": {},
     "output_type": "execute_result"
    },
    {
     "data": {
      "text/plain": [
       "Pred is\t392433277.14477\t\n",
       "Real is\t392433313\t\n",
       "Diff is\t-35.855226576328\t\n",
       "\t\n"
      ]
     },
     "execution_count": 1,
     "metadata": {},
     "output_type": "execute_result"
    },
    {
     "data": {
      "text/plain": [
       "Pred is\t392433278.77291\t\n",
       "Real is\t392433209\t\n",
       "Diff is\t69.772910535336\t\n",
       "\t\n"
      ]
     },
     "execution_count": 1,
     "metadata": {},
     "output_type": "execute_result"
    },
    {
     "data": {
      "text/plain": [
       "Pred is\t392433276.82208\t\n",
       "Real is\t392433249\t\n",
       "Diff is\t27.822079479694\t\n",
       "\t\n"
      ]
     },
     "execution_count": 1,
     "metadata": {},
     "output_type": "execute_result"
    },
    {
     "data": {
      "text/plain": [
       "Pred is\t392433275.94032\t\n",
       "Real is\t392433221\t\n",
       "Diff is\t"
      ]
     },
     "execution_count": 1,
     "metadata": {},
     "output_type": "execute_result"
    },
    {
     "data": {
      "text/plain": [
       "54.940324187279\t\n",
       "\t\n"
      ]
     },
     "execution_count": 1,
     "metadata": {},
     "output_type": "execute_result"
    },
    {
     "data": {
      "text/plain": [
       "Pred is\t392433278.92444\t\n",
       "Real is\t392433362\t\n",
       "Diff is\t-83.075564682484\t\n",
       "\t\n"
      ]
     },
     "execution_count": 1,
     "metadata": {},
     "output_type": "execute_result"
    },
    {
     "data": {
      "text/plain": [
       "Pred is\t392433276.68539\t\n",
       "Real is\t392433341\t\n",
       "Diff is\t-64.314608871937\t\n",
       "\t\n"
      ]
     },
     "execution_count": 1,
     "metadata": {},
     "output_type": "execute_result"
    },
    {
     "data": {
      "text/plain": [
       "Pred is\t392433280.11947\t\n",
       "Real is\t392433412\t\n",
       "Diff is\t-131.88053005934\t\n",
       "\t\n"
      ]
     },
     "execution_count": 1,
     "metadata": {},
     "output_type": "execute_result"
    },
    {
     "data": {
      "text/plain": [
       "Pred is\t392433276.16008\t\n",
       "Real is\t392433229\t\n",
       "Diff is\t47.16008234024\t\n",
       "\t\n"
      ]
     },
     "execution_count": 1,
     "metadata": {},
     "output_type": "execute_result"
    },
    {
     "data": {
      "text/plain": [
       "Pred is\t392433277.42874\t\n",
       "Real is\t392433356\t\n",
       "Diff is\t-78.57126134634\t\n",
       "\t\n"
      ]
     },
     "execution_count": 1,
     "metadata": {},
     "output_type": "execute_result"
    },
    {
     "data": {
      "text/plain": [
       "Pred is\t392433280.42448\t\n",
       "Real is\t392433316\t\n",
       "Diff is\t-35.575521588326\t\n",
       "\t\n"
      ]
     },
     "execution_count": 1,
     "metadata": {},
     "output_type": "execute_result"
    },
    {
     "data": {
      "text/plain": [
       "Pred is\t392433279.78916\t\n",
       "Real is\t392433347\t\n",
       "Diff is\t-67.210835576057\t\n",
       "\t\n"
      ]
     },
     "execution_count": 1,
     "metadata": {},
     "output_type": "execute_result"
    },
    {
     "data": {
      "text/plain": [
       "Pred is\t392433277.31427\t\n",
       "Real is\t392433249\t\n",
       "Diff is\t28.314271569252\t\n",
       "\t\n"
      ]
     },
     "execution_count": 1,
     "metadata": {},
     "output_type": "execute_result"
    },
    {
     "data": {
      "text/plain": [
       "Pred is\t392433277.46416\t\n",
       "Real is\t392433180\t\n",
       "Diff is\t97.464162826538\t\n",
       "\t\n"
      ]
     },
     "execution_count": 1,
     "metadata": {},
     "output_type": "execute_result"
    },
    {
     "data": {
      "text/plain": [
       "Pred is\t392433278.09158\t\n",
       "Real is\t392433272\t\n",
       "Diff is\t6.0915805697441\t\n",
       "\t\n"
      ]
     },
     "execution_count": 1,
     "metadata": {},
     "output_type": "execute_result"
    },
    {
     "data": {
      "text/plain": [
       "Pred is\t392433279.24427\t\n",
       "Real is\t392433341\t\n",
       "Diff is\t-61.755728304386\t\n",
       "\t\n"
      ]
     },
     "execution_count": 1,
     "metadata": {},
     "output_type": "execute_result"
    },
    {
     "data": {
      "text/plain": [
       "Pred is\t392433277.8212\t\n",
       "Real is\t392433186\t\n",
       "Diff is\t91.82119679451\t\n",
       "\t\n"
      ]
     },
     "execution_count": 1,
     "metadata": {},
     "output_type": "execute_result"
    },
    {
     "data": {
      "text/plain": [
       "Pred is\t392433278.96163\t\n",
       "Real is\t392433341\t\n",
       "Diff is\t-62.038369297981\t\n",
       "\t\n"
      ]
     },
     "execution_count": 1,
     "metadata": {},
     "output_type": "execute_result"
    },
    {
     "data": {
      "text/plain": [
       "Pred is\t392433276.70633\t\n",
       "Real is\t392433341\t\n",
       "Diff is\t-64.293674767017\t\n",
       "\t\n"
      ]
     },
     "execution_count": 1,
     "metadata": {},
     "output_type": "execute_result"
    },
    {
     "data": {
      "text/plain": [
       "Pred is\t392433275.60351\t\n",
       "Real is\t392433095\t\n",
       "Diff is\t180.603510499\t\n",
       "\t\n"
      ]
     },
     "execution_count": 1,
     "metadata": {},
     "output_type": "execute_result"
    },
    {
     "data": {
      "text/plain": [
       "Pred is\t392433278.32626\t\n",
       "Real is\t392433322\t\n",
       "Diff is\t-43.673744320869\t\n",
       "\t\n"
      ]
     },
     "execution_count": 1,
     "metadata": {},
     "output_type": "execute_result"
    },
    {
     "data": {
      "text/plain": [
       "Pred is\t392433279.88738\t\n",
       "Real is\t392433183\t\n",
       "Diff is\t96.887381792068\t\n",
       "\t\n"
      ]
     },
     "execution_count": 1,
     "metadata": {},
     "output_type": "execute_result"
    },
    {
     "data": {
      "text/plain": [
       "Pred is\t392433276.84558\t\n",
       "Real is\t392433199\t\n",
       "Diff is\t77.845576882362\t\n",
       "\t\n"
      ]
     },
     "execution_count": 1,
     "metadata": {},
     "output_type": "execute_result"
    },
    {
     "data": {
      "text/plain": [
       "Pred is\t392433278.83872\t\n",
       "Real is\t392433325\t\n",
       "Diff is\t-46.161284863949\t\n",
       "\t\n"
      ]
     },
     "execution_count": 1,
     "metadata": {},
     "output_type": "execute_result"
    },
    {
     "data": {
      "text/plain": [
       "Pred is\t392433280.58911\t\n",
       "Real is\t392433188\t\n",
       "Diff is\t92.589108586311\t\n",
       "\t\n"
      ]
     },
     "execution_count": 1,
     "metadata": {},
     "output_type": "execute_result"
    },
    {
     "data": {
      "text/plain": [
       "Pred is\t392433273.81451\t\n",
       "Real is\t392433336\t\n",
       "Diff is\t-62.18548822403\t\n",
       "\t\n"
      ]
     },
     "execution_count": 1,
     "metadata": {},
     "output_type": "execute_result"
    },
    {
     "data": {
      "text/plain": [
       "Pred is\t"
      ]
     },
     "execution_count": 1,
     "metadata": {},
     "output_type": "execute_result"
    },
    {
     "data": {
      "text/plain": [
       "392433281.4454\t\n",
       "Real is\t392433238\t\n",
       "Diff is\t43.445402741432\t\n",
       "\t\n"
      ]
     },
     "execution_count": 1,
     "metadata": {},
     "output_type": "execute_result"
    },
    {
     "data": {
      "text/plain": [
       "Pred is\t392433278.27167\t\n",
       "Real is\t392433199\t\n",
       "Diff is\t79.271670460701\t\n",
       "\t\n"
      ]
     },
     "execution_count": 1,
     "metadata": {},
     "output_type": "execute_result"
    },
    {
     "data": {
      "text/plain": [
       "Pred is\t392433280.28524\t\n",
       "Real is\t392433283\t\n",
       "Diff is\t-2.7147590517998\t\n",
       "\t\n"
      ]
     },
     "execution_count": 1,
     "metadata": {},
     "output_type": "execute_result"
    },
    {
     "data": {
      "text/plain": [
       "Pred is\t392433281.7775\t\n",
       "Real is\t392433326\t\n",
       "Diff is\t-44.222495913506\t\n",
       "\t\n"
      ]
     },
     "execution_count": 1,
     "metadata": {},
     "output_type": "execute_result"
    },
    {
     "data": {
      "text/plain": [
       "Pred is\t392433277.44247\t\n",
       "Real is\t392433347\t\n",
       "Diff is\t-69.557530760765\t\n",
       "\t\n"
      ]
     },
     "execution_count": 1,
     "metadata": {},
     "output_type": "execute_result"
    },
    {
     "data": {
      "text/plain": [
       "Pred is\t392433278.65665\t\n",
       "Real is\t392433154\t\n",
       "Diff is\t124.65664952993\t\n",
       "\t\n"
      ]
     },
     "execution_count": 1,
     "metadata": {},
     "output_type": "execute_result"
    },
    {
     "data": {
      "text/plain": [
       "Pred is\t392433277.91631\t\n",
       "Real is\t392433231\t\n",
       "Diff is\t46.916311442852\t\n",
       "\t\n"
      ]
     },
     "execution_count": 1,
     "metadata": {},
     "output_type": "execute_result"
    },
    {
     "data": {
      "text/plain": [
       "Pred is\t392433277.56698\t\n",
       "Real is\t392433219\t\n",
       "Diff is\t58.566984713078\t\n",
       "\t\n"
      ]
     },
     "execution_count": 1,
     "metadata": {},
     "output_type": "execute_result"
    },
    {
     "data": {
      "text/plain": [
       "Pred is\t392433279.44701\t\n",
       "Real is\t392433123\t\n",
       "Diff is\t156.44700574875\t\n",
       "\t\n"
      ]
     },
     "execution_count": 1,
     "metadata": {},
     "output_type": "execute_result"
    },
    {
     "data": {
      "text/plain": [
       "Pred is\t392433280.425\t\n",
       "Real is\t392433266\t\n",
       "Diff is\t14.424996435642\t\n",
       "\t\n"
      ]
     },
     "execution_count": 1,
     "metadata": {},
     "output_type": "execute_result"
    },
    {
     "data": {
      "text/plain": [
       "Pred is\t392433278.22837\t\n",
       "Real is\t392433186\t\n",
       "Diff is\t92.228367030621\t\n",
       "\t\n"
      ]
     },
     "execution_count": 1,
     "metadata": {},
     "output_type": "execute_result"
    },
    {
     "data": {
      "text/plain": [
       "Pred is\t392433274.54795\t\n",
       "Real is\t392433107\t\n",
       "Diff is\t167.54794532061\t\n",
       "\t\n"
      ]
     },
     "execution_count": 1,
     "metadata": {},
     "output_type": "execute_result"
    },
    {
     "data": {
      "text/plain": [
       "Pred is\t392433277.51206\t\n",
       "Real is\t392433385\t\n",
       "Diff is\t-107.48793798685\t\n",
       "\t\n"
      ]
     },
     "execution_count": 1,
     "metadata": {},
     "output_type": "execute_result"
    },
    {
     "data": {
      "text/plain": [
       "Pred is\t392433278.19498\t\n",
       "Real is\t392433256\t\n",
       "Diff is\t22.194978415966\t\n",
       "\t\n"
      ]
     },
     "execution_count": 1,
     "metadata": {},
     "output_type": "execute_result"
    },
    {
     "data": {
      "text/plain": [
       "Pred is\t392433273.82379\t\n",
       "Real is\t392433245\t\n",
       "Diff is\t28.82378923893\t\n",
       "\t\n"
      ]
     },
     "execution_count": 1,
     "metadata": {},
     "output_type": "execute_result"
    },
    {
     "data": {
      "text/plain": [
       "Pred is\t392433276.98251\t\n",
       "Real is\t392433207\t\n",
       "Diff is\t69.982512891293\t\n",
       "\t\n"
      ]
     },
     "execution_count": 1,
     "metadata": {},
     "output_type": "execute_result"
    },
    {
     "data": {
      "text/plain": [
       "Pred is\t392433281.36536\t\n",
       "Real is\t392433341\t\n",
       "Diff is\t-59.634639203548\t\n",
       "\t\n"
      ]
     },
     "execution_count": 1,
     "metadata": {},
     "output_type": "execute_result"
    },
    {
     "data": {
      "text/plain": [
       "Pred is\t392433275.49818\t\n",
       "Real is\t392433201\t\n",
       "Diff is\t74.498175919056\t\n",
       "\t\n"
      ]
     },
     "execution_count": 1,
     "metadata": {},
     "output_type": "execute_result"
    },
    {
     "data": {
      "text/plain": [
       "Pred is\t392433277.73615\t\n",
       "Real is\t392433305\t\n",
       "Diff is\t-27.263853907585\t\n",
       "\t\n"
      ]
     },
     "execution_count": 1,
     "metadata": {},
     "output_type": "execute_result"
    },
    {
     "data": {
      "text/plain": [
       "Pred is\t392433277.66633\t\n",
       "Real is\t392433388\t\n",
       "Diff is\t-110.33366990089\t\n",
       "\t\n"
      ]
     },
     "execution_count": 1,
     "metadata": {},
     "output_type": "execute_result"
    },
    {
     "data": {
      "text/plain": [
       "Pred is\t392433278.44813\t\n",
       "Real is\t392433347\t\n",
       "Diff is\t-68.551874518394\t\n",
       "\t\n"
      ]
     },
     "execution_count": 1,
     "metadata": {},
     "output_type": "execute_result"
    },
    {
     "data": {
      "text/plain": [
       "Pred is\t392433279.06878\t\n",
       "Real is\t392433184\t\n",
       "Diff is\t95.068780660629\t\n",
       "\t\n"
      ]
     },
     "execution_count": 1,
     "metadata": {},
     "output_type": "execute_result"
    },
    {
     "data": {
      "text/plain": [
       "Pred is\t392433279.02617\t\n",
       "Real is\t392433347\t\n",
       "Diff is\t-67.973831951618\t\n",
       "\t\n"
      ]
     },
     "execution_count": 1,
     "metadata": {},
     "output_type": "execute_result"
    },
    {
     "data": {
      "text/plain": [
       "Pred is\t392433278.42231\t\n",
       "Real is\t392433265\t\n",
       "Diff is\t13.42230618\t\n",
       "\t\n"
      ]
     },
     "execution_count": 1,
     "metadata": {},
     "output_type": "execute_result"
    },
    {
     "data": {
      "text/plain": [
       "Pred is\t392433278.49953\t\n",
       "Real is\t392433371\t\n",
       "Diff is\t-92.500469565392\t\n",
       "\t\n"
      ]
     },
     "execution_count": 1,
     "metadata": {},
     "output_type": "execute_result"
    },
    {
     "data": {
      "text/plain": [
       "Pred is\t392433281.52337\t\n",
       "Real is\t392433390\t\n",
       "Diff is\t-108.47663211823\t\n",
       "\t\n"
      ]
     },
     "execution_count": 1,
     "metadata": {},
     "output_type": "execute_result"
    },
    {
     "data": {
      "text/plain": [
       "Pred is\t392433278.97625\t\n",
       "Real is\t392433167\t\n",
       "Diff is\t111.97625279427\t\n",
       "\t\n"
      ]
     },
     "execution_count": 1,
     "metadata": {},
     "output_type": "execute_result"
    },
    {
     "data": {
      "text/plain": [
       "Pred is\t392433277.30154\t\n",
       "Real is\t392433397\t\n",
       "Diff is\t-119.69846153259\t\n",
       "\t\n"
      ]
     },
     "execution_count": 1,
     "metadata": {},
     "output_type": "execute_result"
    },
    {
     "data": {
      "text/plain": [
       "Pred is\t392433279.01635\t\n",
       "Real is\t392433276\t\n",
       "Diff is\t3.0163543820381\t\n",
       "\t\n"
      ]
     },
     "execution_count": 1,
     "metadata": {},
     "output_type": "execute_result"
    },
    {
     "data": {
      "text/plain": [
       "Pred is\t392433278.29033\t\n",
       "Real is\t392433343\t\n",
       "Diff is\t-64.709666252136\t\n",
       "\t\n"
      ]
     },
     "execution_count": 1,
     "metadata": {},
     "output_type": "execute_result"
    },
    {
     "data": {
      "text/plain": [
       "Pred is\t392433277.47432\t\n",
       "Real is\t392433242\t\n",
       "Diff is\t35.474317550659\t\n",
       "\t\n"
      ]
     },
     "execution_count": 1,
     "metadata": {},
     "output_type": "execute_result"
    },
    {
     "data": {
      "text/plain": [
       "Pred is\t392433278.45525\t\n",
       "Real is\t392433278\t\n",
       "Diff is\t0.45525169372559\t\n",
       "\t\n"
      ]
     },
     "execution_count": 1,
     "metadata": {},
     "output_type": "execute_result"
    },
    {
     "data": {
      "text/plain": [
       "Pred is\t"
      ]
     },
     "execution_count": 1,
     "metadata": {},
     "output_type": "execute_result"
    },
    {
     "data": {
      "text/plain": [
       "392433278.50449\t\n",
       "Real is\t392433354\t\n",
       "Diff is\t-75.495507597923\t\n",
       "\t\n"
      ]
     },
     "execution_count": 1,
     "metadata": {},
     "output_type": "execute_result"
    },
    {
     "data": {
      "text/plain": [
       "Pred is\t392433275.70849\t\n",
       "Real is\t392433269\t\n",
       "Diff is\t6.7084904909134\t\n",
       "\t\n"
      ]
     },
     "execution_count": 1,
     "metadata": {},
     "output_type": "execute_result"
    },
    {
     "data": {
      "text/plain": [
       "Pred is\t392433278.68166\t\n",
       "Real is\t392433367\t\n",
       "Diff is\t-88.318341970444\t\n",
       "\t\n"
      ]
     },
     "execution_count": 1,
     "metadata": {},
     "output_type": "execute_result"
    },
    {
     "data": {
      "text/plain": [
       "Pred is\t392433278.93217\t\n",
       "Real is\t392433366\t\n",
       "Diff is\t-87.067832648754\t\n",
       "\t\n"
      ]
     },
     "execution_count": 1,
     "metadata": {},
     "output_type": "execute_result"
    },
    {
     "data": {
      "text/plain": [
       "Pred is\t392433278.9067\t\n",
       "Real is\t392433276\t\n",
       "Diff is\t2.9066982865334\t\n",
       "\t\n"
      ]
     },
     "execution_count": 1,
     "metadata": {},
     "output_type": "execute_result"
    },
    {
     "data": {
      "text/plain": [
       "Pred is\t392433278.3298\t\n",
       "Real is\t392433317\t\n",
       "Diff is\t-38.670198023319\t\n",
       "\t\n"
      ]
     },
     "execution_count": 1,
     "metadata": {},
     "output_type": "execute_result"
    },
    {
     "data": {
      "text/plain": [
       "Pred is\t392433278.5079\t\n",
       "Real is\t392433186\t\n",
       "Diff is\t92.507896542549\t\n",
       "\t\n"
      ]
     },
     "execution_count": 1,
     "metadata": {},
     "output_type": "execute_result"
    },
    {
     "data": {
      "text/plain": [
       "Pred is\t392433279.11093\t\n",
       "Real is\t392433130\t\n",
       "Diff is\t149.11092799902\t\n",
       "\t\n"
      ]
     },
     "execution_count": 1,
     "metadata": {},
     "output_type": "execute_result"
    },
    {
     "data": {
      "text/plain": [
       "Pred is\t392433279.54059\t\n",
       "Real is\t392433402\t\n",
       "Diff is\t-122.45940667391\t\n",
       "\t\n"
      ]
     },
     "execution_count": 1,
     "metadata": {},
     "output_type": "execute_result"
    },
    {
     "data": {
      "text/plain": [
       "Pred is\t392433279.66747\t\n",
       "Real is\t392433347\t\n",
       "Diff is\t-67.332530856133\t\n",
       "\t\n"
      ]
     },
     "execution_count": 1,
     "metadata": {},
     "output_type": "execute_result"
    },
    {
     "data": {
      "text/plain": [
       "Pred is\t392433281.77142\t\n",
       "Real is\t392433224\t\n",
       "Diff is\t57.771415472031\t\n",
       "\t\n"
      ]
     },
     "execution_count": 1,
     "metadata": {},
     "output_type": "execute_result"
    },
    {
     "data": {
      "text/plain": [
       "Pred is\t392433279.31774\t\n",
       "Real is\t392433215\t\n",
       "Diff is\t64.317735373974\t\n",
       "\t\n"
      ]
     },
     "execution_count": 1,
     "metadata": {},
     "output_type": "execute_result"
    },
    {
     "data": {
      "text/plain": [
       "Pred is\t392433280.15357\t\n",
       "Real is\t392433341\t\n",
       "Diff is\t-60.846429646015\t\n",
       "\t\n"
      ]
     },
     "execution_count": 1,
     "metadata": {},
     "output_type": "execute_result"
    },
    {
     "data": {
      "text/plain": [
       "Pred is\t392433274.53706\t\n",
       "Real is\t392433347\t\n",
       "Diff is\t-72.462940454483\t\n",
       "\t\n"
      ]
     },
     "execution_count": 1,
     "metadata": {},
     "output_type": "execute_result"
    },
    {
     "data": {
      "text/plain": [
       "Pred is\t392433280.19497\t\n",
       "Real is\t392433234\t\n",
       "Diff is\t46.194968938828\t\n",
       "\t\n"
      ]
     },
     "execution_count": 1,
     "metadata": {},
     "output_type": "execute_result"
    },
    {
     "data": {
      "text/plain": [
       "Pred is\t392433276.65599\t\n",
       "Real is\t392433385\t\n",
       "Diff is\t-108.34400826693\t\n",
       "\t\n"
      ]
     },
     "execution_count": 1,
     "metadata": {},
     "output_type": "execute_result"
    },
    {
     "data": {
      "text/plain": [
       "Pred is\t392433278.01361\t\n",
       "Real is\t392433105\t\n",
       "Diff is\t173.01361382008\t\n",
       "\t\n"
      ]
     },
     "execution_count": 1,
     "metadata": {},
     "output_type": "execute_result"
    },
    {
     "data": {
      "text/plain": [
       "Pred is\t392433278.03352\t\n",
       "Real is\t392433385\t\n",
       "Diff is\t-106.96648484468\t\n",
       "\t\n"
      ]
     },
     "execution_count": 1,
     "metadata": {},
     "output_type": "execute_result"
    },
    {
     "data": {
      "text/plain": [
       "Pred is\t392433278.59355\t\n",
       "Real is\t392433196\t\n",
       "Diff is\t82.593554735184\t\n",
       "\t\n"
      ]
     },
     "execution_count": 1,
     "metadata": {},
     "output_type": "execute_result"
    },
    {
     "data": {
      "text/plain": [
       "Pred is\t392433277.09081\t\n",
       "Real is\t392433276\t\n",
       "Diff is\t1.0908055901527\t\n",
       "\t\n"
      ]
     },
     "execution_count": 1,
     "metadata": {},
     "output_type": "execute_result"
    },
    {
     "data": {
      "text/plain": [
       "Pred is\t392433274.56094\t\n",
       "Real is\t392433341\t\n",
       "Diff is\t-66.439055919647\t\n",
       "\t\n"
      ]
     },
     "execution_count": 1,
     "metadata": {},
     "output_type": "execute_result"
    },
    {
     "data": {
      "text/plain": [
       "Pred is\t392433279.55338\t\n",
       "Real is\t392433251\t\n",
       "Diff is\t28.553376555443\t\n",
       "\t\n"
      ]
     },
     "execution_count": 1,
     "metadata": {},
     "output_type": "execute_result"
    },
    {
     "data": {
      "text/plain": [
       "Pred is\t392433274.96003\t\n",
       "Real is\t392433246\t\n",
       "Diff is\t28.960032701492\t\n",
       "\t\n"
      ]
     },
     "execution_count": 1,
     "metadata": {},
     "output_type": "execute_result"
    },
    {
     "data": {
      "text/plain": [
       "Pred is\t392433281.44129\t\n",
       "Real is\t392433250\t\n",
       "Diff is\t31.441292047501\t\n",
       "\t\n"
      ]
     },
     "execution_count": 1,
     "metadata": {},
     "output_type": "execute_result"
    },
    {
     "data": {
      "text/plain": [
       "Pred is\t392433278.12828\t\n",
       "Real is\t392433347\t\n",
       "Diff is\t-68.871722996235\t\n",
       "\t\n"
      ]
     },
     "execution_count": 1,
     "metadata": {},
     "output_type": "execute_result"
    },
    {
     "data": {
      "text/plain": [
       "Pred is\t392433277.71289\t\n",
       "Real is\t392433245\t\n",
       "Diff is\t32.712892174721\t\n",
       "\t\n"
      ]
     },
     "execution_count": 1,
     "metadata": {},
     "output_type": "execute_result"
    },
    {
     "data": {
      "text/plain": [
       "Pred is\t392433278.45067\t\n",
       "Real is\t392433353\t\n",
       "Diff is\t-74.549331128597\t\n",
       "\t\n"
      ]
     },
     "execution_count": 1,
     "metadata": {},
     "output_type": "execute_result"
    },
    {
     "data": {
      "text/plain": [
       "Pred is\t392433278.42951\t\n",
       "Real is\t392433128\t\n",
       "Diff is\t150.42951220274\t\n",
       "\t\n"
      ]
     },
     "execution_count": 1,
     "metadata": {},
     "output_type": "execute_result"
    },
    {
     "data": {
      "text/plain": [
       "Pred is\t392433277.60046\t\n",
       "Real is\t392433229\t\n",
       "Diff is\t48.600459098816\t\n",
       "\t\n"
      ]
     },
     "execution_count": 1,
     "metadata": {},
     "output_type": "execute_result"
    },
    {
     "data": {
      "text/plain": [
       "Pred is\t392433276.93696\t\n",
       "Real is\t392433195\t\n",
       "Diff is\t81.936964154243\t\n",
       "\t\n"
      ]
     },
     "execution_count": 1,
     "metadata": {},
     "output_type": "execute_result"
    },
    {
     "data": {
      "text/plain": [
       "Pred is\t392433278.78461\t\n",
       "Real is\t392433323\t\n",
       "Diff is\t-44.215386152267\t\n",
       "\t\n"
      ]
     },
     "execution_count": 1,
     "metadata": {},
     "output_type": "execute_result"
    },
    {
     "data": {
      "text/plain": [
       "Pred is\t392433281.05443\t\n",
       "Real is\t392433304\t\n",
       "Diff is\t-22.945570170879\t\n",
       "\t\n"
      ]
     },
     "execution_count": 1,
     "metadata": {},
     "output_type": "execute_result"
    },
    {
     "data": {
      "text/plain": [
       "Pred is\t392433275.92489\t\n",
       "Real is\t392433340\t\n",
       "Diff is\t-64.075111508369\t\n",
       "\t\n"
      ]
     },
     "execution_count": 1,
     "metadata": {},
     "output_type": "execute_result"
    },
    {
     "data": {
      "text/plain": [
       "Pred is\t392433280.49092\t\n",
       "Real is\t392433228\t\n",
       "Diff is\t52.490916788578\t\n",
       "\t\n"
      ]
     },
     "execution_count": 1,
     "metadata": {},
     "output_type": "execute_result"
    },
    {
     "data": {
      "text/plain": [
       "Pred is\t392433276.78368\t\n",
       "Real is\t392433324\t\n",
       "Diff is\t-47.21631616354\t\n",
       "\t\n",
       "Total error is\t69.276021226823\t\n"
      ]
     },
     "execution_count": 1,
     "metadata": {},
     "output_type": "execute_result"
    },
    {
     "data": {
      "text/plain": [
       "current loss = 1.0107435342116\t\n"
      ]
     },
     "execution_count": 1,
     "metadata": {},
     "output_type": "execute_result"
    },
    {
     "data": {
      "text/plain": [
       "Pred is\t392433278.8079\t\n",
       "Real is\t392433363\t\n",
       "Diff is\t-84.192098379135\t\n",
       "\t\n"
      ]
     },
     "execution_count": 1,
     "metadata": {},
     "output_type": "execute_result"
    },
    {
     "data": {
      "text/plain": [
       "Pred is\t392433279.69369\t\n",
       "Real is\t392433365\t\n",
       "Diff is\t-85.306308269501\t\n",
       "\t\n"
      ]
     },
     "execution_count": 1,
     "metadata": {},
     "output_type": "execute_result"
    },
    {
     "data": {
      "text/plain": [
       "Pred is\t392433279.55009\t\n",
       "Real is\t392433269\t\n",
       "Diff is\t10.550094366074\t\n",
       "\t\n"
      ]
     },
     "execution_count": 1,
     "metadata": {},
     "output_type": "execute_result"
    },
    {
     "data": {
      "text/plain": [
       "Pred is\t392433277.49736\t\n",
       "Real is\t392433274\t\n",
       "Diff is\t3.4973615407944\t\n",
       "\t\n"
      ]
     },
     "execution_count": 1,
     "metadata": {},
     "output_type": "execute_result"
    },
    {
     "data": {
      "text/plain": [
       "Pred is\t392433275.88087\t\n",
       "Real is\t392433347\t\n",
       "Diff is\t-71.119134128094\t\n",
       "\t\n"
      ]
     },
     "execution_count": 1,
     "metadata": {},
     "output_type": "execute_result"
    },
    {
     "data": {
      "text/plain": [
       "Pred is\t392433276.95683\t\n",
       "Real is\t392433225\t\n",
       "Diff is\t51.956829547882\t\n",
       "\t\n"
      ]
     },
     "execution_count": 1,
     "metadata": {},
     "output_type": "execute_result"
    },
    {
     "data": {
      "text/plain": [
       "Pred is\t392433278.17365\t\n",
       "Real is\t392433259\t\n",
       "Diff is\t19.173648238182\t\n",
       "\t\n"
      ]
     },
     "execution_count": 1,
     "metadata": {},
     "output_type": "execute_result"
    },
    {
     "data": {
      "text/plain": [
       "Pred is\t392433276.54879\t\n",
       "Real is\t392433361\t\n",
       "Diff is\t-84.451212465763\t\n",
       "\t\n"
      ]
     },
     "execution_count": 1,
     "metadata": {},
     "output_type": "execute_result"
    },
    {
     "data": {
      "text/plain": [
       "Pred is\t392433276.70935\t\n",
       "Real is\t392433380\t\n",
       "Diff is\t-103.2906473875\t\n",
       "\t\n"
      ]
     },
     "execution_count": 1,
     "metadata": {},
     "output_type": "execute_result"
    },
    {
     "data": {
      "text/plain": [
       "Pred is\t392433275.59405\t\n",
       "Real is\t392433107\t\n",
       "Diff is\t168.59405112267\t\n",
       "\t\n"
      ]
     },
     "execution_count": 1,
     "metadata": {},
     "output_type": "execute_result"
    },
    {
     "data": {
      "text/plain": [
       "Pred is\t392433273.18146\t\n",
       "Real is\t392433104\t\n",
       "Diff is\t169.18145704269\t\n",
       "\t\n"
      ]
     },
     "execution_count": 1,
     "metadata": {},
     "output_type": "execute_result"
    },
    {
     "data": {
      "text/plain": [
       "Pred is\t392433276.68577\t\n",
       "Real is\t392433296\t\n",
       "Diff is\t-19.314233422279\t\n",
       "\t\n"
      ]
     },
     "execution_count": 1,
     "metadata": {},
     "output_type": "execute_result"
    },
    {
     "data": {
      "text/plain": [
       "Pred is\t392433277.60706\t\n",
       "Real is\t392433267\t\n",
       "Diff is\t10.607061803341\t\n",
       "\t\n"
      ]
     },
     "execution_count": 1,
     "metadata": {},
     "output_type": "execute_result"
    },
    {
     "data": {
      "text/plain": [
       "Pred is\t392433278.58817\t\n",
       "Real is\t392433347\t\n",
       "Diff is\t-68.411832273006\t\n",
       "\t\n"
      ]
     },
     "execution_count": 1,
     "metadata": {},
     "output_type": "execute_result"
    },
    {
     "data": {
      "text/plain": [
       "Pred is\t392433280.66008\t\n",
       "Real is\t392433294\t\n",
       "Diff is\t-13.339918971062\t\n",
       "\t\n"
      ]
     },
     "execution_count": 1,
     "metadata": {},
     "output_type": "execute_result"
    },
    {
     "data": {
      "text/plain": [
       "Pred is\t392433276.22907\t\n",
       "Real is\t392433190\t\n",
       "Diff is\t86.229070305824\t\n",
       "\t\n"
      ]
     },
     "execution_count": 1,
     "metadata": {},
     "output_type": "execute_result"
    },
    {
     "data": {
      "text/plain": [
       "Pred is\t392433274.64868\t\n",
       "Real is\t392433289\t\n",
       "Diff is\t-14.351319015026\t\n",
       "\t\n"
      ]
     },
     "execution_count": 1,
     "metadata": {},
     "output_type": "execute_result"
    },
    {
     "data": {
      "text/plain": [
       "Pred is\t392433276.34339\t\n",
       "Real is\t392433109\t\n",
       "Diff is\t167.34339439869\t\n",
       "\t\n"
      ]
     },
     "execution_count": 1,
     "metadata": {},
     "output_type": "execute_result"
    },
    {
     "data": {
      "text/plain": [
       "Pred is\t392433278.40736\t\n",
       "Real is\t392433286\t\n",
       "Diff is\t-7.5926421880722\t\n",
       "\t\n"
      ]
     },
     "execution_count": 1,
     "metadata": {},
     "output_type": "execute_result"
    },
    {
     "data": {
      "text/plain": [
       "Pred is\t392433274.34871\t\n",
       "Real is\t392433228\t\n",
       "Diff is\t46.348707556725\t\n",
       "\t\n"
      ]
     },
     "execution_count": 1,
     "metadata": {},
     "output_type": "execute_result"
    },
    {
     "data": {
      "text/plain": [
       "Pred is\t392433278.46955\t\n",
       "Real is\t392433244\t\n",
       "Diff is\t34.469552159309\t\n",
       "\t\n"
      ]
     },
     "execution_count": 1,
     "metadata": {},
     "output_type": "execute_result"
    },
    {
     "data": {
      "text/plain": [
       "Pred is\t392433276.81446\t\n",
       "Real is\t392433313\t\n",
       "Diff is\t-36.185537338257\t\n",
       "\t\n"
      ]
     },
     "execution_count": 1,
     "metadata": {},
     "output_type": "execute_result"
    },
    {
     "data": {
      "text/plain": [
       "Pred is\t392433274.87619\t\n",
       "Real is\t392433281\t\n",
       "Diff is\t-6.1238075494766\t\n",
       "\t\n"
      ]
     },
     "execution_count": 1,
     "metadata": {},
     "output_type": "execute_result"
    },
    {
     "data": {
      "text/plain": [
       "Pred is\t392433280.98941\t\n",
       "Real is\t392433189\t\n",
       "Diff is\t91.989413619041\t\n",
       "\t\n"
      ]
     },
     "execution_count": 1,
     "metadata": {},
     "output_type": "execute_result"
    },
    {
     "data": {
      "text/plain": [
       "Pred is\t392433281.19363\t\n",
       "Real is\t392433299\t\n",
       "Diff is\t-17.806374192238\t\n",
       "\t\n"
      ]
     },
     "execution_count": 1,
     "metadata": {},
     "output_type": "execute_result"
    },
    {
     "data": {
      "text/plain": [
       "Pred is\t392433281.4803\t\n",
       "Real is\t392433145\t\n",
       "Diff is\t136.48030298948\t\n",
       "\t\n"
      ]
     },
     "execution_count": 1,
     "metadata": {},
     "output_type": "execute_result"
    },
    {
     "data": {
      "text/plain": [
       "Pred is\t392433277.97125\t\n",
       "Real is\t392433190\t\n",
       "Diff is\t87.971248269081\t\n",
       "\t\n"
      ]
     },
     "execution_count": 1,
     "metadata": {},
     "output_type": "execute_result"
    },
    {
     "data": {
      "text/plain": [
       "Pred is\t392433277.34798\t\n",
       "Real is\t392433187\t\n",
       "Diff is\t90.347979605198\t\n",
       "\t\n"
      ]
     },
     "execution_count": 1,
     "metadata": {},
     "output_type": "execute_result"
    },
    {
     "data": {
      "text/plain": [
       "Pred is\t392433273.70088\t\n",
       "Real is\t392433228\t\n",
       "Diff is\t45.700875520706\t\n",
       "\t\n"
      ]
     },
     "execution_count": 1,
     "metadata": {},
     "output_type": "execute_result"
    },
    {
     "data": {
      "text/plain": [
       "Pred is\t392433275.56339\t\n",
       "Real is\t392433241\t\n",
       "Diff is\t34.563391566277\t\n",
       "\t\n"
      ]
     },
     "execution_count": 1,
     "metadata": {},
     "output_type": "execute_result"
    },
    {
     "data": {
      "text/plain": [
       "Pred is\t392433286.36213\t\n",
       "Real is\t392433312\t\n",
       "Diff is\t-25.637867867947\t\n",
       "\t\n"
      ]
     },
     "execution_count": 1,
     "metadata": {},
     "output_type": "execute_result"
    },
    {
     "data": {
      "text/plain": [
       "Pred is\t392433276.13328\t\n",
       "Real is\t392433341\t\n",
       "Diff is\t-64.866720974445\t\n",
       "\t\n"
      ]
     },
     "execution_count": 1,
     "metadata": {},
     "output_type": "execute_result"
    },
    {
     "data": {
      "text/plain": [
       "Pred is\t392433274.7727\t\n"
      ]
     },
     "execution_count": 1,
     "metadata": {},
     "output_type": "execute_result"
    },
    {
     "data": {
      "text/plain": [
       "Real is\t392433217\t\n",
       "Diff is\t57.772699296474\t\n",
       "\t\n"
      ]
     },
     "execution_count": 1,
     "metadata": {},
     "output_type": "execute_result"
    },
    {
     "data": {
      "text/plain": [
       "Pred is\t392433280.37994\t\n",
       "Real is\t392433341\t\n",
       "Diff is\t-60.620059490204\t\n",
       "\t\n"
      ]
     },
     "execution_count": 1,
     "metadata": {},
     "output_type": "execute_result"
    },
    {
     "data": {
      "text/plain": [
       "Pred is\t392433280.74176\t\n",
       "Real is\t392433347\t\n",
       "Diff is\t-66.258241117001\t\n",
       "\t\n"
      ]
     },
     "execution_count": 1,
     "metadata": {},
     "output_type": "execute_result"
    },
    {
     "data": {
      "text/plain": [
       "Pred is\t392433278.55593\t\n",
       "Real is\t392433301\t\n",
       "Diff is\t-22.444070756435\t\n",
       "\t\n"
      ]
     },
     "execution_count": 1,
     "metadata": {},
     "output_type": "execute_result"
    },
    {
     "data": {
      "text/plain": [
       "Pred is\t392433273.81704\t\n",
       "Real is\t392433329\t\n",
       "Diff is\t-55.182960152626\t\n",
       "\t\n"
      ]
     },
     "execution_count": 1,
     "metadata": {},
     "output_type": "execute_result"
    },
    {
     "data": {
      "text/plain": [
       "Pred is\t392433276.54833\t\n",
       "Real is\t392433097\t\n",
       "Diff is\t179.54832649231\t\n",
       "\t\n"
      ]
     },
     "execution_count": 1,
     "metadata": {},
     "output_type": "execute_result"
    },
    {
     "data": {
      "text/plain": [
       "Pred is\t392433275.57611\t\n",
       "Real is\t392433341\t\n",
       "Diff is\t-65.423888504505\t\n",
       "\t\n"
      ]
     },
     "execution_count": 1,
     "metadata": {},
     "output_type": "execute_result"
    },
    {
     "data": {
      "text/plain": [
       "Pred is\t392433276.66651\t\n",
       "Real is\t392433239\t\n",
       "Diff is\t37.666505813599\t\n",
       "\t\n"
      ]
     },
     "execution_count": 1,
     "metadata": {},
     "output_type": "execute_result"
    },
    {
     "data": {
      "text/plain": [
       "Pred is\t392433277.5802\t\n",
       "Real is\t392433255\t\n",
       "Diff is\t22.580201506615\t\n",
       "\t\n"
      ]
     },
     "execution_count": 1,
     "metadata": {},
     "output_type": "execute_result"
    },
    {
     "data": {
      "text/plain": [
       "Pred is\t392433278.48188\t\n",
       "Real is\t392433349\t\n",
       "Diff is\t-70.518121957779\t\n",
       "\t\n"
      ]
     },
     "execution_count": 1,
     "metadata": {},
     "output_type": "execute_result"
    },
    {
     "data": {
      "text/plain": [
       "Pred is\t392433276.60353\t\n",
       "Real is\t392433398\t\n",
       "Diff is\t-121.39646607637\t\n",
       "\t\n"
      ]
     },
     "execution_count": 1,
     "metadata": {},
     "output_type": "execute_result"
    },
    {
     "data": {
      "text/plain": [
       "Pred is\t392433279.35986\t\n",
       "Real is\t392433192\t\n",
       "Diff is\t87.359861910343\t\n",
       "\t\n"
      ]
     },
     "execution_count": 1,
     "metadata": {},
     "output_type": "execute_result"
    },
    {
     "data": {
      "text/plain": [
       "Pred is\t392433276.94634\t\n",
       "Real is\t392433347\t\n",
       "Diff is\t-70.053664088249\t\n",
       "\t\n"
      ]
     },
     "execution_count": 1,
     "metadata": {},
     "output_type": "execute_result"
    },
    {
     "data": {
      "text/plain": [
       "Pred is\t392433279.4539\t\n",
       "Real is\t392433240\t\n",
       "Diff is\t"
      ]
     },
     "execution_count": 1,
     "metadata": {},
     "output_type": "execute_result"
    },
    {
     "data": {
      "text/plain": [
       "39.453897416592\t\n",
       "\t\n"
      ]
     },
     "execution_count": 1,
     "metadata": {},
     "output_type": "execute_result"
    },
    {
     "data": {
      "text/plain": [
       "Pred is\t392433279.17494\t\n",
       "Real is\t392433347\t\n",
       "Diff is\t-67.825063228607\t\n",
       "\t\n"
      ]
     },
     "execution_count": 1,
     "metadata": {},
     "output_type": "execute_result"
    },
    {
     "data": {
      "text/plain": [
       "Pred is\t392433276.2845\t\n",
       "Real is\t392433148\t\n",
       "Diff is\t128.28449589014\t\n",
       "\t\n"
      ]
     },
     "execution_count": 1,
     "metadata": {},
     "output_type": "execute_result"
    },
    {
     "data": {
      "text/plain": [
       "Pred is\t392433276.71672\t\n",
       "Real is\t392433236\t\n",
       "Diff is\t40.716721892357\t\n",
       "\t\n"
      ]
     },
     "execution_count": 1,
     "metadata": {},
     "output_type": "execute_result"
    },
    {
     "data": {
      "text/plain": [
       "Pred is\t392433279.14931\t\n",
       "Real is\t392433219\t\n",
       "Diff is\t60.14931422472\t\n",
       "\t\n"
      ]
     },
     "execution_count": 1,
     "metadata": {},
     "output_type": "execute_result"
    },
    {
     "data": {
      "text/plain": [
       "Pred is\t392433278.04089\t\n",
       "Real is\t392433245\t\n",
       "Diff is\t33.040888488293\t\n",
       "\t\n"
      ]
     },
     "execution_count": 1,
     "metadata": {},
     "output_type": "execute_result"
    },
    {
     "data": {
      "text/plain": [
       "Pred is\t392433276.51732\t\n",
       "Real is\t392433347\t\n",
       "Diff is\t-70.482675254345\t\n",
       "\t\n"
      ]
     },
     "execution_count": 1,
     "metadata": {},
     "output_type": "execute_result"
    },
    {
     "data": {
      "text/plain": [
       "Pred is\t392433274.88445\t\n",
       "Real is\t392433347\t\n"
      ]
     },
     "execution_count": 1,
     "metadata": {},
     "output_type": "execute_result"
    },
    {
     "data": {
      "text/plain": [
       "Diff is\t-72.115545511246\t\n",
       "\t\n"
      ]
     },
     "execution_count": 1,
     "metadata": {},
     "output_type": "execute_result"
    },
    {
     "data": {
      "text/plain": [
       "Pred is\t392433275.85713\t\n",
       "Real is\t392433196\t\n",
       "Diff is\t79.857125103474\t\n",
       "\t\n"
      ]
     },
     "execution_count": 1,
     "metadata": {},
     "output_type": "execute_result"
    },
    {
     "data": {
      "text/plain": [
       "Pred is\t392433281.9026\t\n",
       "Real is\t392433370\t\n",
       "Diff is\t-88.097395062447\t\n",
       "\t\n"
      ]
     },
     "execution_count": 1,
     "metadata": {},
     "output_type": "execute_result"
    },
    {
     "data": {
      "text/plain": [
       "Pred is\t392433279.11329\t\n",
       "Real is\t392433366\t\n",
       "Diff is\t-86.886713981628\t\n",
       "\t\n"
      ]
     },
     "execution_count": 1,
     "metadata": {},
     "output_type": "execute_result"
    },
    {
     "data": {
      "text/plain": [
       "Pred is\t392433279.15583\t\n",
       "Real is\t392433307\t\n",
       "Diff is\t-27.844168782234\t\n",
       "\t\n"
      ]
     },
     "execution_count": 1,
     "metadata": {},
     "output_type": "execute_result"
    },
    {
     "data": {
      "text/plain": [
       "Pred is\t392433276.16362\t\n",
       "Real is\t392433283\t\n",
       "Diff is\t-6.8363790512085\t\n",
       "\t\n"
      ]
     },
     "execution_count": 1,
     "metadata": {},
     "output_type": "execute_result"
    },
    {
     "data": {
      "text/plain": [
       "Pred is\t392433277.05347\t\n",
       "Real is\t392433229\t\n",
       "Diff is\t48.053474664688\t\n",
       "\t\n"
      ]
     },
     "execution_count": 1,
     "metadata": {},
     "output_type": "execute_result"
    },
    {
     "data": {
      "text/plain": [
       "Pred is\t392433275.95416\t\n",
       "Real is\t392433368\t\n",
       "Diff is\t-92.045843780041\t\n",
       "\t\n"
      ]
     },
     "execution_count": 1,
     "metadata": {},
     "output_type": "execute_result"
    },
    {
     "data": {
      "text/plain": [
       "Pred is\t392433278.32816\t\n",
       "Real is\t392433330\t\n",
       "Diff is\t-51.671841919422\t\n",
       "\t\n"
      ]
     },
     "execution_count": 1,
     "metadata": {},
     "output_type": "execute_result"
    },
    {
     "data": {
      "text/plain": [
       "Pred is\t392433274.93386\t\n",
       "Real is\t392433284\t\n",
       "Diff is\t-9.0661414861679\t\n",
       "\t\n"
      ]
     },
     "execution_count": 1,
     "metadata": {},
     "output_type": "execute_result"
    },
    {
     "data": {
      "text/plain": [
       "Pred is\t392433278.6648\t\n",
       "Real is\t392433205\t\n",
       "Diff is\t73.664804041386\t\n",
       "\t\n"
      ]
     },
     "execution_count": 1,
     "metadata": {},
     "output_type": "execute_result"
    },
    {
     "data": {
      "text/plain": [
       "Pred is\t392433274.34865\t\n",
       "Real is\t392433347\t\n",
       "Diff is\t-72.651351153851\t\n",
       "\t\n"
      ]
     },
     "execution_count": 1,
     "metadata": {},
     "output_type": "execute_result"
    },
    {
     "data": {
      "text/plain": [
       "Pred is\t392433276.05433\t\n",
       "Real is\t392433347\t\n",
       "Diff is\t-70.945667862892\t\n",
       "\t\n"
      ]
     },
     "execution_count": 1,
     "metadata": {},
     "output_type": "execute_result"
    },
    {
     "data": {
      "text/plain": [
       "Pred is\t392433279.1666\t\n",
       "Real is\t392433347\t\n",
       "Diff is\t-67.833400070667\t\n",
       "\t\n"
      ]
     },
     "execution_count": 1,
     "metadata": {},
     "output_type": "execute_result"
    },
    {
     "data": {
      "text/plain": [
       "Pred is\t392433276.7675\t\n",
       "Real is\t392433329\t\n",
       "Diff is\t-52.232495486736\t\n",
       "\t\n"
      ]
     },
     "execution_count": 1,
     "metadata": {},
     "output_type": "execute_result"
    },
    {
     "data": {
      "text/plain": [
       "Pred is\t392433280.37445\t\n",
       "Real is\t392433188\t\n",
       "Diff is\t92.374447286129\t\n",
       "\t\n"
      ]
     },
     "execution_count": 1,
     "metadata": {},
     "output_type": "execute_result"
    },
    {
     "data": {
      "text/plain": [
       "Pred is\t392433281.59019\t\n",
       "Real is\t392433346\t\n",
       "Diff is\t-64.409806311131\t\n",
       "\t\n"
      ]
     },
     "execution_count": 1,
     "metadata": {},
     "output_type": "execute_result"
    },
    {
     "data": {
      "text/plain": [
       "Pred is\t392433275.79007\t\n",
       "Real is\t392433259\t\n",
       "Diff is\t16.790068507195\t\n",
       "\t\n"
      ]
     },
     "execution_count": 1,
     "metadata": {},
     "output_type": "execute_result"
    },
    {
     "data": {
      "text/plain": [
       "Pred is\t392433280.2201\t\n",
       "Real is\t392433370\t\n",
       "Diff is\t-89.779895603657\t\n",
       "\t\n"
      ]
     },
     "execution_count": 1,
     "metadata": {},
     "output_type": "execute_result"
    },
    {
     "data": {
      "text/plain": [
       "Pred is\t392433280.9553\t\n",
       "Real is\t392433263\t\n",
       "Diff is\t17.955299437046\t\n",
       "\t\n"
      ]
     },
     "execution_count": 1,
     "metadata": {},
     "output_type": "execute_result"
    },
    {
     "data": {
      "text/plain": [
       "Pred is\t392433276.99675\t\n",
       "Real is\t392433371\t\n",
       "Diff is\t-94.003249824047\t\n",
       "\t\n"
      ]
     },
     "execution_count": 1,
     "metadata": {},
     "output_type": "execute_result"
    },
    {
     "data": {
      "text/plain": [
       "Pred is\t392433276.7665\t\n",
       "Real is\t392433311\t\n",
       "Diff is\t-34.233496308327\t\n",
       "\t\n"
      ]
     },
     "execution_count": 1,
     "metadata": {},
     "output_type": "execute_result"
    },
    {
     "data": {
      "text/plain": [
       "Pred is\t392433279.53032\t\n",
       "Real is\t392433227\t\n",
       "Diff is\t52.530324101448\t\n",
       "\t\n"
      ]
     },
     "execution_count": 1,
     "metadata": {},
     "output_type": "execute_result"
    },
    {
     "data": {
      "text/plain": [
       "Pred is\t392433272.63629\t\n",
       "Real is\t392433238\t\n",
       "Diff is\t34.636291563511\t\n",
       "\t\n"
      ]
     },
     "execution_count": 1,
     "metadata": {},
     "output_type": "execute_result"
    },
    {
     "data": {
      "text/plain": [
       "Pred is\t392433277.37368\t\n",
       "Real is\t392433324\t\n",
       "Diff is\t-46.626318752766\t\n",
       "\t\n"
      ]
     },
     "execution_count": 1,
     "metadata": {},
     "output_type": "execute_result"
    },
    {
     "data": {
      "text/plain": [
       "Pred is\t392433275.43718\t\n",
       "Real is\t392433341\t\n",
       "Diff is\t-65.562819778919\t\n",
       "\t\n"
      ]
     },
     "execution_count": 1,
     "metadata": {},
     "output_type": "execute_result"
    },
    {
     "data": {
      "text/plain": [
       "Pred is\t392433279.73916\t\n",
       "Real is\t392433328\t\n",
       "Diff is\t-48.260836780071\t\n",
       "\t\n"
      ]
     },
     "execution_count": 1,
     "metadata": {},
     "output_type": "execute_result"
    },
    {
     "data": {
      "text/plain": [
       "Pred is\t392433274.08791\t\n",
       "Real is\t392433347\t\n",
       "Diff is\t-72.9120875597\t\n",
       "\t\n"
      ]
     },
     "execution_count": 1,
     "metadata": {},
     "output_type": "execute_result"
    },
    {
     "data": {
      "text/plain": [
       "Pred is\t392433276.67542\t\n",
       "Real is\t392433347\t\n",
       "Diff is\t-70.324581682682\t\n",
       "\t\n"
      ]
     },
     "execution_count": 1,
     "metadata": {},
     "output_type": "execute_result"
    },
    {
     "data": {
      "text/plain": [
       "Pred is\t392433271.75306\t\n",
       "Real is\t392433299\t\n",
       "Diff is\t-27.246939122677\t\n",
       "\t\n"
      ]
     },
     "execution_count": 1,
     "metadata": {},
     "output_type": "execute_result"
    },
    {
     "data": {
      "text/plain": [
       "Pred is\t392433277.16844\t\n",
       "Real is\t392433291\t\n",
       "Diff is\t-13.831564307213\t\n",
       "\t\n"
      ]
     },
     "execution_count": 1,
     "metadata": {},
     "output_type": "execute_result"
    },
    {
     "data": {
      "text/plain": [
       "Pred is\t392433275.69312\t\n",
       "Real is\t392433248\t\n",
       "Diff is\t27.693118035793\t\n",
       "\t\n"
      ]
     },
     "execution_count": 1,
     "metadata": {},
     "output_type": "execute_result"
    },
    {
     "data": {
      "text/plain": [
       "Pred is\t392433275.82024\t\n",
       "Real is\t392433276\t\n",
       "Diff is\t-0.17975831031799\t\n",
       "\t\n"
      ]
     },
     "execution_count": 1,
     "metadata": {},
     "output_type": "execute_result"
    },
    {
     "data": {
      "text/plain": [
       "Pred is\t392433277.94811\t\n",
       "Real is\t392433347\t\n",
       "Diff is\t-69.051891505718\t\n",
       "\t\n"
      ]
     },
     "execution_count": 1,
     "metadata": {},
     "output_type": "execute_result"
    },
    {
     "data": {
      "text/plain": [
       "Pred is\t392433277.49453\t\n",
       "Real is\t392433269\t\n",
       "Diff is\t8.4945274591446\t\n",
       "\t\n"
      ]
     },
     "execution_count": 1,
     "metadata": {},
     "output_type": "execute_result"
    },
    {
     "data": {
      "text/plain": [
       "Pred is\t392433278.7288\t\n",
       "Real is\t392433330\t\n",
       "Diff is\t-51.271202147007\t\n",
       "\t\n"
      ]
     },
     "execution_count": 1,
     "metadata": {},
     "output_type": "execute_result"
    },
    {
     "data": {
      "text/plain": [
       "Pred is\t392433274.55031\t\n",
       "Real is\t392433293\t\n",
       "Diff is\t-18.449686944485\t\n",
       "\t\n"
      ]
     },
     "execution_count": 1,
     "metadata": {},
     "output_type": "execute_result"
    },
    {
     "data": {
      "text/plain": [
       "Pred is\t392433274.15791\t\n",
       "Real is\t392433317\t\n",
       "Diff is\t-42.84208548069\t\n",
       "\t\n"
      ]
     },
     "execution_count": 1,
     "metadata": {},
     "output_type": "execute_result"
    },
    {
     "data": {
      "text/plain": [
       "Pred is\t392433277.52391\t\n",
       "Real is\t392433309\t\n",
       "Diff is\t-31.476092278957\t\n",
       "\t\n"
      ]
     },
     "execution_count": 1,
     "metadata": {},
     "output_type": "execute_result"
    },
    {
     "data": {
      "text/plain": [
       "Pred is\t392433276.72121\t\n",
       "Real is\t392433281\t\n",
       "Diff is\t-4.278787612915\t\n",
       "\t\n"
      ]
     },
     "execution_count": 1,
     "metadata": {},
     "output_type": "execute_result"
    },
    {
     "data": {
      "text/plain": [
       "Pred is\t392433273.20388\t\n",
       "Real is\t392433315\t\n",
       "Diff is\t-41.796119272709\t\n",
       "\t\n"
      ]
     },
     "execution_count": 1,
     "metadata": {},
     "output_type": "execute_result"
    },
    {
     "data": {
      "text/plain": [
       "Pred is\t392433275.98213\t\n",
       "Real is\t392433341\t\n",
       "Diff is\t-65.017870426178\t\n",
       "\t\n"
      ]
     },
     "execution_count": 1,
     "metadata": {},
     "output_type": "execute_result"
    },
    {
     "data": {
      "text/plain": [
       "Pred is\t392433278.97746\t\n",
       "Real is\t392433337\t\n",
       "Diff is\t-58.022535920143\t\n",
       "\t\n"
      ]
     },
     "execution_count": 1,
     "metadata": {},
     "output_type": "execute_result"
    },
    {
     "data": {
      "text/plain": [
       "Pred is\t392433277.77823\t\n",
       "Real is\t392433383\t\n",
       "Diff is\t-105.22176897526\t\n",
       "\t\n"
      ]
     },
     "execution_count": 1,
     "metadata": {},
     "output_type": "execute_result"
    },
    {
     "data": {
      "text/plain": [
       "Pred is\t392433278.67785\t\n",
       "Real is\t392433391\t\n",
       "Diff is\t-112.3221514225\t\n",
       "\t\n"
      ]
     },
     "execution_count": 1,
     "metadata": {},
     "output_type": "execute_result"
    },
    {
     "data": {
      "text/plain": [
       "Pred is\t392433279.03469\t\n",
       "Real is\t392433341\t\n",
       "Diff is\t-61.965314567089\t\n",
       "\t\n"
      ]
     },
     "execution_count": 1,
     "metadata": {},
     "output_type": "execute_result"
    },
    {
     "data": {
      "text/plain": [
       "Pred is\t392433279.89795\t\n",
       "Real is\t392433276\t\n",
       "Diff is\t3.8979535698891\t\n",
       "\t\n"
      ]
     },
     "execution_count": 1,
     "metadata": {},
     "output_type": "execute_result"
    },
    {
     "data": {
      "text/plain": [
       "Pred is\t392433278.77327\t\n",
       "Real is\t392433212\t\n",
       "Diff is\t66.773270130157\t\n",
       "\t\n"
      ]
     },
     "execution_count": 1,
     "metadata": {},
     "output_type": "execute_result"
    },
    {
     "data": {
      "text/plain": [
       "Pred is\t392433277.95328\t\n",
       "Real is\t392433283\t\n",
       "Diff is\t-5.0467159748077\t\n",
       "\t\n"
      ]
     },
     "execution_count": 1,
     "metadata": {},
     "output_type": "execute_result"
    },
    {
     "data": {
      "text/plain": [
       "Pred is\t392433278.09404\t\n",
       "Real is\t392433388\t\n",
       "Diff is\t-109.90596348047\t\n",
       "\t\n"
      ]
     },
     "execution_count": 1,
     "metadata": {},
     "output_type": "execute_result"
    },
    {
     "data": {
      "text/plain": [
       "Pred is\t392433276.83008\t\n",
       "Real is\t392433378\t\n",
       "Diff is\t-101.16992229223\t\n",
       "\t\n"
      ]
     },
     "execution_count": 1,
     "metadata": {},
     "output_type": "execute_result"
    },
    {
     "data": {
      "text/plain": [
       "Pred is\t392433280.59352\t\n",
       "Real is\t392433104\t\n",
       "Diff is\t176.59351736307\t\n",
       "\t\n"
      ]
     },
     "execution_count": 1,
     "metadata": {},
     "output_type": "execute_result"
    },
    {
     "data": {
      "text/plain": [
       "Pred is\t392433281.34898\t\n",
       "Real is\t392433331\t\n",
       "Diff is\t-49.651024639606\t\n",
       "\t\n"
      ]
     },
     "execution_count": 1,
     "metadata": {},
     "output_type": "execute_result"
    },
    {
     "data": {
      "text/plain": [
       "Pred is\t392433271.61468\t\n",
       "Real is\t392433224\t\n",
       "Diff is\t47.614683747292\t\n",
       "\t\n"
      ]
     },
     "execution_count": 1,
     "metadata": {},
     "output_type": "execute_result"
    },
    {
     "data": {
      "text/plain": [
       "Pred is\t392433276.9288\t\n"
      ]
     },
     "execution_count": 1,
     "metadata": {},
     "output_type": "execute_result"
    },
    {
     "data": {
      "text/plain": [
       "Real is\t392433152\t\n",
       "Diff is\t124.92879778147\t\n",
       "\t\n"
      ]
     },
     "execution_count": 1,
     "metadata": {},
     "output_type": "execute_result"
    },
    {
     "data": {
      "text/plain": [
       "Pred is\t392433274.45086\t\n",
       "Real is\t392433325\t\n",
       "Diff is\t-50.549138605595\t\n",
       "\t\n"
      ]
     },
     "execution_count": 1,
     "metadata": {},
     "output_type": "execute_result"
    },
    {
     "data": {
      "text/plain": [
       "Pred is\t392433275.91912\t\n",
       "Real is\t392433368\t\n",
       "Diff is\t-92.080882251263\t\n",
       "\t\n"
      ]
     },
     "execution_count": 1,
     "metadata": {},
     "output_type": "execute_result"
    },
    {
     "data": {
      "text/plain": [
       "Pred is\t392433273.88749\t\n",
       "Real is\t392433109\t\n",
       "Diff is\t164.88748675585\t\n",
       "\t\n"
      ]
     },
     "execution_count": 1,
     "metadata": {},
     "output_type": "execute_result"
    },
    {
     "data": {
      "text/plain": [
       "Pred is\t392433272.16237\t\n",
       "Real is\t392433415\t\n",
       "Diff is\t-142.83762842417\t\n",
       "\t\n"
      ]
     },
     "execution_count": 1,
     "metadata": {},
     "output_type": "execute_result"
    },
    {
     "data": {
      "text/plain": [
       "Pred is\t392433279.9804\t\n",
       "Real is\t392433369\t\n",
       "Diff is\t-89.019603610039\t\n",
       "\t\n"
      ]
     },
     "execution_count": 1,
     "metadata": {},
     "output_type": "execute_result"
    },
    {
     "data": {
      "text/plain": [
       "Pred is\t392433276.68364\t\n",
       "Real is\t392433237\t\n",
       "Diff is\t39.683640241623\t\n",
       "\t\n"
      ]
     },
     "execution_count": 1,
     "metadata": {},
     "output_type": "execute_result"
    },
    {
     "data": {
      "text/plain": [
       "Pred is\t392433276.67373\t\n",
       "Real is\t392433215\t\n",
       "Diff is\t61.673727154732\t\n",
       "\t\n"
      ]
     },
     "execution_count": 1,
     "metadata": {},
     "output_type": "execute_result"
    },
    {
     "data": {
      "text/plain": [
       "Pred is\t392433278.86602\t\n",
       "Real is\t392433352\t\n",
       "Diff is\t-73.133976757526\t\n",
       "\t\n"
      ]
     },
     "execution_count": 1,
     "metadata": {},
     "output_type": "execute_result"
    },
    {
     "data": {
      "text/plain": [
       "Pred is\t392433278.96008\t\n",
       "Real is\t392433157\t\n",
       "Diff is\t121.96007633209\t\n",
       "\t\n"
      ]
     },
     "execution_count": 1,
     "metadata": {},
     "output_type": "execute_result"
    },
    {
     "data": {
      "text/plain": [
       "Pred is\t392433280.34114\t\n",
       "Real is\t392433347\t\n",
       "Diff is\t-66.658864676952\t\n",
       "\t\n"
      ]
     },
     "execution_count": 1,
     "metadata": {},
     "output_type": "execute_result"
    },
    {
     "data": {
      "text/plain": [
       "Pred is\t392433276.4757\t\n",
       "Real is\t392433259\t\n",
       "Diff is\t17.475702702999\t\n",
       "\t\n"
      ]
     },
     "execution_count": 1,
     "metadata": {},
     "output_type": "execute_result"
    },
    {
     "data": {
      "text/plain": [
       "Pred is\t392433274.0308\t\n",
       "Real is\t392433318\t\n",
       "Diff is\t-43.969195246696\t\n",
       "\t\n"
      ]
     },
     "execution_count": 1,
     "metadata": {},
     "output_type": "execute_result"
    },
    {
     "data": {
      "text/plain": [
       "Pred is\t392433275.12555\t\n",
       "Real is\t392433359\t\n",
       "Diff is\t-83.874445259571\t\n",
       "\t\n"
      ]
     },
     "execution_count": 1,
     "metadata": {},
     "output_type": "execute_result"
    },
    {
     "data": {
      "text/plain": [
       "Pred is\t392433278.29928\t\n",
       "Real is\t392433242\t\n",
       "Diff is\t36.299278497696\t\n",
       "\t\n"
      ]
     },
     "execution_count": 1,
     "metadata": {},
     "output_type": "execute_result"
    },
    {
     "data": {
      "text/plain": [
       "Pred is\t392433276.2428\t\n",
       "Real is\t392433341\t\n",
       "Diff is\t-64.757197916508\t\n",
       "\t\n"
      ]
     },
     "execution_count": 1,
     "metadata": {},
     "output_type": "execute_result"
    },
    {
     "data": {
      "text/plain": [
       "Pred is\t392433274.25275\t\n",
       "Real is\t392433347\t\n",
       "Diff is\t-72.747252106667\t\n",
       "\t\n"
      ]
     },
     "execution_count": 1,
     "metadata": {},
     "output_type": "execute_result"
    },
    {
     "data": {
      "text/plain": [
       "Pred is\t392433279.72173\t\n",
       "Real is\t392433156\t\n",
       "Diff is\t123.72173207998\t\n",
       "\t\n"
      ]
     },
     "execution_count": 1,
     "metadata": {},
     "output_type": "execute_result"
    },
    {
     "data": {
      "text/plain": [
       "Pred is\t392433277.0158\t\n",
       "Real is\t392433156\t\n",
       "Diff is\t121.01580375433\t\n",
       "\t\n"
      ]
     },
     "execution_count": 1,
     "metadata": {},
     "output_type": "execute_result"
    },
    {
     "data": {
      "text/plain": [
       "Pred is\t392433277.3602\t\n",
       "Real is\t392433201\t\n",
       "Diff is\t76.360204696655\t\n",
       "\t\n"
      ]
     },
     "execution_count": 1,
     "metadata": {},
     "output_type": "execute_result"
    },
    {
     "data": {
      "text/plain": [
       "Pred is\t392433277.4408\t\n",
       "Real is\t392433326\t\n",
       "Diff is\t-48.559198617935\t\n",
       "\t\n"
      ]
     },
     "execution_count": 1,
     "metadata": {},
     "output_type": "execute_result"
    },
    {
     "data": {
      "text/plain": [
       "Pred is\t392433277.10678\t\n",
       "Real is\t392433251\t\n",
       "Diff is\t26.106775105\t\n",
       "\t\n"
      ]
     },
     "execution_count": 1,
     "metadata": {},
     "output_type": "execute_result"
    },
    {
     "data": {
      "text/plain": [
       "Pred is\t392433277.09816\t\n",
       "Real is\t392433184\t\n",
       "Diff is\t93.098164498806\t\n",
       "\t\n"
      ]
     },
     "execution_count": 1,
     "metadata": {},
     "output_type": "execute_result"
    },
    {
     "data": {
      "text/plain": [
       "Pred is\t392433281.10948\t\n",
       "Real is\t392433341\t\n",
       "Diff is\t-59.890520513058\t\n",
       "\t\n"
      ]
     },
     "execution_count": 1,
     "metadata": {},
     "output_type": "execute_result"
    },
    {
     "data": {
      "text/plain": [
       "Pred is\t392433277.85087\t\n",
       "Real is\t392433186\t\n",
       "Diff is\t91.850865662098\t\n",
       "\t\n"
      ]
     },
     "execution_count": 1,
     "metadata": {},
     "output_type": "execute_result"
    },
    {
     "data": {
      "text/plain": [
       "Pred is\t392433276.30887\t\n",
       "Real is\t392433330\t\n",
       "Diff is\t-53.691129148006\t\n",
       "\t\n"
      ]
     },
     "execution_count": 1,
     "metadata": {},
     "output_type": "execute_result"
    },
    {
     "data": {
      "text/plain": [
       "Pred is\t392433278.87138\t\n",
       "Real is\t392433243\t\n",
       "Diff is\t35.871378362179\t\n",
       "\t\n"
      ]
     },
     "execution_count": 1,
     "metadata": {},
     "output_type": "execute_result"
    },
    {
     "data": {
      "text/plain": [
       "Pred is\t392433277.50824\t\n",
       "Real is\t392433302\t\n",
       "Diff is\t-24.49175620079\t\n",
       "\t\n"
      ]
     },
     "execution_count": 1,
     "metadata": {},
     "output_type": "execute_result"
    },
    {
     "data": {
      "text/plain": [
       "Pred is\t392433279.60412\t\n",
       "Real is\t392433118\t\n",
       "Diff is\t161.60411709547\t\n",
       "\t\n"
      ]
     },
     "execution_count": 1,
     "metadata": {},
     "output_type": "execute_result"
    },
    {
     "data": {
      "text/plain": [
       "Pred is\t392433275.9678\t\n",
       "Real is\t392433293\t\n",
       "Diff is\t-17.032197892666\t\n",
       "\t\n"
      ]
     },
     "execution_count": 1,
     "metadata": {},
     "output_type": "execute_result"
    },
    {
     "data": {
      "text/plain": [
       "Pred is\t392433273.56152\t\n",
       "Real is\t392433314\t\n",
       "Diff is\t-40.438483834267\t\n",
       "\t\n"
      ]
     },
     "execution_count": 1,
     "metadata": {},
     "output_type": "execute_result"
    },
    {
     "data": {
      "text/plain": [
       "Pred is\t392433276.84039\t\n",
       "Real is\t392433331\t\n",
       "Diff is\t-54.15961420536\t\n",
       "\t\n"
      ]
     },
     "execution_count": 1,
     "metadata": {},
     "output_type": "execute_result"
    },
    {
     "data": {
      "text/plain": [
       "Pred is\t392433277.25835\t\n",
       "Real is\t392433341\t\n",
       "Diff is\t-63.741649806499\t\n",
       "\t\n"
      ]
     },
     "execution_count": 1,
     "metadata": {},
     "output_type": "execute_result"
    },
    {
     "data": {
      "text/plain": [
       "Pred is\t392433278.25228\t\n",
       "Real is\t392433189\t\n"
      ]
     },
     "execution_count": 1,
     "metadata": {},
     "output_type": "execute_result"
    },
    {
     "data": {
      "text/plain": [
       "Diff is\t89.252275824547\t\n",
       "\t\n"
      ]
     },
     "execution_count": 1,
     "metadata": {},
     "output_type": "execute_result"
    },
    {
     "data": {
      "text/plain": [
       "Pred is\t392433277.87953\t\n",
       "Real is\t392433313\t\n",
       "Diff is\t-35.120467782021\t\n",
       "\t\n"
      ]
     },
     "execution_count": 1,
     "metadata": {},
     "output_type": "execute_result"
    },
    {
     "data": {
      "text/plain": [
       "Pred is\t392433277.66448\t\n",
       "Real is\t392433341\t\n",
       "Diff is\t-63.335518360138\t\n",
       "\t\n"
      ]
     },
     "execution_count": 1,
     "metadata": {},
     "output_type": "execute_result"
    },
    {
     "data": {
      "text/plain": [
       "Pred is\t392433280.37487\t\n",
       "Real is\t392433363\t\n",
       "Diff is\t-82.625128388405\t\n",
       "\t\n"
      ]
     },
     "execution_count": 1,
     "metadata": {},
     "output_type": "execute_result"
    },
    {
     "data": {
      "text/plain": [
       "Pred is\t392433280.59599\t\n",
       "Real is\t392433203\t\n",
       "Diff is\t77.595986127853\t\n",
       "\t\n"
      ]
     },
     "execution_count": 1,
     "metadata": {},
     "output_type": "execute_result"
    },
    {
     "data": {
      "text/plain": [
       "Pred is\t392433280.9841\t\n",
       "Real is\t392433355\t\n",
       "Diff is\t-74.015897750854\t\n",
       "\t\n"
      ]
     },
     "execution_count": 1,
     "metadata": {},
     "output_type": "execute_result"
    },
    {
     "data": {
      "text/plain": [
       "Pred is\t392433277.2896\t\n"
      ]
     },
     "execution_count": 1,
     "metadata": {},
     "output_type": "execute_result"
    },
    {
     "data": {
      "text/plain": [
       "Real is\t392433222\t\n",
       "Diff is\t55.289595365524\t\n",
       "\t\n"
      ]
     },
     "execution_count": 1,
     "metadata": {},
     "output_type": "execute_result"
    },
    {
     "data": {
      "text/plain": [
       "Pred is\t392433277.66439\t\n",
       "Real is\t392433331\t\n",
       "Diff is\t-53.335614740849\t\n",
       "\t\n"
      ]
     },
     "execution_count": 1,
     "metadata": {},
     "output_type": "execute_result"
    },
    {
     "data": {
      "text/plain": [
       "Pred is\t392433278.29933\t\n",
       "Real is\t392433165\t\n",
       "Diff is\t113.29932969809\t\n",
       "\t\n"
      ]
     },
     "execution_count": 1,
     "metadata": {},
     "output_type": "execute_result"
    },
    {
     "data": {
      "text/plain": [
       "Pred is\t392433278.69133\t\n",
       "Real is\t392433388\t\n",
       "Diff is\t-109.30866849422\t\n",
       "\t\n"
      ]
     },
     "execution_count": 1,
     "metadata": {},
     "output_type": "execute_result"
    },
    {
     "data": {
      "text/plain": [
       "Pred is\t392433278.0014\t\n",
       "Real is\t392433127\t\n",
       "Diff is\t151.00140309334\t\n",
       "\t\n"
      ]
     },
     "execution_count": 1,
     "metadata": {},
     "output_type": "execute_result"
    },
    {
     "data": {
      "text/plain": [
       "Pred is\t392433276.89315\t\n",
       "Real is\t392433238\t\n",
       "Diff is\t38.893152236938\t\n",
       "\t\n"
      ]
     },
     "execution_count": 1,
     "metadata": {},
     "output_type": "execute_result"
    },
    {
     "data": {
      "text/plain": [
       "Pred is\t392433277.00296\t\n",
       "Real is\t392433194\t\n",
       "Diff is\t83.002964377403\t\n",
       "\t\n"
      ]
     },
     "execution_count": 1,
     "metadata": {},
     "output_type": "execute_result"
    },
    {
     "data": {
      "text/plain": [
       "Pred is\t392433276.35207\t\n",
       "Real is\t392433223\t\n",
       "Diff is\t53.352070629597\t\n",
       "\t\n"
      ]
     },
     "execution_count": 1,
     "metadata": {},
     "output_type": "execute_result"
    },
    {
     "data": {
      "text/plain": [
       "Pred is\t392433277.14709\t\n",
       "Real is\t392433207\t\n",
       "Diff is\t70.147090017796\t\n",
       "\t\n"
      ]
     },
     "execution_count": 1,
     "metadata": {},
     "output_type": "execute_result"
    },
    {
     "data": {
      "text/plain": [
       "Pred is\t392433275.00093\t\n",
       "Real is\t392433234\t\n",
       "Diff is\t41.000926315784\t\n",
       "\t\n"
      ]
     },
     "execution_count": 1,
     "metadata": {},
     "output_type": "execute_result"
    },
    {
     "data": {
      "text/plain": [
       "Pred is\t392433276.94389\t\n",
       "Real is\t392433192\t\n",
       "Diff is\t84.943890929222\t\n",
       "\t\n"
      ]
     },
     "execution_count": 1,
     "metadata": {},
     "output_type": "execute_result"
    },
    {
     "data": {
      "text/plain": [
       "Pred is\t"
      ]
     },
     "execution_count": 1,
     "metadata": {},
     "output_type": "execute_result"
    },
    {
     "data": {
      "text/plain": [
       "392433278.46137\t\n",
       "Real is\t392433192\t\n",
       "Diff is\t86.461365759373\t\n",
       "\t\n"
      ]
     },
     "execution_count": 1,
     "metadata": {},
     "output_type": "execute_result"
    },
    {
     "data": {
      "text/plain": [
       "Pred is\t392433275.80508\t\n",
       "Real is\t392433096\t\n",
       "Diff is\t179.80508077145\t\n",
       "\t\n"
      ]
     },
     "execution_count": 1,
     "metadata": {},
     "output_type": "execute_result"
    },
    {
     "data": {
      "text/plain": [
       "Pred is\t392433273.6191\t\n",
       "Real is\t392433327\t\n",
       "Diff is\t-53.380903661251\t\n",
       "\t\n"
      ]
     },
     "execution_count": 1,
     "metadata": {},
     "output_type": "execute_result"
    },
    {
     "data": {
      "text/plain": [
       "Pred is\t392433276.64472\t\n",
       "Real is\t392433141\t\n",
       "Diff is\t135.64472085238\t\n",
       "\t\n"
      ]
     },
     "execution_count": 1,
     "metadata": {},
     "output_type": "execute_result"
    },
    {
     "data": {
      "text/plain": [
       "Pred is\t392433279.3756\t\n",
       "Real is\t392433341\t\n",
       "Diff is\t-61.624397456646\t\n",
       "\t\n"
      ]
     },
     "execution_count": 1,
     "metadata": {},
     "output_type": "execute_result"
    },
    {
     "data": {
      "text/plain": [
       "Pred is\t392433275.70412\t\n",
       "Real is\t392433362\t\n",
       "Diff is\t-86.295879423618\t\n",
       "\t\n"
      ]
     },
     "execution_count": 1,
     "metadata": {},
     "output_type": "execute_result"
    },
    {
     "data": {
      "text/plain": [
       "Pred is\t392433273.71499\t\n",
       "Real is\t392433360\t\n",
       "Diff is\t-86.285014808178\t\n",
       "\t\n"
      ]
     },
     "execution_count": 1,
     "metadata": {},
     "output_type": "execute_result"
    },
    {
     "data": {
      "text/plain": [
       "Pred is\t392433276.99149\t\n",
       "Real is\t392433261\t\n",
       "Diff is\t15.991488695145\t\n",
       "\t\n"
      ]
     },
     "execution_count": 1,
     "metadata": {},
     "output_type": "execute_result"
    },
    {
     "data": {
      "text/plain": [
       "Pred is\t392433278.34952\t\n",
       "Real is\t392433413\t\n",
       "Diff is\t-134.65048366785\t\n",
       "\t\n"
      ]
     },
     "execution_count": 1,
     "metadata": {},
     "output_type": "execute_result"
    },
    {
     "data": {
      "text/plain": [
       "Pred is\t392433278.66096\t\n",
       "Real is\t392433270\t\n",
       "Diff is\t8.6609644889832\t\n",
       "\t\n"
      ]
     },
     "execution_count": 1,
     "metadata": {},
     "output_type": "execute_result"
    },
    {
     "data": {
      "text/plain": [
       "Pred is\t392433276.85331\t\n",
       "Real is\t392433138\t\n",
       "Diff is\t138.85330706835\t\n",
       "\t\n"
      ]
     },
     "execution_count": 1,
     "metadata": {},
     "output_type": "execute_result"
    },
    {
     "data": {
      "text/plain": [
       "Pred is\t392433279.44712\t\n",
       "Real is\t392433289\t\n",
       "Diff is\t-9.5528802275658\t\n",
       "\t\n"
      ]
     },
     "execution_count": 1,
     "metadata": {},
     "output_type": "execute_result"
    },
    {
     "data": {
      "text/plain": [
       "Pred is\t392433276.07692\t\n",
       "Real is\t392433148\t\n",
       "Diff is\t128.07692444324\t\n",
       "\t\n"
      ]
     },
     "execution_count": 1,
     "metadata": {},
     "output_type": "execute_result"
    },
    {
     "data": {
      "text/plain": [
       "Pred is\t392433276.49993\t\n",
       "Real is\t392433204\t\n",
       "Diff is\t72.499928951263\t\n",
       "\t\n"
      ]
     },
     "execution_count": 1,
     "metadata": {},
     "output_type": "execute_result"
    },
    {
     "data": {
      "text/plain": [
       "Pred is\t392433276.47363\t\n",
       "Real is\t392433212\t\n",
       "Diff is\t64.473629832268\t\n",
       "\t\n"
      ]
     },
     "execution_count": 1,
     "metadata": {},
     "output_type": "execute_result"
    },
    {
     "data": {
      "text/plain": [
       "Pred is\t392433279.04049\t\n",
       "Real is\t392433109\t\n",
       "Diff is\t170.04049140215\t\n",
       "\t\n"
      ]
     },
     "execution_count": 1,
     "metadata": {},
     "output_type": "execute_result"
    },
    {
     "data": {
      "text/plain": [
       "Pred is\t392433277.38739\t\n",
       "Real is\t392433349\t\n",
       "Diff is\t-71.612609505653\t\n",
       "\t\n"
      ]
     },
     "execution_count": 1,
     "metadata": {},
     "output_type": "execute_result"
    },
    {
     "data": {
      "text/plain": [
       "Pred is\t392433276.86733\t\n",
       "Real is\t392433139\t\n",
       "Diff is\t137.86732983589\t\n",
       "\t\n"
      ]
     },
     "execution_count": 1,
     "metadata": {},
     "output_type": "execute_result"
    },
    {
     "data": {
      "text/plain": [
       "Pred is\t392433275.43278\t\n",
       "Real is\t392433244\t\n",
       "Diff is\t31.432780504227\t\n",
       "\t\n"
      ]
     },
     "execution_count": 1,
     "metadata": {},
     "output_type": "execute_result"
    },
    {
     "data": {
      "text/plain": [
       "Pred is\t392433273.3657\t\n",
       "Real is\t392433195\t\n",
       "Diff is\t78.365696549416\t\n",
       "\t\n"
      ]
     },
     "execution_count": 1,
     "metadata": {},
     "output_type": "execute_result"
    },
    {
     "data": {
      "text/plain": [
       "Pred is\t392433276.94937\t\n",
       "Real is\t392433356\t\n",
       "Diff is\t-79.050627887249\t\n",
       "\t\n"
      ]
     },
     "execution_count": 1,
     "metadata": {},
     "output_type": "execute_result"
    },
    {
     "data": {
      "text/plain": [
       "Pred is\t392433279.54584\t\n",
       "Real is\t392433236\t\n",
       "Diff is\t43.545837163925\t\n",
       "\t\n"
      ]
     },
     "execution_count": 1,
     "metadata": {},
     "output_type": "execute_result"
    },
    {
     "data": {
      "text/plain": [
       "Pred is\t392433276.9278\t\n",
       "Real is\t392433250\t\n",
       "Diff is\t26.927796661854\t\n",
       "\t\n"
      ]
     },
     "execution_count": 1,
     "metadata": {},
     "output_type": "execute_result"
    },
    {
     "data": {
      "text/plain": [
       "Pred is\t392433280.68971\t\n",
       "Real is\t392433195\t\n",
       "Diff is\t85.689709961414\t\n",
       "\t\n"
      ]
     },
     "execution_count": 1,
     "metadata": {},
     "output_type": "execute_result"
    },
    {
     "data": {
      "text/plain": [
       "Pred is\t392433277.77531\t\n",
       "Real is\t392433158\t\n",
       "Diff is\t119.77531445026\t\n",
       "\t\n"
      ]
     },
     "execution_count": 1,
     "metadata": {},
     "output_type": "execute_result"
    },
    {
     "data": {
      "text/plain": [
       "Pred is\t392433280.57097\t\n",
       "Real is\t392433192\t\n",
       "Diff is\t88.570969998837\t\n",
       "\t\n"
      ]
     },
     "execution_count": 1,
     "metadata": {},
     "output_type": "execute_result"
    },
    {
     "data": {
      "text/plain": [
       "Pred is\t392433276.36383\t\n",
       "Real is\t392433188\t\n",
       "Diff is\t88.363825798035\t\n",
       "\t\n"
      ]
     },
     "execution_count": 1,
     "metadata": {},
     "output_type": "execute_result"
    },
    {
     "data": {
      "text/plain": [
       "Pred is\t392433278.62487\t\n",
       "Real is\t392433252\t\n",
       "Diff is\t26.624874770641\t\n",
       "\t\n"
      ]
     },
     "execution_count": 1,
     "metadata": {},
     "output_type": "execute_result"
    },
    {
     "data": {
      "text/plain": [
       "Pred is\t392433279.9125\t\n",
       "Real is\t392433173\t\n",
       "Diff is\t106.91250312328\t\n",
       "\t\n"
      ]
     },
     "execution_count": 1,
     "metadata": {},
     "output_type": "execute_result"
    },
    {
     "data": {
      "text/plain": [
       "Pred is\t392433281.16116\t\n",
       "Real is\t392433150\t\n",
       "Diff is\t131.1611623764\t\n",
       "\t\n"
      ]
     },
     "execution_count": 1,
     "metadata": {},
     "output_type": "execute_result"
    },
    {
     "data": {
      "text/plain": [
       "Pred is\t392433277.43716\t\n",
       "Real is\t392433393\t\n",
       "Diff is\t-115.56284213066\t\n",
       "\t\n"
      ]
     },
     "execution_count": 1,
     "metadata": {},
     "output_type": "execute_result"
    },
    {
     "data": {
      "text/plain": [
       "Pred is\t392433278.06909\t\n",
       "Real is\t392433368\t\n",
       "Diff is\t-89.930911183357\t\n",
       "\t\n"
      ]
     },
     "execution_count": 1,
     "metadata": {},
     "output_type": "execute_result"
    },
    {
     "data": {
      "text/plain": [
       "Pred is\t392433281.02582\t\n",
       "Real is\t392433253\t\n",
       "Diff is\t28.025823712349\t\n",
       "\t\n"
      ]
     },
     "execution_count": 1,
     "metadata": {},
     "output_type": "execute_result"
    },
    {
     "data": {
      "text/plain": [
       "Pred is\t392433275.60259\t\n",
       "Real is\t392433383\t\n",
       "Diff is\t-107.39740628004\t\n",
       "\t\n"
      ]
     },
     "execution_count": 1,
     "metadata": {},
     "output_type": "execute_result"
    },
    {
     "data": {
      "text/plain": [
       "Pred is\t392433278.9382\t\n",
       "Real is\t392433223\t\n",
       "Diff is\t55.938201844692\t\n",
       "\t\n"
      ]
     },
     "execution_count": 1,
     "metadata": {},
     "output_type": "execute_result"
    },
    {
     "data": {
      "text/plain": [
       "Pred is\t392433279.07647\t\n",
       "Real is\t392433327\t\n",
       "Diff is\t-47.923526525497\t\n",
       "\t\n"
      ]
     },
     "execution_count": 1,
     "metadata": {},
     "output_type": "execute_result"
    },
    {
     "data": {
      "text/plain": [
       "Pred is\t392433277.73259\t\n",
       "Real is\t392433142\t\n",
       "Diff is\t135.73259049654\t\n",
       "\t\n"
      ]
     },
     "execution_count": 1,
     "metadata": {},
     "output_type": "execute_result"
    },
    {
     "data": {
      "text/plain": [
       "Pred is\t392433280.19449\t\n",
       "Real is\t392433349\t\n",
       "Diff is\t-68.805508315563\t\n",
       "\t\n"
      ]
     },
     "execution_count": 1,
     "metadata": {},
     "output_type": "execute_result"
    },
    {
     "data": {
      "text/plain": [
       "Pred is\t392433274.52056\t\n",
       "Real is\t392433381\t\n",
       "Diff is\t-106.47944045067\t\n",
       "\t\n"
      ]
     },
     "execution_count": 1,
     "metadata": {},
     "output_type": "execute_result"
    },
    {
     "data": {
      "text/plain": [
       "Pred is\t392433279.68982\t\n",
       "Real is\t392433151\t\n",
       "Diff is\t128.68981993198\t\n",
       "\t\n"
      ]
     },
     "execution_count": 1,
     "metadata": {},
     "output_type": "execute_result"
    },
    {
     "data": {
      "text/plain": [
       "Pred is\t392433283.15083\t\n",
       "Real is\t392433348\t\n",
       "Diff is\t-64.849169611931\t\n",
       "\t\n"
      ]
     },
     "execution_count": 1,
     "metadata": {},
     "output_type": "execute_result"
    },
    {
     "data": {
      "text/plain": [
       "Pred is\t392433278.66151\t\n",
       "Real is\t392433274\t\n",
       "Diff is\t4.6615083813667\t\n",
       "\t\n"
      ]
     },
     "execution_count": 1,
     "metadata": {},
     "output_type": "execute_result"
    },
    {
     "data": {
      "text/plain": [
       "Pred is\t392433275.64897\t\n",
       "Real is\t392433237\t\n",
       "Diff is\t38.648974061012\t\n",
       "\t\n"
      ]
     },
     "execution_count": 1,
     "metadata": {},
     "output_type": "execute_result"
    },
    {
     "data": {
      "text/plain": [
       "Pred is\t392433273.09588\t\n",
       "Real is\t392433186\t\n",
       "Diff is\t87.095884084702\t\n",
       "\t\n"
      ]
     },
     "execution_count": 1,
     "metadata": {},
     "output_type": "execute_result"
    },
    {
     "data": {
      "text/plain": [
       "Pred is\t392433278.14627\t\n",
       "Real is\t392433313\t\n",
       "Diff is\t-34.853725016117\t\n",
       "\t\n"
      ]
     },
     "execution_count": 1,
     "metadata": {},
     "output_type": "execute_result"
    },
    {
     "data": {
      "text/plain": [
       "Pred is\t392433275.69274\t\n",
       "Real is\t392433241\t\n",
       "Diff is\t34.692743420601\t\n",
       "\t\n"
      ]
     },
     "execution_count": 1,
     "metadata": {},
     "output_type": "execute_result"
    },
    {
     "data": {
      "text/plain": [
       "Pred is\t392433274.33193\t\n",
       "Real is\t392433293\t\n",
       "Diff is\t-18.668070316315\t\n",
       "\t\n"
      ]
     },
     "execution_count": 1,
     "metadata": {},
     "output_type": "execute_result"
    },
    {
     "data": {
      "text/plain": [
       "Pred is\t392433274.90349\t\n",
       "Real is\t392433228\t\n",
       "Diff is\t46.903491675854\t\n",
       "\t\n"
      ]
     },
     "execution_count": 1,
     "metadata": {},
     "output_type": "execute_result"
    },
    {
     "data": {
      "text/plain": [
       "Pred is\t392433277.29961\t\n",
       "Real is\t392433273\t\n",
       "Diff is\t4.2996109724045\t\n",
       "\t\n"
      ]
     },
     "execution_count": 1,
     "metadata": {},
     "output_type": "execute_result"
    },
    {
     "data": {
      "text/plain": [
       "Pred is\t392433275.54027\t\n",
       "Real is\t392433364\t\n",
       "Diff is\t-88.459727704525\t\n",
       "\t\n"
      ]
     },
     "execution_count": 1,
     "metadata": {},
     "output_type": "execute_result"
    },
    {
     "data": {
      "text/plain": [
       "Pred is\t392433276.87633\t\n",
       "Real is\t392433287\t\n",
       "Diff is\t-10.123669624329\t\n",
       "\t\n"
      ]
     },
     "execution_count": 1,
     "metadata": {},
     "output_type": "execute_result"
    },
    {
     "data": {
      "text/plain": [
       "Pred is\t392433279.14395\t\n",
       "Real is\t392433235\t\n",
       "Diff is\t44.143950521946\t\n",
       "\t\n"
      ]
     },
     "execution_count": 1,
     "metadata": {},
     "output_type": "execute_result"
    },
    {
     "data": {
      "text/plain": [
       "Pred is\t392433278.43889\t\n",
       "Real is\t392433337\t\n",
       "Diff is\t-58.56111395359\t\n",
       "\t\n"
      ]
     },
     "execution_count": 1,
     "metadata": {},
     "output_type": "execute_result"
    },
    {
     "data": {
      "text/plain": [
       "Pred is\t392433274.53034\t\n",
       "Real is\t392433319\t\n",
       "Diff is\t-44.46966034174\t\n",
       "\t\n"
      ]
     },
     "execution_count": 1,
     "metadata": {},
     "output_type": "execute_result"
    },
    {
     "data": {
      "text/plain": [
       "Pred is\t392433277.97953\t\n",
       "Real is\t392433347\t\n",
       "Diff is\t-69.0204667449\t\n",
       "\t\n"
      ]
     },
     "execution_count": 1,
     "metadata": {},
     "output_type": "execute_result"
    },
    {
     "data": {
      "text/plain": [
       "Pred is\t392433275.04181\t\n",
       "Real is\t392433354\t\n",
       "Diff is\t-78.958185076714\t\n",
       "\t\n"
      ]
     },
     "execution_count": 1,
     "metadata": {},
     "output_type": "execute_result"
    },
    {
     "data": {
      "text/plain": [
       "Pred is\t392433276.60813\t\n",
       "Real is\t392433253\t\n",
       "Diff is\t23.608132243156\t\n",
       "\t\n"
      ]
     },
     "execution_count": 1,
     "metadata": {},
     "output_type": "execute_result"
    },
    {
     "data": {
      "text/plain": [
       "Pred is\t392433278.04715\t\n",
       "Real is\t392433233\t\n",
       "Diff is\t45.047148168087\t\n",
       "\t\n"
      ]
     },
     "execution_count": 1,
     "metadata": {},
     "output_type": "execute_result"
    },
    {
     "data": {
      "text/plain": [
       "Pred is\t392433278.47594\t\n",
       "Real is\t392433095\t\n",
       "Diff is\t183.47594314814\t\n",
       "\t\n"
      ]
     },
     "execution_count": 1,
     "metadata": {},
     "output_type": "execute_result"
    },
    {
     "data": {
      "text/plain": [
       "Pred is\t392433274.34802\t\n",
       "Real is\t392433199\t\n",
       "Diff is\t75.348015725613\t\n",
       "\t\n"
      ]
     },
     "execution_count": 1,
     "metadata": {},
     "output_type": "execute_result"
    },
    {
     "data": {
      "text/plain": [
       "Pred is\t392433275.33883\t\n",
       "Real is\t392433247\t\n",
       "Diff is\t28.338828027248\t\n",
       "\t\n"
      ]
     },
     "execution_count": 1,
     "metadata": {},
     "output_type": "execute_result"
    },
    {
     "data": {
      "text/plain": [
       "Pred is\t392433276.52027\t\n",
       "Real is\t392433143\t\n",
       "Diff is\t133.52027499676\t\n",
       "\t\n"
      ]
     },
     "execution_count": 1,
     "metadata": {},
     "output_type": "execute_result"
    },
    {
     "data": {
      "text/plain": [
       "Pred is\t392433277.6485\t\n",
       "Real is\t392433229\t\n",
       "Diff is\t48.648495018482\t\n",
       "\t\n"
      ]
     },
     "execution_count": 1,
     "metadata": {},
     "output_type": "execute_result"
    },
    {
     "data": {
      "text/plain": [
       "Pred is\t392433277.00042\t\n",
       "Real is\t392433326\t\n",
       "Diff is\t-48.999583363533\t\n",
       "\t\n"
      ]
     },
     "execution_count": 1,
     "metadata": {},
     "output_type": "execute_result"
    },
    {
     "data": {
      "text/plain": [
       "Pred is\t392433278.53552\t\n",
       "Real is\t392433230\t\n",
       "Diff is\t48.535517454147\t\n",
       "\t\n"
      ]
     },
     "execution_count": 1,
     "metadata": {},
     "output_type": "execute_result"
    },
    {
     "data": {
      "text/plain": [
       "Pred is\t392433274.21787\t\n",
       "Real is\t392433133\t\n",
       "Diff is\t141.21787369251\t\n",
       "\t\n"
      ]
     },
     "execution_count": 1,
     "metadata": {},
     "output_type": "execute_result"
    },
    {
     "data": {
      "text/plain": [
       "Pred is\t392433276.78675\t\n",
       "Real is\t392433300\t\n",
       "Diff is\t-23.21324890852\t\n",
       "\t\n"
      ]
     },
     "execution_count": 1,
     "metadata": {},
     "output_type": "execute_result"
    },
    {
     "data": {
      "text/plain": [
       "Pred is\t392433273.17822\t\n",
       "Real is\t392433229\t\n",
       "Diff is\t44.178222179413\t\n",
       "\t\n"
      ]
     },
     "execution_count": 1,
     "metadata": {},
     "output_type": "execute_result"
    },
    {
     "data": {
      "text/plain": [
       "Pred is\t392433276.78916\t\n",
       "Real is\t392433128\t\n",
       "Diff is\t148.78916305304\t\n",
       "\t\n"
      ]
     },
     "execution_count": 1,
     "metadata": {},
     "output_type": "execute_result"
    },
    {
     "data": {
      "text/plain": [
       "Pred is\t392433280.66907\t\n",
       "Real is\t392433130\t\n",
       "Diff is\t150.669067204\t\n",
       "\t\n"
      ]
     },
     "execution_count": 1,
     "metadata": {},
     "output_type": "execute_result"
    },
    {
     "data": {
      "text/plain": [
       "Pred is\t"
      ]
     },
     "execution_count": 1,
     "metadata": {},
     "output_type": "execute_result"
    },
    {
     "data": {
      "text/plain": [
       "392433279.98312\t\n",
       "Real is\t392433241\t\n",
       "Diff is\t38.98311650753\t\n",
       "\t\n"
      ]
     },
     "execution_count": 1,
     "metadata": {},
     "output_type": "execute_result"
    },
    {
     "data": {
      "text/plain": [
       "Pred is\t392433277.94145\t\n",
       "Real is\t392433228\t\n",
       "Diff is\t49.941454350948\t\n",
       "\t\n"
      ]
     },
     "execution_count": 1,
     "metadata": {},
     "output_type": "execute_result"
    },
    {
     "data": {
      "text/plain": [
       "Pred is\t392433276.74712\t\n",
       "Real is\t392433294\t\n",
       "Diff is\t-17.252881228924\t\n",
       "\t\n"
      ]
     },
     "execution_count": 1,
     "metadata": {},
     "output_type": "execute_result"
    },
    {
     "data": {
      "text/plain": [
       "Pred is\t392433276.18161\t\n",
       "Real is\t392433349\t\n",
       "Diff is\t-72.818390548229\t\n",
       "\t\n"
      ]
     },
     "execution_count": 1,
     "metadata": {},
     "output_type": "execute_result"
    },
    {
     "data": {
      "text/plain": [
       "Pred is\t392433274.0681\t\n",
       "Real is\t392433209\t\n",
       "Diff is\t65.068102538586\t\n",
       "\t\n"
      ]
     },
     "execution_count": 1,
     "metadata": {},
     "output_type": "execute_result"
    },
    {
     "data": {
      "text/plain": [
       "Pred is\t392433276.90364\t\n",
       "Real is\t392433184\t\n",
       "Diff is\t92.903636813164\t\n",
       "\t\n"
      ]
     },
     "execution_count": 1,
     "metadata": {},
     "output_type": "execute_result"
    },
    {
     "data": {
      "text/plain": [
       "Pred is\t392433275.48112\t\n",
       "Real is\t392433285\t\n",
       "Diff is\t-9.5188771486282\t\n",
       "\t\n"
      ]
     },
     "execution_count": 1,
     "metadata": {},
     "output_type": "execute_result"
    },
    {
     "data": {
      "text/plain": [
       "Pred is\t392433276.87216\t\n",
       "Real is\t392433306\t\n",
       "Diff is\t-29.127840042114\t\n",
       "\t\n"
      ]
     },
     "execution_count": 1,
     "metadata": {},
     "output_type": "execute_result"
    },
    {
     "data": {
      "text/plain": [
       "Pred is\t392433277.38272\t\n",
       "Real is\t392433188\t\n",
       "Diff is\t89.38271766901\t\n",
       "\t\n"
      ]
     },
     "execution_count": 1,
     "metadata": {},
     "output_type": "execute_result"
    },
    {
     "data": {
      "text/plain": [
       "Pred is\t392433279.84496\t\n",
       "Real is\t392433191\t\n",
       "Diff is\t88.844958126545\t\n",
       "\t\n"
      ]
     },
     "execution_count": 1,
     "metadata": {},
     "output_type": "execute_result"
    },
    {
     "data": {
      "text/plain": [
       "Pred is\t392433277.92356\t\n",
       "Real is\t392433163\t\n",
       "Diff is\t114.9235611558\t\n",
       "\t\n"
      ]
     },
     "execution_count": 1,
     "metadata": {},
     "output_type": "execute_result"
    },
    {
     "data": {
      "text/plain": [
       "Pred is\t392433277.0769\t\n",
       "Real is\t392433179\t\n",
       "Diff is\t98.07689589262\t\n",
       "\t\n"
      ]
     },
     "execution_count": 1,
     "metadata": {},
     "output_type": "execute_result"
    },
    {
     "data": {
      "text/plain": [
       "Pred is\t392433275.34939\t\n",
       "Real is\t392433187\t\n",
       "Diff is\t88.349394083023\t\n",
       "\t\n"
      ]
     },
     "execution_count": 1,
     "metadata": {},
     "output_type": "execute_result"
    },
    {
     "data": {
      "text/plain": [
       "Pred is\t392433279.22525\t\n",
       "Real is\t392433349\t\n",
       "Diff is\t-69.77474963665\t\n",
       "\t\n"
      ]
     },
     "execution_count": 1,
     "metadata": {},
     "output_type": "execute_result"
    },
    {
     "data": {
      "text/plain": [
       "Pred is\t392433273.85433\t\n",
       "Real is\t392433096\t\n",
       "Diff is\t177.85433459282\t\n",
       "\t\n"
      ]
     },
     "execution_count": 1,
     "metadata": {},
     "output_type": "execute_result"
    },
    {
     "data": {
      "text/plain": [
       "Pred is\t392433279.78263\t\n",
       "Real is\t392433284\t\n",
       "Diff is\t-4.2173678278923\t\n",
       "\t\n"
      ]
     },
     "execution_count": 1,
     "metadata": {},
     "output_type": "execute_result"
    },
    {
     "data": {
      "text/plain": [
       "Pred is\t392433278.4948\t\n",
       "Real is\t392433324\t\n",
       "Diff is\t-45.505201458931\t\n",
       "\t\n"
      ]
     },
     "execution_count": 1,
     "metadata": {},
     "output_type": "execute_result"
    },
    {
     "data": {
      "text/plain": [
       "Pred is\t392433275.76812\t\n",
       "Real is\t392433408\t\n",
       "Diff is\t-132.23187887669\t\n",
       "\t\n"
      ]
     },
     "execution_count": 1,
     "metadata": {},
     "output_type": "execute_result"
    },
    {
     "data": {
      "text/plain": [
       "Pred is\t"
      ]
     },
     "execution_count": 1,
     "metadata": {},
     "output_type": "execute_result"
    },
    {
     "data": {
      "text/plain": [
       "392433285.5736\t\n",
       "Real is\t392433341\t\n",
       "Diff is\t-55.426399052143\t\n",
       "\t\n"
      ]
     },
     "execution_count": 1,
     "metadata": {},
     "output_type": "execute_result"
    },
    {
     "data": {
      "text/plain": [
       "Pred is\t392433281.5822\t\n",
       "Real is\t392433117\t\n",
       "Diff is\t164.58220142126\t\n",
       "\t\n"
      ]
     },
     "execution_count": 1,
     "metadata": {},
     "output_type": "execute_result"
    },
    {
     "data": {
      "text/plain": [
       "Pred is\t392433278.24888\t\n",
       "Real is\t392433328\t\n",
       "Diff is\t-49.751116156578\t\n",
       "\t\n"
      ]
     },
     "execution_count": 1,
     "metadata": {},
     "output_type": "execute_result"
    },
    {
     "data": {
      "text/plain": [
       "Pred is\t392433274.42928\t\n",
       "Real is\t392433186\t\n",
       "Diff is\t88.429279446602\t\n",
       "\t\n"
      ]
     },
     "execution_count": 1,
     "metadata": {},
     "output_type": "execute_result"
    },
    {
     "data": {
      "text/plain": [
       "Pred is\t392433276.47068\t\n",
       "Real is\t392433291\t\n",
       "Diff is\t-14.529323220253\t\n",
       "\t\n"
      ]
     },
     "execution_count": 1,
     "metadata": {},
     "output_type": "execute_result"
    },
    {
     "data": {
      "text/plain": [
       "Pred is\t392433275.4493\t\n",
       "Real is\t392433302\t\n",
       "Diff is\t-26.550702989101\t\n",
       "\t\n"
      ]
     },
     "execution_count": 1,
     "metadata": {},
     "output_type": "execute_result"
    },
    {
     "data": {
      "text/plain": [
       "Pred is\t392433274.66863\t\n",
       "Real is\t392433200\t\n",
       "Diff is\t74.66862732172\t\n",
       "\t\n"
      ]
     },
     "execution_count": 1,
     "metadata": {},
     "output_type": "execute_result"
    },
    {
     "data": {
      "text/plain": [
       "Pred is\t392433277.15823\t\n",
       "Real is\t392433349\t\n",
       "Diff is\t-71.841771125793\t\n",
       "\t\n"
      ]
     },
     "execution_count": 1,
     "metadata": {},
     "output_type": "execute_result"
    },
    {
     "data": {
      "text/plain": [
       "Pred is\t392433272.17478\t\n",
       "Real is\t392433368\t\n",
       "Diff is\t-95.825218439102\t\n",
       "\t\n"
      ]
     },
     "execution_count": 1,
     "metadata": {},
     "output_type": "execute_result"
    },
    {
     "data": {
      "text/plain": [
       "Pred is\t392433279.47836\t\n",
       "Real is\t392433196\t\n",
       "Diff is\t83.478363633156\t\n",
       "\t\n"
      ]
     },
     "execution_count": 1,
     "metadata": {},
     "output_type": "execute_result"
    },
    {
     "data": {
      "text/plain": [
       "Pred is\t392433275.72717\t\n",
       "Real is\t392433278\t\n",
       "Diff is\t-2.2728317379951\t\n",
       "\t\n"
      ]
     },
     "execution_count": 1,
     "metadata": {},
     "output_type": "execute_result"
    },
    {
     "data": {
      "text/plain": [
       "Pred is\t392433281.84386\t\n",
       "Real is\t392433116\t\n",
       "Diff is\t165.84386336803\t\n",
       "\t\n"
      ]
     },
     "execution_count": 1,
     "metadata": {},
     "output_type": "execute_result"
    },
    {
     "data": {
      "text/plain": [
       "Pred is\t392433282.92537\t\n",
       "Real is\t392433310\t\n",
       "Diff is\t-27.07463401556\t\n",
       "\t\n"
      ]
     },
     "execution_count": 1,
     "metadata": {},
     "output_type": "execute_result"
    },
    {
     "data": {
      "text/plain": [
       "Pred is\t392433277.12392\t\n",
       "Real is\t392433204\t\n",
       "Diff is\t73.123917460442\t\n",
       "\t\n"
      ]
     },
     "execution_count": 1,
     "metadata": {},
     "output_type": "execute_result"
    },
    {
     "data": {
      "text/plain": [
       "Pred is\t392433273.79413\t\n",
       "Real is\t392433372\t\n",
       "Diff is\t-98.205874621868\t\n",
       "\t\n"
      ]
     },
     "execution_count": 1,
     "metadata": {},
     "output_type": "execute_result"
    },
    {
     "data": {
      "text/plain": [
       "Pred is\t392433276.17859\t\n",
       "Real is\t392433244\t\n",
       "Diff is\t32.178589999676\t\n",
       "\t\n"
      ]
     },
     "execution_count": 1,
     "metadata": {},
     "output_type": "execute_result"
    },
    {
     "data": {
      "text/plain": [
       "Pred is\t392433270.51784\t\n",
       "Real is\t392433095\t\n",
       "Diff is\t175.51784461737\t\n",
       "\t\n"
      ]
     },
     "execution_count": 1,
     "metadata": {},
     "output_type": "execute_result"
    },
    {
     "data": {
      "text/plain": [
       "Pred is\t392433275.0641\t\n",
       "Real is\t392433394\t\n",
       "Diff is\t-118.93590146303\t\n",
       "\t\n"
      ]
     },
     "execution_count": 1,
     "metadata": {},
     "output_type": "execute_result"
    },
    {
     "data": {
      "text/plain": [
       "Pred is\t392433277.85285\t\n",
       "Real is\t392433212\t\n",
       "Diff is\t65.85285192728\t\n",
       "\t\n"
      ]
     },
     "execution_count": 1,
     "metadata": {},
     "output_type": "execute_result"
    },
    {
     "data": {
      "text/plain": [
       "Pred is\t392433276.02807\t\n",
       "Real is\t392433321\t\n",
       "Diff is\t-44.971933662891\t\n",
       "\t\n"
      ]
     },
     "execution_count": 1,
     "metadata": {},
     "output_type": "execute_result"
    },
    {
     "data": {
      "text/plain": [
       "Pred is\t392433275.93339\t\n",
       "Real is\t392433136\t\n",
       "Diff is\t139.93339395523\t\n",
       "\t\n"
      ]
     },
     "execution_count": 1,
     "metadata": {},
     "output_type": "execute_result"
    },
    {
     "data": {
      "text/plain": [
       "Pred is\t392433274.76591\t\n",
       "Real is\t392433137\t\n",
       "Diff is\t137.76590663195\t\n",
       "\t\n"
      ]
     },
     "execution_count": 1,
     "metadata": {},
     "output_type": "execute_result"
    },
    {
     "data": {
      "text/plain": [
       "Pred is\t392433277.18774\t\n",
       "Real is\t392433204\t\n",
       "Diff is\t73.187743663788\t\n",
       "\t\n"
      ]
     },
     "execution_count": 1,
     "metadata": {},
     "output_type": "execute_result"
    },
    {
     "data": {
      "text/plain": [
       "Pred is\t392433276.96349\t\n",
       "Real is\t392433305\t\n",
       "Diff is\t-28.036507248878\t\n",
       "\t\n"
      ]
     },
     "execution_count": 1,
     "metadata": {},
     "output_type": "execute_result"
    },
    {
     "data": {
      "text/plain": [
       "Pred is\t392433277.4553\t\n",
       "Real is\t392433135\t\n",
       "Diff is\t142.4552962184\t\n",
       "\t\n"
      ]
     },
     "execution_count": 1,
     "metadata": {},
     "output_type": "execute_result"
    },
    {
     "data": {
      "text/plain": [
       "Pred is\t392433278.98374\t\n",
       "Real is\t"
      ]
     },
     "execution_count": 1,
     "metadata": {},
     "output_type": "execute_result"
    },
    {
     "data": {
      "text/plain": [
       "392433344\t\n",
       "Diff is\t-65.016257405281\t\n",
       "\t\n"
      ]
     },
     "execution_count": 1,
     "metadata": {},
     "output_type": "execute_result"
    },
    {
     "data": {
      "text/plain": [
       "Pred is\t392433275.51098\t\n",
       "Real is\t392433284\t\n",
       "Diff is\t-8.4890186786652\t\n",
       "\t\n"
      ]
     },
     "execution_count": 1,
     "metadata": {},
     "output_type": "execute_result"
    },
    {
     "data": {
      "text/plain": [
       "Pred is\t392433275.03586\t\n",
       "Real is\t392433215\t\n",
       "Diff is\t60.035860359669\t\n",
       "\t\n"
      ]
     },
     "execution_count": 1,
     "metadata": {},
     "output_type": "execute_result"
    },
    {
     "data": {
      "text/plain": [
       "Pred is\t392433274.98835\t\n",
       "Real is\t392433175\t\n",
       "Diff is\t99.988347530365\t\n",
       "\t\n"
      ]
     },
     "execution_count": 1,
     "metadata": {},
     "output_type": "execute_result"
    },
    {
     "data": {
      "text/plain": [
       "Pred is\t392433280.19806\t\n",
       "Real is\t392433233\t\n",
       "Diff is\t47.198055267334\t\n",
       "\t\n"
      ]
     },
     "execution_count": 1,
     "metadata": {},
     "output_type": "execute_result"
    },
    {
     "data": {
      "text/plain": [
       "Pred is\t392433272.20029\t\n",
       "Real is\t392433416\t\n",
       "Diff is\t-143.79971498251\t\n",
       "\t\n"
      ]
     },
     "execution_count": 1,
     "metadata": {},
     "output_type": "execute_result"
    },
    {
     "data": {
      "text/plain": [
       "Pred is\t392433276.09136\t\n",
       "Real is\t392433290\t\n",
       "Diff is\t-13.908642292023\t\n",
       "\t\n"
      ]
     },
     "execution_count": 1,
     "metadata": {},
     "output_type": "execute_result"
    },
    {
     "data": {
      "text/plain": [
       "Pred is\t392433278.99606\t\n",
       "Real is\t392433229\t\n",
       "Diff is\t49.996055185795\t\n",
       "\t\n"
      ]
     },
     "execution_count": 1,
     "metadata": {},
     "output_type": "execute_result"
    },
    {
     "data": {
      "text/plain": [
       "Pred is\t392433280.16206\t\n",
       "Real is\t392433259\t\n",
       "Diff is\t21.162056863308\t\n",
       "\t\n"
      ]
     },
     "execution_count": 1,
     "metadata": {},
     "output_type": "execute_result"
    },
    {
     "data": {
      "text/plain": [
       "Pred is\t392433275.43958\t\n",
       "Real is\t392433259\t\n",
       "Diff is\t16.439575910568\t\n",
       "\t\n"
      ]
     },
     "execution_count": 1,
     "metadata": {},
     "output_type": "execute_result"
    },
    {
     "data": {
      "text/plain": [
       "Pred is\t392433282.71141\t\n",
       "Real is\t392433202\t\n",
       "Diff is\t80.71140640974\t\n",
       "\t\n"
      ]
     },
     "execution_count": 1,
     "metadata": {},
     "output_type": "execute_result"
    },
    {
     "data": {
      "text/plain": [
       "Pred is\t392433280.63118\t\n",
       "Real is\t392433292\t\n",
       "Diff is\t-11.368818581104\t\n",
       "\t\n"
      ]
     },
     "execution_count": 1,
     "metadata": {},
     "output_type": "execute_result"
    },
    {
     "data": {
      "text/plain": [
       "Pred is\t392433274.66699\t\n",
       "Real is\t392433120\t\n",
       "Diff is\t154.66698759794\t\n",
       "\t\n"
      ]
     },
     "execution_count": 1,
     "metadata": {},
     "output_type": "execute_result"
    },
    {
     "data": {
      "text/plain": [
       "Pred is\t392433278.11254\t\n",
       "Real is\t392433308\t\n",
       "Diff is\t-29.887464523315\t\n",
       "\t\n"
      ]
     },
     "execution_count": 1,
     "metadata": {},
     "output_type": "execute_result"
    },
    {
     "data": {
      "text/plain": [
       "Pred is\t392433274.66741\t\n",
       "Real is\t392433230\t\n",
       "Diff is\t44.667407512665\t\n",
       "\t\n"
      ]
     },
     "execution_count": 1,
     "metadata": {},
     "output_type": "execute_result"
    },
    {
     "data": {
      "text/plain": [
       "Pred is\t392433272.94091\t\n",
       "Real is\t392433129\t\n",
       "Diff is\t143.94091135263\t\n",
       "\t\n"
      ]
     },
     "execution_count": 1,
     "metadata": {},
     "output_type": "execute_result"
    },
    {
     "data": {
      "text/plain": [
       "Pred is\t392433274.58407\t\n",
       "Real is\t392433366\t\n",
       "Diff is\t-91.415933907032\t\n",
       "\t\n"
      ]
     },
     "execution_count": 1,
     "metadata": {},
     "output_type": "execute_result"
    },
    {
     "data": {
      "text/plain": [
       "Pred is\t392433278.43047\t\n",
       "Real is\t392433330\t\n",
       "Diff is\t-51.56953316927\t\n",
       "\t\n"
      ]
     },
     "execution_count": 1,
     "metadata": {},
     "output_type": "execute_result"
    },
    {
     "data": {
      "text/plain": [
       "Pred is\t392433275.32039\t\n",
       "Real is\t392433330\t\n",
       "Diff is\t-54.679605066776\t\n",
       "\t\n"
      ]
     },
     "execution_count": 1,
     "metadata": {},
     "output_type": "execute_result"
    },
    {
     "data": {
      "text/plain": [
       "Pred is\t392433279.60154\t\n",
       "Real is\t392433159\t\n",
       "Diff is\t120.60154181719\t\n",
       "\t\n"
      ]
     },
     "execution_count": 1,
     "metadata": {},
     "output_type": "execute_result"
    },
    {
     "data": {
      "text/plain": [
       "Pred is\t392433275.64688\t\n",
       "Real is\t392433113\t\n",
       "Diff is\t162.64687794447\t\n",
       "\t\n"
      ]
     },
     "execution_count": 1,
     "metadata": {},
     "output_type": "execute_result"
    },
    {
     "data": {
      "text/plain": [
       "Pred is\t392433276.32578\t\n",
       "Real is\t392433236\t\n",
       "Diff is\t40.325777649879\t\n",
       "\t\n"
      ]
     },
     "execution_count": 1,
     "metadata": {},
     "output_type": "execute_result"
    },
    {
     "data": {
      "text/plain": [
       "Pred is\t392433281.26573\t\n",
       "Real is\t392433260\t\n",
       "Diff is\t21.265733122826\t\n",
       "\t\n"
      ]
     },
     "execution_count": 1,
     "metadata": {},
     "output_type": "execute_result"
    },
    {
     "data": {
      "text/plain": [
       "Pred is\t392433275.12651\t\n",
       "Real is\t392433370\t\n",
       "Diff is\t-94.873485803604\t\n",
       "\t\n"
      ]
     },
     "execution_count": 1,
     "metadata": {},
     "output_type": "execute_result"
    },
    {
     "data": {
      "text/plain": [
       "Pred is\t392433274.93601\t\n",
       "Real is\t392433343\t\n",
       "Diff is\t-68.063993155956\t\n",
       "\t\n"
      ]
     },
     "execution_count": 1,
     "metadata": {},
     "output_type": "execute_result"
    },
    {
     "data": {
      "text/plain": [
       "Pred is\t392433276.47464\t\n",
       "Real is\t392433095\t\n",
       "Diff is\t181.47463929653\t\n",
       "\t\n"
      ]
     },
     "execution_count": 1,
     "metadata": {},
     "output_type": "execute_result"
    },
    {
     "data": {
      "text/plain": [
       "Pred is\t392433274.16978\t\n",
       "Real is\t392433187\t\n",
       "Diff is\t87.169778287411\t\n",
       "\t\n"
      ]
     },
     "execution_count": 1,
     "metadata": {},
     "output_type": "execute_result"
    },
    {
     "data": {
      "text/plain": [
       "Pred is\t392433275.10225\t\n",
       "Real is\t392433415\t\n",
       "Diff is\t-139.89775025845\t\n",
       "\t\n"
      ]
     },
     "execution_count": 1,
     "metadata": {},
     "output_type": "execute_result"
    },
    {
     "data": {
      "text/plain": [
       "Pred is\t392433283.0471\t\n",
       "Real is\t392433167\t\n",
       "Diff is\t116.04709523916\t\n",
       "\t\n"
      ]
     },
     "execution_count": 1,
     "metadata": {},
     "output_type": "execute_result"
    },
    {
     "data": {
      "text/plain": [
       "Pred is\t392433271.71345\t\n",
       "Real is\t392433341\t\n",
       "Diff is\t-69.286553025246\t"
      ]
     },
     "execution_count": 1,
     "metadata": {},
     "output_type": "execute_result"
    },
    {
     "data": {
      "text/plain": [
       "\n",
       "\t\n"
      ]
     },
     "execution_count": 1,
     "metadata": {},
     "output_type": "execute_result"
    },
    {
     "data": {
      "text/plain": [
       "Pred is\t392433279.00211\t\n",
       "Real is\t392433260\t\n",
       "Diff is\t19.002114593983\t\n",
       "\t\n"
      ]
     },
     "execution_count": 1,
     "metadata": {},
     "output_type": "execute_result"
    },
    {
     "data": {
      "text/plain": [
       "Pred is\t392433280.20198\t\n",
       "Real is\t392433331\t\n",
       "Diff is\t-50.798016369343\t\n",
       "\t\n"
      ]
     },
     "execution_count": 1,
     "metadata": {},
     "output_type": "execute_result"
    },
    {
     "data": {
      "text/plain": [
       "Pred is\t392433276.22759\t\n",
       "Real is\t392433341\t\n",
       "Diff is\t-64.772412240505\t\n",
       "\t\n"
      ]
     },
     "execution_count": 1,
     "metadata": {},
     "output_type": "execute_result"
    },
    {
     "data": {
      "text/plain": [
       "Pred is\t392433275.86881\t\n",
       "Real is\t392433385\t\n",
       "Diff is\t-109.13119107485\t\n",
       "\t\n"
      ]
     },
     "execution_count": 1,
     "metadata": {},
     "output_type": "execute_result"
    },
    {
     "data": {
      "text/plain": [
       "Pred is\t392433276.60404\t\n",
       "Real is\t392433195\t\n",
       "Diff is\t81.604037165642\t\n",
       "\t\n"
      ]
     },
     "execution_count": 1,
     "metadata": {},
     "output_type": "execute_result"
    },
    {
     "data": {
      "text/plain": [
       "Pred is\t392433282.45488\t\n",
       "Real is\t392433243\t\n",
       "Diff is\t39.454882264137\t\n",
       "\t\n"
      ]
     },
     "execution_count": 1,
     "metadata": {},
     "output_type": "execute_result"
    },
    {
     "data": {
      "text/plain": [
       "Pred is\t392433275.04551\t\n",
       "Real is\t392433205\t\n",
       "Diff is\t70.045506060123\t\n",
       "\t\n"
      ]
     },
     "execution_count": 1,
     "metadata": {},
     "output_type": "execute_result"
    },
    {
     "data": {
      "text/plain": [
       "Pred is\t392433270.20712\t\n",
       "Real is\t392433191\t\n",
       "Diff is\t79.207123577595\t\n",
       "\t\n"
      ]
     },
     "execution_count": 1,
     "metadata": {},
     "output_type": "execute_result"
    },
    {
     "data": {
      "text/plain": [
       "Pred is\t392433279.07202\t\n",
       "Real is\t392433315\t\n",
       "Diff is\t-35.92798012495\t\n",
       "\t\n"
      ]
     },
     "execution_count": 1,
     "metadata": {},
     "output_type": "execute_result"
    },
    {
     "data": {
      "text/plain": [
       "Pred is\t392433281.74428\t\n",
       "Real is\t392433284\t\n",
       "Diff is\t-2.2557207345963\t\n",
       "\t\n"
      ]
     },
     "execution_count": 1,
     "metadata": {},
     "output_type": "execute_result"
    },
    {
     "data": {
      "text/plain": [
       "Pred is\t392433277.10316\t\n",
       "Real is\t392433336\t\n",
       "Diff is\t-58.896835684776\t\n",
       "\t\n"
      ]
     },
     "execution_count": 1,
     "metadata": {},
     "output_type": "execute_result"
    },
    {
     "data": {
      "text/plain": [
       "Pred is\t392433278.31254\t\n",
       "Real is\t392433403\t\n",
       "Diff is\t-124.68745982647\t\n",
       "\t\n"
      ]
     },
     "execution_count": 1,
     "metadata": {},
     "output_type": "execute_result"
    },
    {
     "data": {
      "text/plain": [
       "Pred is\t392433277.4062\t\n",
       "Real is\t392433113\t\n",
       "Diff is\t164.40619784594\t\n",
       "\t\n"
      ]
     },
     "execution_count": 1,
     "metadata": {},
     "output_type": "execute_result"
    },
    {
     "data": {
      "text/plain": [
       "Pred is\t392433275.9208\t\n",
       "Real is\t392433323\t\n",
       "Diff is\t-47.079198598862\t\n",
       "\t\n"
      ]
     },
     "execution_count": 1,
     "metadata": {},
     "output_type": "execute_result"
    },
    {
     "data": {
      "text/plain": [
       "Pred is\t392433280.13173\t\n",
       "Real is\t392433145\t\n",
       "Diff is\t135.1317281723\t\n",
       "\t\n"
      ]
     },
     "execution_count": 1,
     "metadata": {},
     "output_type": "execute_result"
    },
    {
     "data": {
      "text/plain": [
       "Pred is\t392433278.10671\t\n",
       "Real is\t392433262\t\n",
       "Diff is\t16.106711566448\t\n",
       "\t\n"
      ]
     },
     "execution_count": 1,
     "metadata": {},
     "output_type": "execute_result"
    },
    {
     "data": {
      "text/plain": [
       "Pred is\t392433271.75118\t\n",
       "Real is\t392433273\t\n",
       "Diff is\t-1.2488180994987\t\n",
       "\t\n"
      ]
     },
     "execution_count": 1,
     "metadata": {},
     "output_type": "execute_result"
    },
    {
     "data": {
      "text/plain": [
       "Pred is\t392433277.99261\t\n",
       "Real is\t392433370\t\n",
       "Diff is\t-92.007390379906\t\n",
       "\t\n"
      ]
     },
     "execution_count": 1,
     "metadata": {},
     "output_type": "execute_result"
    },
    {
     "data": {
      "text/plain": [
       "Pred is\t392433276.94037\t\n",
       "Real is\t392433394\t\n",
       "Diff is\t-117.05962634087\t\n",
       "\t\n"
      ]
     },
     "execution_count": 1,
     "metadata": {},
     "output_type": "execute_result"
    },
    {
     "data": {
      "text/plain": [
       "Pred is\t392433275.27681\t\n",
       "Real is\t392433244\t\n",
       "Diff is\t31.276807188988\t\n",
       "\t\n"
      ]
     },
     "execution_count": 1,
     "metadata": {},
     "output_type": "execute_result"
    },
    {
     "data": {
      "text/plain": [
       "Pred is\t392433282.70885\t\n",
       "Real is\t392433172\t\n",
       "Diff is\t110.7088508606\t\n",
       "\t\n"
      ]
     },
     "execution_count": 1,
     "metadata": {},
     "output_type": "execute_result"
    },
    {
     "data": {
      "text/plain": [
       "Pred is\t392433282.05797\t\n",
       "Real is\t392433291\t\n",
       "Diff is\t-8.9420302510262\t\n",
       "\t\n"
      ]
     },
     "execution_count": 1,
     "metadata": {},
     "output_type": "execute_result"
    },
    {
     "data": {
      "text/plain": [
       "Pred is\t392433274.58495\t\n",
       "Real is\t392433255\t\n",
       "Diff is\t19.584948420525\t\n",
       "\t\n"
      ]
     },
     "execution_count": 1,
     "metadata": {},
     "output_type": "execute_result"
    },
    {
     "data": {
      "text/plain": [
       "Pred is\t392433274.89825\t\n",
       "Real is\t392433279\t\n",
       "Diff is\t-4.1017516255379\t\n",
       "\t\n"
      ]
     },
     "execution_count": 1,
     "metadata": {},
     "output_type": "execute_result"
    },
    {
     "data": {
      "text/plain": [
       "Pred is\t392433278.10427\t\n",
       "Real is\t392433347\t\n",
       "Diff is\t-68.895727157593\t\n",
       "\t\n"
      ]
     },
     "execution_count": 1,
     "metadata": {},
     "output_type": "execute_result"
    },
    {
     "data": {
      "text/plain": [
       "Pred is\t392433279.36069\t\n",
       "Real is\t392433324\t\n",
       "Diff is\t-44.639313578606\t\n",
       "\t\n"
      ]
     },
     "execution_count": 1,
     "metadata": {},
     "output_type": "execute_result"
    },
    {
     "data": {
      "text/plain": [
       "Pred is\t392433273.6259\t\n",
       "Real is\t392433341\t\n",
       "Diff is\t-67.374100089073\t\n",
       "\t\n"
      ]
     },
     "execution_count": 1,
     "metadata": {},
     "output_type": "execute_result"
    },
    {
     "data": {
      "text/plain": [
       "Pred is\t392433274.44702\t\n",
       "Real is\t392433375\t\n",
       "Diff is\t-100.55298364162\t\n",
       "\t\n"
      ]
     },
     "execution_count": 1,
     "metadata": {},
     "output_type": "execute_result"
    },
    {
     "data": {
      "text/plain": [
       "Pred is\t392433275.28805\t\n",
       "Real is\t392433374\t\n",
       "Diff is\t-98.711946368217\t\n",
       "\t\n"
      ]
     },
     "execution_count": 1,
     "metadata": {},
     "output_type": "execute_result"
    },
    {
     "data": {
      "text/plain": [
       "Pred is\t392433270.98086\t\n",
       "Real is\t392433251\t\n",
       "Diff is\t19.98086220026\t\n",
       "\t\n"
      ]
     },
     "execution_count": 1,
     "metadata": {},
     "output_type": "execute_result"
    },
    {
     "data": {
      "text/plain": [
       "Pred is\t392433272.70092\t\n"
      ]
     },
     "execution_count": 1,
     "metadata": {},
     "output_type": "execute_result"
    },
    {
     "data": {
      "text/plain": [
       "Real is\t392433287\t\n",
       "Diff is\t-14.29907733202\t\n",
       "\t\n"
      ]
     },
     "execution_count": 1,
     "metadata": {},
     "output_type": "execute_result"
    },
    {
     "data": {
      "text/plain": [
       "Pred is\t392433278.50579\t\n",
       "Real is\t392433259\t\n",
       "Diff is\t19.505791544914\t\n",
       "\t\n"
      ]
     },
     "execution_count": 1,
     "metadata": {},
     "output_type": "execute_result"
    },
    {
     "data": {
      "text/plain": [
       "Pred is\t392433277.65637\t\n",
       "Real is\t392433347\t\n",
       "Diff is\t-69.34362578392\t\n",
       "\t\n"
      ]
     },
     "execution_count": 1,
     "metadata": {},
     "output_type": "execute_result"
    },
    {
     "data": {
      "text/plain": [
       "Pred is\t392433275.85455\t\n",
       "Real is\t392433176\t\n",
       "Diff is\t99.854553461075\t\n",
       "\t\n"
      ]
     },
     "execution_count": 1,
     "metadata": {},
     "output_type": "execute_result"
    },
    {
     "data": {
      "text/plain": [
       "Pred is\t392433274.39814\t\n",
       "Real is\t392433389\t\n",
       "Diff is\t-114.6018602252\t\n",
       "\t\n"
      ]
     },
     "execution_count": 1,
     "metadata": {},
     "output_type": "execute_result"
    },
    {
     "data": {
      "text/plain": [
       "Pred is\t392433277.26759\t\n",
       "Real is\t392433310\t\n",
       "Diff is\t-32.732406318188\t\n",
       "\t\n"
      ]
     },
     "execution_count": 1,
     "metadata": {},
     "output_type": "execute_result"
    },
    {
     "data": {
      "text/plain": [
       "Pred is\t392433275.37193\t\n",
       "Real is\t392433364\t\n",
       "Diff is\t-88.628066062927\t\n",
       "\t\n"
      ]
     },
     "execution_count": 1,
     "metadata": {},
     "output_type": "execute_result"
    },
    {
     "data": {
      "text/plain": [
       "Pred is\t392433276.8631\t\n",
       "Real is\t392433403\t\n",
       "Diff is\t-126.13689911366\t\n",
       "\t\n"
      ]
     },
     "execution_count": 1,
     "metadata": {},
     "output_type": "execute_result"
    },
    {
     "data": {
      "text/plain": [
       "Pred is\t392433275.40318\t\n",
       "Real is\t392433153\t\n",
       "Diff is\t122.40317946672\t\n",
       "\t\n"
      ]
     },
     "execution_count": 1,
     "metadata": {},
     "output_type": "execute_result"
    },
    {
     "data": {
      "text/plain": [
       "Pred is\t392433276.04558\t\n",
       "Real is\t392433314\t\n",
       "Diff is\t-37.954424202442\t\n",
       "\t\n"
      ]
     },
     "execution_count": 1,
     "metadata": {},
     "output_type": "execute_result"
    },
    {
     "data": {
      "text/plain": [
       "Pred is\t392433274.23502\t\n",
       "Real is\t392433309\t\n",
       "Diff is\t-34.764980971813\t\n",
       "\t\n"
      ]
     },
     "execution_count": 1,
     "metadata": {},
     "output_type": "execute_result"
    },
    {
     "data": {
      "text/plain": [
       "Pred is\t392433277.06941\t\n",
       "Real is\t392433203\t\n",
       "Diff is\t74.06940561533\t\n",
       "\t\n"
      ]
     },
     "execution_count": 1,
     "metadata": {},
     "output_type": "execute_result"
    },
    {
     "data": {
      "text/plain": [
       "Pred is\t392433275.82879\t\n",
       "Real is\t392433140\t\n",
       "Diff is\t135.82878834009\t\n",
       "\t\n"
      ]
     },
     "execution_count": 1,
     "metadata": {},
     "output_type": "execute_result"
    },
    {
     "data": {
      "text/plain": [
       "Pred is\t392433277.22762\t\n",
       "Real is\t392433236\t\n",
       "Diff is\t41.227623283863\t\n",
       "\t\n"
      ]
     },
     "execution_count": 1,
     "metadata": {},
     "output_type": "execute_result"
    },
    {
     "data": {
      "text/plain": [
       "Pred is\t392433279.75703\t\n",
       "Real is\t392433225\t\n",
       "Diff is\t54.757032334805\t\n",
       "\t\n"
      ]
     },
     "execution_count": 1,
     "metadata": {},
     "output_type": "execute_result"
    },
    {
     "data": {
      "text/plain": [
       "Pred is\t392433277.68622\t\n",
       "Real is\t392433153\t\n",
       "Diff is\t124.68622010946\t\n",
       "\t\n"
      ]
     },
     "execution_count": 1,
     "metadata": {},
     "output_type": "execute_result"
    },
    {
     "data": {
      "text/plain": [
       "Pred is\t392433275.8715\t\n",
       "Real is\t392433206\t\n",
       "Diff is\t69.871495842934\t\n",
       "\t\n"
      ]
     },
     "execution_count": 1,
     "metadata": {},
     "output_type": "execute_result"
    },
    {
     "data": {
      "text/plain": [
       "Pred is\t392433275.55499\t\n",
       "Real is\t392433329\t\n",
       "Diff is\t-53.44500875473\t\n",
       "\t\n"
      ]
     },
     "execution_count": 1,
     "metadata": {},
     "output_type": "execute_result"
    },
    {
     "data": {
      "text/plain": [
       "Pred is\t392433275.1635\t\n",
       "Real is\t392433313\t\n",
       "Diff is\t-37.836501181126\t\n",
       "\t\n"
      ]
     },
     "execution_count": 1,
     "metadata": {},
     "output_type": "execute_result"
    },
    {
     "data": {
      "text/plain": [
       "Pred is\t392433280.81577\t\n",
       "Real is\t392433184\t\n",
       "Diff is\t96.815771460533\t\n",
       "\t\n"
      ]
     },
     "execution_count": 1,
     "metadata": {},
     "output_type": "execute_result"
    },
    {
     "data": {
      "text/plain": [
       "Pred is\t392433278.61808\t\n",
       "Real is\t392433310\t\n",
       "Diff is\t-31.381916642189\t\n",
       "\t\n"
      ]
     },
     "execution_count": 1,
     "metadata": {},
     "output_type": "execute_result"
    },
    {
     "data": {
      "text/plain": [
       "Pred is\t392433280.35256\t\n",
       "Real is\t392433252\t\n",
       "Diff is\t28.352556407452\t\n",
       "\t\n"
      ]
     },
     "execution_count": 1,
     "metadata": {},
     "output_type": "execute_result"
    },
    {
     "data": {
      "text/plain": [
       "Pred is\t392433273.89805\t\n",
       "Real is\t392433347\t\n",
       "Diff is\t-73.101945102215\t\n",
       "\t\n"
      ]
     },
     "execution_count": 1,
     "metadata": {},
     "output_type": "execute_result"
    },
    {
     "data": {
      "text/plain": [
       "Pred is\t392433272.97497\t\n",
       "Real is\t392433269\t\n",
       "Diff is\t3.97497433424\t\n",
       "\t\n"
      ]
     },
     "execution_count": 1,
     "metadata": {},
     "output_type": "execute_result"
    },
    {
     "data": {
      "text/plain": [
       "Pred is\t392433273.84816\t\n",
       "Real is\t392433347\t\n",
       "Diff is\t-73.151838779449\t\n",
       "\t\n"
      ]
     },
     "execution_count": 1,
     "metadata": {},
     "output_type": "execute_result"
    },
    {
     "data": {
      "text/plain": [
       "Pred is\t392433274.1716\t\n",
       "Real is\t392433294\t\n",
       "Diff is\t-19.828395783901\t\n",
       "\t\n"
      ]
     },
     "execution_count": 1,
     "metadata": {},
     "output_type": "execute_result"
    },
    {
     "data": {
      "text/plain": [
       "Pred is\t392433280.15102\t\n",
       "Real is\t392433185\t\n",
       "Diff is\t95.151019454002\t\n",
       "\t\n"
      ]
     },
     "execution_count": 1,
     "metadata": {},
     "output_type": "execute_result"
    },
    {
     "data": {
      "text/plain": [
       "Pred is\t392433281.94248\t\n",
       "Real is\t392433167\t\n",
       "Diff is\t114.94248116016\t\n",
       "\t\n"
      ]
     },
     "execution_count": 1,
     "metadata": {},
     "output_type": "execute_result"
    },
    {
     "data": {
      "text/plain": [
       "Pred is\t392433275.03838\t\n",
       "Real is\t392433100\t\n",
       "Diff is\t175.03838342428\t\n",
       "\t\n"
      ]
     },
     "execution_count": 1,
     "metadata": {},
     "output_type": "execute_result"
    },
    {
     "data": {
      "text/plain": [
       "Pred is\t392433275.16025\t\n",
       "Real is\t392433381\t\n",
       "Diff is\t-105.83974927664\t\n",
       "\t\n"
      ]
     },
     "execution_count": 1,
     "metadata": {},
     "output_type": "execute_result"
    },
    {
     "data": {
      "text/plain": [
       "Pred is\t392433277.19655\t\n",
       "Real is\t392433245\t\n",
       "Diff is\t32.196551918983\t\n",
       "\t\n"
      ]
     },
     "execution_count": 1,
     "metadata": {},
     "output_type": "execute_result"
    },
    {
     "data": {
      "text/plain": [
       "Pred is\t392433276.08556\t\n",
       "Real is\t392433205\t\n",
       "Diff is\t71.08556085825\t\n",
       "\t\n"
      ]
     },
     "execution_count": 1,
     "metadata": {},
     "output_type": "execute_result"
    },
    {
     "data": {
      "text/plain": [
       "Pred is\t392433278.82717\t\n",
       "Real is\t392433336\t\n",
       "Diff is\t-57.172834813595\t\n",
       "\t\n"
      ]
     },
     "execution_count": 1,
     "metadata": {},
     "output_type": "execute_result"
    },
    {
     "data": {
      "text/plain": [
       "Pred is\t392433277.7496\t\n",
       "Real is\t392433201\t\n",
       "Diff is\t76.749599099159\t\n",
       "\t\n"
      ]
     },
     "execution_count": 1,
     "metadata": {},
     "output_type": "execute_result"
    },
    {
     "data": {
      "text/plain": [
       "Pred is\t392433276.19841\t\n",
       "Real is\t392433226\t\n",
       "Diff is\t50.198406815529\t\n",
       "\t\n"
      ]
     },
     "execution_count": 1,
     "metadata": {},
     "output_type": "execute_result"
    },
    {
     "data": {
      "text/plain": [
       "Pred is\t392433274.26572\t\n",
       "Real is\t392433371\t\n",
       "Diff is\t-96.734281361103\t\n",
       "\t\n"
      ]
     },
     "execution_count": 1,
     "metadata": {},
     "output_type": "execute_result"
    },
    {
     "data": {
      "text/plain": [
       "Pred is\t392433277.8181\t\n",
       "Real is\t392433320\t\n",
       "Diff is\t-42.181899726391\t\n",
       "\t\n"
      ]
     },
     "execution_count": 1,
     "metadata": {},
     "output_type": "execute_result"
    },
    {
     "data": {
      "text/plain": [
       "Pred is\t392433274.99986\t\n",
       "Real is\t392433193\t\n",
       "Diff is\t81.999859035015\t\n",
       "\t\n"
      ]
     },
     "execution_count": 1,
     "metadata": {},
     "output_type": "execute_result"
    },
    {
     "data": {
      "text/plain": [
       "Pred is\t392433280.35678\t\n",
       "Real is\t392433232\t\n",
       "Diff is\t48.356784939766\t\n",
       "\t\n"
      ]
     },
     "execution_count": 1,
     "metadata": {},
     "output_type": "execute_result"
    },
    {
     "data": {
      "text/plain": [
       "Pred is\t392433280.13124\t\n",
       "Real is\t392433305\t\n",
       "Diff is\t-24.86876231432\t\n",
       "\t\n"
      ]
     },
     "execution_count": 1,
     "metadata": {},
     "output_type": "execute_result"
    },
    {
     "data": {
      "text/plain": [
       "Pred is\t392433281.74254\t\n",
       "Real is\t392433210\t\n",
       "Diff is\t71.742538809776\t\n"
      ]
     },
     "execution_count": 1,
     "metadata": {},
     "output_type": "execute_result"
    },
    {
     "data": {
      "text/plain": [
       "\t\n"
      ]
     },
     "execution_count": 1,
     "metadata": {},
     "output_type": "execute_result"
    },
    {
     "data": {
      "text/plain": [
       "Pred is\t392433276.41607\t\n",
       "Real is\t392433347\t\n",
       "Diff is\t-70.583928585052\t\n",
       "\t\n"
      ]
     },
     "execution_count": 1,
     "metadata": {},
     "output_type": "execute_result"
    },
    {
     "data": {
      "text/plain": [
       "Pred is\t392433274.3341\t\n",
       "Real is\t392433223\t\n",
       "Diff is\t51.334095358849\t\n",
       "\t\n"
      ]
     },
     "execution_count": 1,
     "metadata": {},
     "output_type": "execute_result"
    },
    {
     "data": {
      "text/plain": [
       "Pred is\t392433279.11009\t\n",
       "Real is\t392433097\t\n",
       "Diff is\t182.11009156704\t\n",
       "\t\n"
      ]
     },
     "execution_count": 1,
     "metadata": {},
     "output_type": "execute_result"
    },
    {
     "data": {
      "text/plain": [
       "Pred is\t392433275.69611\t\n",
       "Real is\t392433131\t\n",
       "Diff is\t144.69610500336\t\n",
       "\t\n"
      ]
     },
     "execution_count": 1,
     "metadata": {},
     "output_type": "execute_result"
    },
    {
     "data": {
      "text/plain": [
       "Pred is\t392433278.88772\t\n",
       "Real is\t392433347\t\n",
       "Diff is\t-68.112278580666\t\n",
       "\t\n"
      ]
     },
     "execution_count": 1,
     "metadata": {},
     "output_type": "execute_result"
    },
    {
     "data": {
      "text/plain": [
       "Pred is\t392433275.57823\t\n",
       "Real is\t392433255\t\n",
       "Diff is\t20.578228294849\t\n",
       "\t\n"
      ]
     },
     "execution_count": 1,
     "metadata": {},
     "output_type": "execute_result"
    },
    {
     "data": {
      "text/plain": [
       "Pred is\t392433280.40888\t\n",
       "Real is\t392433150\t\n",
       "Diff is\t130.40888404846\t\n",
       "\t\n"
      ]
     },
     "execution_count": 1,
     "metadata": {},
     "output_type": "execute_result"
    },
    {
     "data": {
      "text/plain": [
       "Pred is\t392433274.92789\t\n",
       "Real is\t392433099\t\n",
       "Diff is\t175.9278948307\t\n",
       "\t\n"
      ]
     },
     "execution_count": 1,
     "metadata": {},
     "output_type": "execute_result"
    },
    {
     "data": {
      "text/plain": [
       "Pred is\t392433279.26451\t\n",
       "Real is\t392433210\t\n",
       "Diff is\t69.264508903027\t\n",
       "\t\n"
      ]
     },
     "execution_count": 1,
     "metadata": {},
     "output_type": "execute_result"
    },
    {
     "data": {
      "text/plain": [
       "Pred is\t392433274.67736\t\n",
       "Real is\t392433341\t\n",
       "Diff is\t-66.322638630867\t\n",
       "\t\n"
      ]
     },
     "execution_count": 1,
     "metadata": {},
     "output_type": "execute_result"
    },
    {
     "data": {
      "text/plain": [
       "Pred is\t392433275.87665\t\n",
       "Real is\t392433291\t\n",
       "Diff is\t-15.123352468014\t\n",
       "\t\n"
      ]
     },
     "execution_count": 1,
     "metadata": {},
     "output_type": "execute_result"
    },
    {
     "data": {
      "text/plain": [
       "Pred is\t392433274.68338\t\n",
       "Real is\t392433341\t\n",
       "Diff is\t-66.316623389721\t\n",
       "\t\n"
      ]
     },
     "execution_count": 1,
     "metadata": {},
     "output_type": "execute_result"
    },
    {
     "data": {
      "text/plain": [
       "Pred is\t392433275.26545\t\n",
       "Real is\t392433341\t\n",
       "Diff is\t-65.734552562237\t\n",
       "\t\n"
      ]
     },
     "execution_count": 1,
     "metadata": {},
     "output_type": "execute_result"
    },
    {
     "data": {
      "text/plain": [
       "Pred is\t392433276.39376\t\n",
       "Real is\t392433341\t\n",
       "Diff is\t-64.606238007545\t\n",
       "\t\n"
      ]
     },
     "execution_count": 1,
     "metadata": {},
     "output_type": "execute_result"
    },
    {
     "data": {
      "text/plain": [
       "Pred is\t392433276.21401\t\n",
       "Real is\t392433251\t\n",
       "Diff is\t25.214011311531\t\n",
       "\t\n"
      ]
     },
     "execution_count": 1,
     "metadata": {},
     "output_type": "execute_result"
    },
    {
     "data": {
      "text/plain": [
       "Pred is\t392433276.5346\t\n",
       "Real is\t392433328\t\n",
       "Diff is\t-51.465402960777\t\n",
       "\t\n"
      ]
     },
     "execution_count": 1,
     "metadata": {},
     "output_type": "execute_result"
    },
    {
     "data": {
      "text/plain": [
       "Pred is\t392433275.98914\t\n",
       "Real is\t392433148\t\n",
       "Diff is\t127.98913753033\t\n",
       "\t\n"
      ]
     },
     "execution_count": 1,
     "metadata": {},
     "output_type": "execute_result"
    },
    {
     "data": {
      "text/plain": [
       "Pred is\t392433276.55623\t\n",
       "Real is\t392433226\t\n",
       "Diff is\t50.556232750416\t\n",
       "\t\n"
      ]
     },
     "execution_count": 1,
     "metadata": {},
     "output_type": "execute_result"
    },
    {
     "data": {
      "text/plain": [
       "Pred is\t392433275.21459\t\n",
       "Real is\t392433288\t\n",
       "Diff is\t-12.785411000252\t\n",
       "\t\n"
      ]
     },
     "execution_count": 1,
     "metadata": {},
     "output_type": "execute_result"
    },
    {
     "data": {
      "text/plain": [
       "Pred is\t392433280.88711\t\n",
       "Real is\t392433225\t\n",
       "Diff is\t55.887110471725\t\n",
       "\t\n"
      ]
     },
     "execution_count": 1,
     "metadata": {},
     "output_type": "execute_result"
    },
    {
     "data": {
      "text/plain": [
       "Pred is\t392433279.80249\t\n",
       "Real is\t392433133\t\n",
       "Diff is\t146.80249089003\t\n",
       "\t\n"
      ]
     },
     "execution_count": 1,
     "metadata": {},
     "output_type": "execute_result"
    },
    {
     "data": {
      "text/plain": [
       "Pred is\t392433274.91016\t\n",
       "Real is\t392433127\t\n",
       "Diff is\t147.91015690565\t\n",
       "\t\n"
      ]
     },
     "execution_count": 1,
     "metadata": {},
     "output_type": "execute_result"
    },
    {
     "data": {
      "text/plain": [
       "Pred is\t392433277.20587\t\n",
       "Real is\t392433146\t\n",
       "Diff is\t131.20587205887\t\n",
       "\t\n"
      ]
     },
     "execution_count": 1,
     "metadata": {},
     "output_type": "execute_result"
    },
    {
     "data": {
      "text/plain": [
       "Pred is\t392433277.02725\t\n",
       "Real is\t392433381\t\n",
       "Diff is\t-103.97275483608\t\n",
       "\t\n"
      ]
     },
     "execution_count": 1,
     "metadata": {},
     "output_type": "execute_result"
    },
    {
     "data": {
      "text/plain": [
       "Pred is\t392433276.48135\t\n",
       "Real is\t392433364\t\n",
       "Diff is\t-87.518653690815\t\n",
       "\t\n"
      ]
     },
     "execution_count": 1,
     "metadata": {},
     "output_type": "execute_result"
    },
    {
     "data": {
      "text/plain": [
       "Pred is\t392433279.43262\t\n",
       "Real is\t392433317\t\n",
       "Diff is\t-37.567378401756\t\n",
       "\t\n"
      ]
     },
     "execution_count": 1,
     "metadata": {},
     "output_type": "execute_result"
    },
    {
     "data": {
      "text/plain": [
       "Pred is\t392433276.01913\t\n",
       "Real is\t392433210\t\n",
       "Diff is\t66.019131064415\t\n",
       "\t\n"
      ]
     },
     "execution_count": 1,
     "metadata": {},
     "output_type": "execute_result"
    },
    {
     "data": {
      "text/plain": [
       "Pred is\t392433277.42022\t\n",
       "Real is\t392433287\t\n",
       "Diff is\t-9.5797821879387\t\n",
       "\t\n"
      ]
     },
     "execution_count": 1,
     "metadata": {},
     "output_type": "execute_result"
    },
    {
     "data": {
      "text/plain": [
       "Pred is\t392433277.78338\t\n",
       "Real is\t392433363\t\n",
       "Diff is\t-85.216618657112\t\n",
       "\t\n"
      ]
     },
     "execution_count": 1,
     "metadata": {},
     "output_type": "execute_result"
    },
    {
     "data": {
      "text/plain": [
       "Pred is\t392433278.43886\t\n",
       "Real is\t392433227\t\n",
       "Diff is\t51.438860237598\t\n",
       "\t\n"
      ]
     },
     "execution_count": 1,
     "metadata": {},
     "output_type": "execute_result"
    },
    {
     "data": {
      "text/plain": [
       "Pred is\t392433276.68629\t\n",
       "Real is\t392433341\t\n",
       "Diff is\t-64.313710451126\t\n",
       "\t\n"
      ]
     },
     "execution_count": 1,
     "metadata": {},
     "output_type": "execute_result"
    },
    {
     "data": {
      "text/plain": [
       "Pred is\t392433277.82073\t\n",
       "Real is\t392433096\t\n",
       "Diff is\t181.82073283195\t\n",
       "\t\n"
      ]
     },
     "execution_count": 1,
     "metadata": {},
     "output_type": "execute_result"
    },
    {
     "data": {
      "text/plain": [
       "Pred is\t392433276.55584\t\n",
       "Real is\t392433150\t\n",
       "Diff is\t126.55584263802\t\n",
       "\t\n"
      ]
     },
     "execution_count": 1,
     "metadata": {},
     "output_type": "execute_result"
    },
    {
     "data": {
      "text/plain": [
       "Pred is\t392433276.53517\t\n",
       "Real is\t392433158\t\n",
       "Diff is\t118.53517234325\t\n",
       "\t\n"
      ]
     },
     "execution_count": 1,
     "metadata": {},
     "output_type": "execute_result"
    },
    {
     "data": {
      "text/plain": [
       "Pred is\t392433273.88688\t\n",
       "Real is\t392433296\t\n",
       "Diff is\t-22.113117694855\t\n",
       "\t\n"
      ]
     },
     "execution_count": 1,
     "metadata": {},
     "output_type": "execute_result"
    },
    {
     "data": {
      "text/plain": [
       "Pred is\t392433271.79822\t\n",
       "Real is\t392433317\t\n",
       "Diff is\t-45.201778173447\t\n",
       "\t\n"
      ]
     },
     "execution_count": 1,
     "metadata": {},
     "output_type": "execute_result"
    },
    {
     "data": {
      "text/plain": [
       "Pred is\t392433278.3034\t\n",
       "Real is\t392433283\t\n",
       "Diff is\t-4.6966005563736\t\n",
       "\t\n"
      ]
     },
     "execution_count": 1,
     "metadata": {},
     "output_type": "execute_result"
    },
    {
     "data": {
      "text/plain": [
       "Pred is\t392433273.54098\t\n",
       "Real is\t392433260\t\n",
       "Diff is\t13.54098212719\t\n",
       "\t\n"
      ]
     },
     "execution_count": 1,
     "metadata": {},
     "output_type": "execute_result"
    },
    {
     "data": {
      "text/plain": [
       "Pred is\t392433281.12939\t\n",
       "Real is\t392433305\t\n",
       "Diff is\t-23.870612680912\t\n",
       "\t\n"
      ]
     },
     "execution_count": 1,
     "metadata": {},
     "output_type": "execute_result"
    },
    {
     "data": {
      "text/plain": [
       "Pred is\t392433277.60224\t\n",
       "Real is\t392433191\t\n",
       "Diff is\t86.602240264416\t\n",
       "\t\n"
      ]
     },
     "execution_count": 1,
     "metadata": {},
     "output_type": "execute_result"
    },
    {
     "data": {
      "text/plain": [
       "Pred is\t392433277.1092\t\n",
       "Real is\t392433266\t\n",
       "Diff is\t11.109203279018\t\n",
       "\t\n"
      ]
     },
     "execution_count": 1,
     "metadata": {},
     "output_type": "execute_result"
    },
    {
     "data": {
      "text/plain": [
       "Pred is\t392433273.64775\t\n",
       "Real is\t392433235\t\n",
       "Diff is\t38.647747457027\t\n",
       "\t\n"
      ]
     },
     "execution_count": 1,
     "metadata": {},
     "output_type": "execute_result"
    },
    {
     "data": {
      "text/plain": [
       "Pred is\t392433277.92759\t\n",
       "Real is\t392433367\t\n",
       "Diff is\t-89.072406709194\t\n",
       "\t\n"
      ]
     },
     "execution_count": 1,
     "metadata": {},
     "output_type": "execute_result"
    },
    {
     "data": {
      "text/plain": [
       "Pred is\t392433275.79474\t\n",
       "Real is\t392433297\t\n",
       "Diff is\t-21.205260515213\t\n",
       "\t\n"
      ]
     },
     "execution_count": 1,
     "metadata": {},
     "output_type": "execute_result"
    },
    {
     "data": {
      "text/plain": [
       "Pred is\t392433273.93624\t\n",
       "Real is\t392433139\t\n",
       "Diff is\t134.93623679876\t\n",
       "\t\n"
      ]
     },
     "execution_count": 1,
     "metadata": {},
     "output_type": "execute_result"
    },
    {
     "data": {
      "text/plain": [
       "Pred is\t392433279.39124\t\n",
       "Real is\t392433184\t\n",
       "Diff is\t95.391242027283\t\n",
       "\t\n"
      ]
     },
     "execution_count": 1,
     "metadata": {},
     "output_type": "execute_result"
    },
    {
     "data": {
      "text/plain": [
       "Pred is\t392433273.78823\t\n",
       "Real is\t392433347\t\n",
       "Diff is\t-73.211770236492\t\n",
       "\t\n"
      ]
     },
     "execution_count": 1,
     "metadata": {},
     "output_type": "execute_result"
    },
    {
     "data": {
      "text/plain": [
       "Pred is\t392433273.24324\t\n",
       "Real is\t392433102\t\n",
       "Diff is\t171.24324160814\t\n",
       "\t\n"
      ]
     },
     "execution_count": 1,
     "metadata": {},
     "output_type": "execute_result"
    },
    {
     "data": {
      "text/plain": [
       "Pred is\t392433279.05879\t\n",
       "Real is\t392433347\t\n",
       "Diff is\t-67.941208958626\t\n",
       "\t\n"
      ]
     },
     "execution_count": 1,
     "metadata": {},
     "output_type": "execute_result"
    },
    {
     "data": {
      "text/plain": [
       "Pred is\t392433272.91565\t\n",
       "Real is\t392433370\t\n",
       "Diff is\t-97.084354579449\t\n",
       "\t\n"
      ]
     },
     "execution_count": 1,
     "metadata": {},
     "output_type": "execute_result"
    },
    {
     "data": {
      "text/plain": [
       "Pred is\t392433279.07039\t\n",
       "Real is\t392433298\t\n",
       "Diff is\t-18.929614901543\t\n",
       "\t\n"
      ]
     },
     "execution_count": 1,
     "metadata": {},
     "output_type": "execute_result"
    },
    {
     "data": {
      "text/plain": [
       "Pred is\t392433277.26472\t\n",
       "Real is\t392433259\t\n",
       "Diff is\t18.264716923237\t\n",
       "\t\n"
      ]
     },
     "execution_count": 1,
     "metadata": {},
     "output_type": "execute_result"
    },
    {
     "data": {
      "text/plain": [
       "Pred is\t392433274.28994\t\n",
       "Real is\t392433329\t\n",
       "Diff is\t-54.71005910635\t\n",
       "\t\n"
      ]
     },
     "execution_count": 1,
     "metadata": {},
     "output_type": "execute_result"
    },
    {
     "data": {
      "text/plain": [
       "Pred is\t392433276.60107\t\n",
       "Real is\t392433222\t\n",
       "Diff is\t54.601065814495\t\n",
       "\t\n"
      ]
     },
     "execution_count": 1,
     "metadata": {},
     "output_type": "execute_result"
    },
    {
     "data": {
      "text/plain": [
       "Pred is\t392433277.34647\t\n",
       "Real is\t392433254\t\n",
       "Diff is\t23.346466422081\t\n",
       "\t\n"
      ]
     },
     "execution_count": 1,
     "metadata": {},
     "output_type": "execute_result"
    },
    {
     "data": {
      "text/plain": [
       "Pred is\t392433280.21668\t\n",
       "Real is\t392433126\t\n",
       "Diff is\t154.21667504311\t\n",
       "\t\n"
      ]
     },
     "execution_count": 1,
     "metadata": {},
     "output_type": "execute_result"
    },
    {
     "data": {
      "text/plain": [
       "Pred is\t392433279.40636\t\n",
       "Real is\t392433266\t\n",
       "Diff is\t13.406364023685\t\n",
       "\t\n"
      ]
     },
     "execution_count": 1,
     "metadata": {},
     "output_type": "execute_result"
    },
    {
     "data": {
      "text/plain": [
       "Pred is\t392433275.61196\t\n",
       "Real is\t392433217\t\n",
       "Diff is\t58.611961841583\t\n",
       "\t\n"
      ]
     },
     "execution_count": 1,
     "metadata": {},
     "output_type": "execute_result"
    },
    {
     "data": {
      "text/plain": [
       "Pred is\t392433278.14405\t\n",
       "Real is\t392433354\t\n",
       "Diff is\t-75.855953752995\t\n",
       "\t\n"
      ]
     },
     "execution_count": 1,
     "metadata": {},
     "output_type": "execute_result"
    },
    {
     "data": {
      "text/plain": [
       "Pred is\t392433275.23302\t\n",
       "Real is\t392433269\t\n",
       "Diff is\t6.2330217957497\t\n",
       "\t\n"
      ]
     },
     "execution_count": 1,
     "metadata": {},
     "output_type": "execute_result"
    },
    {
     "data": {
      "text/plain": [
       "Pred is\t392433276.70522\t\n",
       "Real is\t392433122\t\n",
       "Diff is\t154.70522463322\t\n",
       "\t\n"
      ]
     },
     "execution_count": 1,
     "metadata": {},
     "output_type": "execute_result"
    },
    {
     "data": {
      "text/plain": [
       "Pred is\t392433275.70542\t"
      ]
     },
     "execution_count": 1,
     "metadata": {},
     "output_type": "execute_result"
    },
    {
     "data": {
      "text/plain": [
       "\n",
       "Real is\t392433269\t\n",
       "Diff is\t6.7054163813591\t\n",
       "\t\n"
      ]
     },
     "execution_count": 1,
     "metadata": {},
     "output_type": "execute_result"
    },
    {
     "data": {
      "text/plain": [
       "Pred is\t392433276.5955\t\n",
       "Real is\t392433347\t\n",
       "Diff is\t-70.404501974583\t\n",
       "\t\n"
      ]
     },
     "execution_count": 1,
     "metadata": {},
     "output_type": "execute_result"
    },
    {
     "data": {
      "text/plain": [
       "Pred is\t392433278.71807\t\n",
       "Real is\t392433125\t\n",
       "Diff is\t153.71806979179\t\n",
       "\t\n"
      ]
     },
     "execution_count": 1,
     "metadata": {},
     "output_type": "execute_result"
    },
    {
     "data": {
      "text/plain": [
       "Pred is\t392433274.51494\t\n",
       "Real is\t392433292\t\n",
       "Diff is\t-17.485058486462\t\n",
       "\t\n"
      ]
     },
     "execution_count": 1,
     "metadata": {},
     "output_type": "execute_result"
    },
    {
     "data": {
      "text/plain": [
       "Pred is\t"
      ]
     },
     "execution_count": 1,
     "metadata": {},
     "output_type": "execute_result"
    },
    {
     "data": {
      "text/plain": [
       "392433273.37469\t\n",
       "Real is\t392433229\t\n",
       "Diff is\t44.374691784382\t\n",
       "\t\n"
      ]
     },
     "execution_count": 1,
     "metadata": {},
     "output_type": "execute_result"
    },
    {
     "data": {
      "text/plain": [
       "Pred is\t392433275.48923\t\n",
       "Real is\t392433276\t\n",
       "Diff is\t-0.51077437400818\t\n",
       "\t\n"
      ]
     },
     "execution_count": 1,
     "metadata": {},
     "output_type": "execute_result"
    },
    {
     "data": {
      "text/plain": [
       "Pred is\t392433276.77594\t\n",
       "Real is\t392433215\t\n",
       "Diff is\t61.775941312313\t\n",
       "\t\n"
      ]
     },
     "execution_count": 1,
     "metadata": {},
     "output_type": "execute_result"
    },
    {
     "data": {
      "text/plain": [
       "Pred is\t392433282.16286\t\n",
       "Real is\t392433359\t\n",
       "Diff is\t-76.837139964104\t\n",
       "\t\n"
      ]
     },
     "execution_count": 1,
     "metadata": {},
     "output_type": "execute_result"
    },
    {
     "data": {
      "text/plain": [
       "Pred is\t392433278.76881\t\n",
       "Real is\t392433372\t\n",
       "Diff is\t-93.231185972691\t\n",
       "\t\n"
      ]
     },
     "execution_count": 1,
     "metadata": {},
     "output_type": "execute_result"
    },
    {
     "data": {
      "text/plain": [
       "Pred is\t392433278.33668\t\n",
       "Real is\t392433228\t\n",
       "Diff is\t50.336683571339\t\n",
       "\t\n"
      ]
     },
     "execution_count": 1,
     "metadata": {},
     "output_type": "execute_result"
    },
    {
     "data": {
      "text/plain": [
       "Pred is\t392433277.94756\t\n",
       "Real is\t392433210\t\n",
       "Diff is\t67.947560191154\t\n",
       "\t\n"
      ]
     },
     "execution_count": 1,
     "metadata": {},
     "output_type": "execute_result"
    },
    {
     "data": {
      "text/plain": [
       "Pred is\t392433276.7034\t\n",
       "Real is\t392433341\t\n",
       "Diff is\t-64.29660141468\t\n",
       "\t\n"
      ]
     },
     "execution_count": 1,
     "metadata": {},
     "output_type": "execute_result"
    },
    {
     "data": {
      "text/plain": [
       "Pred is\t392433275.65533\t\n",
       "Real is\t392433330\t\n",
       "Diff is\t-54.344674050808\t\n",
       "\t\n"
      ]
     },
     "execution_count": 1,
     "metadata": {},
     "output_type": "execute_result"
    },
    {
     "data": {
      "text/plain": [
       "Pred is\t392433278.80219\t\n",
       "Real is\t392433283\t\n",
       "Diff is\t-4.1978081464767\t\n",
       "\t\n"
      ]
     },
     "execution_count": 1,
     "metadata": {},
     "output_type": "execute_result"
    },
    {
     "data": {
      "text/plain": [
       "Pred is\t392433273.56724\t\n",
       "Real is\t392433142\t\n",
       "Diff is\t131.56723976135\t\n",
       "\t\n"
      ]
     },
     "execution_count": 1,
     "metadata": {},
     "output_type": "execute_result"
    },
    {
     "data": {
      "text/plain": [
       "Pred is\t392433278.72979\t\n",
       "Real is\t392433264\t\n",
       "Diff is\t14.729786813259\t\n",
       "\t\n"
      ]
     },
     "execution_count": 1,
     "metadata": {},
     "output_type": "execute_result"
    },
    {
     "data": {
      "text/plain": [
       "Pred is\t392433277.50983\t\n",
       "Real is\t392433354\t\n",
       "Diff is\t-76.490165352821\t\n",
       "\t\n"
      ]
     },
     "execution_count": 1,
     "metadata": {},
     "output_type": "execute_result"
    },
    {
     "data": {
      "text/plain": [
       "Pred is\t392433275.0951\t\n",
       "Real is\t392433343\t\n",
       "Diff is\t-67.904901683331\t\n",
       "\t\n"
      ]
     },
     "execution_count": 1,
     "metadata": {},
     "output_type": "execute_result"
    },
    {
     "data": {
      "text/plain": [
       "Pred is\t392433272.54187\t\n",
       "Real is\t392433300\t\n",
       "Diff is\t-27.458134055138\t\n",
       "\t\n"
      ]
     },
     "execution_count": 1,
     "metadata": {},
     "output_type": "execute_result"
    },
    {
     "data": {
      "text/plain": [
       "Pred is\t392433278.09682\t\n",
       "Real is\t392433341\t\n",
       "Diff is\t-62.903175532818\t\n",
       "\t\n"
      ]
     },
     "execution_count": 1,
     "metadata": {},
     "output_type": "execute_result"
    },
    {
     "data": {
      "text/plain": [
       "Pred is\t392433280.31179\t\n",
       "Real is\t392433313\t\n",
       "Diff is\t-32.688205361366\t\n",
       "\t\n"
      ]
     },
     "execution_count": 1,
     "metadata": {},
     "output_type": "execute_result"
    },
    {
     "data": {
      "text/plain": [
       "Pred is\t392433281.1068\t\n",
       "Real is\t392433098\t\n",
       "Diff is\t183.10680049658\t\n",
       "\t\n"
      ]
     },
     "execution_count": 1,
     "metadata": {},
     "output_type": "execute_result"
    },
    {
     "data": {
      "text/plain": [
       "Pred is\t392433280.32436\t\n",
       "Real is\t392433368\t\n",
       "Diff is\t-87.675642192364\t\n",
       "\t\n"
      ]
     },
     "execution_count": 1,
     "metadata": {},
     "output_type": "execute_result"
    },
    {
     "data": {
      "text/plain": [
       "Pred is\t392433274.787\t\n",
       "Real is\t392433177\t\n",
       "Diff is\t97.786996126175\t\n",
       "\t\n"
      ]
     },
     "execution_count": 1,
     "metadata": {},
     "output_type": "execute_result"
    },
    {
     "data": {
      "text/plain": [
       "Pred is\t392433278.47429\t\n",
       "Real is\t392433228\t\n",
       "Diff is\t50.474287927151\t\n",
       "\t\n"
      ]
     },
     "execution_count": 1,
     "metadata": {},
     "output_type": "execute_result"
    },
    {
     "data": {
      "text/plain": [
       "Pred is\t392433281.22724\t\n",
       "Real is\t392433240\t\n",
       "Diff is\t"
      ]
     },
     "execution_count": 1,
     "metadata": {},
     "output_type": "execute_result"
    },
    {
     "data": {
      "text/plain": [
       "41.22724366188\t\n",
       "\t\n"
      ]
     },
     "execution_count": 1,
     "metadata": {},
     "output_type": "execute_result"
    },
    {
     "data": {
      "text/plain": [
       "Pred is\t392433276.81165\t\n",
       "Real is\t392433347\t\n",
       "Diff is\t-70.1883507967\t\n",
       "\t\n"
      ]
     },
     "execution_count": 1,
     "metadata": {},
     "output_type": "execute_result"
    },
    {
     "data": {
      "text/plain": [
       "Pred is\t392433277.12485\t\n",
       "Real is\t392433193\t\n",
       "Diff is\t84.124847590923\t\n",
       "\t\n"
      ]
     },
     "execution_count": 1,
     "metadata": {},
     "output_type": "execute_result"
    },
    {
     "data": {
      "text/plain": [
       "Pred is\t392433273.02037\t\n",
       "Real is\t392433331\t\n",
       "Diff is\t-57.979632675648\t\n",
       "\t\n"
      ]
     },
     "execution_count": 1,
     "metadata": {},
     "output_type": "execute_result"
    },
    {
     "data": {
      "text/plain": [
       "Pred is\t392433283.21551\t\n",
       "Real is\t392433291\t\n",
       "Diff is\t-7.7844874858856\t\n",
       "\t\n"
      ]
     },
     "execution_count": 1,
     "metadata": {},
     "output_type": "execute_result"
    },
    {
     "data": {
      "text/plain": [
       "Pred is\t392433275.79928\t\n",
       "Real is\t392433308\t\n",
       "Diff is\t-32.200724303722\t\n",
       "\t\n"
      ]
     },
     "execution_count": 1,
     "metadata": {},
     "output_type": "execute_result"
    },
    {
     "data": {
      "text/plain": [
       "Pred is\t392433276.59288\t\n",
       "Real is\t392433347\t\n",
       "Diff is\t-70.407118439674\t\n",
       "\t\n"
      ]
     },
     "execution_count": 1,
     "metadata": {},
     "output_type": "execute_result"
    },
    {
     "data": {
      "text/plain": [
       "Pred is\t392433278.13016\t\n",
       "Real is\t392433195\t\n",
       "Diff is\t83.130157589912\t\n",
       "\t\n"
      ]
     },
     "execution_count": 1,
     "metadata": {},
     "output_type": "execute_result"
    },
    {
     "data": {
      "text/plain": [
       "Pred is\t392433277.68098\t\n",
       "Real is\t392433307\t\n",
       "Diff is\t-29.319019973278\t\n",
       "\t\n"
      ]
     },
     "execution_count": 1,
     "metadata": {},
     "output_type": "execute_result"
    },
    {
     "data": {
      "text/plain": [
       "Pred is\t392433276.03236\t\n",
       "Real is\t392433318\t\n",
       "Diff is\t-41.967642962933\t\n",
       "\t\n"
      ]
     },
     "execution_count": 1,
     "metadata": {},
     "output_type": "execute_result"
    },
    {
     "data": {
      "text/plain": [
       "Pred is\t392433279.1638\t\n",
       "Real is\t392433412\t\n",
       "Diff is\t-132.8361954093\t\n",
       "\t\n"
      ]
     },
     "execution_count": 1,
     "metadata": {},
     "output_type": "execute_result"
    },
    {
     "data": {
      "text/plain": [
       "Pred is\t392433282.06206\t\n",
       "Real is\t392433364\t\n",
       "Diff is\t-81.937937378883\t\n",
       "\t\n"
      ]
     },
     "execution_count": 1,
     "metadata": {},
     "output_type": "execute_result"
    },
    {
     "data": {
      "text/plain": [
       "Pred is\t392433279.35774\t\n",
       "Real is\t392433206\t\n",
       "Diff is\t73.357740879059\t\n",
       "\t\n"
      ]
     },
     "execution_count": 1,
     "metadata": {},
     "output_type": "execute_result"
    },
    {
     "data": {
      "text/plain": [
       "Pred is\t392433275.26161\t\n",
       "Real is\t392433247\t\n",
       "Diff is\t28.261610865593\t\n",
       "\t\n"
      ]
     },
     "execution_count": 1,
     "metadata": {},
     "output_type": "execute_result"
    },
    {
     "data": {
      "text/plain": [
       "Pred is\t392433278.76234\t\n",
       "Real is\t392433155\t\n",
       "Diff is\t123.76234161854\t\n",
       "\t\n"
      ]
     },
     "execution_count": 1,
     "metadata": {},
     "output_type": "execute_result"
    },
    {
     "data": {
      "text/plain": [
       "Pred is\t392433280.64628\t\n",
       "Real is\t392433346\t\n",
       "Diff is\t-65.353720247746\t\n",
       "\t\n"
      ]
     },
     "execution_count": 1,
     "metadata": {},
     "output_type": "execute_result"
    },
    {
     "data": {
      "text/plain": [
       "Pred is\t392433275.74727\t\n",
       "Real is\t392433281\t\n",
       "Diff is\t-5.252725481987\t\n",
       "\t\n"
      ]
     },
     "execution_count": 1,
     "metadata": {},
     "output_type": "execute_result"
    },
    {
     "data": {
      "text/plain": [
       "Pred is\t392433274.70801\t\n",
       "Real is\t392433187\t\n",
       "Diff is\t87.708013236523\t\n",
       "\t\n"
      ]
     },
     "execution_count": 1,
     "metadata": {},
     "output_type": "execute_result"
    },
    {
     "data": {
      "text/plain": [
       "Pred is\t392433276.69408\t\n",
       "Real is\t392433325\t\n",
       "Diff is\t-48.305920481682\t\n",
       "\t\n"
      ]
     },
     "execution_count": 1,
     "metadata": {},
     "output_type": "execute_result"
    },
    {
     "data": {
      "text/plain": [
       "Pred is\t392433279.79963\t\n",
       "Real is\t392433381\t\n",
       "Diff is\t-101.20036900043\t\n",
       "\t\n"
      ]
     },
     "execution_count": 1,
     "metadata": {},
     "output_type": "execute_result"
    },
    {
     "data": {
      "text/plain": [
       "Pred is\t392433273.62374\t\n",
       "Real is\t392433341\t\n",
       "Diff is\t-67.376259863377\t\n",
       "\t\n"
      ]
     },
     "execution_count": 1,
     "metadata": {},
     "output_type": "execute_result"
    },
    {
     "data": {
      "text/plain": [
       "Pred is\t392433278.10853\t\n"
      ]
     },
     "execution_count": 1,
     "metadata": {},
     "output_type": "execute_result"
    },
    {
     "data": {
      "text/plain": [
       "Real is\t392433393\t\n",
       "Diff is\t-114.8914732337\t\n",
       "\t\n"
      ]
     },
     "execution_count": 1,
     "metadata": {},
     "output_type": "execute_result"
    },
    {
     "data": {
      "text/plain": [
       "Pred is\t392433280.88352\t\n",
       "Real is\t392433196\t\n",
       "Diff is\t84.883517861366\t\n",
       "\t\n"
      ]
     },
     "execution_count": 1,
     "metadata": {},
     "output_type": "execute_result"
    },
    {
     "data": {
      "text/plain": [
       "Pred is\t392433275.64545\t\n",
       "Real is\t392433252\t\n",
       "Diff is\t23.645447194576\t\n",
       "\t\n"
      ]
     },
     "execution_count": 1,
     "metadata": {},
     "output_type": "execute_result"
    },
    {
     "data": {
      "text/plain": [
       "Pred is\t392433278.63423\t\n",
       "Real is\t392433379\t\n",
       "Diff is\t-100.36577045918\t\n",
       "\t\n"
      ]
     },
     "execution_count": 1,
     "metadata": {},
     "output_type": "execute_result"
    },
    {
     "data": {
      "text/plain": [
       "Pred is\t392433277.6581\t\n",
       "Real is\t392433195\t\n",
       "Diff is\t82.658104300499\t\n",
       "\t\n"
      ]
     },
     "execution_count": 1,
     "metadata": {},
     "output_type": "execute_result"
    },
    {
     "data": {
      "text/plain": [
       "Pred is\t392433276.63876\t\n",
       "Real is\t392433125\t\n",
       "Diff is\t151.63875579834\t\n",
       "\t\n"
      ]
     },
     "execution_count": 1,
     "metadata": {},
     "output_type": "execute_result"
    },
    {
     "data": {
      "text/plain": [
       "Pred is\t392433279.13301\t\n",
       "Real is\t392433272\t\n",
       "Diff is\t7.1330080628395\t\n",
       "\t\n"
      ]
     },
     "execution_count": 1,
     "metadata": {},
     "output_type": "execute_result"
    },
    {
     "data": {
      "text/plain": [
       "Pred is\t392433274.37414\t\n",
       "Real is\t392433128\t\n",
       "Diff is\t146.37413734198\t\n",
       "\t\n"
      ]
     },
     "execution_count": 1,
     "metadata": {},
     "output_type": "execute_result"
    },
    {
     "data": {
      "text/plain": [
       "Pred is\t392433275.11951\t\n",
       "Real is\t392433355\t\n",
       "Diff is\t-79.880486190319\t\n",
       "\t\n"
      ]
     },
     "execution_count": 1,
     "metadata": {},
     "output_type": "execute_result"
    },
    {
     "data": {
      "text/plain": [
       "Pred is\t392433278.98833\t\n",
       "Real is\t392433176\t\n",
       "Diff is\t102.98832899332\t\n",
       "\t\n"
      ]
     },
     "execution_count": 1,
     "metadata": {},
     "output_type": "execute_result"
    },
    {
     "data": {
      "text/plain": [
       "Pred is\t392433275.1798\t\n",
       "Real is\t392433225\t\n",
       "Diff is\t50.17979747057\t\n",
       "\t\n"
      ]
     },
     "execution_count": 1,
     "metadata": {},
     "output_type": "execute_result"
    },
    {
     "data": {
      "text/plain": [
       "Pred is\t392433281.96382\t\n",
       "Real is\t392433347\t\n",
       "Diff is\t-65.036182165146\t\n",
       "\t\n"
      ]
     },
     "execution_count": 1,
     "metadata": {},
     "output_type": "execute_result"
    },
    {
     "data": {
      "text/plain": [
       "Pred is\t392433276.26347\t\n",
       "Real is\t392433347\t\n",
       "Diff is\t-70.736533761024\t\n",
       "\t\n"
      ]
     },
     "execution_count": 1,
     "metadata": {},
     "output_type": "execute_result"
    },
    {
     "data": {
      "text/plain": [
       "Pred is\t392433275.58593\t\n",
       "Real is\t392433309\t\n",
       "Diff is\t-33.414070665836\t\n",
       "\t\n"
      ]
     },
     "execution_count": 1,
     "metadata": {},
     "output_type": "execute_result"
    },
    {
     "data": {
      "text/plain": [
       "Pred is\t392433278.14633\t\n",
       "Real is\t392433172\t\n",
       "Diff is\t106.14633095264\t\n",
       "\t\n"
      ]
     },
     "execution_count": 1,
     "metadata": {},
     "output_type": "execute_result"
    },
    {
     "data": {
      "text/plain": [
       "Pred is\t392433276.86172\t\n",
       "Real is\t392433393\t\n",
       "Diff is\t-116.13827776909\t\n",
       "\t\n"
      ]
     },
     "execution_count": 1,
     "metadata": {},
     "output_type": "execute_result"
    },
    {
     "data": {
      "text/plain": [
       "Pred is\t392433277.78096\t\n",
       "Real is\t392433118\t\n",
       "Diff is\t159.78096157312\t\n",
       "\t\n"
      ]
     },
     "execution_count": 1,
     "metadata": {},
     "output_type": "execute_result"
    },
    {
     "data": {
      "text/plain": [
       "Pred is\t392433276.76054\t\n",
       "Real is\t392433253\t\n",
       "Diff is\t23.760541856289\t\n",
       "\t\n"
      ]
     },
     "execution_count": 1,
     "metadata": {},
     "output_type": "execute_result"
    },
    {
     "data": {
      "text/plain": [
       "Pred is\t392433274.09967\t\n",
       "Real is\t392433347\t\n",
       "Diff is\t-72.900330007076\t\n",
       "\t\n"
      ]
     },
     "execution_count": 1,
     "metadata": {},
     "output_type": "execute_result"
    },
    {
     "data": {
      "text/plain": [
       "Pred is\t392433278.13323\t\n",
       "Real is\t392433223\t\n",
       "Diff is\t55.133225440979\t\n",
       "\t\n"
      ]
     },
     "execution_count": 1,
     "metadata": {},
     "output_type": "execute_result"
    },
    {
     "data": {
      "text/plain": [
       "Pred is\t392433276.75752\t\n",
       "Real is\t392433184\t\n",
       "Diff is\t92.75751721859\t\n",
       "\t\n"
      ]
     },
     "execution_count": 1,
     "metadata": {},
     "output_type": "execute_result"
    },
    {
     "data": {
      "text/plain": [
       "Pred is\t392433272.57669\t\n",
       "Real is\t392433296\t\n",
       "Diff is\t-23.423312962055\t\n",
       "\t\n"
      ]
     },
     "execution_count": 1,
     "metadata": {},
     "output_type": "execute_result"
    },
    {
     "data": {
      "text/plain": [
       "Pred is\t392433275.02966\t\n",
       "Real is\t392433141\t\n",
       "Diff is\t134.02966123819\t\n",
       "\t\n"
      ]
     },
     "execution_count": 1,
     "metadata": {},
     "output_type": "execute_result"
    },
    {
     "data": {
      "text/plain": [
       "Pred is\t392433274.76533\t\n",
       "Real is\t392433339\t\n",
       "Diff is\t-64.234669268131\t\n",
       "\t\n"
      ]
     },
     "execution_count": 1,
     "metadata": {},
     "output_type": "execute_result"
    },
    {
     "data": {
      "text/plain": [
       "Pred is\t392433277.50965\t\n",
       "Real is\t392433178\t\n",
       "Diff is\t99.509645223618\t\n",
       "\t\n"
      ]
     },
     "execution_count": 1,
     "metadata": {},
     "output_type": "execute_result"
    },
    {
     "data": {
      "text/plain": [
       "Pred is\t392433277.80175\t\n",
       "Real is\t392433225\t\n",
       "Diff is\t52.801751494408\t\n",
       "\t\n"
      ]
     },
     "execution_count": 1,
     "metadata": {},
     "output_type": "execute_result"
    },
    {
     "data": {
      "text/plain": [
       "Pred is\t392433274.85757\t\n",
       "Real is\t392433341\t\n",
       "Diff is\t-66.142432928085\t\n",
       "\t\n"
      ]
     },
     "execution_count": 1,
     "metadata": {},
     "output_type": "execute_result"
    },
    {
     "data": {
      "text/plain": [
       "Pred is\t392433275.24738\t\n",
       "Real is\t392433239\t\n",
       "Diff is\t36.247376322746\t\n",
       "\t\n"
      ]
     },
     "execution_count": 1,
     "metadata": {},
     "output_type": "execute_result"
    },
    {
     "data": {
      "text/plain": [
       "Pred is\t392433280.45609\t\n",
       "Real is\t392433347\t\n",
       "Diff is\t-66.543909311295\t\n",
       "\t\n"
      ]
     },
     "execution_count": 1,
     "metadata": {},
     "output_type": "execute_result"
    },
    {
     "data": {
      "text/plain": [
       "Pred is\t392433277.1291\t\n",
       "Real is\t392433242\t\n",
       "Diff is\t35.129102230072\t\n",
       "\t\n"
      ]
     },
     "execution_count": 1,
     "metadata": {},
     "output_type": "execute_result"
    },
    {
     "data": {
      "text/plain": [
       "Pred is\t392433279.5315\t\n",
       "Real is\t392433361\t\n",
       "Diff is\t-81.468500494957\t\n",
       "\t\n"
      ]
     },
     "execution_count": 1,
     "metadata": {},
     "output_type": "execute_result"
    },
    {
     "data": {
      "text/plain": [
       "Pred is\t392433279.31576\t\n",
       "Real is\t392433261\t\n",
       "Diff is\t18.315762042999\t\n",
       "\t\n"
      ]
     },
     "execution_count": 1,
     "metadata": {},
     "output_type": "execute_result"
    },
    {
     "data": {
      "text/plain": [
       "Pred is\t392433273.98047\t\n",
       "Real is\t392433341\t\n",
       "Diff is\t-67.019526481628\t\n",
       "\t\n"
      ]
     },
     "execution_count": 1,
     "metadata": {},
     "output_type": "execute_result"
    },
    {
     "data": {
      "text/plain": [
       "Pred is\t392433276.46321\t\n",
       "Real is\t392433233\t\n",
       "Diff is\t43.463211119175\t\n",
       "\t\n"
      ]
     },
     "execution_count": 1,
     "metadata": {},
     "output_type": "execute_result"
    },
    {
     "data": {
      "text/plain": [
       "Pred is\t392433275.93851\t\n",
       "Real is\t392433208\t\n",
       "Diff is\t67.938507020473\t\n",
       "\t\n"
      ]
     },
     "execution_count": 1,
     "metadata": {},
     "output_type": "execute_result"
    },
    {
     "data": {
      "text/plain": [
       "Pred is\t392433277.53014\t\n",
       "Real is\t392433180\t\n",
       "Diff is\t97.530135214329\t\n",
       "\t\n"
      ]
     },
     "execution_count": 1,
     "metadata": {},
     "output_type": "execute_result"
    },
    {
     "data": {
      "text/plain": [
       "Pred is\t392433278.15569\t\n",
       "Real is\t392433264\t\n",
       "Diff is\t14.155688345432\t\n",
       "\t\n"
      ]
     },
     "execution_count": 1,
     "metadata": {},
     "output_type": "execute_result"
    },
    {
     "data": {
      "text/plain": [
       "Pred is\t392433275.68141\t\n",
       "Real is\t392433184\t\n",
       "Diff is\t91.681411087513\t\n",
       "\t\n"
      ]
     },
     "execution_count": 1,
     "metadata": {},
     "output_type": "execute_result"
    },
    {
     "data": {
      "text/plain": [
       "Pred is\t392433277.58582\t\n",
       "Real is\t392433185\t\n",
       "Diff is\t92.585819780827\t\n",
       "\t\n"
      ]
     },
     "execution_count": 1,
     "metadata": {},
     "output_type": "execute_result"
    },
    {
     "data": {
      "text/plain": [
       "Pred is\t392433278.52217\t\n",
       "Real is\t392433253\t\n",
       "Diff is\t25.522167205811\t\n",
       "\t\n"
      ]
     },
     "execution_count": 1,
     "metadata": {},
     "output_type": "execute_result"
    },
    {
     "data": {
      "text/plain": [
       "Pred is\t392433276.01089\t\n",
       "Real is\t392433301\t\n",
       "Diff is\t-24.989105463028\t\n",
       "\t\n"
      ]
     },
     "execution_count": 1,
     "metadata": {},
     "output_type": "execute_result"
    },
    {
     "data": {
      "text/plain": [
       "Pred is\t392433278.56829\t\n",
       "Real is\t392433347\t\n",
       "Diff is\t-68.431709110737\t\n",
       "\t\n"
      ]
     },
     "execution_count": 1,
     "metadata": {},
     "output_type": "execute_result"
    },
    {
     "data": {
      "text/plain": [
       "Pred is\t392433274.77489\t\n",
       "Real is\t392433235\t\n",
       "Diff is\t39.774890899658\t\n",
       "\t\n"
      ]
     },
     "execution_count": 1,
     "metadata": {},
     "output_type": "execute_result"
    },
    {
     "data": {
      "text/plain": [
       "Pred is\t392433277.30755\t\n",
       "Real is\t392433369\t\n",
       "Diff is\t-91.692453622818\t\n",
       "\t\n"
      ]
     },
     "execution_count": 1,
     "metadata": {},
     "output_type": "execute_result"
    },
    {
     "data": {
      "text/plain": [
       "Pred is\t392433272.71977\t\n",
       "Real is\t392433098\t\n",
       "Diff is\t174.71977227926\t\n",
       "\t\n"
      ]
     },
     "execution_count": 1,
     "metadata": {},
     "output_type": "execute_result"
    },
    {
     "data": {
      "text/plain": [
       "Pred is\t392433281.70351\t\n",
       "Real is\t392433138\t\n",
       "Diff is\t143.7035087347\t\n",
       "\t\n"
      ]
     },
     "execution_count": 1,
     "metadata": {},
     "output_type": "execute_result"
    },
    {
     "data": {
      "text/plain": [
       "Pred is\t392433273.97529\t\n",
       "Real is\t392433278\t\n",
       "Diff is\t-4.024714410305\t\n",
       "\t\n"
      ]
     },
     "execution_count": 1,
     "metadata": {},
     "output_type": "execute_result"
    },
    {
     "data": {
      "text/plain": [
       "Pred is\t392433280.27451\t\n",
       "Real is\t392433264\t\n",
       "Diff is\t16.27451312542\t\n",
       "\t\n"
      ]
     },
     "execution_count": 1,
     "metadata": {},
     "output_type": "execute_result"
    },
    {
     "data": {
      "text/plain": [
       "Pred is\t392433273.0994\t\n",
       "Real is\t392433219\t\n",
       "Diff is\t54.099396169186\t\n",
       "\t\n"
      ]
     },
     "execution_count": 1,
     "metadata": {},
     "output_type": "execute_result"
    },
    {
     "data": {
      "text/plain": [
       "Pred is\t392433277.12723\t\n",
       "Real is\t392433341\t\n",
       "Diff is\t-63.872770726681\t\n",
       "\t\n"
      ]
     },
     "execution_count": 1,
     "metadata": {},
     "output_type": "execute_result"
    },
    {
     "data": {
      "text/plain": [
       "Pred is\t392433278.75172\t\n",
       "Real is\t392433281\t\n",
       "Diff is\t-2.2482770681381\t\n",
       "\t\n"
      ]
     },
     "execution_count": 1,
     "metadata": {},
     "output_type": "execute_result"
    },
    {
     "data": {
      "text/plain": [
       "Pred is\t392433275.87319\t\n",
       "Real is\t392433094\t\n",
       "Diff is\t181.87318760157\t\n",
       "\t\n"
      ]
     },
     "execution_count": 1,
     "metadata": {},
     "output_type": "execute_result"
    },
    {
     "data": {
      "text/plain": [
       "Pred is\t392433278.60139\t\n",
       "Real is\t392433188\t\n",
       "Diff is\t90.60138964653\t\n",
       "\t\n"
      ]
     },
     "execution_count": 1,
     "metadata": {},
     "output_type": "execute_result"
    },
    {
     "data": {
      "text/plain": [
       "Pred is\t392433276.9253\t\n",
       "Real is\t392433358\t\n",
       "Diff is\t-81.074701428413\t\n",
       "\t\n"
      ]
     },
     "execution_count": 1,
     "metadata": {},
     "output_type": "execute_result"
    },
    {
     "data": {
      "text/plain": [
       "Pred is\t392433275.06562\t\n",
       "Real is\t392433095\t\n",
       "Diff is\t180.06562495232\t\n",
       "\t\n"
      ]
     },
     "execution_count": 1,
     "metadata": {},
     "output_type": "execute_result"
    },
    {
     "data": {
      "text/plain": [
       "Pred is\t392433276.93691\t\n",
       "Real is\t392433250\t\n",
       "Diff is\t26.936906099319\t\n",
       "\t\n"
      ]
     },
     "execution_count": 1,
     "metadata": {},
     "output_type": "execute_result"
    },
    {
     "data": {
      "text/plain": [
       "Pred is\t392433277.10354\t\n",
       "Real is\t392433186\t\n",
       "Diff is\t91.103535354137\t\n",
       "\t\n"
      ]
     },
     "execution_count": 1,
     "metadata": {},
     "output_type": "execute_result"
    },
    {
     "data": {
      "text/plain": [
       "Pred is\t392433276.50009\t\n",
       "Real is\t392433133\t\n",
       "Diff is\t143.5000897646\t\n",
       "\t\n"
      ]
     },
     "execution_count": 1,
     "metadata": {},
     "output_type": "execute_result"
    },
    {
     "data": {
      "text/plain": [
       "Pred is\t392433272.08419\t\n",
       "Real is\t392433146\t\n",
       "Diff is\t126.08418595791\t\n",
       "\t\n"
      ]
     },
     "execution_count": 1,
     "metadata": {},
     "output_type": "execute_result"
    },
    {
     "data": {
      "text/plain": [
       "Pred is\t392433274.95066\t\n",
       "Real is\t392433327\t"
      ]
     },
     "execution_count": 1,
     "metadata": {},
     "output_type": "execute_result"
    },
    {
     "data": {
      "text/plain": [
       "\n",
       "Diff is\t-52.049336493015\t\n",
       "\t\n"
      ]
     },
     "execution_count": 1,
     "metadata": {},
     "output_type": "execute_result"
    },
    {
     "data": {
      "text/plain": [
       "Pred is\t392433274.84023\t\n",
       "Real is\t392433392\t\n",
       "Diff is\t-117.15976804495\t\n",
       "\t\n"
      ]
     },
     "execution_count": 1,
     "metadata": {},
     "output_type": "execute_result"
    },
    {
     "data": {
      "text/plain": [
       "Pred is\t392433278.28053\t\n",
       "Real is\t392433228\t\n",
       "Diff is\t50.280527412891\t\n",
       "\t\n"
      ]
     },
     "execution_count": 1,
     "metadata": {},
     "output_type": "execute_result"
    },
    {
     "data": {
      "text/plain": [
       "Pred is\t392433277.53194\t\n",
       "Real is\t392433337\t\n",
       "Diff is\t-59.468064248562\t\n",
       "\t\n"
      ]
     },
     "execution_count": 1,
     "metadata": {},
     "output_type": "execute_result"
    },
    {
     "data": {
      "text/plain": [
       "Pred is\t392433278.21504\t\n",
       "Real is\t392433386\t\n",
       "Diff is\t-107.78496307135\t\n",
       "\t\n"
      ]
     },
     "execution_count": 1,
     "metadata": {},
     "output_type": "execute_result"
    },
    {
     "data": {
      "text/plain": [
       "Pred is\t392433276.61403\t\n",
       "Real is\t392433311\t\n",
       "Diff is\t-34.385967671871\t\n",
       "\t\n"
      ]
     },
     "execution_count": 1,
     "metadata": {},
     "output_type": "execute_result"
    },
    {
     "data": {
      "text/plain": [
       "Pred is\t392433280.27953\t\n",
       "Real is\t392433229\t\n",
       "Diff is\t51.279532492161\t\n",
       "\t\n"
      ]
     },
     "execution_count": 1,
     "metadata": {},
     "output_type": "execute_result"
    },
    {
     "data": {
      "text/plain": [
       "Pred is\t392433279.44078\t\n",
       "Real is\t392433302\t\n",
       "Diff is\t-22.559216618538\t\n",
       "\t\n"
      ]
     },
     "execution_count": 1,
     "metadata": {},
     "output_type": "execute_result"
    },
    {
     "data": {
      "text/plain": [
       "Pred is\t392433277.51316\t\n",
       "Real is\t392433329\t\n",
       "Diff is\t-51.486838698387\t\n",
       "\t\n"
      ]
     },
     "execution_count": 1,
     "metadata": {},
     "output_type": "execute_result"
    },
    {
     "data": {
      "text/plain": [
       "Pred is\t392433278.91248\t\n",
       "Real is\t392433232\t\n",
       "Diff is\t46.9124776721\t\n",
       "\t\n"
      ]
     },
     "execution_count": 1,
     "metadata": {},
     "output_type": "execute_result"
    },
    {
     "data": {
      "text/plain": [
       "Pred is\t392433275.1476\t\n",
       "Real is\t392433167\t\n",
       "Diff is\t108.14759749174\t\n",
       "\t\n"
      ]
     },
     "execution_count": 1,
     "metadata": {},
     "output_type": "execute_result"
    },
    {
     "data": {
      "text/plain": [
       "Pred is\t392433281.67119\t\n",
       "Real is\t392433203\t\n",
       "Diff is\t78.67119038105\t\n",
       "\t\n"
      ]
     },
     "execution_count": 1,
     "metadata": {},
     "output_type": "execute_result"
    },
    {
     "data": {
      "text/plain": [
       "Pred is\t392433277.90001\t\n",
       "Real is\t392433347\t\n",
       "Diff is\t-69.099986791611\t\n",
       "\t\n"
      ]
     },
     "execution_count": 1,
     "metadata": {},
     "output_type": "execute_result"
    },
    {
     "data": {
      "text/plain": [
       "Pred is\t392433275.73055\t\n",
       "Real is\t392433347\t\n",
       "Diff is\t-71.269453942776\t\n",
       "\t\n"
      ]
     },
     "execution_count": 1,
     "metadata": {},
     "output_type": "execute_result"
    },
    {
     "data": {
      "text/plain": [
       "Pred is\t392433274.16722\t\n",
       "Real is\t392433113\t\n",
       "Diff is\t161.1672155261\t\n",
       "\t\n"
      ]
     },
     "execution_count": 1,
     "metadata": {},
     "output_type": "execute_result"
    },
    {
     "data": {
      "text/plain": [
       "Pred is\t392433273.38175\t\n",
       "Real is\t392433236\t\n",
       "Diff is\t37.381748437881\t\n",
       "\t\n"
      ]
     },
     "execution_count": 1,
     "metadata": {},
     "output_type": "execute_result"
    },
    {
     "data": {
      "text/plain": [
       "Pred is\t392433277.36919\t\n",
       "Real is\t392433347\t\n",
       "Diff is\t-69.630810201168\t\n",
       "\t\n"
      ]
     },
     "execution_count": 1,
     "metadata": {},
     "output_type": "execute_result"
    },
    {
     "data": {
      "text/plain": [
       "Pred is\t392433276.17704\t\n",
       "Real is\t392433117\t\n",
       "Diff is\t159.17704290152\t\n",
       "\t\n"
      ]
     },
     "execution_count": 1,
     "metadata": {},
     "output_type": "execute_result"
    },
    {
     "data": {
      "text/plain": [
       "Pred is\t392433277.78135\t\n",
       "Real is\t392433098\t\n",
       "Diff is\t179.7813500762\t\n",
       "\t\n"
      ]
     },
     "execution_count": 1,
     "metadata": {},
     "output_type": "execute_result"
    },
    {
     "data": {
      "text/plain": [
       "Pred is\t392433280.20447\t\n",
       "Real is\t392433215\t\n",
       "Diff is\t65.20446652174\t\n",
       "\t\n"
      ]
     },
     "execution_count": 1,
     "metadata": {},
     "output_type": "execute_result"
    },
    {
     "data": {
      "text/plain": [
       "Pred is\t392433277.00068\t\n",
       "Real is\t392433243\t\n",
       "Diff is\t34.000678539276\t\n",
       "\t\n"
      ]
     },
     "execution_count": 1,
     "metadata": {},
     "output_type": "execute_result"
    },
    {
     "data": {
      "text/plain": [
       "Pred is\t392433276.67877\t\n",
       "Real is\t392433223\t\n",
       "Diff is\t53.678771674633\t\n",
       "\t\n"
      ]
     },
     "execution_count": 1,
     "metadata": {},
     "output_type": "execute_result"
    },
    {
     "data": {
      "text/plain": [
       "Pred is\t392433274.57658\t\n",
       "Real is\t392433334\t\n",
       "Diff is\t-59.423423707485\t\n",
       "\t\n"
      ]
     },
     "execution_count": 1,
     "metadata": {},
     "output_type": "execute_result"
    },
    {
     "data": {
      "text/plain": [
       "Pred is\t392433277.83037\t\n",
       "Real is\t392433135\t\n",
       "Diff is\t142.83036535978\t\n",
       "\t\n"
      ]
     },
     "execution_count": 1,
     "metadata": {},
     "output_type": "execute_result"
    },
    {
     "data": {
      "text/plain": [
       "Pred is\t392433275.44878\t\n",
       "Real is\t392433228\t\n",
       "Diff is\t47.448782324791\t\n",
       "\t\n"
      ]
     },
     "execution_count": 1,
     "metadata": {},
     "output_type": "execute_result"
    },
    {
     "data": {
      "text/plain": [
       "Pred is\t392433274.72943\t\n",
       "Real is\t392433223\t\n",
       "Diff is\t51.729433119297\t\n",
       "\t\n"
      ]
     },
     "execution_count": 1,
     "metadata": {},
     "output_type": "execute_result"
    },
    {
     "data": {
      "text/plain": [
       "Pred is\t392433276.29823\t\n",
       "Real is\t392433274\t\n",
       "Diff is\t2.2982290387154\t\n",
       "\t\n"
      ]
     },
     "execution_count": 1,
     "metadata": {},
     "output_type": "execute_result"
    },
    {
     "data": {
      "text/plain": [
       "Pred is\t392433273.0602\t\n",
       "Real is\t392433141\t\n",
       "Diff is\t132.06020319462\t\n",
       "\t\n"
      ]
     },
     "execution_count": 1,
     "metadata": {},
     "output_type": "execute_result"
    },
    {
     "data": {
      "text/plain": [
       "Pred is\t392433276.46955\t\n",
       "Real is\t392433216\t\n",
       "Diff is\t60.469548106194\t\n",
       "\t\n"
      ]
     },
     "execution_count": 1,
     "metadata": {},
     "output_type": "execute_result"
    },
    {
     "data": {
      "text/plain": [
       "Pred is\t392433278.03012\t\n",
       "Real is\t392433329\t\n",
       "Diff is\t-50.969881892204\t\n",
       "\t\n"
      ]
     },
     "execution_count": 1,
     "metadata": {},
     "output_type": "execute_result"
    },
    {
     "data": {
      "text/plain": [
       "Pred is\t392433276.9763\t\n",
       "Real is\t392433395\t\n",
       "Diff is\t-118.02369832993\t\n",
       "\t\n"
      ]
     },
     "execution_count": 1,
     "metadata": {},
     "output_type": "execute_result"
    },
    {
     "data": {
      "text/plain": [
       "Pred is\t392433281.75914\t\n",
       "Real is\t392433229\t\n",
       "Diff is\t"
      ]
     },
     "execution_count": 1,
     "metadata": {},
     "output_type": "execute_result"
    },
    {
     "data": {
      "text/plain": [
       "52.759141206741\t\n",
       "\t\n"
      ]
     },
     "execution_count": 1,
     "metadata": {},
     "output_type": "execute_result"
    },
    {
     "data": {
      "text/plain": [
       "Pred is\t392433271.43648\t\n",
       "Real is\t392433315\t\n",
       "Diff is\t-43.563524484634\t\n",
       "\t\n"
      ]
     },
     "execution_count": 1,
     "metadata": {},
     "output_type": "execute_result"
    },
    {
     "data": {
      "text/plain": [
       "Pred is\t392433280.1449\t\n",
       "Real is\t392433287\t\n",
       "Diff is\t-6.8550969958305\t\n",
       "\t\n"
      ]
     },
     "execution_count": 1,
     "metadata": {},
     "output_type": "execute_result"
    },
    {
     "data": {
      "text/plain": [
       "Pred is\t392433279.92219\t\n",
       "Real is\t392433241\t\n",
       "Diff is\t38.922185480595\t\n",
       "\t\n"
      ]
     },
     "execution_count": 1,
     "metadata": {},
     "output_type": "execute_result"
    },
    {
     "data": {
      "text/plain": [
       "Pred is\t392433275.381\t\n",
       "Real is\t392433122\t\n",
       "Diff is\t153.38100469112\t\n",
       "\t\n"
      ]
     },
     "execution_count": 1,
     "metadata": {},
     "output_type": "execute_result"
    },
    {
     "data": {
      "text/plain": [
       "Pred is\t392433277.89747\t\n",
       "Real is\t392433294\t\n",
       "Diff is\t-16.102529525757\t\n",
       "\t\n"
      ]
     },
     "execution_count": 1,
     "metadata": {},
     "output_type": "execute_result"
    },
    {
     "data": {
      "text/plain": [
       "Pred is\t392433277.83752\t\n",
       "Real is\t392433273\t\n",
       "Diff is\t4.8375205993652\t\n",
       "\t\n"
      ]
     },
     "execution_count": 1,
     "metadata": {},
     "output_type": "execute_result"
    },
    {
     "data": {
      "text/plain": [
       "Pred is\t392433280.08389\t\n",
       "Real is\t392433223\t\n",
       "Diff is\t57.083886623383\t\n",
       "\t\n"
      ]
     },
     "execution_count": 1,
     "metadata": {},
     "output_type": "execute_result"
    },
    {
     "data": {
      "text/plain": [
       "Pred is\t392433277.40385\t\n",
       "Real is\t392433177\t\n",
       "Diff is\t100.40385466814\t\n",
       "\t\n"
      ]
     },
     "execution_count": 1,
     "metadata": {},
     "output_type": "execute_result"
    },
    {
     "data": {
      "text/plain": [
       "Pred is\t392433277.98161\t\n",
       "Real is\t392433347\t\n",
       "Diff is\t-69.018389821053\t\n",
       "\t\n"
      ]
     },
     "execution_count": 1,
     "metadata": {},
     "output_type": "execute_result"
    },
    {
     "data": {
      "text/plain": [
       "Pred is\t392433277.04064\t\n",
       "Real is\t392433333\t\n",
       "Diff is\t-55.959364056587\t\n",
       "\t\n"
      ]
     },
     "execution_count": 1,
     "metadata": {},
     "output_type": "execute_result"
    },
    {
     "data": {
      "text/plain": [
       "Pred is\t392433274.42767\t\n",
       "Real is\t392433099\t\n",
       "Diff is\t175.42767381668\t\n",
       "\t\n"
      ]
     },
     "execution_count": 1,
     "metadata": {},
     "output_type": "execute_result"
    },
    {
     "data": {
      "text/plain": [
       "Pred is\t392433270.00627\t\n",
       "Real is\t392433241\t\n",
       "Diff is\t29.006274998188\t\n",
       "\t"
      ]
     },
     "execution_count": 1,
     "metadata": {},
     "output_type": "execute_result"
    },
    {
     "data": {
      "text/plain": [
       "\n"
      ]
     },
     "execution_count": 1,
     "metadata": {},
     "output_type": "execute_result"
    },
    {
     "data": {
      "text/plain": [
       "Pred is\t392433273.34828\t\n",
       "Real is\t392433109\t\n",
       "Diff is\t164.3482812047\t\n",
       "\t\n"
      ]
     },
     "execution_count": 1,
     "metadata": {},
     "output_type": "execute_result"
    },
    {
     "data": {
      "text/plain": [
       "Pred is\t392433282.6823\t\n",
       "Real is\t392433271\t\n",
       "Diff is\t11.682302951813\t\n",
       "\t\n"
      ]
     },
     "execution_count": 1,
     "metadata": {},
     "output_type": "execute_result"
    },
    {
     "data": {
      "text/plain": [
       "Pred is\t392433279.6752\t\n",
       "Real is\t392433239\t\n",
       "Diff is\t40.675202965736\t\n",
       "\t\n"
      ]
     },
     "execution_count": 1,
     "metadata": {},
     "output_type": "execute_result"
    },
    {
     "data": {
      "text/plain": [
       "Pred is\t392433277.76944\t\n",
       "Real is\t392433347\t\n",
       "Diff is\t-69.230556249619\t\n",
       "\t\n"
      ]
     },
     "execution_count": 1,
     "metadata": {},
     "output_type": "execute_result"
    },
    {
     "data": {
      "text/plain": [
       "Pred is\t392433276.53559\t\n",
       "Real is\t392433143\t\n",
       "Diff is\t133.53559148312\t\n",
       "\t\n"
      ]
     },
     "execution_count": 1,
     "metadata": {},
     "output_type": "execute_result"
    },
    {
     "data": {
      "text/plain": [
       "Pred is\t392433276.32933\t\n",
       "Real is\t392433223\t\n",
       "Diff is\t53.329328238964\t\n",
       "\t\n"
      ]
     },
     "execution_count": 1,
     "metadata": {},
     "output_type": "execute_result"
    },
    {
     "data": {
      "text/plain": [
       "Pred is\t392433281.92747\t\n",
       "Real is\t392433294\t\n",
       "Diff is\t-12.072527468204\t\n",
       "\t\n"
      ]
     },
     "execution_count": 1,
     "metadata": {},
     "output_type": "execute_result"
    },
    {
     "data": {
      "text/plain": [
       "Pred is\t392433274.94728\t\n",
       "Real is\t392433270\t\n",
       "Diff is\t4.9472836852074\t\n",
       "\t\n"
      ]
     },
     "execution_count": 1,
     "metadata": {},
     "output_type": "execute_result"
    },
    {
     "data": {
      "text/plain": [
       "Pred is\t392433280.10324\t\n",
       "Real is\t392433125\t\n",
       "Diff is\t155.10323864222\t\n",
       "\t\n"
      ]
     },
     "execution_count": 1,
     "metadata": {},
     "output_type": "execute_result"
    },
    {
     "data": {
      "text/plain": [
       "Pred is\t392433274.62796\t\n",
       "Real is\t392433247\t\n",
       "Diff is\t27.62795984745\t\n",
       "\t\n"
      ]
     },
     "execution_count": 1,
     "metadata": {},
     "output_type": "execute_result"
    },
    {
     "data": {
      "text/plain": [
       "Pred is\t392433280.06118\t\n",
       "Real is\t392433347\t\n",
       "Diff is\t-66.9388230443\t\n",
       "\t\n"
      ]
     },
     "execution_count": 1,
     "metadata": {},
     "output_type": "execute_result"
    },
    {
     "data": {
      "text/plain": [
       "Pred is\t392433280.10981\t\n",
       "Real is\t392433157\t\n",
       "Diff is\t123.10981214046\t\n",
       "\t\n"
      ]
     },
     "execution_count": 1,
     "metadata": {},
     "output_type": "execute_result"
    },
    {
     "data": {
      "text/plain": [
       "Pred is\t392433275.78621\t\n",
       "Real is\t392433094\t\n",
       "Diff is\t181.78621178865\t\n",
       "\t\n"
      ]
     },
     "execution_count": 1,
     "metadata": {},
     "output_type": "execute_result"
    },
    {
     "data": {
      "text/plain": [
       "Pred is\t392433278.41829\t\n",
       "Real is\t392433324\t\n",
       "Diff is\t-45.581711530685\t\n",
       "\t\n"
      ]
     },
     "execution_count": 1,
     "metadata": {},
     "output_type": "execute_result"
    },
    {
     "data": {
      "text/plain": [
       "Pred is\t392433278.37679\t\n",
       "Real is\t392433231\t\n",
       "Diff is\t47.376791357994\t\n",
       "\t\n"
      ]
     },
     "execution_count": 1,
     "metadata": {},
     "output_type": "execute_result"
    },
    {
     "data": {
      "text/plain": [
       "Pred is\t392433278.33078\t\n",
       "Real is\t392433204\t\n",
       "Diff is\t74.330777406693\t\n",
       "\t\n"
      ]
     },
     "execution_count": 1,
     "metadata": {},
     "output_type": "execute_result"
    },
    {
     "data": {
      "text/plain": [
       "Pred is\t392433278.99148\t\n",
       "Real is\t392433257\t\n",
       "Diff is\t21.991475522518\t\n",
       "\t\n"
      ]
     },
     "execution_count": 1,
     "metadata": {},
     "output_type": "execute_result"
    },
    {
     "data": {
      "text/plain": [
       "Pred is\t392433281.0254\t\n",
       "Real is\t392433381\t\n",
       "Diff is\t-99.974600076675\t\n",
       "\t\n"
      ]
     },
     "execution_count": 1,
     "metadata": {},
     "output_type": "execute_result"
    },
    {
     "data": {
      "text/plain": [
       "Pred is\t392433274.66576\t\n",
       "Real is\t392433341\t\n",
       "Diff is\t-66.334243714809\t\n",
       "\t\n"
      ]
     },
     "execution_count": 1,
     "metadata": {},
     "output_type": "execute_result"
    },
    {
     "data": {
      "text/plain": [
       "Pred is\t392433276.75204\t\n",
       "Real is\t392433341\t\n",
       "Diff is\t-64.247956931591\t\n",
       "\t\n"
      ]
     },
     "execution_count": 1,
     "metadata": {},
     "output_type": "execute_result"
    },
    {
     "data": {
      "text/plain": [
       "Pred is\t392433273.70792\t\n",
       "Real is\t392433356\t\n",
       "Diff is\t-82.292079925537\t\n",
       "\t\n"
      ]
     },
     "execution_count": 1,
     "metadata": {},
     "output_type": "execute_result"
    },
    {
     "data": {
      "text/plain": [
       "Pred is\t392433280.0088\t\n",
       "Real is\t392433257\t\n",
       "Diff is\t23.008798360825\t\n",
       "\t\n"
      ]
     },
     "execution_count": 1,
     "metadata": {},
     "output_type": "execute_result"
    },
    {
     "data": {
      "text/plain": [
       "Pred is\t392433277.32401\t\n",
       "Real is\t392433348\t\n",
       "Diff is\t-70.675993621349\t\n",
       "\t\n"
      ]
     },
     "execution_count": 1,
     "metadata": {},
     "output_type": "execute_result"
    },
    {
     "data": {
      "text/plain": [
       "Pred is\t392433278.85978\t\n",
       "Real is\t392433230\t\n",
       "Diff is\t48.859777987003\t\n",
       "\t\n"
      ]
     },
     "execution_count": 1,
     "metadata": {},
     "output_type": "execute_result"
    },
    {
     "data": {
      "text/plain": [
       "Pred is\t392433281.18399\t\n",
       "Real is\t392433217\t\n",
       "Diff is\t64.183990120888\t\n",
       "\t\n"
      ]
     },
     "execution_count": 1,
     "metadata": {},
     "output_type": "execute_result"
    },
    {
     "data": {
      "text/plain": [
       "Pred is\t392433275.98161\t\n",
       "Real is\t392433369\t\n",
       "Diff is\t-93.018385410309\t\n",
       "\t\n"
      ]
     },
     "execution_count": 1,
     "metadata": {},
     "output_type": "execute_result"
    },
    {
     "data": {
      "text/plain": [
       "Pred is\t392433272.59519\t\n",
       "Real is\t392433240\t\n",
       "Diff is\t32.59519213438\t\n",
       "\t\n"
      ]
     },
     "execution_count": 1,
     "metadata": {},
     "output_type": "execute_result"
    },
    {
     "data": {
      "text/plain": [
       "Pred is\t392433279.99974\t\n",
       "Real is\t392433153\t\n",
       "Diff is\t126.99974453449\t\n",
       "\t\n"
      ]
     },
     "execution_count": 1,
     "metadata": {},
     "output_type": "execute_result"
    },
    {
     "data": {
      "text/plain": [
       "Pred is\t392433276.90086\t\n",
       "Real is\t392433265\t\n",
       "Diff is\t11.900860309601\t\n",
       "\t\n"
      ]
     },
     "execution_count": 1,
     "metadata": {},
     "output_type": "execute_result"
    },
    {
     "data": {
      "text/plain": [
       "Pred is\t392433282.88256\t\n",
       "Real is\t392433249\t\n",
       "Diff is\t33.882558524609\t\n",
       "\t\n"
      ]
     },
     "execution_count": 1,
     "metadata": {},
     "output_type": "execute_result"
    },
    {
     "data": {
      "text/plain": [
       "Pred is\t392433275.79332\t\n",
       "Real is\t392433319\t\n",
       "Diff is\t-43.20667809248\t\n",
       "\t\n"
      ]
     },
     "execution_count": 1,
     "metadata": {},
     "output_type": "execute_result"
    },
    {
     "data": {
      "text/plain": [
       "Pred is\t392433274.87526\t\n",
       "Real is\t392433270\t\n",
       "Diff is\t4.8752620220184\t\n",
       "\t\n"
      ]
     },
     "execution_count": 1,
     "metadata": {},
     "output_type": "execute_result"
    },
    {
     "data": {
      "text/plain": [
       "Pred is\t392433274.27536\t\n",
       "Real is\t392433174\t\n",
       "Diff is\t100.27536153793\t\n",
       "\t\n"
      ]
     },
     "execution_count": 1,
     "metadata": {},
     "output_type": "execute_result"
    },
    {
     "data": {
      "text/plain": [
       "Pred is\t392433278.29696\t\n",
       "Real is\t392433347\t\n",
       "Diff is\t-68.70304274559\t\n",
       "\t\n"
      ]
     },
     "execution_count": 1,
     "metadata": {},
     "output_type": "execute_result"
    },
    {
     "data": {
      "text/plain": [
       "Pred is\t392433277.00922\t\n",
       "Real is\t392433394\t\n",
       "Diff is\t-116.99078202248\t\n",
       "\t\n"
      ]
     },
     "execution_count": 1,
     "metadata": {},
     "output_type": "execute_result"
    },
    {
     "data": {
      "text/plain": [
       "Pred is\t392433275.27\t\n",
       "Real is\t392433341\t\n",
       "Diff is\t-65.729999303818\t\n",
       "\t\n"
      ]
     },
     "execution_count": 1,
     "metadata": {},
     "output_type": "execute_result"
    },
    {
     "data": {
      "text/plain": [
       "Pred is\t392433276.22656\t\n"
      ]
     },
     "execution_count": 1,
     "metadata": {},
     "output_type": "execute_result"
    },
    {
     "data": {
      "text/plain": [
       "Real is\t392433347\t\n",
       "Diff is\t-70.773442983627\t\n",
       "\t\n"
      ]
     },
     "execution_count": 1,
     "metadata": {},
     "output_type": "execute_result"
    },
    {
     "data": {
      "text/plain": [
       "Pred is\t392433276.9648\t\n",
       "Real is\t392433286\t\n",
       "Diff is\t-9.0352002978325\t\n",
       "\t\n"
      ]
     },
     "execution_count": 1,
     "metadata": {},
     "output_type": "execute_result"
    },
    {
     "data": {
      "text/plain": [
       "Pred is\t392433279.90878\t\n",
       "Real is\t392433244\t\n",
       "Diff is\t35.908776044846\t\n",
       "\t\n"
      ]
     },
     "execution_count": 1,
     "metadata": {},
     "output_type": "execute_result"
    },
    {
     "data": {
      "text/plain": [
       "Pred is\t392433271.65293\t\n",
       "Real is\t392433410\t\n",
       "Diff is\t-138.34706801176\t\n",
       "\t\n"
      ]
     },
     "execution_count": 1,
     "metadata": {},
     "output_type": "execute_result"
    },
    {
     "data": {
      "text/plain": [
       "Pred is\t392433276.99972\t\n",
       "Real is\t392433186\t\n",
       "Diff is\t90.999715089798\t\n",
       "\t\n"
      ]
     },
     "execution_count": 1,
     "metadata": {},
     "output_type": "execute_result"
    },
    {
     "data": {
      "text/plain": [
       "Pred is\t392433276.1405\t\n",
       "Real is\t392433380\t\n",
       "Diff is\t-103.85950499773\t\n",
       "\t\n"
      ]
     },
     "execution_count": 1,
     "metadata": {},
     "output_type": "execute_result"
    },
    {
     "data": {
      "text/plain": [
       "Pred is\t392433277.41156\t\n",
       "Real is\t392433281\t\n",
       "Diff is\t-3.5884370207787\t\n",
       "\t\n"
      ]
     },
     "execution_count": 1,
     "metadata": {},
     "output_type": "execute_result"
    },
    {
     "data": {
      "text/plain": [
       "Pred is\t392433277.72594\t\n",
       "Real is\t392433286\t\n",
       "Diff is\t-8.2740577459335\t\n",
       "\t\n"
      ]
     },
     "execution_count": 1,
     "metadata": {},
     "output_type": "execute_result"
    },
    {
     "data": {
      "text/plain": [
       "Pred is\t392433274.15363\t\n",
       "Real is\t392433305\t\n",
       "Diff is\t-30.84637337923\t\n",
       "\t\n"
      ]
     },
     "execution_count": 1,
     "metadata": {},
     "output_type": "execute_result"
    },
    {
     "data": {
      "text/plain": [
       "Pred is\t392433279.14937\t\n",
       "Real is\t392433221\t\n",
       "Diff is\t58.149368345737\t\n",
       "\t\n"
      ]
     },
     "execution_count": 1,
     "metadata": {},
     "output_type": "execute_result"
    },
    {
     "data": {
      "text/plain": [
       "Pred is\t392433280.81592\t\n",
       "Real is\t392433189\t\n",
       "Diff is\t91.815920889378\t\n",
       "\t\n"
      ]
     },
     "execution_count": 1,
     "metadata": {},
     "output_type": "execute_result"
    },
    {
     "data": {
      "text/plain": [
       "Pred is\t392433274.60564\t\n",
       "Real is\t392433279\t\n",
       "Diff is\t-4.394363284111\t\n",
       "\t\n"
      ]
     },
     "execution_count": 1,
     "metadata": {},
     "output_type": "execute_result"
    },
    {
     "data": {
      "text/plain": [
       "Pred is\t392433278.11669\t\n",
       "Real is\t392433314\t\n",
       "Diff is\t-35.883311271667\t\n",
       "\t\n"
      ]
     },
     "execution_count": 1,
     "metadata": {},
     "output_type": "execute_result"
    },
    {
     "data": {
      "text/plain": [
       "Pred is\t392433278.51173\t\n",
       "Real is\t392433231\t\n",
       "Diff is\t47.511731088161\t\n",
       "\t\n"
      ]
     },
     "execution_count": 1,
     "metadata": {},
     "output_type": "execute_result"
    },
    {
     "data": {
      "text/plain": [
       "Pred is\t392433280.30878\t\n",
       "Real is\t392433347\t\n",
       "Diff is\t-66.691220700741\t\n",
       "\t\n"
      ]
     },
     "execution_count": 1,
     "metadata": {},
     "output_type": "execute_result"
    },
    {
     "data": {
      "text/plain": [
       "Pred is\t392433275.99932\t\n",
       "Real is\t392433251\t\n",
       "Diff is\t24.999319255352\t\n",
       "\t\n"
      ]
     },
     "execution_count": 1,
     "metadata": {},
     "output_type": "execute_result"
    },
    {
     "data": {
      "text/plain": [
       "Pred is\t392433279.81976\t\n",
       "Real is\t392433137\t\n",
       "Diff is\t142.81975549459\t\n",
       "\t\n"
      ]
     },
     "execution_count": 1,
     "metadata": {},
     "output_type": "execute_result"
    },
    {
     "data": {
      "text/plain": [
       "Pred is\t392433273.44816\t\n",
       "Real is\t392433095\t\n",
       "Diff is\t178.44816279411\t\n",
       "\t\n"
      ]
     },
     "execution_count": 1,
     "metadata": {},
     "output_type": "execute_result"
    },
    {
     "data": {
      "text/plain": [
       "Pred is\t392433276.67222\t\n",
       "Real is\t392433351\t\n",
       "Diff is\t-74.327778697014\t\n",
       "\t\n"
      ]
     },
     "execution_count": 1,
     "metadata": {},
     "output_type": "execute_result"
    },
    {
     "data": {
      "text/plain": [
       "Pred is\t392433278.34891\t\n",
       "Real is\t392433205\t\n",
       "Diff is\t73.348910987377\t\n",
       "\t\n"
      ]
     },
     "execution_count": 1,
     "metadata": {},
     "output_type": "execute_result"
    },
    {
     "data": {
      "text/plain": [
       "Pred is\t392433277.84525\t\n",
       "Real is\t392433272\t\n",
       "Diff is\t5.8452535271645\t\n",
       "\t\n"
      ]
     },
     "execution_count": 1,
     "metadata": {},
     "output_type": "execute_result"
    },
    {
     "data": {
      "text/plain": [
       "Pred is\t392433275.49944\t\n",
       "Real is\t392433265\t\n",
       "Diff is\t10.499440729618\t\n",
       "\t\n"
      ]
     },
     "execution_count": 1,
     "metadata": {},
     "output_type": "execute_result"
    },
    {
     "data": {
      "text/plain": [
       "Pred is\t392433281.05835\t\n",
       "Real is\t392433347\t\n",
       "Diff is\t-65.941653847694\t\n",
       "\t\n"
      ]
     },
     "execution_count": 1,
     "metadata": {},
     "output_type": "execute_result"
    },
    {
     "data": {
      "text/plain": [
       "Pred is\t392433277.40722\t\n",
       "Real is\t392433312\t\n",
       "Diff is\t-34.592782258987\t\n",
       "\t\n"
      ]
     },
     "execution_count": 1,
     "metadata": {},
     "output_type": "execute_result"
    },
    {
     "data": {
      "text/plain": [
       "Pred is\t392433277.28933\t\n",
       "Real is\t392433231\t\n",
       "Diff is\t46.289334893227\t\n",
       "\t\n"
      ]
     },
     "execution_count": 1,
     "metadata": {},
     "output_type": "execute_result"
    },
    {
     "data": {
      "text/plain": [
       "Pred is\t392433276.05147\t\n",
       "Real is\t392433319\t\n",
       "Diff is\t-42.948530972004\t\n",
       "\t\n"
      ]
     },
     "execution_count": 1,
     "metadata": {},
     "output_type": "execute_result"
    },
    {
     "data": {
      "text/plain": [
       "Pred is\t392433276.4251\t\n",
       "Real is\t392433215\t\n",
       "Diff is\t61.425097823143\t\n",
       "\t\n"
      ]
     },
     "execution_count": 1,
     "metadata": {},
     "output_type": "execute_result"
    },
    {
     "data": {
      "text/plain": [
       "Pred is\t392433276.89144\t\n",
       "Real is\t392433347\t\n",
       "Diff is\t"
      ]
     },
     "execution_count": 1,
     "metadata": {},
     "output_type": "execute_result"
    },
    {
     "data": {
      "text/plain": [
       "-70.108561038971\t\n",
       "\t\n"
      ]
     },
     "execution_count": 1,
     "metadata": {},
     "output_type": "execute_result"
    },
    {
     "data": {
      "text/plain": [
       "Pred is\t392433275.39585\t\n",
       "Real is\t392433364\t\n",
       "Diff is\t-88.604152441025\t\n",
       "\t\n"
      ]
     },
     "execution_count": 1,
     "metadata": {},
     "output_type": "execute_result"
    },
    {
     "data": {
      "text/plain": [
       "Pred is\t392433275.59489\t\n",
       "Real is\t392433200\t\n",
       "Diff is\t75.594887912273\t\n",
       "\t\n"
      ]
     },
     "execution_count": 1,
     "metadata": {},
     "output_type": "execute_result"
    },
    {
     "data": {
      "text/plain": [
       "Pred is\t392433275.71262\t\n",
       "Real is\t392433199\t\n",
       "Diff is\t76.712624847889\t\n",
       "\t\n"
      ]
     },
     "execution_count": 1,
     "metadata": {},
     "output_type": "execute_result"
    },
    {
     "data": {
      "text/plain": [
       "Pred is\t392433277.91197\t\n",
       "Real is\t392433241\t\n",
       "Diff is\t36.911970853806\t\n",
       "\t\n"
      ]
     },
     "execution_count": 1,
     "metadata": {},
     "output_type": "execute_result"
    },
    {
     "data": {
      "text/plain": [
       "Pred is\t392433275.38883\t\n",
       "Real is\t392433374\t\n",
       "Diff is\t-98.611170947552\t\n",
       "\t\n"
      ]
     },
     "execution_count": 1,
     "metadata": {},
     "output_type": "execute_result"
    },
    {
     "data": {
      "text/plain": [
       "Pred is\t392433276.46846\t\n",
       "Real is\t392433347\t\n",
       "Diff is\t-70.531538724899\t\n",
       "\t\n"
      ]
     },
     "execution_count": 1,
     "metadata": {},
     "output_type": "execute_result"
    },
    {
     "data": {
      "text/plain": [
       "Pred is\t"
      ]
     },
     "execution_count": 1,
     "metadata": {},
     "output_type": "execute_result"
    },
    {
     "data": {
      "text/plain": [
       "392433279.09251\t\n",
       "Real is\t392433345\t\n",
       "Diff is\t-65.907487213612\t\n",
       "\t\n"
      ]
     },
     "execution_count": 1,
     "metadata": {},
     "output_type": "execute_result"
    },
    {
     "data": {
      "text/plain": [
       "Pred is\t392433275.52594\t\n",
       "Real is\t392433352\t\n",
       "Diff is\t-76.474056363106\t\n",
       "\t\n"
      ]
     },
     "execution_count": 1,
     "metadata": {},
     "output_type": "execute_result"
    },
    {
     "data": {
      "text/plain": [
       "Pred is\t392433278.85263\t\n",
       "Real is\t392433334\t\n",
       "Diff is\t-55.147365808487\t\n",
       "\t\n"
      ]
     },
     "execution_count": 1,
     "metadata": {},
     "output_type": "execute_result"
    },
    {
     "data": {
      "text/plain": [
       "Pred is\t392433279.1486\t\n",
       "Real is\t392433134\t\n",
       "Diff is\t145.14860498905\t\n",
       "\t\n"
      ]
     },
     "execution_count": 1,
     "metadata": {},
     "output_type": "execute_result"
    },
    {
     "data": {
      "text/plain": [
       "Pred is\t392433276.7111\t\n",
       "Real is\t392433120\t\n",
       "Diff is\t156.71110278368\t\n",
       "\t\n"
      ]
     },
     "execution_count": 1,
     "metadata": {},
     "output_type": "execute_result"
    },
    {
     "data": {
      "text/plain": [
       "Pred is\t392433272.89262\t\n",
       "Real is\t392433105\t\n",
       "Diff is\t167.89261806011\t\n",
       "\t\n"
      ]
     },
     "execution_count": 1,
     "metadata": {},
     "output_type": "execute_result"
    },
    {
     "data": {
      "text/plain": [
       "Pred is\t392433276.39012\t\n",
       "Real is\t392433219\t\n",
       "Diff is\t57.390116631985\t\n",
       "\t\n"
      ]
     },
     "execution_count": 1,
     "metadata": {},
     "output_type": "execute_result"
    },
    {
     "data": {
      "text/plain": [
       "Pred is\t392433273.61661\t\n",
       "Real is\t392433142\t\n",
       "Diff is\t131.61660528183\t\n",
       "\t\n"
      ]
     },
     "execution_count": 1,
     "metadata": {},
     "output_type": "execute_result"
    },
    {
     "data": {
      "text/plain": [
       "Pred is\t392433279.25544\t\n"
      ]
     },
     "execution_count": 1,
     "metadata": {},
     "output_type": "execute_result"
    },
    {
     "data": {
      "text/plain": [
       "Real is\t392433219\t\n",
       "Diff is\t60.255442559719\t\n",
       "\t\n"
      ]
     },
     "execution_count": 1,
     "metadata": {},
     "output_type": "execute_result"
    },
    {
     "data": {
      "text/plain": [
       "Pred is\t392433278.62158\t\n",
       "Real is\t392433186\t\n",
       "Diff is\t92.621579766273\t\n",
       "\t\n"
      ]
     },
     "execution_count": 1,
     "metadata": {},
     "output_type": "execute_result"
    },
    {
     "data": {
      "text/plain": [
       "Pred is\t392433278.29413\t\n",
       "Real is\t392433283\t\n",
       "Diff is\t-4.7058700919151\t\n",
       "\t\n"
      ]
     },
     "execution_count": 1,
     "metadata": {},
     "output_type": "execute_result"
    },
    {
     "data": {
      "text/plain": [
       "Pred is\t392433277.13616\t\n",
       "Real is\t392433254\t\n",
       "Diff is\t23.136161267757\t\n",
       "\t\n"
      ]
     },
     "execution_count": 1,
     "metadata": {},
     "output_type": "execute_result"
    },
    {
     "data": {
      "text/plain": [
       "Pred is\t392433276.34308\t\n",
       "Real is\t392433292\t\n",
       "Diff is\t-15.656920492649\t\n",
       "\t\n"
      ]
     },
     "execution_count": 1,
     "metadata": {},
     "output_type": "execute_result"
    },
    {
     "data": {
      "text/plain": [
       "Pred is\t392433278.86406\t\n",
       "Real is\t392433310\t\n",
       "Diff is\t-31.135937511921\t\n",
       "\t\n"
      ]
     },
     "execution_count": 1,
     "metadata": {},
     "output_type": "execute_result"
    },
    {
     "data": {
      "text/plain": [
       "Pred is\t392433272.98933\t\n",
       "Real is\t392433212\t\n",
       "Diff is\t60.989327907562\t\n",
       "\t\n"
      ]
     },
     "execution_count": 1,
     "metadata": {},
     "output_type": "execute_result"
    },
    {
     "data": {
      "text/plain": [
       "Pred is\t392433277.20607\t\n",
       "Real is\t392433165\t\n",
       "Diff is\t112.20606648922\t\n",
       "\t\n"
      ]
     },
     "execution_count": 1,
     "metadata": {},
     "output_type": "execute_result"
    },
    {
     "data": {
      "text/plain": [
       "Pred is\t392433277.55502\t\n",
       "Real is\t392433114\t\n",
       "Diff is\t163.55502015352\t\n",
       "\t\n"
      ]
     },
     "execution_count": 1,
     "metadata": {},
     "output_type": "execute_result"
    },
    {
     "data": {
      "text/plain": [
       "Pred is\t392433279.27106\t\n",
       "Real is\t392433229\t\n",
       "Diff is\t50.271061122417\t\n",
       "\t\n"
      ]
     },
     "execution_count": 1,
     "metadata": {},
     "output_type": "execute_result"
    },
    {
     "data": {
      "text/plain": [
       "Pred is\t392433277.27557\t\n",
       "Real is\t392433265\t\n",
       "Diff is\t12.275569677353\t\n",
       "\t\n"
      ]
     },
     "execution_count": 1,
     "metadata": {},
     "output_type": "execute_result"
    },
    {
     "data": {
      "text/plain": [
       "Pred is\t392433276.40514\t\n",
       "Real is\t392433140\t\n",
       "Diff is\t136.40514177084\t\n",
       "\t\n"
      ]
     },
     "execution_count": 1,
     "metadata": {},
     "output_type": "execute_result"
    },
    {
     "data": {
      "text/plain": [
       "Pred is\t392433276.38434\t\n",
       "Real is\t392433360\t\n",
       "Diff is\t-83.615663468838\t\n",
       "\t\n"
      ]
     },
     "execution_count": 1,
     "metadata": {},
     "output_type": "execute_result"
    },
    {
     "data": {
      "text/plain": [
       "Pred is\t392433278.32523\t\n",
       "Real is\t392433370\t\n",
       "Diff is\t-91.674769043922\t\n",
       "\t\n"
      ]
     },
     "execution_count": 1,
     "metadata": {},
     "output_type": "execute_result"
    },
    {
     "data": {
      "text/plain": [
       "Pred is\t392433273.21741\t\n",
       "Real is\t392433221\t\n",
       "Diff is\t52.217409431934\t\n",
       "\t\n"
      ]
     },
     "execution_count": 1,
     "metadata": {},
     "output_type": "execute_result"
    },
    {
     "data": {
      "text/plain": [
       "Pred is\t392433279.15124\t\n",
       "Real is\t392433331\t\n",
       "Diff is\t-51.848764836788\t\n",
       "\t\n"
      ]
     },
     "execution_count": 1,
     "metadata": {},
     "output_type": "execute_result"
    },
    {
     "data": {
      "text/plain": [
       "Pred is\t392433279.95775\t\n",
       "Real is\t392433261\t\n",
       "Diff is\t18.957752406597\t\n",
       "\t\n"
      ]
     },
     "execution_count": 1,
     "metadata": {},
     "output_type": "execute_result"
    },
    {
     "data": {
      "text/plain": [
       "Pred is\t392433277.2687\t\n",
       "Real is\t392433270\t\n",
       "Diff is\t7.2686953544617\t\n",
       "\t\n"
      ]
     },
     "execution_count": 1,
     "metadata": {},
     "output_type": "execute_result"
    },
    {
     "data": {
      "text/plain": [
       "Pred is\t392433275.45492\t\n",
       "Real is\t392433279\t\n",
       "Diff is\t-3.5450803041458\t\n",
       "\t\n"
      ]
     },
     "execution_count": 1,
     "metadata": {},
     "output_type": "execute_result"
    },
    {
     "data": {
      "text/plain": [
       "Pred is\t392433281.16072\t\n",
       "Real is\t392433161\t\n",
       "Diff is\t120.16071516275\t\n",
       "\t\n"
      ]
     },
     "execution_count": 1,
     "metadata": {},
     "output_type": "execute_result"
    },
    {
     "data": {
      "text/plain": [
       "Pred is\t392433275.70348\t\n",
       "Real is\t392433307\t\n",
       "Diff is\t-31.296518623829\t\n",
       "\t\n"
      ]
     },
     "execution_count": 1,
     "metadata": {},
     "output_type": "execute_result"
    },
    {
     "data": {
      "text/plain": [
       "Pred is\t392433279.59528\t\n",
       "Real is\t392433145\t\n",
       "Diff is\t134.59527599812\t\n",
       "\t\n"
      ]
     },
     "execution_count": 1,
     "metadata": {},
     "output_type": "execute_result"
    },
    {
     "data": {
      "text/plain": [
       "Pred is\t392433277.18855\t\n",
       "Real is\t392433102\t\n",
       "Diff is\t175.18854814768\t\n",
       "\t\n"
      ]
     },
     "execution_count": 1,
     "metadata": {},
     "output_type": "execute_result"
    },
    {
     "data": {
      "text/plain": [
       "Pred is\t392433274.0952\t\n",
       "Real is\t392433328\t\n",
       "Diff is\t-53.904800713062\t\n",
       "\t\n"
      ]
     },
     "execution_count": 1,
     "metadata": {},
     "output_type": "execute_result"
    },
    {
     "data": {
      "text/plain": [
       "Pred is\t392433276.15378\t\n",
       "Real is\t392433121\t\n",
       "Diff is\t155.15377682447\t\n",
       "\t\n"
      ]
     },
     "execution_count": 1,
     "metadata": {},
     "output_type": "execute_result"
    },
    {
     "data": {
      "text/plain": [
       "Pred is\t392433277.4889\t\n",
       "Real is\t392433135\t\n",
       "Diff is\t142.48889911175\t\n",
       "\t\n"
      ]
     },
     "execution_count": 1,
     "metadata": {},
     "output_type": "execute_result"
    },
    {
     "data": {
      "text/plain": [
       "Pred is\t392433275.51426\t\n",
       "Real is\t392433347\t\n",
       "Diff is\t-71.485744357109\t\n",
       "\t\n"
      ]
     },
     "execution_count": 1,
     "metadata": {},
     "output_type": "execute_result"
    },
    {
     "data": {
      "text/plain": [
       "Pred is\t392433279.24582\t\n",
       "Real is\t392433347\t\n",
       "Diff is\t-67.754181265831\t\n",
       "\t\n"
      ]
     },
     "execution_count": 1,
     "metadata": {},
     "output_type": "execute_result"
    },
    {
     "data": {
      "text/plain": [
       "Pred is\t392433280.20561\t\n",
       "Real is\t392433308\t\n",
       "Diff is\t-27.794386684895\t\n",
       "\t\n"
      ]
     },
     "execution_count": 1,
     "metadata": {},
     "output_type": "execute_result"
    },
    {
     "data": {
      "text/plain": [
       "Pred is\t392433276.95864\t\n",
       "Real is\t392433208\t\n",
       "Diff is\t68.958644807339\t\n",
       "\t\n"
      ]
     },
     "execution_count": 1,
     "metadata": {},
     "output_type": "execute_result"
    },
    {
     "data": {
      "text/plain": [
       "Pred is\t392433276.58016\t\n",
       "Real is\t392433347\t\n",
       "Diff is\t-70.419837892056\t\n",
       "\t\n"
      ]
     },
     "execution_count": 1,
     "metadata": {},
     "output_type": "execute_result"
    },
    {
     "data": {
      "text/plain": [
       "Pred is\t"
      ]
     },
     "execution_count": 1,
     "metadata": {},
     "output_type": "execute_result"
    },
    {
     "data": {
      "text/plain": [
       "392433278.48181\t\n",
       "Real is\t392433405\t\n",
       "Diff is\t-126.51819187403\t\n",
       "\t\n"
      ]
     },
     "execution_count": 1,
     "metadata": {},
     "output_type": "execute_result"
    },
    {
     "data": {
      "text/plain": [
       "Pred is\t392433279.18562\t\n",
       "Real is\t392433367\t\n",
       "Diff is\t-87.814383506775\t\n",
       "\t\n"
      ]
     },
     "execution_count": 1,
     "metadata": {},
     "output_type": "execute_result"
    },
    {
     "data": {
      "text/plain": [
       "Pred is\t392433279.13841\t\n",
       "Real is\t392433223\t\n",
       "Diff is\t56.138411700726\t\n",
       "\t\n"
      ]
     },
     "execution_count": 1,
     "metadata": {},
     "output_type": "execute_result"
    },
    {
     "data": {
      "text/plain": [
       "Pred is\t392433274.37241\t\n",
       "Real is\t392433332\t\n",
       "Diff is\t-57.627593934536\t\n",
       "\t\n"
      ]
     },
     "execution_count": 1,
     "metadata": {},
     "output_type": "execute_result"
    },
    {
     "data": {
      "text/plain": [
       "Pred is\t392433280.92087\t\n",
       "Real is\t392433321\t\n",
       "Diff is\t-40.079126000404\t\n",
       "\t\n"
      ]
     },
     "execution_count": 1,
     "metadata": {},
     "output_type": "execute_result"
    },
    {
     "data": {
      "text/plain": [
       "Pred is\t392433275.0853\t\n",
       "Real is\t392433257\t\n",
       "Diff is\t18.085303962231\t\n",
       "\t\n"
      ]
     },
     "execution_count": 1,
     "metadata": {},
     "output_type": "execute_result"
    },
    {
     "data": {
      "text/plain": [
       "Pred is\t392433275.35777\t\n",
       "Real is\t392433347\t\n",
       "Diff is\t-71.642226934433\t\n",
       "\t\n"
      ]
     },
     "execution_count": 1,
     "metadata": {},
     "output_type": "execute_result"
    },
    {
     "data": {
      "text/plain": [
       "Pred is\t392433273.19053\t\n",
       "Real is\t392433245\t\n",
       "Diff is\t28.190533816814\t\n",
       "\t\n"
      ]
     },
     "execution_count": 1,
     "metadata": {},
     "output_type": "execute_result"
    },
    {
     "data": {
      "text/plain": [
       "Pred is\t392433277.65587\t\n",
       "Real is\t392433247\t\n",
       "Diff is\t30.655871212482\t\n",
       "\t\n"
      ]
     },
     "execution_count": 1,
     "metadata": {},
     "output_type": "execute_result"
    },
    {
     "data": {
      "text/plain": [
       "Pred is\t392433272.68444\t\n",
       "Real is\t392433347\t\n",
       "Diff is\t-74.315558731556\t\n",
       "\t\n"
      ]
     },
     "execution_count": 1,
     "metadata": {},
     "output_type": "execute_result"
    },
    {
     "data": {
      "text/plain": [
       "Pred is\t392433276.14791\t\n",
       "Real is\t392433262\t\n",
       "Diff is\t14.147909283638\t\n",
       "\t\n"
      ]
     },
     "execution_count": 1,
     "metadata": {},
     "output_type": "execute_result"
    },
    {
     "data": {
      "text/plain": [
       "Pred is\t392433276.40272\t\n",
       "Real is\t392433188\t\n",
       "Diff is\t88.40272051096\t\n",
       "\t\n"
      ]
     },
     "execution_count": 1,
     "metadata": {},
     "output_type": "execute_result"
    },
    {
     "data": {
      "text/plain": [
       "Pred is\t392433283.43962\t\n",
       "Real is\t392433328\t\n",
       "Diff is\t-44.560380637646\t\n",
       "\t\n"
      ]
     },
     "execution_count": 1,
     "metadata": {},
     "output_type": "execute_result"
    },
    {
     "data": {
      "text/plain": [
       "Pred is\t392433277.53799\t\n",
       "Real is\t392433385\t\n",
       "Diff is\t-107.4620115757\t\n",
       "\t\n"
      ]
     },
     "execution_count": 1,
     "metadata": {},
     "output_type": "execute_result"
    },
    {
     "data": {
      "text/plain": [
       "Pred is\t392433277.55508\t\n",
       "Real is\t392433252\t\n",
       "Diff is\t25.55507594347\t\n",
       "\t\n"
      ]
     },
     "execution_count": 1,
     "metadata": {},
     "output_type": "execute_result"
    },
    {
     "data": {
      "text/plain": [
       "Pred is\t392433276.03258\t\n",
       "Real is\t392433305\t\n",
       "Diff is\t-28.967417955399\t\n",
       "\t\n"
      ]
     },
     "execution_count": 1,
     "metadata": {},
     "output_type": "execute_result"
    },
    {
     "data": {
      "text/plain": [
       "Pred is\t392433274.86964\t\n",
       "Real is\t392433188\t\n",
       "Diff is\t86.8696423769\t\n",
       "\t\n"
      ]
     },
     "execution_count": 1,
     "metadata": {},
     "output_type": "execute_result"
    },
    {
     "data": {
      "text/plain": [
       "Pred is\t392433282.19311\t\n",
       "Real is\t392433261\t\n",
       "Diff is\t21.193109333515\t\n",
       "\t\n"
      ]
     },
     "execution_count": 1,
     "metadata": {},
     "output_type": "execute_result"
    },
    {
     "data": {
      "text/plain": [
       "Pred is\t392433276.10611\t\n",
       "Real is\t392433294\t\n",
       "Diff is\t-17.893886566162\t\n",
       "\t\n"
      ]
     },
     "execution_count": 1,
     "metadata": {},
     "output_type": "execute_result"
    },
    {
     "data": {
      "text/plain": [
       "Pred is\t392433277.26044\t\n",
       "Real is\t392433363\t\n",
       "Diff is\t-85.739555001259\t\n",
       "\t\n"
      ]
     },
     "execution_count": 1,
     "metadata": {},
     "output_type": "execute_result"
    },
    {
     "data": {
      "text/plain": [
       "Pred is\t392433277.42248\t\n",
       "Real is\t392433233\t\n",
       "Diff is\t44.422480285168\t\n",
       "\t\n"
      ]
     },
     "execution_count": 1,
     "metadata": {},
     "output_type": "execute_result"
    },
    {
     "data": {
      "text/plain": [
       "Pred is\t392433278.23498\t\n",
       "Real is\t392433248\t\n",
       "Diff is\t30.234978735447\t\n",
       "\t\n"
      ]
     },
     "execution_count": 1,
     "metadata": {},
     "output_type": "execute_result"
    },
    {
     "data": {
      "text/plain": [
       "Pred is\t392433276.31828\t\n",
       "Real is\t392433319\t\n",
       "Diff is\t-42.681717813015\t\n",
       "\t\n"
      ]
     },
     "execution_count": 1,
     "metadata": {},
     "output_type": "execute_result"
    },
    {
     "data": {
      "text/plain": [
       "Pred is\t392433279.01309\t\n",
       "Real is\t392433229\t\n",
       "Diff is\t50.013093113899\t\n",
       "\t\n"
      ]
     },
     "execution_count": 1,
     "metadata": {},
     "output_type": "execute_result"
    },
    {
     "data": {
      "text/plain": [
       "Pred is\t392433275.6263\t\n",
       "Real is\t392433347\t\n",
       "Diff is\t-71.373700976372\t\n",
       "\t\n"
      ]
     },
     "execution_count": 1,
     "metadata": {},
     "output_type": "execute_result"
    },
    {
     "data": {
      "text/plain": [
       "Pred is\t392433281.12337\t\n",
       "Real is\t392433163\t\n",
       "Diff is\t118.12337046862\t\n",
       "\t\n"
      ]
     },
     "execution_count": 1,
     "metadata": {},
     "output_type": "execute_result"
    },
    {
     "data": {
      "text/plain": [
       "Pred is\t392433276.68155\t\n",
       "Real is\t392433347\t\n",
       "Diff is\t-70.318447947502\t\n",
       "\t\n"
      ]
     },
     "execution_count": 1,
     "metadata": {},
     "output_type": "execute_result"
    },
    {
     "data": {
      "text/plain": [
       "Pred is\t392433281.30381\t\n",
       "Real is\t392433210\t\n",
       "Diff is\t71.303805112839\t\n",
       "\t\n"
      ]
     },
     "execution_count": 1,
     "metadata": {},
     "output_type": "execute_result"
    },
    {
     "data": {
      "text/plain": [
       "Pred is\t392433271.64664\t\n",
       "Real is\t392433142\t\n",
       "Diff is\t129.64664417505\t\n",
       "\t\n"
      ]
     },
     "execution_count": 1,
     "metadata": {},
     "output_type": "execute_result"
    },
    {
     "data": {
      "text/plain": [
       "Pred is\t"
      ]
     },
     "execution_count": 1,
     "metadata": {},
     "output_type": "execute_result"
    },
    {
     "data": {
      "text/plain": [
       "392433276.3921\t\n",
       "Real is\t392433248\t\n",
       "Diff is\t28.392099797726\t\n",
       "\t\n"
      ]
     },
     "execution_count": 1,
     "metadata": {},
     "output_type": "execute_result"
    },
    {
     "data": {
      "text/plain": [
       "Pred is\t392433279.20636\t\n",
       "Real is\t392433181\t\n",
       "Diff is\t98.20635831356\t\n",
       "\t\n"
      ]
     },
     "execution_count": 1,
     "metadata": {},
     "output_type": "execute_result"
    },
    {
     "data": {
      "text/plain": [
       "Pred is\t392433278.76611\t\n",
       "Real is\t392433290\t\n",
       "Diff is\t-11.233892917633\t\n",
       "\t\n"
      ]
     },
     "execution_count": 1,
     "metadata": {},
     "output_type": "execute_result"
    },
    {
     "data": {
      "text/plain": [
       "Pred is\t392433273.96802\t\n",
       "Real is\t392433329\t\n",
       "Diff is\t-55.031976878643\t\n",
       "\t\n"
      ]
     },
     "execution_count": 1,
     "metadata": {},
     "output_type": "execute_result"
    },
    {
     "data": {
      "text/plain": [
       "Pred is\t392433280.18383\t\n",
       "Real is\t392433204\t\n",
       "Diff is\t76.183830618858\t\n",
       "\t\n"
      ]
     },
     "execution_count": 1,
     "metadata": {},
     "output_type": "execute_result"
    },
    {
     "data": {
      "text/plain": [
       "Pred is\t392433275.45048\t\n",
       "Real is\t392433245\t\n",
       "Diff is\t30.450478732586\t\n",
       "\t\n"
      ]
     },
     "execution_count": 1,
     "metadata": {},
     "output_type": "execute_result"
    },
    {
     "data": {
      "text/plain": [
       "Pred is\t392433272.93869\t\n",
       "Real is\t392433285\t\n",
       "Diff is\t-12.061309754848\t\n",
       "\t\n"
      ]
     },
     "execution_count": 1,
     "metadata": {},
     "output_type": "execute_result"
    },
    {
     "data": {
      "text/plain": [
       "Pred is\t392433274.11467\t\n",
       "Real is\t392433347\t\n",
       "Diff is\t-72.88532525301\t\n",
       "\t\n"
      ]
     },
     "execution_count": 1,
     "metadata": {},
     "output_type": "execute_result"
    },
    {
     "data": {
      "text/plain": [
       "Pred is\t392433276.96085\t\n",
       "Real is\t392433130\t\n",
       "Diff is\t146.96084719896\t\n",
       "\t\n"
      ]
     },
     "execution_count": 1,
     "metadata": {},
     "output_type": "execute_result"
    },
    {
     "data": {
      "text/plain": [
       "Pred is\t392433276.76178\t\n",
       "Real is\t392433402\t\n",
       "Diff is\t-125.23821598291\t\n",
       "\t\n"
      ]
     },
     "execution_count": 1,
     "metadata": {},
     "output_type": "execute_result"
    },
    {
     "data": {
      "text/plain": [
       "Pred is\t392433280.21072\t\n",
       "Real is\t392433182\t\n",
       "Diff is\t98.210722625256\t\n",
       "\t\n"
      ]
     },
     "execution_count": 1,
     "metadata": {},
     "output_type": "execute_result"
    },
    {
     "data": {
      "text/plain": [
       "Pred is\t392433278.16404\t\n",
       "Real is\t392433315\t\n",
       "Diff is\t-36.835955142975\t\n",
       "\t\n"
      ]
     },
     "execution_count": 1,
     "metadata": {},
     "output_type": "execute_result"
    },
    {
     "data": {
      "text/plain": [
       "Pred is\t392433279.4225\t\n",
       "Real is\t392433221\t\n",
       "Diff is\t58.422501206398\t\n",
       "\t\n"
      ]
     },
     "execution_count": 1,
     "metadata": {},
     "output_type": "execute_result"
    },
    {
     "data": {
      "text/plain": [
       "Pred is\t392433277.10273\t\n",
       "Real is\t392433347\t\n",
       "Diff is\t-69.897272527218\t\n",
       "\t\n"
      ]
     },
     "execution_count": 1,
     "metadata": {},
     "output_type": "execute_result"
    },
    {
     "data": {
      "text/plain": [
       "Pred is\t392433274.88265\t\n",
       "Real is\t392433160\t\n",
       "Diff is\t114.88265454769\t\n",
       "\t\n"
      ]
     },
     "execution_count": 1,
     "metadata": {},
     "output_type": "execute_result"
    },
    {
     "data": {
      "text/plain": [
       "Pred is\t392433279.4294\t\n",
       "Real is\t392433253\t\n",
       "Diff is\t26.429402172565\t\n",
       "\t\n"
      ]
     },
     "execution_count": 1,
     "metadata": {},
     "output_type": "execute_result"
    },
    {
     "data": {
      "text/plain": [
       "Pred is\t392433279.46011\t\n",
       "Real is\t392433273\t\n",
       "Diff is\t6.4601098895073\t\n",
       "\t\n"
      ]
     },
     "execution_count": 1,
     "metadata": {},
     "output_type": "execute_result"
    },
    {
     "data": {
      "text/plain": [
       "Pred is\t392433272.10683\t\n",
       "Real is\t392433383\t\n",
       "Diff is\t-110.89316564798\t\n",
       "\t\n"
      ]
     },
     "execution_count": 1,
     "metadata": {},
     "output_type": "execute_result"
    },
    {
     "data": {
      "text/plain": [
       "Pred is\t392433276.0308\t\n",
       "Real is\t392433341\t\n",
       "Diff is\t-64.969201624393\t\n",
       "\t\n"
      ]
     },
     "execution_count": 1,
     "metadata": {},
     "output_type": "execute_result"
    },
    {
     "data": {
      "text/plain": [
       "Pred is\t392433270.43558\t\n",
       "Real is\t392433242\t\n",
       "Diff is\t28.435575842857\t\n",
       "\t\n"
      ]
     },
     "execution_count": 1,
     "metadata": {},
     "output_type": "execute_result"
    },
    {
     "data": {
      "text/plain": [
       "Pred is\t392433276.16806\t\n",
       "Real is\t392433347\t\n",
       "Diff is\t-70.83193564415\t\n",
       "\t\n"
      ]
     },
     "execution_count": 1,
     "metadata": {},
     "output_type": "execute_result"
    },
    {
     "data": {
      "text/plain": [
       "Pred is\t392433273.47389\t\n",
       "Real is\t392433189\t\n",
       "Diff is\t84.473885536194\t\n",
       "\t\n"
      ]
     },
     "execution_count": 1,
     "metadata": {},
     "output_type": "execute_result"
    },
    {
     "data": {
      "text/plain": [
       "Pred is\t392433272.89778\t\n",
       "Real is\t392433186\t\n",
       "Diff is\t86.897775828838\t\n",
       "\t\n"
      ]
     },
     "execution_count": 1,
     "metadata": {},
     "output_type": "execute_result"
    },
    {
     "data": {
      "text/plain": [
       "Pred is\t392433279.842\t\n",
       "Real is\t392433393\t\n",
       "Diff is\t-113.15800386667\t\n",
       "\t\n"
      ]
     },
     "execution_count": 1,
     "metadata": {},
     "output_type": "execute_result"
    },
    {
     "data": {
      "text/plain": [
       "Pred is\t392433276.42797\t\n",
       "Real is\t392433130\t\n",
       "Diff is\t146.427973032\t\n",
       "\t\n"
      ]
     },
     "execution_count": 1,
     "metadata": {},
     "output_type": "execute_result"
    },
    {
     "data": {
      "text/plain": [
       "Pred is\t392433274.22633\t\n",
       "Real is\t392433187\t\n",
       "Diff is\t87.226327300072\t\n",
       "\t\n"
      ]
     },
     "execution_count": 1,
     "metadata": {},
     "output_type": "execute_result"
    },
    {
     "data": {
      "text/plain": [
       "Pred is\t392433275.46752\t\n",
       "Real is\t392433334\t\n",
       "Diff is\t-58.532479703426\t\n",
       "\t\n"
      ]
     },
     "execution_count": 1,
     "metadata": {},
     "output_type": "execute_result"
    },
    {
     "data": {
      "text/plain": [
       "Pred is\t392433275.07875\t\n",
       "Real is\t392433176\t\n",
       "Diff is\t99.078745901585\t\n",
       "\t\n"
      ]
     },
     "execution_count": 1,
     "metadata": {},
     "output_type": "execute_result"
    },
    {
     "data": {
      "text/plain": [
       "Pred is\t392433277.7654\t\n",
       "Real is\t392433341\t\n",
       "Diff is\t-63.234598100185\t\n",
       "\t\n"
      ]
     },
     "execution_count": 1,
     "metadata": {},
     "output_type": "execute_result"
    },
    {
     "data": {
      "text/plain": [
       "Pred is\t392433272.77273\t\n",
       "Real is\t392433341\t\n",
       "Diff is\t-68.227266848087\t\n",
       "\t\n"
      ]
     },
     "execution_count": 1,
     "metadata": {},
     "output_type": "execute_result"
    },
    {
     "data": {
      "text/plain": [
       "Pred is\t392433277.1813\t\n",
       "Real is\t392433229\t\n",
       "Diff is\t48.181299805641\t\n",
       "\t\n"
      ]
     },
     "execution_count": 1,
     "metadata": {},
     "output_type": "execute_result"
    },
    {
     "data": {
      "text/plain": [
       "Pred is\t392433279.48456\t\n",
       "Real is\t392433271\t\n",
       "Diff is\t8.4845571517944\t\n",
       "\t\n"
      ]
     },
     "execution_count": 1,
     "metadata": {},
     "output_type": "execute_result"
    },
    {
     "data": {
      "text/plain": [
       "Pred is\t392433277.19476\t\n",
       "Real is\t392433159\t\n",
       "Diff is\t118.19475573301\t\n",
       "\t\n"
      ]
     },
     "execution_count": 1,
     "metadata": {},
     "output_type": "execute_result"
    },
    {
     "data": {
      "text/plain": [
       "Pred is\t392433275.57484\t\n",
       "Real is\t392433140\t\n",
       "Diff is\t135.57483810186\t\n",
       "\t\n"
      ]
     },
     "execution_count": 1,
     "metadata": {},
     "output_type": "execute_result"
    },
    {
     "data": {
      "text/plain": [
       "Pred is\t392433272.2362\t\n",
       "Real is\t392433103\t\n",
       "Diff is\t169.2362049222\t\n",
       "\t\n"
      ]
     },
     "execution_count": 1,
     "metadata": {},
     "output_type": "execute_result"
    },
    {
     "data": {
      "text/plain": [
       "Pred is\t392433281.09346\t\n",
       "Real is\t392433319\t\n",
       "Diff is\t-37.906535506248\t\n",
       "\t\n"
      ]
     },
     "execution_count": 1,
     "metadata": {},
     "output_type": "execute_result"
    },
    {
     "data": {
      "text/plain": [
       "Pred is\t392433278.2536\t\n",
       "Real is\t392433144\t\n",
       "Diff is\t134.2535970211\t\n",
       "\t\n"
      ]
     },
     "execution_count": 1,
     "metadata": {},
     "output_type": "execute_result"
    },
    {
     "data": {
      "text/plain": [
       "Pred is\t392433279.13698\t\n",
       "Real is\t392433256\t\n",
       "Diff is\t23.136977791786\t\n",
       "\t\n"
      ]
     },
     "execution_count": 1,
     "metadata": {},
     "output_type": "execute_result"
    },
    {
     "data": {
      "text/plain": [
       "Pred is\t392433277.43987\t\n",
       "Real is\t392433314\t\n",
       "Diff is\t-36.560133755207\t\n",
       "\t\n"
      ]
     },
     "execution_count": 1,
     "metadata": {},
     "output_type": "execute_result"
    },
    {
     "data": {
      "text/plain": [
       "Pred is\t392433277.54987\t\n",
       "Real is\t392433118\t\n",
       "Diff is\t159.54987078905\t\n",
       "\t\n"
      ]
     },
     "execution_count": 1,
     "metadata": {},
     "output_type": "execute_result"
    },
    {
     "data": {
      "text/plain": [
       "Pred is\t392433275.34876\t\n",
       "Real is\t392433338\t\n",
       "Diff is\t-62.651238262653\t\n",
       "\t\n"
      ]
     },
     "execution_count": 1,
     "metadata": {},
     "output_type": "execute_result"
    },
    {
     "data": {
      "text/plain": [
       "Pred is\t392433276.75797\t\n",
       "Real is\t392433185\t\n",
       "Diff is\t91.757968306541\t\n",
       "\t\n"
      ]
     },
     "execution_count": 1,
     "metadata": {},
     "output_type": "execute_result"
    },
    {
     "data": {
      "text/plain": [
       "Pred is\t392433277.06268\t\n",
       "Real is\t392433212\t\n",
       "Diff is\t65.062676429749\t\n",
       "\t\n"
      ]
     },
     "execution_count": 1,
     "metadata": {},
     "output_type": "execute_result"
    },
    {
     "data": {
      "text/plain": [
       "Pred is\t392433279.38026\t\n",
       "Real is\t392433142\t\n",
       "Diff is\t137.38025522232\t\n",
       "\t\n"
      ]
     },
     "execution_count": 1,
     "metadata": {},
     "output_type": "execute_result"
    },
    {
     "data": {
      "text/plain": [
       "Pred is\t392433273.70265\t\n",
       "Real is\t392433266\t\n",
       "Diff is\t7.702650308609\t\n",
       "\t\n"
      ]
     },
     "execution_count": 1,
     "metadata": {},
     "output_type": "execute_result"
    },
    {
     "data": {
      "text/plain": [
       "Pred is\t392433274.06614\t\n",
       "Real is\t392433213\t\n",
       "Diff is\t61.066136658192\t\n",
       "\t\n"
      ]
     },
     "execution_count": 1,
     "metadata": {},
     "output_type": "execute_result"
    },
    {
     "data": {
      "text/plain": [
       "Pred is\t392433273.25271\t\n",
       "Real is\t392433347\t\n",
       "Diff is\t-73.747294545174\t\n",
       "\t\n"
      ]
     },
     "execution_count": 1,
     "metadata": {},
     "output_type": "execute_result"
    },
    {
     "data": {
      "text/plain": [
       "Pred is\t392433274.62435\t\n",
       "Real is\t392433352\t\n",
       "Diff is\t-77.375652134418\t\n",
       "\t\n"
      ]
     },
     "execution_count": 1,
     "metadata": {},
     "output_type": "execute_result"
    },
    {
     "data": {
      "text/plain": [
       "Pred is\t392433277.20359\t\n",
       "Real is\t392433370\t\n",
       "Diff is\t-92.796409606934\t\n",
       "\t\n"
      ]
     },
     "execution_count": 1,
     "metadata": {},
     "output_type": "execute_result"
    },
    {
     "data": {
      "text/plain": [
       "Pred is\t392433275.02909\t\n",
       "Real is\t392433347\t\n",
       "Diff is\t-71.970906078815\t\n",
       "\t\n"
      ]
     },
     "execution_count": 1,
     "metadata": {},
     "output_type": "execute_result"
    },
    {
     "data": {
      "text/plain": [
       "Pred is\t392433280.55448\t\n",
       "Real is\t392433224\t\n",
       "Diff is\t56.554482877254\t\n",
       "\t\n"
      ]
     },
     "execution_count": 1,
     "metadata": {},
     "output_type": "execute_result"
    },
    {
     "data": {
      "text/plain": [
       "Pred is\t392433274.80836\t\n",
       "Real is\t392433347\t\n",
       "Diff is\t-72.191638171673\t\n",
       "\t\n"
      ]
     },
     "execution_count": 1,
     "metadata": {},
     "output_type": "execute_result"
    },
    {
     "data": {
      "text/plain": [
       "Pred is\t392433277.21262\t\n",
       "Real is\t392433378\t\n",
       "Diff is\t-100.78737652302\t\n",
       "\t\n"
      ]
     },
     "execution_count": 1,
     "metadata": {},
     "output_type": "execute_result"
    },
    {
     "data": {
      "text/plain": [
       "Pred is\t392433279.60125\t\n",
       "Real is\t392433347\t\n",
       "Diff is\t-67.398746132851\t\n",
       "\t\n"
      ]
     },
     "execution_count": 1,
     "metadata": {},
     "output_type": "execute_result"
    },
    {
     "data": {
      "text/plain": [
       "Pred is\t392433274.74744\t\n",
       "Real is\t392433280\t\n",
       "Diff is\t-5.2525617480278\t\n",
       "\t\n"
      ]
     },
     "execution_count": 1,
     "metadata": {},
     "output_type": "execute_result"
    },
    {
     "data": {
      "text/plain": [
       "Pred is\t392433275.81831\t\n",
       "Real is\t392433194\t\n",
       "Diff is\t81.818305671215\t\n",
       "\t\n"
      ]
     },
     "execution_count": 1,
     "metadata": {},
     "output_type": "execute_result"
    },
    {
     "data": {
      "text/plain": [
       "Pred is\t392433276.98885\t\n",
       "Real is\t392433324\t\n"
      ]
     },
     "execution_count": 1,
     "metadata": {},
     "output_type": "execute_result"
    },
    {
     "data": {
      "text/plain": [
       "Diff is\t-47.011151194572\t\n",
       "\t\n"
      ]
     },
     "execution_count": 1,
     "metadata": {},
     "output_type": "execute_result"
    },
    {
     "data": {
      "text/plain": [
       "Pred is\t392433274.93053\t\n",
       "Real is\t392433391\t\n",
       "Diff is\t-116.06947189569\t\n",
       "\t\n"
      ]
     },
     "execution_count": 1,
     "metadata": {},
     "output_type": "execute_result"
    },
    {
     "data": {
      "text/plain": [
       "Pred is\t392433277.58729\t\n",
       "Real is\t392433410\t\n",
       "Diff is\t-132.41270697117\t\n",
       "\t\n"
      ]
     },
     "execution_count": 1,
     "metadata": {},
     "output_type": "execute_result"
    },
    {
     "data": {
      "text/plain": [
       "Pred is\t392433275.77589\t\n",
       "Real is\t392433355\t\n",
       "Diff is\t-79.224111318588\t\n",
       "\t\n"
      ]
     },
     "execution_count": 1,
     "metadata": {},
     "output_type": "execute_result"
    },
    {
     "data": {
      "text/plain": [
       "Pred is\t392433275.97405\t\n",
       "Real is\t392433330\t\n",
       "Diff is\t-54.025945484638\t\n",
       "\t\n"
      ]
     },
     "execution_count": 1,
     "metadata": {},
     "output_type": "execute_result"
    },
    {
     "data": {
      "text/plain": [
       "Pred is\t392433276.2501\t\n",
       "Real is\t392433263\t\n",
       "Diff is\t13.250098764896\t\n",
       "\t\n"
      ]
     },
     "execution_count": 1,
     "metadata": {},
     "output_type": "execute_result"
    },
    {
     "data": {
      "text/plain": [
       "Pred is\t392433274.0372\t\n",
       "Real is\t392433347\t\n",
       "Diff is\t-72.962800502777\t\n",
       "\t\n"
      ]
     },
     "execution_count": 1,
     "metadata": {},
     "output_type": "execute_result"
    },
    {
     "data": {
      "text/plain": [
       "Pred is\t392433278.14452\t\n",
       "Real is\t392433223\t\n",
       "Diff is\t55.144516527653\t\n",
       "\t\n"
      ]
     },
     "execution_count": 1,
     "metadata": {},
     "output_type": "execute_result"
    },
    {
     "data": {
      "text/plain": [
       "Pred is\t392433273.7311\t\n",
       "Real is\t392433219\t\n",
       "Diff is\t54.731100380421\t\n",
       "\t\n"
      ]
     },
     "execution_count": 1,
     "metadata": {},
     "output_type": "execute_result"
    },
    {
     "data": {
      "text/plain": [
       "Pred is\t392433275.18045\t\n",
       "Real is\t392433185\t\n",
       "Diff is\t90.180445075035\t\n",
       "\t\n"
      ]
     },
     "execution_count": 1,
     "metadata": {},
     "output_type": "execute_result"
    },
    {
     "data": {
      "text/plain": [
       "Pred is\t392433272.93976\t\n",
       "Real is\t392433343\t\n",
       "Diff is\t-70.0602414608\t\n",
       "\t\n"
      ]
     },
     "execution_count": 1,
     "metadata": {},
     "output_type": "execute_result"
    },
    {
     "data": {
      "text/plain": [
       "Pred is\t392433277.81079\t\n",
       "Real is\t392433331\t\n",
       "Diff is\t-53.189213693142\t\n",
       "\t\n"
      ]
     },
     "execution_count": 1,
     "metadata": {},
     "output_type": "execute_result"
    },
    {
     "data": {
      "text/plain": [
       "Pred is\t392433279.19215\t\n",
       "Real is\t392433247\t\n",
       "Diff is\t32.192152023315\t\n",
       "\t\n"
      ]
     },
     "execution_count": 1,
     "metadata": {},
     "output_type": "execute_result"
    },
    {
     "data": {
      "text/plain": [
       "Pred is\t392433273.5242\t\n",
       "Real is\t392433116\t\n",
       "Diff is\t157.52419644594\t\n",
       "\t\n"
      ]
     },
     "execution_count": 1,
     "metadata": {},
     "output_type": "execute_result"
    },
    {
     "data": {
      "text/plain": [
       "Pred is\t392433276.42594\t\n",
       "Real is\t392433277\t\n",
       "Diff is\t-0.57405775785446\t\n",
       "\t\n"
      ]
     },
     "execution_count": 1,
     "metadata": {},
     "output_type": "execute_result"
    },
    {
     "data": {
      "text/plain": [
       "Pred is\t392433276.50119\t\n",
       "Real is\t392433339\t\n",
       "Diff is\t-62.498810887337\t\n",
       "\t\n"
      ]
     },
     "execution_count": 1,
     "metadata": {},
     "output_type": "execute_result"
    },
    {
     "data": {
      "text/plain": [
       "Pred is\t392433272.46589\t\n",
       "Real is\t392433316\t\n",
       "Diff is\t-43.534111559391\t\n",
       "\t\n"
      ]
     },
     "execution_count": 1,
     "metadata": {},
     "output_type": "execute_result"
    },
    {
     "data": {
      "text/plain": [
       "Pred is\t392433273.27762\t\n",
       "Real is\t392433362\t\n",
       "Diff is\t-88.722376823425\t\n",
       "\t\n"
      ]
     },
     "execution_count": 1,
     "metadata": {},
     "output_type": "execute_result"
    },
    {
     "data": {
      "text/plain": [
       "Pred is\t392433276.52812\t\n",
       "Real is\t392433315\t\n",
       "Diff is\t-38.471879303455\t\n",
       "\t\n"
      ]
     },
     "execution_count": 1,
     "metadata": {},
     "output_type": "execute_result"
    },
    {
     "data": {
      "text/plain": [
       "Pred is\t392433277.98218\t\n",
       "Real is\t392433135\t\n",
       "Diff is\t142.98218399286\t\n",
       "\t\n"
      ]
     },
     "execution_count": 1,
     "metadata": {},
     "output_type": "execute_result"
    },
    {
     "data": {
      "text/plain": [
       "Pred is\t392433276.64438\t\n",
       "Real is\t392433313\t\n",
       "Diff is\t-36.355621814728\t\n",
       "\t\n"
      ]
     },
     "execution_count": 1,
     "metadata": {},
     "output_type": "execute_result"
    },
    {
     "data": {
      "text/plain": [
       "Pred is\t392433278.3797\t\n",
       "Real is\t392433215\t\n",
       "Diff is\t63.379698097706\t\n",
       "\t\n"
      ]
     },
     "execution_count": 1,
     "metadata": {},
     "output_type": "execute_result"
    },
    {
     "data": {
      "text/plain": [
       "Pred is\t392433278.19638\t\n",
       "Real is\t392433210\t\n",
       "Diff is\t68.196383655071\t\n",
       "\t\n"
      ]
     },
     "execution_count": 1,
     "metadata": {},
     "output_type": "execute_result"
    },
    {
     "data": {
      "text/plain": [
       "Pred is\t392433276.68761\t\n",
       "Real is\t392433139\t\n",
       "Diff is\t137.68760985136\t\n",
       "\t\n"
      ]
     },
     "execution_count": 1,
     "metadata": {},
     "output_type": "execute_result"
    },
    {
     "data": {
      "text/plain": [
       "Pred is\t392433275.67523\t\n",
       "Real is\t392433214\t\n",
       "Diff is\t61.675229072571\t\n",
       "\t\n"
      ]
     },
     "execution_count": 1,
     "metadata": {},
     "output_type": "execute_result"
    },
    {
     "data": {
      "text/plain": [
       "Pred is\t392433277.18746\t\n",
       "Real is\t392433395\t\n",
       "Diff is\t-117.81253707409\t\n",
       "\t\n"
      ]
     },
     "execution_count": 1,
     "metadata": {},
     "output_type": "execute_result"
    },
    {
     "data": {
      "text/plain": [
       "Pred is\t392433276.61508\t\n",
       "Real is\t392433277\t\n",
       "Diff is\t-0.3849196434021\t\n",
       "\t\n"
      ]
     },
     "execution_count": 1,
     "metadata": {},
     "output_type": "execute_result"
    },
    {
     "data": {
      "text/plain": [
       "Pred is\t392433273.71051\t\n",
       "Real is\t392433187\t\n",
       "Diff is\t86.710507273674\t\n",
       "\t\n"
      ]
     },
     "execution_count": 1,
     "metadata": {},
     "output_type": "execute_result"
    },
    {
     "data": {
      "text/plain": [
       "Pred is\t392433274.91147\t\n",
       "Real is\t392433302\t\n",
       "Diff is\t-27.088527441025\t\n",
       "\t\n"
      ]
     },
     "execution_count": 1,
     "metadata": {},
     "output_type": "execute_result"
    },
    {
     "data": {
      "text/plain": [
       "Pred is\t392433276.53663\t\n",
       "Real is\t392433341\t\n",
       "Diff is\t-64.463374376297\t\n",
       "\t\n"
      ]
     },
     "execution_count": 1,
     "metadata": {},
     "output_type": "execute_result"
    },
    {
     "data": {
      "text/plain": [
       "Pred is\t392433277.3886\t\n",
       "Real is\t392433341\t\n",
       "Diff is\t-63.611400008202\t\n",
       "\t\n"
      ]
     },
     "execution_count": 1,
     "metadata": {},
     "output_type": "execute_result"
    },
    {
     "data": {
      "text/plain": [
       "Pred is\t392433280.19537\t\n",
       "Real is\t392433328\t\n",
       "Diff is\t-47.804625272751\t\n",
       "\t\n"
      ]
     },
     "execution_count": 1,
     "metadata": {},
     "output_type": "execute_result"
    },
    {
     "data": {
      "text/plain": [
       "Pred is\t392433280.02921\t\n",
       "Real is\t392433370\t\n",
       "Diff is\t-89.970792770386\t\n",
       "\t\n"
      ]
     },
     "execution_count": 1,
     "metadata": {},
     "output_type": "execute_result"
    },
    {
     "data": {
      "text/plain": [
       "Pred is\t392433277.31368\t\n",
       "Real is\t392433118\t\n",
       "Diff is\t159.31368499994\t\n",
       "\t\n"
      ]
     },
     "execution_count": 1,
     "metadata": {},
     "output_type": "execute_result"
    },
    {
     "data": {
      "text/plain": [
       "Pred is\t392433275.88838\t\n",
       "Real is\t392433228\t\n",
       "Diff is\t47.888379454613\t\n",
       "\t\n"
      ]
     },
     "execution_count": 1,
     "metadata": {},
     "output_type": "execute_result"
    },
    {
     "data": {
      "text/plain": [
       "Pred is\t392433278.63996\t\n",
       "Real is\t392433175\t\n",
       "Diff is\t103.63996332884\t\n",
       "\t\n"
      ]
     },
     "execution_count": 1,
     "metadata": {},
     "output_type": "execute_result"
    },
    {
     "data": {
      "text/plain": [
       "Pred is\t392433276.09691\t\n",
       "Real is\t392433111\t\n",
       "Diff is\t165.09690833092\t\n",
       "\t\n"
      ]
     },
     "execution_count": 1,
     "metadata": {},
     "output_type": "execute_result"
    },
    {
     "data": {
      "text/plain": [
       "Pred is\t392433275.01866\t\n",
       "Real is\t392433317\t\n",
       "Diff is\t-41.981340289116\t\n",
       "\t\n"
      ]
     },
     "execution_count": 1,
     "metadata": {},
     "output_type": "execute_result"
    },
    {
     "data": {
      "text/plain": [
       "Pred is\t392433276.21856\t\n",
       "Real is\t392433332\t\n",
       "Diff is\t-55.781436264515\t\n",
       "\t\n"
      ]
     },
     "execution_count": 1,
     "metadata": {},
     "output_type": "execute_result"
    },
    {
     "data": {
      "text/plain": [
       "Pred is\t392433277.90869\t\n",
       "Real is\t392433271\t\n",
       "Diff is\t6.9086920022964\t\n",
       "\t\n"
      ]
     },
     "execution_count": 1,
     "metadata": {},
     "output_type": "execute_result"
    },
    {
     "data": {
      "text/plain": [
       "Pred is\t392433277.47185\t\n",
       "Real is\t392433365\t\n",
       "Diff is\t-87.528152406216\t\n",
       "\t\n"
      ]
     },
     "execution_count": 1,
     "metadata": {},
     "output_type": "execute_result"
    },
    {
     "data": {
      "text/plain": [
       "Pred is\t392433275.96508\t\n",
       "Real is\t392433257\t\n",
       "Diff is\t18.965076863766\t\n",
       "\t\n"
      ]
     },
     "execution_count": 1,
     "metadata": {},
     "output_type": "execute_result"
    },
    {
     "data": {
      "text/plain": [
       "Pred is\t392433280.38494\t\n",
       "Real is\t392433225\t\n",
       "Diff is\t55.384936511517\t\n",
       "\t\n"
      ]
     },
     "execution_count": 1,
     "metadata": {},
     "output_type": "execute_result"
    },
    {
     "data": {
      "text/plain": [
       "Pred is\t392433273.91363\t\n",
       "Real is\t392433289\t\n",
       "Diff is\t-15.086371719837\t\n",
       "\t\n"
      ]
     },
     "execution_count": 1,
     "metadata": {},
     "output_type": "execute_result"
    },
    {
     "data": {
      "text/plain": [
       "Pred is\t392433277.58836\t\n",
       "Real is\t392433138\t\n",
       "Diff is\t139.58836048841\t\n",
       "\t\n"
      ]
     },
     "execution_count": 1,
     "metadata": {},
     "output_type": "execute_result"
    },
    {
     "data": {
      "text/plain": [
       "Pred is\t392433279.05725\t\n",
       "Real is\t392433246\t\n",
       "Diff is\t33.057252526283\t\n",
       "\t\n"
      ]
     },
     "execution_count": 1,
     "metadata": {},
     "output_type": "execute_result"
    },
    {
     "data": {
      "text/plain": [
       "Pred is\t392433278.24695\t\n",
       "Real is\t392433323\t\n",
       "Diff is\t-44.753054976463\t\n",
       "\t\n"
      ]
     },
     "execution_count": 1,
     "metadata": {},
     "output_type": "execute_result"
    },
    {
     "data": {
      "text/plain": [
       "Pred is\t392433279.6448\t\n",
       "Real is\t392433339\t\n",
       "Diff is\t-59.355199158192\t\n",
       "\t\n"
      ]
     },
     "execution_count": 1,
     "metadata": {},
     "output_type": "execute_result"
    },
    {
     "data": {
      "text/plain": [
       "Pred is\t392433278.39895\t\n",
       "Real is\t392433240\t\n",
       "Diff is\t38.398953378201\t\n",
       "\t\n"
      ]
     },
     "execution_count": 1,
     "metadata": {},
     "output_type": "execute_result"
    },
    {
     "data": {
      "text/plain": [
       "Pred is\t392433280.53597\t\n",
       "Real is\t392433188\t\n",
       "Diff is\t92.535973012447\t\n",
       "\t\n"
      ]
     },
     "execution_count": 1,
     "metadata": {},
     "output_type": "execute_result"
    },
    {
     "data": {
      "text/plain": [
       "Pred is\t392433275.09548\t\n",
       "Real is\t392433321\t\n",
       "Diff is\t-45.904518067837\t\n",
       "\t\n"
      ]
     },
     "execution_count": 1,
     "metadata": {},
     "output_type": "execute_result"
    },
    {
     "data": {
      "text/plain": [
       "Pred is\t392433276.61528\t\n",
       "Real is\t392433359\t\n",
       "Diff is\t-82.384717345238\t\n",
       "\t\n"
      ]
     },
     "execution_count": 1,
     "metadata": {},
     "output_type": "execute_result"
    },
    {
     "data": {
      "text/plain": [
       "Pred is\t392433275.40639\t\n",
       "Real is\t392433351\t\n",
       "Diff is\t-75.593608856201\t\n",
       "\t\n"
      ]
     },
     "execution_count": 1,
     "metadata": {},
     "output_type": "execute_result"
    },
    {
     "data": {
      "text/plain": [
       "Pred is\t392433272.28874\t\n",
       "Real is\t392433189\t\n",
       "Diff is\t83.288744211197\t\n",
       "\t\n"
      ]
     },
     "execution_count": 1,
     "metadata": {},
     "output_type": "execute_result"
    },
    {
     "data": {
      "text/plain": [
       "Pred is\t392433275.92495\t\n",
       "Real is\t392433293\t\n",
       "Diff is\t-17.075046658516\t\n",
       "\t\n"
      ]
     },
     "execution_count": 1,
     "metadata": {},
     "output_type": "execute_result"
    },
    {
     "data": {
      "text/plain": [
       "Pred is\t392433273.89784\t\n",
       "Real is\t392433111\t\n",
       "Diff is\t162.89783871174\t\n",
       "\t\n"
      ]
     },
     "execution_count": 1,
     "metadata": {},
     "output_type": "execute_result"
    },
    {
     "data": {
      "text/plain": [
       "Pred is\t392433279.26852\t\n",
       "Real is\t392433316\t\n",
       "Diff is\t-36.731475889683\t\n",
       "\t\n"
      ]
     },
     "execution_count": 1,
     "metadata": {},
     "output_type": "execute_result"
    },
    {
     "data": {
      "text/plain": [
       "Pred is\t392433275.69493\t\n",
       "Real is\t392433219\t\n",
       "Diff is\t56.694926917553\t\n",
       "\t\n"
      ]
     },
     "execution_count": 1,
     "metadata": {},
     "output_type": "execute_result"
    },
    {
     "data": {
      "text/plain": [
       "Pred is\t392433278.52233\t\n",
       "Real is\t392433096\t\n",
       "Diff is\t182.52233392\t\n",
       "\t\n"
      ]
     },
     "execution_count": 1,
     "metadata": {},
     "output_type": "execute_result"
    },
    {
     "data": {
      "text/plain": [
       "Pred is\t"
      ]
     },
     "execution_count": 1,
     "metadata": {},
     "output_type": "execute_result"
    },
    {
     "data": {
      "text/plain": [
       "392433278.41784\t\n",
       "Real is\t392433326\t\n",
       "Diff is\t-47.5821647048\t\n",
       "\t\n"
      ]
     },
     "execution_count": 1,
     "metadata": {},
     "output_type": "execute_result"
    },
    {
     "data": {
      "text/plain": [
       "Pred is\t392433273.19076\t\n",
       "Real is\t392433374\t\n",
       "Diff is\t-100.80924355984\t\n",
       "\t\n"
      ]
     },
     "execution_count": 1,
     "metadata": {},
     "output_type": "execute_result"
    },
    {
     "data": {
      "text/plain": [
       "Pred is\t392433276.88518\t\n",
       "Real is\t392433185\t\n",
       "Diff is\t91.885181903839\t\n",
       "\t\n"
      ]
     },
     "execution_count": 1,
     "metadata": {},
     "output_type": "execute_result"
    },
    {
     "data": {
      "text/plain": [
       "Pred is\t392433275.43023\t\n",
       "Real is\t392433347\t\n",
       "Diff is\t-71.569766163826\t\n",
       "\t\n"
      ]
     },
     "execution_count": 1,
     "metadata": {},
     "output_type": "execute_result"
    },
    {
     "data": {
      "text/plain": [
       "Pred is\t392433280.03856\t\n",
       "Real is\t392433334\t\n",
       "Diff is\t-53.961443781853\t\n",
       "\t\n"
      ]
     },
     "execution_count": 1,
     "metadata": {},
     "output_type": "execute_result"
    },
    {
     "data": {
      "text/plain": [
       "Pred is\t392433273.55279\t\n",
       "Real is\t392433247\t\n",
       "Diff is\t26.552786946297\t\n",
       "\t\n"
      ]
     },
     "execution_count": 1,
     "metadata": {},
     "output_type": "execute_result"
    },
    {
     "data": {
      "text/plain": [
       "Pred is\t392433279.35159\t\n",
       "Real is\t392433268\t\n",
       "Diff is\t11.351586163044\t\n",
       "\t\n"
      ]
     },
     "execution_count": 1,
     "metadata": {},
     "output_type": "execute_result"
    },
    {
     "data": {
      "text/plain": [
       "Pred is\t392433277.98357\t\n",
       "Real is\t392433310\t\n",
       "Diff is\t-32.016429424286\t\n",
       "\t\n"
      ]
     },
     "execution_count": 1,
     "metadata": {},
     "output_type": "execute_result"
    },
    {
     "data": {
      "text/plain": [
       "Pred is\t392433278.79558\t\n",
       "Real is\t392433325\t\n",
       "Diff is\t-46.20441532135\t\n",
       "\t\n"
      ]
     },
     "execution_count": 1,
     "metadata": {},
     "output_type": "execute_result"
    },
    {
     "data": {
      "text/plain": [
       "Pred is\t392433276.72615\t\n",
       "Real is\t392433347\t\n",
       "Diff is\t-70.273847997189\t\n",
       "\t\n"
      ]
     },
     "execution_count": 1,
     "metadata": {},
     "output_type": "execute_result"
    },
    {
     "data": {
      "text/plain": [
       "Pred is\t392433279.36496\t\n",
       "Real is\t392433389\t\n"
      ]
     },
     "execution_count": 1,
     "metadata": {},
     "output_type": "execute_result"
    },
    {
     "data": {
      "text/plain": [
       "Diff is\t-109.63504469395\t\n",
       "\t\n"
      ]
     },
     "execution_count": 1,
     "metadata": {},
     "output_type": "execute_result"
    },
    {
     "data": {
      "text/plain": [
       "Pred is\t392433276.47416\t\n",
       "Real is\t392433094\t\n",
       "Diff is\t182.47415828705\t\n",
       "\t\n"
      ]
     },
     "execution_count": 1,
     "metadata": {},
     "output_type": "execute_result"
    },
    {
     "data": {
      "text/plain": [
       "Pred is\t392433279.65493\t\n",
       "Real is\t392433316\t\n",
       "Diff is\t-36.345067322254\t\n",
       "\t\n"
      ]
     },
     "execution_count": 1,
     "metadata": {},
     "output_type": "execute_result"
    },
    {
     "data": {
      "text/plain": [
       "Pred is\t392433278.86324\t\n",
       "Real is\t392433311\t\n",
       "Diff is\t-32.136756300926\t\n",
       "\t\n"
      ]
     },
     "execution_count": 1,
     "metadata": {},
     "output_type": "execute_result"
    },
    {
     "data": {
      "text/plain": [
       "Pred is\t392433274.26186\t\n",
       "Real is\t392433268\t\n",
       "Diff is\t6.2618634104729\t\n",
       "\t\n"
      ]
     },
     "execution_count": 1,
     "metadata": {},
     "output_type": "execute_result"
    },
    {
     "data": {
      "text/plain": [
       "Pred is\t392433277.35054\t\n",
       "Real is\t392433298\t\n",
       "Diff is\t-20.649464666843\t\n",
       "\t\n"
      ]
     },
     "execution_count": 1,
     "metadata": {},
     "output_type": "execute_result"
    },
    {
     "data": {
      "text/plain": [
       "Pred is\t392433277.4945\t\n",
       "Real is\t392433310\t\n",
       "Diff is\t-32.505503058434\t\n",
       "\t\n"
      ]
     },
     "execution_count": 1,
     "metadata": {},
     "output_type": "execute_result"
    },
    {
     "data": {
      "text/plain": [
       "Pred is\t392433282.58614\t\n",
       "Real is\t392433178\t\n",
       "Diff is\t104.58613562584\t\n",
       "\t\n"
      ]
     },
     "execution_count": 1,
     "metadata": {},
     "output_type": "execute_result"
    },
    {
     "data": {
      "text/plain": [
       "Pred is\t392433276.99451\t\n",
       "Real is\t392433300\t\n",
       "Diff is\t-23.005485355854\t\n",
       "\t\n"
      ]
     },
     "execution_count": 1,
     "metadata": {},
     "output_type": "execute_result"
    },
    {
     "data": {
      "text/plain": [
       "Pred is\t392433277.96846\t\n",
       "Real is\t392433270\t\n",
       "Diff is\t7.9684567451477\t\n",
       "\t\n"
      ]
     },
     "execution_count": 1,
     "metadata": {},
     "output_type": "execute_result"
    },
    {
     "data": {
      "text/plain": [
       "Pred is\t392433273.05754\t\n",
       "Real is\t392433341\t\n",
       "Diff is\t-67.942455351353\t\n",
       "\t\n"
      ]
     },
     "execution_count": 1,
     "metadata": {},
     "output_type": "execute_result"
    },
    {
     "data": {
      "text/plain": [
       "Pred is\t392433276.65704\t\n",
       "Real is\t392433371\t\n",
       "Diff is\t-94.342962920666\t\n",
       "\t\n"
      ]
     },
     "execution_count": 1,
     "metadata": {},
     "output_type": "execute_result"
    },
    {
     "data": {
      "text/plain": [
       "Pred is\t392433275.43717\t\n",
       "Real is\t392433244\t\n",
       "Diff is\t31.437165081501\t\n",
       "\t\n"
      ]
     },
     "execution_count": 1,
     "metadata": {},
     "output_type": "execute_result"
    },
    {
     "data": {
      "text/plain": [
       "Pred is\t392433279.96914\t\n",
       "Real is\t392433228\t\n",
       "Diff is\t51.969138145447\t\n",
       "\t\n"
      ]
     },
     "execution_count": 1,
     "metadata": {},
     "output_type": "execute_result"
    },
    {
     "data": {
      "text/plain": [
       "Pred is\t392433275.01966\t\n",
       "Real is\t392433296\t\n",
       "Diff is\t-20.980343103409\t\n",
       "\t\n"
      ]
     },
     "execution_count": 1,
     "metadata": {},
     "output_type": "execute_result"
    },
    {
     "data": {
      "text/plain": [
       "Pred is\t392433274.34271\t\n",
       "Real is\t392433308\t\n",
       "Diff is\t-33.657293021679\t\n",
       "\t\n"
      ]
     },
     "execution_count": 1,
     "metadata": {},
     "output_type": "execute_result"
    },
    {
     "data": {
      "text/plain": [
       "Pred is\t392433279.28993\t\n",
       "Real is\t392433101\t\n",
       "Diff is\t178.28993284702\t\n",
       "\t\n"
      ]
     },
     "execution_count": 1,
     "metadata": {},
     "output_type": "execute_result"
    },
    {
     "data": {
      "text/plain": [
       "Pred is\t392433277.29506\t\n",
       "Real is\t392433283\t\n",
       "Diff is\t-5.7049425244331\t\n",
       "\t\n"
      ]
     },
     "execution_count": 1,
     "metadata": {},
     "output_type": "execute_result"
    },
    {
     "data": {
      "text/plain": [
       "Pred is\t392433277.53211\t\n",
       "Real is\t392433267\t\n",
       "Diff is\t10.53210991621\t\n",
       "\t\n"
      ]
     },
     "execution_count": 1,
     "metadata": {},
     "output_type": "execute_result"
    },
    {
     "data": {
      "text/plain": [
       "Pred is\t392433279.10122\t\n",
       "Real is\t392433261\t\n",
       "Diff is\t18.101224601269\t\n",
       "\t\n"
      ]
     },
     "execution_count": 1,
     "metadata": {},
     "output_type": "execute_result"
    },
    {
     "data": {
      "text/plain": [
       "Pred is\t392433276.48214\t\n",
       "Real is\t392433289\t\n",
       "Diff is\t-12.517864108086\t\n",
       "\t\n"
      ]
     },
     "execution_count": 1,
     "metadata": {},
     "output_type": "execute_result"
    },
    {
     "data": {
      "text/plain": [
       "Pred is\t392433274.17749\t\n",
       "Real is\t392433223\t\n",
       "Diff is\t51.177490532398\t\n",
       "\t\n"
      ]
     },
     "execution_count": 1,
     "metadata": {},
     "output_type": "execute_result"
    },
    {
     "data": {
      "text/plain": [
       "Pred is\t392433278.41138\t\n",
       "Real is\t392433232\t\n",
       "Diff is\t46.411377906799\t\n",
       "\t\n"
      ]
     },
     "execution_count": 1,
     "metadata": {},
     "output_type": "execute_result"
    },
    {
     "data": {
      "text/plain": [
       "Pred is\t392433274.21971\t\n",
       "Real is\t392433304\t\n",
       "Diff is\t-29.780287086964\t\n",
       "\t\n"
      ]
     },
     "execution_count": 1,
     "metadata": {},
     "output_type": "execute_result"
    },
    {
     "data": {
      "text/plain": [
       "Pred is\t392433273.29313\t\n",
       "Real is\t392433346\t\n",
       "Diff is\t-72.706870734692\t\n",
       "\t\n"
      ]
     },
     "execution_count": 1,
     "metadata": {},
     "output_type": "execute_result"
    },
    {
     "data": {
      "text/plain": [
       "Pred is\t392433275.11388\t\n",
       "Real is\t392433298\t\n",
       "Diff is\t-22.886119604111\t\n",
       "\t\n"
      ]
     },
     "execution_count": 1,
     "metadata": {},
     "output_type": "execute_result"
    },
    {
     "data": {
      "text/plain": [
       "Pred is\t392433274.20742\t\n",
       "Real is\t392433239\t\n",
       "Diff is\t35.207420289516\t\n",
       "\t\n"
      ]
     },
     "execution_count": 1,
     "metadata": {},
     "output_type": "execute_result"
    },
    {
     "data": {
      "text/plain": [
       "Pred is\t392433275.56257\t\n",
       "Real is\t392433203\t\n",
       "Diff is\t72.562572896481\t\n",
       "\t\n"
      ]
     },
     "execution_count": 1,
     "metadata": {},
     "output_type": "execute_result"
    },
    {
     "data": {
      "text/plain": [
       "Pred is\t392433274.31869\t\n",
       "Real is\t392433219\t\n",
       "Diff is\t55.318688690662\t\n",
       "\t\n"
      ]
     },
     "execution_count": 1,
     "metadata": {},
     "output_type": "execute_result"
    },
    {
     "data": {
      "text/plain": [
       "Pred is\t392433274.04214\t\n",
       "Real is\t392433345\t\n",
       "Diff is\t-70.957855939865\t\n",
       "\t\n"
      ]
     },
     "execution_count": 1,
     "metadata": {},
     "output_type": "execute_result"
    },
    {
     "data": {
      "text/plain": [
       "Pred is\t392433276.60814\t\n",
       "Real is\t392433215\t\n",
       "Diff is\t61.608138859272\t\n",
       "\t\n"
      ]
     },
     "execution_count": 1,
     "metadata": {},
     "output_type": "execute_result"
    },
    {
     "data": {
      "text/plain": [
       "Pred is\t392433276.85621\t\n",
       "Real is\t392433189\t\n",
       "Diff is\t87.856211364269\t\n",
       "\t\n"
      ]
     },
     "execution_count": 1,
     "metadata": {},
     "output_type": "execute_result"
    },
    {
     "data": {
      "text/plain": [
       "Pred is\t392433280.21553\t\n",
       "Real is\t392433358\t\n",
       "Diff is\t-77.784471690655\t\n",
       "\t\n"
      ]
     },
     "execution_count": 1,
     "metadata": {},
     "output_type": "execute_result"
    },
    {
     "data": {
      "text/plain": [
       "Pred is\t392433274.53999\t\n",
       "Real is\t392433321\t\n",
       "Diff is\t-46.460008621216\t\n",
       "\t\n"
      ]
     },
     "execution_count": 1,
     "metadata": {},
     "output_type": "execute_result"
    },
    {
     "data": {
      "text/plain": [
       "Pred is\t392433280.22711\t\n",
       "Real is\t392433151\t\n",
       "Diff is\t129.22711282969\t\n",
       "\t\n"
      ]
     },
     "execution_count": 1,
     "metadata": {},
     "output_type": "execute_result"
    },
    {
     "data": {
      "text/plain": [
       "Pred is\t392433276.1198\t\n",
       "Real is\t392433116\t\n"
      ]
     },
     "execution_count": 1,
     "metadata": {},
     "output_type": "execute_result"
    },
    {
     "data": {
      "text/plain": [
       "Diff is\t160.11979913712\t\n",
       "\t\n"
      ]
     },
     "execution_count": 1,
     "metadata": {},
     "output_type": "execute_result"
    },
    {
     "data": {
      "text/plain": [
       "Pred is\t392433281.23199\t\n",
       "Real is\t392433116\t\n",
       "Diff is\t165.23198962212\t\n",
       "\t\n"
      ]
     },
     "execution_count": 1,
     "metadata": {},
     "output_type": "execute_result"
    },
    {
     "data": {
      "text/plain": [
       "Pred is\t392433276.04748\t\n",
       "Real is\t392433226\t\n",
       "Diff is\t50.047477602959\t\n",
       "\t\n"
      ]
     },
     "execution_count": 1,
     "metadata": {},
     "output_type": "execute_result"
    },
    {
     "data": {
      "text/plain": [
       "Pred is\t392433273.31919\t\n",
       "Real is\t392433347\t\n",
       "Diff is\t-73.680814564228\t\n",
       "\t\n"
      ]
     },
     "execution_count": 1,
     "metadata": {},
     "output_type": "execute_result"
    },
    {
     "data": {
      "text/plain": [
       "Pred is\t392433276.64525\t\n",
       "Real is\t392433219\t\n",
       "Diff is\t57.645246148109\t\n",
       "\t\n"
      ]
     },
     "execution_count": 1,
     "metadata": {},
     "output_type": "execute_result"
    },
    {
     "data": {
      "text/plain": [
       "Pred is\t392433278.4507\t\n",
       "Real is\t392433186\t\n",
       "Diff is\t92.450699269772\t\n",
       "\t\n"
      ]
     },
     "execution_count": 1,
     "metadata": {},
     "output_type": "execute_result"
    },
    {
     "data": {
      "text/plain": [
       "Pred is\t392433277.89625\t\n",
       "Real is\t392433358\t\n",
       "Diff is\t-80.103748500347\t\n",
       "\t\n"
      ]
     },
     "execution_count": 1,
     "metadata": {},
     "output_type": "execute_result"
    },
    {
     "data": {
      "text/plain": [
       "Pred is\t392433279.50163\t\n",
       "Real is\t392433322\t\n",
       "Diff is\t-42.498366653919\t\n",
       "\t\n"
      ]
     },
     "execution_count": 1,
     "metadata": {},
     "output_type": "execute_result"
    },
    {
     "data": {
      "text/plain": [
       "Pred is\t392433277.45085\t\n",
       "Real is\t392433347\t\n",
       "Diff is\t-69.549151659012\t\n",
       "\t\n"
      ]
     },
     "execution_count": 1,
     "metadata": {},
     "output_type": "execute_result"
    },
    {
     "data": {
      "text/plain": [
       "Pred is\t392433282.27564\t\n",
       "Real is\t392433179\t\n",
       "Diff is\t103.27563655376\t\n",
       "\t\n"
      ]
     },
     "execution_count": 1,
     "metadata": {},
     "output_type": "execute_result"
    },
    {
     "data": {
      "text/plain": [
       "Pred is\t392433277.33605\t\n",
       "Real is\t392433332\t"
      ]
     },
     "execution_count": 1,
     "metadata": {},
     "output_type": "execute_result"
    },
    {
     "data": {
      "text/plain": [
       "\n",
       "Diff is\t-54.663950741291\t\n",
       "\t\n"
      ]
     },
     "execution_count": 1,
     "metadata": {},
     "output_type": "execute_result"
    },
    {
     "data": {
      "text/plain": [
       "Pred is\t392433276.68978\t\n",
       "Real is\t392433377\t\n",
       "Diff is\t-100.3102196455\t\n",
       "\t\n"
      ]
     },
     "execution_count": 1,
     "metadata": {},
     "output_type": "execute_result"
    },
    {
     "data": {
      "text/plain": [
       "Pred is\t392433273.43626\t\n",
       "Real is\t392433303\t\n",
       "Diff is\t-29.563740551472\t\n",
       "\t\n"
      ]
     },
     "execution_count": 1,
     "metadata": {},
     "output_type": "execute_result"
    },
    {
     "data": {
      "text/plain": [
       "Pred is\t392433278.92282\t\n",
       "Real is\t392433409\t\n",
       "Diff is\t-130.07717782259\t\n",
       "\t\n"
      ]
     },
     "execution_count": 1,
     "metadata": {},
     "output_type": "execute_result"
    },
    {
     "data": {
      "text/plain": [
       "Pred is\t392433275.96114\t\n",
       "Real is\t392433243\t\n",
       "Diff is\t32.96114385128\t\n",
       "\t\n"
      ]
     },
     "execution_count": 1,
     "metadata": {},
     "output_type": "execute_result"
    },
    {
     "data": {
      "text/plain": [
       "Pred is\t392433275.43204\t\n",
       "Real is\t392433207\t\n",
       "Diff is\t68.432035148144\t\n",
       "\t\n"
      ]
     },
     "execution_count": 1,
     "metadata": {},
     "output_type": "execute_result"
    },
    {
     "data": {
      "text/plain": [
       "Pred is\t"
      ]
     },
     "execution_count": 1,
     "metadata": {},
     "output_type": "execute_result"
    },
    {
     "data": {
      "text/plain": [
       "392433277.83878\t\n",
       "Real is\t392433378\t\n",
       "Diff is\t-100.16122102737\t\n",
       "\t\n"
      ]
     },
     "execution_count": 1,
     "metadata": {},
     "output_type": "execute_result"
    },
    {
     "data": {
      "text/plain": [
       "Pred is\t392433277.46127\t\n",
       "Real is\t392433347\t\n"
      ]
     },
     "execution_count": 1,
     "metadata": {},
     "output_type": "execute_result"
    },
    {
     "data": {
      "text/plain": [
       "Diff is\t-69.538734197617\t\n",
       "\t\n"
      ]
     },
     "execution_count": 1,
     "metadata": {},
     "output_type": "execute_result"
    },
    {
     "data": {
      "text/plain": [
       "Pred is\t392433275.31343\t\n",
       "Real is\t392433312\t\n",
       "Diff is\t-36.686574518681\t\n",
       "\t\n"
      ]
     },
     "execution_count": 1,
     "metadata": {},
     "output_type": "execute_result"
    },
    {
     "data": {
      "text/plain": [
       "Pred is\t392433276.16191\t\n",
       "Real is\t392433340\t\n",
       "Diff is\t-63.838088989258\t\n",
       "\t\n"
      ]
     },
     "execution_count": 1,
     "metadata": {},
     "output_type": "execute_result"
    },
    {
     "data": {
      "text/plain": [
       "Pred is\t392433278.64937\t\n",
       "Real is\t392433349\t\n",
       "Diff is\t-70.350634157658\t\n",
       "\t\n"
      ]
     },
     "execution_count": 1,
     "metadata": {},
     "output_type": "execute_result"
    },
    {
     "data": {
      "text/plain": [
       "Pred is\t392433281.37103\t\n",
       "Real is\t392433160\t\n",
       "Diff is\t121.37102669477\t\n",
       "\t\n"
      ]
     },
     "execution_count": 1,
     "metadata": {},
     "output_type": "execute_result"
    },
    {
     "data": {
      "text/plain": [
       "Pred is\t392433278.14529\t\n",
       "Real is\t392433286\t\n",
       "Diff is\t-7.8547141551971\t\n",
       "\t\n"
      ]
     },
     "execution_count": 1,
     "metadata": {},
     "output_type": "execute_result"
    },
    {
     "data": {
      "text/plain": [
       "Pred is\t392433273.20729\t\n",
       "Real is\t392433284\t\n",
       "Diff is\t-10.792706727982\t\n",
       "\t\n"
      ]
     },
     "execution_count": 1,
     "metadata": {},
     "output_type": "execute_result"
    },
    {
     "data": {
      "text/plain": [
       "Pred is\t392433277.10717\t\n",
       "Real is\t392433341\t\n"
      ]
     },
     "execution_count": 1,
     "metadata": {},
     "output_type": "execute_result"
    },
    {
     "data": {
      "text/plain": [
       "Diff is\t-63.892826557159\t\n",
       "\t\n"
      ]
     },
     "execution_count": 1,
     "metadata": {},
     "output_type": "execute_result"
    },
    {
     "data": {
      "text/plain": [
       "Pred is\t392433279.20031\t\n",
       "Real is\t392433131\t\n",
       "Diff is\t148.20030754805\t\n",
       "\t\n"
      ]
     },
     "execution_count": 1,
     "metadata": {},
     "output_type": "execute_result"
    },
    {
     "data": {
      "text/plain": [
       "Pred is\t392433277.37332\t\n",
       "Real is\t392433341\t\n",
       "Diff is\t-63.62667953968\t\n",
       "\t\n"
      ]
     },
     "execution_count": 1,
     "metadata": {},
     "output_type": "execute_result"
    },
    {
     "data": {
      "text/plain": [
       "Pred is\t392433276.60565\t\n",
       "Real is\t392433201\t\n",
       "Diff is\t75.605653703213\t\n",
       "\t\n"
      ]
     },
     "execution_count": 1,
     "metadata": {},
     "output_type": "execute_result"
    },
    {
     "data": {
      "text/plain": [
       "Pred is\t392433280.19065\t\n",
       "Real is\t392433306\t\n",
       "Diff is\t-25.809352338314\t\n",
       "\t\n"
      ]
     },
     "execution_count": 1,
     "metadata": {},
     "output_type": "execute_result"
    },
    {
     "data": {
      "text/plain": [
       "Pred is\t392433277.5341\t\n",
       "Real is\t392433363\t\n",
       "Diff is\t-85.465900063515\t\n",
       "\t\n"
      ]
     },
     "execution_count": 1,
     "metadata": {},
     "output_type": "execute_result"
    },
    {
     "data": {
      "text/plain": [
       "Pred is\t392433280.22431\t\n",
       "Real is\t392433313\t\n",
       "Diff is\t-32.775685489178\t\n",
       "\t\n"
      ]
     },
     "execution_count": 1,
     "metadata": {},
     "output_type": "execute_result"
    },
    {
     "data": {
      "text/plain": [
       "Pred is\t392433277.74506\t\n",
       "Real is\t392433209\t\n",
       "Diff is\t68.745059251785\t\n",
       "\t\n"
      ]
     },
     "execution_count": 1,
     "metadata": {},
     "output_type": "execute_result"
    },
    {
     "data": {
      "text/plain": [
       "Pred is\t392433272.60622\t\n",
       "Real is\t392433249\t\n",
       "Diff is\t23.6062245965\t\n",
       "\t\n"
      ]
     },
     "execution_count": 1,
     "metadata": {},
     "output_type": "execute_result"
    },
    {
     "data": {
      "text/plain": [
       "Pred is\t392433278.23553\t\n"
      ]
     },
     "execution_count": 1,
     "metadata": {},
     "output_type": "execute_result"
    },
    {
     "data": {
      "text/plain": [
       "Real is\t392433221\t\n",
       "Diff is\t57.23552697897\t\n",
       "\t\n"
      ]
     },
     "execution_count": 1,
     "metadata": {},
     "output_type": "execute_result"
    },
    {
     "data": {
      "text/plain": [
       "Pred is\t392433274.33125\t\n",
       "Real is\t392433362\t\n",
       "Diff is\t-87.66874653101\t\n",
       "\t\n"
      ]
     },
     "execution_count": 1,
     "metadata": {},
     "output_type": "execute_result"
    },
    {
     "data": {
      "text/plain": [
       "Pred is\t392433278.1368\t\n",
       "Real is\t392433341\t\n",
       "Diff is\t-62.863195002079\t\n",
       "\t\n"
      ]
     },
     "execution_count": 1,
     "metadata": {},
     "output_type": "execute_result"
    },
    {
     "data": {
      "text/plain": [
       "Pred is\t392433276.59512\t\n",
       "Real is\t392433412\t\n",
       "Diff is\t-135.40487998724\t\n",
       "\t\n"
      ]
     },
     "execution_count": 1,
     "metadata": {},
     "output_type": "execute_result"
    },
    {
     "data": {
      "text/plain": [
       "Pred is\t392433279.93054\t\n",
       "Real is\t392433229\t\n",
       "Diff is\t50.930536985397\t\n",
       "\t\n"
      ]
     },
     "execution_count": 1,
     "metadata": {},
     "output_type": "execute_result"
    },
    {
     "data": {
      "text/plain": [
       "Pred is\t392433275.54864\t\n",
       "Real is\t392433356\t\n",
       "Diff is\t-80.451355099678\t\n",
       "\t\n"
      ]
     },
     "execution_count": 1,
     "metadata": {},
     "output_type": "execute_result"
    },
    {
     "data": {
      "text/plain": [
       "Pred is\t392433277.061\t\n",
       "Real is\t392433316\t\n",
       "Diff is\t-38.938995301723\t\n",
       "\t\n"
      ]
     },
     "execution_count": 1,
     "metadata": {},
     "output_type": "execute_result"
    },
    {
     "data": {
      "text/plain": [
       "Pred is\t392433271.02428\t\n",
       "Real is\t392433347\t\n",
       "Diff is\t-75.975724816322\t\n",
       "\t\n"
      ]
     },
     "execution_count": 1,
     "metadata": {},
     "output_type": "execute_result"
    },
    {
     "data": {
      "text/plain": [
       "Pred is\t392433277.87025\t\n",
       "Real is\t392433249\t\n",
       "Diff is\t28.870246052742\t\n",
       "\t\n"
      ]
     },
     "execution_count": 1,
     "metadata": {},
     "output_type": "execute_result"
    },
    {
     "data": {
      "text/plain": [
       "Pred is\t392433276.39387\t\n",
       "Real is\t392433180\t\n",
       "Diff is\t96.39386922121\t\n",
       "\t\n"
      ]
     },
     "execution_count": 1,
     "metadata": {},
     "output_type": "execute_result"
    },
    {
     "data": {
      "text/plain": [
       "Pred is\t392433278.47037\t\n",
       "Real is\t392433272\t\n",
       "Diff is\t6.4703653454781\t\n",
       "\t\n"
      ]
     },
     "execution_count": 1,
     "metadata": {},
     "output_type": "execute_result"
    },
    {
     "data": {
      "text/plain": [
       "Pred is\t392433277.13599\t\n",
       "Real is\t392433341\t\n",
       "Diff is\t-63.864006400108\t\n",
       "\t\n"
      ]
     },
     "execution_count": 1,
     "metadata": {},
     "output_type": "execute_result"
    },
    {
     "data": {
      "text/plain": [
       "Pred is\t392433274.89469\t\n",
       "Real is\t392433186\t\n",
       "Diff is\t88.894686162472\t\n",
       "\t\n"
      ]
     },
     "execution_count": 1,
     "metadata": {},
     "output_type": "execute_result"
    },
    {
     "data": {
      "text/plain": [
       "Pred is\t392433273.08851\t\n",
       "Real is\t392433341\t\n",
       "Diff is\t-67.911487579346\t\n",
       "\t\n"
      ]
     },
     "execution_count": 1,
     "metadata": {},
     "output_type": "execute_result"
    },
    {
     "data": {
      "text/plain": [
       "Pred is\t392433279.65214\t\n",
       "Real is\t392433341\t\n",
       "Diff is\t-61.347858607769\t\n",
       "\t\n"
      ]
     },
     "execution_count": 1,
     "metadata": {},
     "output_type": "execute_result"
    },
    {
     "data": {
      "text/plain": [
       "Pred is\t392433281.27111\t\n",
       "Real is\t392433095\t\n",
       "Diff is\t186.27110648155\t\n",
       "\t\n"
      ]
     },
     "execution_count": 1,
     "metadata": {},
     "output_type": "execute_result"
    },
    {
     "data": {
      "text/plain": [
       "Pred is\t392433280.4454\t\n",
       "Real is\t392433322\t\n",
       "Diff is\t-41.554599046707\t\n",
       "\t\n"
      ]
     },
     "execution_count": 1,
     "metadata": {},
     "output_type": "execute_result"
    },
    {
     "data": {
      "text/plain": [
       "Pred is\t392433277.44049\t\n",
       "Real is\t392433183\t\n",
       "Diff is\t94.440488696098\t\n",
       "\t\n"
      ]
     },
     "execution_count": 1,
     "metadata": {},
     "output_type": "execute_result"
    },
    {
     "data": {
      "text/plain": [
       "Pred is\t392433275.62686\t\n",
       "Real is\t392433199\t\n",
       "Diff is\t76.626857340336\t\n",
       "\t\n"
      ]
     },
     "execution_count": 1,
     "metadata": {},
     "output_type": "execute_result"
    },
    {
     "data": {
      "text/plain": [
       "Pred is\t392433279.72807\t\n",
       "Real is\t392433325\t\n",
       "Diff is\t-45.271931350231\t\n",
       "\t\n"
      ]
     },
     "execution_count": 1,
     "metadata": {},
     "output_type": "execute_result"
    },
    {
     "data": {
      "text/plain": [
       "Pred is\t392433272.94308\t\n",
       "Real is\t392433188\t\n",
       "Diff is\t84.943077385426\t\n",
       "\t\n"
      ]
     },
     "execution_count": 1,
     "metadata": {},
     "output_type": "execute_result"
    },
    {
     "data": {
      "text/plain": [
       "Pred is\t392433277.72968\t\n",
       "Real is\t392433336\t\n",
       "Diff is\t-58.270322442055\t\n",
       "\t\n"
      ]
     },
     "execution_count": 1,
     "metadata": {},
     "output_type": "execute_result"
    },
    {
     "data": {
      "text/plain": [
       "Pred is\t392433282.588\t\n",
       "Real is\t392433238\t\n",
       "Diff is\t44.587999761105\t\n",
       "\t\n"
      ]
     },
     "execution_count": 1,
     "metadata": {},
     "output_type": "execute_result"
    },
    {
     "data": {
      "text/plain": [
       "Pred is\t392433279.24161\t\n",
       "Real is\t392433199\t\n",
       "Diff is\t80.24161195755\t\n"
      ]
     },
     "execution_count": 1,
     "metadata": {},
     "output_type": "execute_result"
    },
    {
     "data": {
      "text/plain": [
       "\t\n"
      ]
     },
     "execution_count": 1,
     "metadata": {},
     "output_type": "execute_result"
    },
    {
     "data": {
      "text/plain": [
       "Pred is\t392433277.12289\t\n",
       "Real is\t392433283\t\n",
       "Diff is\t-5.877110004425\t\n",
       "\t\n"
      ]
     },
     "execution_count": 1,
     "metadata": {},
     "output_type": "execute_result"
    },
    {
     "data": {
      "text/plain": [
       "Pred is\t392433278.50373\t\n",
       "Real is\t392433326\t\n",
       "Diff is\t-47.496270954609\t\n",
       "\t\n"
      ]
     },
     "execution_count": 1,
     "metadata": {},
     "output_type": "execute_result"
    },
    {
     "data": {
      "text/plain": [
       "Pred is\t392433279.48786\t\n",
       "Real is\t392433347\t\n",
       "Diff is\t-67.512139081955\t\n",
       "\t\n"
      ]
     },
     "execution_count": 1,
     "metadata": {},
     "output_type": "execute_result"
    },
    {
     "data": {
      "text/plain": [
       "Pred is\t392433278.34259\t\n",
       "Real is\t392433154\t\n",
       "Diff is\t124.34258824587\t\n",
       "\t\n"
      ]
     },
     "execution_count": 1,
     "metadata": {},
     "output_type": "execute_result"
    },
    {
     "data": {
      "text/plain": [
       "Pred is\t392433276.69665\t\n",
       "Real is\t392433231\t\n",
       "Diff is\t45.696651816368\t\n",
       "\t\n"
      ]
     },
     "execution_count": 1,
     "metadata": {},
     "output_type": "execute_result"
    },
    {
     "data": {
      "text/plain": [
       "Pred is\t392433277.80135\t\n",
       "Real is\t392433219\t\n",
       "Diff is\t58.801353275776\t\n",
       "\t\n"
      ]
     },
     "execution_count": 1,
     "metadata": {},
     "output_type": "execute_result"
    },
    {
     "data": {
      "text/plain": [
       "Pred is\t392433277.61066\t\n",
       "Real is\t392433123\t\n",
       "Diff is\t154.61066108942\t\n",
       "\t\n"
      ]
     },
     "execution_count": 1,
     "metadata": {},
     "output_type": "execute_result"
    },
    {
     "data": {
      "text/plain": [
       "Pred is\t392433276.53049\t\n",
       "Real is\t392433266\t\n",
       "Diff is\t10.530488431454\t\n",
       "\t\n"
      ]
     },
     "execution_count": 1,
     "metadata": {},
     "output_type": "execute_result"
    },
    {
     "data": {
      "text/plain": [
       "Pred is\t392433274.68782\t\n",
       "Real is\t392433186\t\n",
       "Diff is\t88.687820076942\t\n",
       "\t\n"
      ]
     },
     "execution_count": 1,
     "metadata": {},
     "output_type": "execute_result"
    },
    {
     "data": {
      "text/plain": [
       "Pred is\t392433278.87625\t\n",
       "Real is\t392433107\t\n",
       "Diff is\t171.87624746561\t\n",
       "\t\n"
      ]
     },
     "execution_count": 1,
     "metadata": {},
     "output_type": "execute_result"
    },
    {
     "data": {
      "text/plain": [
       "Pred is\t392433277.14355\t\n",
       "Real is\t392433385\t\n",
       "Diff is\t-107.85644644499\t\n",
       "\t\n"
      ]
     },
     "execution_count": 1,
     "metadata": {},
     "output_type": "execute_result"
    },
    {
     "data": {
      "text/plain": [
       "Pred is\t392433277.62774\t\n",
       "Real is\t392433256\t\n",
       "Diff is\t21.627744853497\t\n",
       "\t\n"
      ]
     },
     "execution_count": 1,
     "metadata": {},
     "output_type": "execute_result"
    },
    {
     "data": {
      "text/plain": [
       "Pred is\t392433273.78045\t\n",
       "Real is\t392433245\t\n",
       "Diff is\t28.78044706583\t\n",
       "\t\n"
      ]
     },
     "execution_count": 1,
     "metadata": {},
     "output_type": "execute_result"
    },
    {
     "data": {
      "text/plain": [
       "Pred is\t392433274.87746\t\n",
       "Real is\t392433207\t\n",
       "Diff is\t67.877461194992\t\n",
       "\t\n"
      ]
     },
     "execution_count": 1,
     "metadata": {},
     "output_type": "execute_result"
    },
    {
     "data": {
      "text/plain": [
       "Pred is\t392433276.45223\t\n",
       "Real is\t392433341\t\n",
       "Diff is\t-64.5477668643\t\n",
       "\t\n"
      ]
     },
     "execution_count": 1,
     "metadata": {},
     "output_type": "execute_result"
    },
    {
     "data": {
      "text/plain": [
       "Pred is\t392433278.06189\t\n",
       "Real is\t392433201\t\n",
       "Diff is\t77.061890780926\t\n"
      ]
     },
     "execution_count": 1,
     "metadata": {},
     "output_type": "execute_result"
    },
    {
     "data": {
      "text/plain": [
       "\t\n"
      ]
     },
     "execution_count": 1,
     "metadata": {},
     "output_type": "execute_result"
    },
    {
     "data": {
      "text/plain": [
       "Pred is\t392433279.58786\t\n",
       "Real is\t392433305\t\n",
       "Diff is\t-25.412135899067\t\n",
       "\t\n"
      ]
     },
     "execution_count": 1,
     "metadata": {},
     "output_type": "execute_result"
    },
    {
     "data": {
      "text/plain": [
       "Pred is\t392433275.82191\t\n",
       "Real is\t392433388\t\n",
       "Diff is\t-112.17809343338\t\n",
       "\t\n"
      ]
     },
     "execution_count": 1,
     "metadata": {},
     "output_type": "execute_result"
    },
    {
     "data": {
      "text/plain": [
       "Pred is\t392433278.25733\t\n",
       "Real is\t392433347\t\n",
       "Diff is\t-68.742670357227\t\n",
       "\t\n"
      ]
     },
     "execution_count": 1,
     "metadata": {},
     "output_type": "execute_result"
    },
    {
     "data": {
      "text/plain": [
       "Pred is\t392433279.93423\t\n",
       "Real is\t392433184\t\n",
       "Diff is\t95.934227705002\t\n",
       "\t\n"
      ]
     },
     "execution_count": 1,
     "metadata": {},
     "output_type": "execute_result"
    },
    {
     "data": {
      "text/plain": [
       "Pred is\t392433277.18983\t\n",
       "Real is\t392433347\t\n",
       "Diff is\t-69.810168743134\t\n",
       "\t\n"
      ]
     },
     "execution_count": 1,
     "metadata": {},
     "output_type": "execute_result"
    },
    {
     "data": {
      "text/plain": [
       "Pred is\t392433272.99636\t\n",
       "Real is\t392433265\t\n",
       "Diff is\t7.9963569641113\t\n",
       "\t\n"
      ]
     },
     "execution_count": 1,
     "metadata": {},
     "output_type": "execute_result"
    },
    {
     "data": {
      "text/plain": [
       "Pred is\t392433278.40823\t\n",
       "Real is\t392433371\t\n",
       "Diff is\t-92.591768860817\t\n",
       "\t\n"
      ]
     },
     "execution_count": 1,
     "metadata": {},
     "output_type": "execute_result"
    },
    {
     "data": {
      "text/plain": [
       "Pred is\t392433277.67338\t\n",
       "Real is\t392433390\t\n",
       "Diff is\t-112.32662439346\t\n",
       "\t\n"
      ]
     },
     "execution_count": 1,
     "metadata": {},
     "output_type": "execute_result"
    },
    {
     "data": {
      "text/plain": [
       "Pred is\t392433279.17434\t\n",
       "Real is\t392433167\t\n",
       "Diff is\t112.17433917522\t\n",
       "\t\n"
      ]
     },
     "execution_count": 1,
     "metadata": {},
     "output_type": "execute_result"
    },
    {
     "data": {
      "text/plain": [
       "Pred is\t392433276.00871\t\n",
       "Real is\t392433397\t\n",
       "Diff is\t-120.99129289389\t\n",
       "\t\n"
      ]
     },
     "execution_count": 1,
     "metadata": {},
     "output_type": "execute_result"
    },
    {
     "data": {
      "text/plain": [
       "Pred is\t392433274.99818\t\n",
       "Real is\t392433276\t\n",
       "Diff is\t-1.0018165111542\t\n",
       "\t\n"
      ]
     },
     "execution_count": 1,
     "metadata": {},
     "output_type": "execute_result"
    },
    {
     "data": {
      "text/plain": [
       "Pred is\t392433278.568\t\n",
       "Real is\t392433343\t\n",
       "Diff is\t-64.432003796101\t\n",
       "\t\n"
      ]
     },
     "execution_count": 1,
     "metadata": {},
     "output_type": "execute_result"
    },
    {
     "data": {
      "text/plain": [
       "Pred is\t392433273.19019\t\n",
       "Real is\t392433242\t\n",
       "Diff is\t31.190188527107\t\n",
       "\t\n"
      ]
     },
     "execution_count": 1,
     "metadata": {},
     "output_type": "execute_result"
    },
    {
     "data": {
      "text/plain": [
       "Pred is\t392433272.37672\t\n",
       "Real is\t392433278\t\n",
       "Diff is\t-5.6232796311378\t\n",
       "\t\n"
      ]
     },
     "execution_count": 1,
     "metadata": {},
     "output_type": "execute_result"
    },
    {
     "data": {
      "text/plain": [
       "Pred is\t392433278.13151\t\n",
       "Real is\t392433354\t\n",
       "Diff is\t-75.868490099907\t\n",
       "\t\n"
      ]
     },
     "execution_count": 1,
     "metadata": {},
     "output_type": "execute_result"
    },
    {
     "data": {
      "text/plain": [
       "Pred is\t392433275.09669\t\n",
       "Real is\t392433269\t\n",
       "Diff is\t6.0966862440109\t\n",
       "\t\n"
      ]
     },
     "execution_count": 1,
     "metadata": {},
     "output_type": "execute_result"
    },
    {
     "data": {
      "text/plain": [
       "Pred is\t392433276.72318\t\n",
       "Real is\t392433367\t\n",
       "Diff is\t-90.276818454266\t\n",
       "\t\n"
      ]
     },
     "execution_count": 1,
     "metadata": {},
     "output_type": "execute_result"
    },
    {
     "data": {
      "text/plain": [
       "Pred is\t392433276.94878\t\n",
       "Real is\t392433366\t\n",
       "Diff is\t-89.051221430302\t\n",
       "\t\n"
      ]
     },
     "execution_count": 1,
     "metadata": {},
     "output_type": "execute_result"
    },
    {
     "data": {
      "text/plain": [
       "Pred is\t392433275.13353\t\n",
       "Real is\t392433276\t\n",
       "Diff is\t-0.86647027730942\t\n",
       "\t\n"
      ]
     },
     "execution_count": 1,
     "metadata": {},
     "output_type": "execute_result"
    },
    {
     "data": {
      "text/plain": [
       "Pred is\t392433277.15739\t\n",
       "Real is\t392433317\t\n",
       "Diff is\t-39.842606663704\t\n",
       "\t\n"
      ]
     },
     "execution_count": 1,
     "metadata": {},
     "output_type": "execute_result"
    },
    {
     "data": {
      "text/plain": [
       "Pred is\t392433279.22202\t\n",
       "Real is\t392433186\t\n",
       "Diff is\t93.222020804882\t\n",
       "\t\n"
      ]
     },
     "execution_count": 1,
     "metadata": {},
     "output_type": "execute_result"
    },
    {
     "data": {
      "text/plain": [
       "Pred is\t392433274.69901\t\n",
       "Real is\t392433130\t\n",
       "Diff is\t144.69900548458\t\n",
       "\t\n"
      ]
     },
     "execution_count": 1,
     "metadata": {},
     "output_type": "execute_result"
    },
    {
     "data": {
      "text/plain": [
       "Pred is\t392433277.81102\t\n",
       "Real is\t392433402\t\n",
       "Diff is\t-124.18898499012\t\n",
       "\t\n"
      ]
     },
     "execution_count": 1,
     "metadata": {},
     "output_type": "execute_result"
    },
    {
     "data": {
      "text/plain": [
       "Pred is\t392433275.94179\t\n",
       "Real is\t392433347\t\n",
       "Diff is\t-71.05820697546\t\n",
       "\t\n"
      ]
     },
     "execution_count": 1,
     "metadata": {},
     "output_type": "execute_result"
    },
    {
     "data": {
      "text/plain": [
       "Pred is\t392433278.44825\t\n",
       "Real is\t392433224\t\n",
       "Diff is\t54.448253571987\t\n",
       "\t\n"
      ]
     },
     "execution_count": 1,
     "metadata": {},
     "output_type": "execute_result"
    },
    {
     "data": {
      "text/plain": [
       "Pred is\t392433276.10312\t\n",
       "Real is\t392433215\t\n",
       "Diff is\t61.103117287159\t\n",
       "\t\n"
      ]
     },
     "execution_count": 1,
     "metadata": {},
     "output_type": "execute_result"
    },
    {
     "data": {
      "text/plain": [
       "Pred is\t392433276.43701\t\n",
       "Real is\t392433341\t\n",
       "Diff is\t-64.562993764877\t\n",
       "\t\n"
      ]
     },
     "execution_count": 1,
     "metadata": {},
     "output_type": "execute_result"
    },
    {
     "data": {
      "text/plain": [
       "Pred is\t392433277.47961\t\n",
       "Real is\t392433347\t\n",
       "Diff is\t-69.520385921001\t\n",
       "\t\n"
      ]
     },
     "execution_count": 1,
     "metadata": {},
     "output_type": "execute_result"
    },
    {
     "data": {
      "text/plain": [
       "Pred is\t392433276.29037\t\n",
       "Real is\t392433234\t\n",
       "Diff is\t42.290373384953\t\n",
       "\t\n"
      ]
     },
     "execution_count": 1,
     "metadata": {},
     "output_type": "execute_result"
    },
    {
     "data": {
      "text/plain": [
       "Pred is\t392433279.3141\t\n",
       "Real is\t392433385\t\n",
       "Diff is\t-105.68589836359\t\n",
       "\t\n"
      ]
     },
     "execution_count": 1,
     "metadata": {},
     "output_type": "execute_result"
    },
    {
     "data": {
      "text/plain": [
       "Pred is\t392433276.0236\t\n",
       "Real is\t392433105\t\n",
       "Diff is\t171.02359545231\t\n",
       "\t\n"
      ]
     },
     "execution_count": 1,
     "metadata": {},
     "output_type": "execute_result"
    },
    {
     "data": {
      "text/plain": [
       "Pred is\t392433278.03551\t\n",
       "Real is\t392433385\t\n",
       "Diff is\t-106.9644895792\t\n",
       "\t\n"
      ]
     },
     "execution_count": 1,
     "metadata": {},
     "output_type": "execute_result"
    },
    {
     "data": {
      "text/plain": [
       "Pred is\t392433276.56818\t\n",
       "Real is\t392433196\t\n",
       "Diff is\t80.56817817688\t\n",
       "\t\n"
      ]
     },
     "execution_count": 1,
     "metadata": {},
     "output_type": "execute_result"
    },
    {
     "data": {
      "text/plain": [
       "Pred is\t392433276.49998\t\n",
       "Real is\t392433276\t\n",
       "Diff is\t0.49997824430466\t\n",
       "\t\n"
      ]
     },
     "execution_count": 1,
     "metadata": {},
     "output_type": "execute_result"
    },
    {
     "data": {
      "text/plain": [
       "Pred is\t392433275.55248\t\n",
       "Real is\t392433341\t\n",
       "Diff is\t-65.447519600391\t\n",
       "\t\n"
      ]
     },
     "execution_count": 1,
     "metadata": {},
     "output_type": "execute_result"
    },
    {
     "data": {
      "text/plain": [
       "Pred is\t392433271.82756\t\n",
       "Real is\t392433251\t\n"
      ]
     },
     "execution_count": 1,
     "metadata": {},
     "output_type": "execute_result"
    },
    {
     "data": {
      "text/plain": [
       "Diff is\t20.82755535841\t\n",
       "\t\n"
      ]
     },
     "execution_count": 1,
     "metadata": {},
     "output_type": "execute_result"
    },
    {
     "data": {
      "text/plain": [
       "Pred is\t392433274.01478\t\n",
       "Real is\t392433246\t\n",
       "Diff is\t28.014782011509\t\n",
       "\t\n"
      ]
     },
     "execution_count": 1,
     "metadata": {},
     "output_type": "execute_result"
    },
    {
     "data": {
      "text/plain": [
       "Pred is\t392433279.72798\t\n",
       "Real is\t392433250\t\n",
       "Diff is\t29.72797703743\t\n",
       "\t\n"
      ]
     },
     "execution_count": 1,
     "metadata": {},
     "output_type": "execute_result"
    },
    {
     "data": {
      "text/plain": [
       "Pred is\t392433276.16261\t\n",
       "Real is\t392433347\t\n",
       "Diff is\t-70.83739221096\t\n",
       "\t\n"
      ]
     },
     "execution_count": 1,
     "metadata": {},
     "output_type": "execute_result"
    },
    {
     "data": {
      "text/plain": [
       "Pred is\t392433274.94625\t\n",
       "Real is\t392433245\t\n",
       "Diff is\t29.946249246597\t\n",
       "\t\n"
      ]
     },
     "execution_count": 1,
     "metadata": {},
     "output_type": "execute_result"
    },
    {
     "data": {
      "text/plain": [
       "Pred is\t392433281.39856\t\n",
       "Real is\t392433353\t\n",
       "Diff is\t-71.601443350315\t\n",
       "\t\n"
      ]
     },
     "execution_count": 1,
     "metadata": {},
     "output_type": "execute_result"
    },
    {
     "data": {
      "text/plain": [
       "Pred is\t392433276.37148\t\n",
       "Real is\t392433128\t\n",
       "Diff is\t148.3714799881\t\n",
       "\t\n"
      ]
     },
     "execution_count": 1,
     "metadata": {},
     "output_type": "execute_result"
    },
    {
     "data": {
      "text/plain": [
       "Pred is\t392433278.72539\t\n",
       "Real is\t392433229\t\n",
       "Diff is\t49.725390553474\t\n",
       "\t\n"
      ]
     },
     "execution_count": 1,
     "metadata": {},
     "output_type": "execute_result"
    },
    {
     "data": {
      "text/plain": [
       "Pred is\t392433278.88432\t\n",
       "Real is\t392433195\t\n",
       "Diff is\t83.884319722652\t\n",
       "\t\n"
      ]
     },
     "execution_count": 1,
     "metadata": {},
     "output_type": "execute_result"
    },
    {
     "data": {
      "text/plain": [
       "Pred is\t392433277.13777\t\n",
       "Real is\t392433323\t\n",
       "Diff is\t-45.862231969833\t\n",
       "\t\n"
      ]
     },
     "execution_count": 1,
     "metadata": {},
     "output_type": "execute_result"
    },
    {
     "data": {
      "text/plain": [
       "Pred is\t392433278.81588\t\n",
       "Real is\t392433304\t\n",
       "Diff is\t-25.184116244316\t\n",
       "\t\n"
      ]
     },
     "execution_count": 1,
     "metadata": {},
     "output_type": "execute_result"
    },
    {
     "data": {
      "text/plain": [
       "Pred is\t392433280.61491\t\n",
       "Real is\t392433340\t\n",
       "Diff is\t-59.385093152523\t\n",
       "\t\n"
      ]
     },
     "execution_count": 1,
     "metadata": {},
     "output_type": "execute_result"
    },
    {
     "data": {
      "text/plain": [
       "Pred is\t392433277.29344\t\n",
       "Real is\t392433228\t\n",
       "Diff is\t49.293435513973\t\n",
       "\t\n"
      ]
     },
     "execution_count": 1,
     "metadata": {},
     "output_type": "execute_result"
    },
    {
     "data": {
      "text/plain": [
       "Pred is\t392433276.74695\t\n",
       "Real is\t392433324\t\n",
       "Diff is\t-47.253051519394\t\n",
       "\t\n",
       "Total error is\t69.37888112402\t\n"
      ]
     },
     "execution_count": 1,
     "metadata": {},
     "output_type": "execute_result"
    }
   ],
   "source": [
    "require 'nn'\n",
    "require 'clnn'\n",
    "require 'optim'\n",
    "require 'ffmpeg'\n",
    "require 'image'\n",
    "require 'csvigo'\n",
    "\n",
    "-- Read CSV and convert to tensor\n",
    "csv_file = csvigo.load(\"data.csv\")\n",
    "gps_x = torch.Tensor(csv_file.gps_x)\n",
    "\n",
    "dspath = '/home/pold/Documents/torchstuff/video.avi'\n",
    "source = ffmpeg.Video{path=dspath,\n",
    "                      width=224 / 2, height=224 / 2, \n",
    "--                      width=256 / 2, height=256 / 2, \n",
    "                      encoding='png', \n",
    "                      fps=30, \n",
    "--                      length=10, \n",
    "                      delete=false, \n",
    "                      load=false}\n",
    "\n",
    "rawFrame = source:forward()\n",
    "\n",
    "-- input video params:\n",
    "ivch = rawFrame:size(1) -- channels\n",
    "ivhe = rawFrame:size(2) -- height\n",
    "ivwi = rawFrame:size(3) -- width\n",
    "\n",
    "trainDir = '/home/pold/Documents/torchstuff/train/'\n",
    "trainImaNumber = 2240 / 2\n",
    "-- trainImaNumber = 1000\n",
    "\n",
    "trainset = {\n",
    "   data = torch.Tensor(trainImaNumber, ivch, ivhe, ivwi),\n",
    "   label = torch.DoubleTensor(trainImaNumber, 1),\n",
    "   size = function() return trainImaNumber end\n",
    "}\n",
    "\n",
    "testset = {\n",
    "   data = torch.Tensor(trainImaNumber, ivch, ivhe, ivwi),\n",
    "   label = torch.DoubleTensor(trainImaNumber, 1),\n",
    "   size = function() return trainImaNumber end\n",
    "}\n",
    "\n",
    "\n",
    "\n",
    " -- shuffle dataset: get shuffled indices in this variable:\n",
    "local train_shuffle = torch.randperm(trainImaNumber) -- train shuffle\n",
    "\n",
    "-- Split the data into train and test images\n",
    "\n",
    "-- load train data: 2416 images\n",
    "-- for i = 0, trainImaNumber do\n",
    "for i = 0, trainImaNumber * 2 - 1 do\n",
    "\n",
    "  -- get next frame:\n",
    "   img = source:forward()--:clone()\n",
    "\n",
    "  i_prime = math.floor(i / 2)\n",
    "\n",
    "  if i % 2 == 0 then\n",
    "  -- Decide if it goes to train or test data\n",
    "     trainset.data[train_shuffle[i_prime + 1]] = img--:clone()\n",
    "     trainset.label[train_shuffle[i_prime + 1]] = torch.DoubleTensor({gps_x[i + 1]})\n",
    "\n",
    "  else\n",
    "     testset.data[train_shuffle[i_prime + 1]] = img--:clone()\n",
    "     testset.label[train_shuffle[i_prime + 1]] = torch.DoubleTensor({gps_x[i + 1]})\n",
    "  end\n",
    "\n",
    "end\n",
    "\n",
    "\n",
    "-- Split the data into train and test images\n",
    "\n",
    "-- load train data: 2416 images\n",
    "-- for i = 0, trainImaNumber do\n",
    "--for i = 0, trainImaNumber * 2 - 1 do\n",
    "--\n",
    "--  -- get next frame:\n",
    "--   img = source:forward()--:clone()\n",
    "--\n",
    "--  i_prime = math.floor(i / 2)\n",
    "--\n",
    "--  if i % 2 == 0 then\n",
    "--  -- Decide if it goes to train or test data\n",
    "--     trainset.data[i_prime + 1] = img--:clone()\n",
    "--     trainset.label[i_prime + 1] = torch.DoubleTensor({gps_x[i + 1]})\n",
    "--\n",
    "--  else\n",
    "--     testset.data[i_prime + 1] = img--:clone()\n",
    "--     testset.label[i_prime + 1] = torch.DoubleTensor({gps_x[i + 1]})\n",
    "--  end\n",
    "--\n",
    "--end\n",
    "--\n",
    "-- Begin new file\n",
    "\n",
    "-- trainset = torch.load('train.t7')\n",
    "-- testset = torch.load('test.t7')\n",
    "\n",
    "-- trainset.label = trainset.label:cl()\n",
    "-- trainset.data = trainset.data:cl()\n",
    "\n",
    "-- ignore setmetatable for now, it is a feature beyond the scope of this tutorial. It sets the index operator.\n",
    "setmetatable(trainset, \n",
    "    {__index = function(t, i) \n",
    "                    return {t.data[i], t.label[i]} \n",
    "                end}\n",
    ");\n",
    "\n",
    "-- trainset.data = trainset.data:double() -- convert the data from a ByteTensor to a DoubleTensor.\n",
    "\n",
    "function trainset:size() \n",
    "    return self.data:size(1) \n",
    "end\n",
    "\n",
    "mean = {} -- store the mean, to normalize the test set in the future\n",
    "stdv  = {} -- store the standard-deviation for the future\n",
    "\n",
    "\n",
    "for i = 1, 3 do -- over each image channel\n",
    "    mean[i] = trainset.data[{ {}, {i}, {}, {}  }]:mean() -- mean estimation\n",
    "    print('Channel ' .. i .. ', Mean: ' .. mean[i])\n",
    "    trainset.data[{ {}, {i}, {}, {}  }]:add(-mean[i]) -- mean subtraction\n",
    "    \n",
    "    stdv[i] = trainset.data[{ {}, {i}, {}, {}  }]:std() -- std estimation\n",
    "    print('Channel ' .. i .. ', Standard Deviation: ' .. stdv[i])\n",
    "    trainset.data[{ {}, {i}, {}, {}  }]:div(stdv[i]) -- std scaling\n",
    "end\n",
    "\n",
    "\n",
    "-- normalize target\n",
    "\n",
    "mean_target = {} -- store the mean, to normalize the test set in the future\n",
    "stdv_target  = {} -- store the standard-deviation for the future\n",
    "\n",
    "mean_target = trainset.label:mean()\n",
    "trainset.label:add(-mean_target)\n",
    "\n",
    "stdv_target = trainset.label:std()\n",
    "trainset.label:div(stdv_target)\n",
    "   \n",
    "\n",
    "image.display(trainset.data[{{400, 500}}])\n",
    "\n",
    "\n",
    "\n",
    "-- torch.save('train_normalized.t7', trainset)\n",
    "--torch.save('test_normalized.t7', testset)\n",
    "\n",
    "\n",
    "local function inception(input_size, config)\n",
    "   local concat = nn.Concat(2)\n",
    "   if config[1][1] ~= 0 then\n",
    "      local conv1 = nn.Sequential()\n",
    "      conv1:add(nn.SpatialConvolution(input_size, config[1][1],1,1,1,1)):add(nn.ReLU(true))\n",
    "      concat:add(conv1)\n",
    "   end\n",
    "\n",
    "   local conv3 = nn.Sequential()\n",
    "   conv3:add(nn.SpatialConvolution(  input_size, config[2][1],1,1,1,1)):add(nn.ReLU(true))\n",
    "   conv3:add(nn.SpatialConvolution(config[2][1], config[2][2],3,3,1,1,1,1)):add(nn.ReLU(true))\n",
    "   concat:add(conv3)\n",
    "\n",
    "   local conv3xx = nn.Sequential()\n",
    "   conv3xx:add(nn.SpatialConvolution(  input_size, config[3][1],1,1,1,1)):add(nn.ReLU(true))\n",
    "   conv3xx:add(nn.SpatialConvolution(config[3][1], config[3][2],3,3,1,1,1,1)):add(nn.ReLU(true))\n",
    "   conv3xx:add(nn.SpatialConvolution(config[3][2], config[3][2],3,3,1,1,1,1)):add(nn.ReLU(true))\n",
    "   concat:add(conv3xx)\n",
    "\n",
    "   local pool = nn.Sequential()\n",
    "   pool:add(nn.SpatialZeroPadding(1,1,1,1)) -- remove after getting nn R2 into fbcode\n",
    "   if config[4][1] == 'max' then\n",
    "      pool:add(nn.SpatialMaxPooling(3,3,1,1):ceil())\n",
    "   elseif config[4][1] == 'avg' then\n",
    "      pool:add(nn.SpatialMaxPooling(3,3,1,1):ceil())\n",
    "   else\n",
    "      error('Unknown pooling')\n",
    "   end\n",
    "   if config[4][2] ~= 0 then\n",
    "      pool:add(nn.SpatialConvolution(input_size, config[4][2],1,1,1,1)):add(nn.ReLU(true))\n",
    "   end\n",
    "   concat:add(pool)\n",
    "\n",
    "   return concat\n",
    "end\n",
    "\n",
    "\n",
    "\n",
    "model = nn.Sequential()\n",
    "model:add(nn.SpatialConvolution(3,64,7,7,2,2,3,3)):add(nn.ReLU(true))\n",
    "model:add(nn.SpatialMaxPooling(3,3,2,2):ceil())\n",
    "--model:add(nn.SpatialConvolution(3, 6, 5, 5)) -- 3 input image channels, 6 output channels, 5x5 convolution kernel\n",
    "--model:add(nn.ReLU)\n",
    "--model:add(nn.SpatialMaxPooling(2,2,2,2))     -- A max-pooling operation that looks at 2x2 windows and finds the max.\n",
    "model:add(nn.SpatialConvolution(64, 64, 1, 1)):add(nn.ReLU(true))\n",
    "model:add(nn.SpatialConvolution(64,192,3,3,1,1,1,1)):add(nn.ReLU(true))\n",
    "model:add(nn.SpatialMaxPooling(3,3,2,2):ceil())\n",
    "\n",
    " -- 3 input image channels, 6 output channels, 5x5 convolution kernel\n",
    "--model:add(nn.Dropout(0.25))\n",
    "--model:add(nn.SpatialConvolution(12, 22, 3, 3))\n",
    "--model:add(nn.ReLU)\n",
    "--model:add(nn.SpatialMaxPooling(2,2,2,2))\n",
    "\n",
    "model:add(inception( 192, {{ 64},{ 64, 64},{ 64, 96},{'avg', 32}})) -- 3(a)\n",
    "model:add(inception( 256, {{ 64},{ 64, 96},{ 64, 96},{'avg', 64}})) -- 3(b)\n",
    "model:add(inception( 320, {{  0},{128,160},{ 64, 96},{'max',  0}})) -- 3(c)\n",
    "\n",
    "model:add(nn.SpatialConvolution(576,576,2,2,2,2))\n",
    "\n",
    "\n",
    "model:add(inception( 576, {{224},{ 64, 96},{ 96,128},{'avg',128}})) -- 4(a)\n",
    "model:add(inception( 576, {{192},{ 96,128},{ 96,128},{'avg',128}})) -- 4(b)\n",
    "model:add(inception( 576, {{160},{128,160},{128,160},{'avg', 96}})) -- 4(c)\n",
    "model:add(inception( 576, {{ 96},{128,192},{160,192},{'avg', 96}})) -- 4(d)\n",
    "\n",
    "   local main_branch = nn.Sequential()\n",
    "   main_branch:add(inception( 576, {{  0},{128,192},{192,256},{'max',  0}})) -- 4(e)\n",
    "   main_branch:add(nn.SpatialConvolution(1024,1024,2,2,2,2))\n",
    "   main_branch:add(inception(1024, {{352},{192,320},{160,224},{'avg',128}})) -- 5(a)\n",
    "   main_branch:add(inception(1024, {{352},{192,320},{192,224},{'max',128}})) -- 5(b)\n",
    "   main_branch:add(nn.SpatialAveragePooling(7,7,1,1))\n",
    "   main_branch:add(nn.View(1024):setNumInputDims(3))\n",
    "   main_branch:add(nn.Linear(728,1))\n",
    "\n",
    "   -- add auxillary classifier here (thanks to Christian Szegedy for the details)\n",
    "   local aux_classifier = nn.Sequential()\n",
    "   aux_classifier:add(nn.SpatialMaxPooling(5,5,3,3):ceil())\n",
    "   aux_classifier:add(nn.SpatialConvolution(576,128,1,1,1,1))\n",
    "   aux_classifier:add(nn.View(128*4*4):setNumInputDims(3))\n",
    "   aux_classifier:add(nn.Linear(128*4*4,768))\n",
    "   aux_classifier:add(nn.ReLU())\n",
    "   aux_classifier:add(nn.Linear(768,1))\n",
    "\n",
    "   local splitter = nn.Concat(2)\n",
    "   splitter:add(main_branch):add(aux_classifier)\n",
    "   local realmodel = nn.Sequential():add(model):add(splitter)\n",
    "\n",
    "\n",
    "  local features\n",
    "  features = nn.Concat(2)\n",
    "\n",
    "\n",
    "   local fb1 = nn.Sequential() -- branch 1\n",
    "   fb1:add(nn.SpatialConvolutionMM(3,48,11,11,4,4,2,2))       -- 224 -> 55\n",
    "   fb1:add(nn.ReLU())\n",
    "   fb1:add(nn.SpatialMaxPooling(3,3,2,2))                   -- 55 ->  27\n",
    "   fb1:add(nn.SpatialConvolutionMM(48,128,5,5,1,1,2,2))       --  27 -> 27\n",
    "   fb1:add(nn.ReLU())\n",
    "   fb1:add(nn.SpatialMaxPooling(3,3,2,2))                   --  27 ->  13\n",
    "   fb1:add(nn.SpatialConvolutionMM(128,192,3,3,1,1,1,1))      --  13 ->  13\n",
    "   fb1:add(nn.ReLU())\n",
    "   fb1:add(nn.SpatialConvolutionMM(192,192,3,3,1,1,1,1))      --  13 ->  13\n",
    "   fb1:add(nn.ReLU())\n",
    "   fb1:add(nn.SpatialConvolutionMM(192,128,3,3,1,1,1,1))      --  13 ->  13\n",
    "   fb1:add(nn.ReLU())\n",
    "   fb1:add(nn.SpatialMaxPooling(3,3,2,2))                   -- 13 -> 6\n",
    "\n",
    "\n",
    "\n",
    "\n",
    "   local fb2 = fb1:clone() -- branch 2\n",
    "   for k,v in ipairs(fb2:findModules('nn.SpatialConvolutionMM')) do\n",
    "      v:reset() -- reset branch 2's weights\n",
    "   end\n",
    "\n",
    "   features:add(fb1)\n",
    "   features:add(fb2)\n",
    "\n",
    "   -- 1.3. Create Classifier (fully connected layers)\n",
    "   local classifier = nn.Sequential()\n",
    "   classifier:add(nn.View(128*4*2))\n",
    "   classifier:add(nn.Dropout(0.5))\n",
    "   classifier:add(nn.Linear(128*4*2, 4096))\n",
    "   --classifier:add(nn.Threshold(0, 1e-6))\n",
    "   classifier:add(nn.Dropout(0.5))\n",
    "--   classifier:add(nn.Linear(4096, 4096))\n",
    "--   classifier:add(nn.Threshold(0, 1e-6))\n",
    "   classifier:add(nn.Linear(4096, 1))\n",
    "\n",
    "   -- 1.4. Combine 1.1 and 1.3 to produce final model\n",
    "   local model = nn.Sequential():add(features):add(classifier)\n",
    "\n",
    "\n",
    "\n",
    "--model:add(nn.View(96 * 3 * 3))                    -- reshapes from a 3D tensor of 16x5x5 into 1D tensor of 16*5*5\n",
    "--model:add(nn.Linear(96, 1))\n",
    "\n",
    "--model:add(nn.View(192 * 3 * 3))                    -- reshapes from a 3D tensor of 16x5x5 into 1D tensor of 16*5*5\n",
    "--model:add(nn.Linear(192 * 3 * 3, 500))             -- fully connected layer (matrix multiplication between input and weights)\n",
    "--model:add(nn.Dropout(0.5))\n",
    "--model:add(nn.Linear(500, 84))\n",
    "--model:add(nn.Dropout(0.25))\n",
    "--model:add(nn.Linear(84, 1))                   -- 10 is the number of outputs of the network (in this case, 10 digits)\n",
    "\n",
    "\n",
    "\n",
    "--model = nn.Sequential()\n",
    "--model:add(nn.SpatialMaxPooling(2,2,2,2)) \n",
    "--model:add(nn.View(16*16*3))\n",
    "--model:add(nn.Tanh())\n",
    "----net:add(nn.Linear(768, 10))\n",
    "--model:add(nn.Linear(768, 1))\n",
    "----net:add(nn.LogSoftMax())\n",
    "--\n",
    "\n",
    "model = model--:cl()\n",
    "criterion = nn.MSECriterion()--:cl()\n",
    "\n",
    "trainset.data = trainset.data--:cl()\n",
    "trainset.label = trainset.label--:cl()\n",
    "\n",
    "--trainer = nn.StochasticGradient(model, criterion)\n",
    "--trainer.learningRate = 0.01\n",
    "--trainer.maxIteration = 50\n",
    "--trainer:train(trainset)\n",
    "\n",
    "\n",
    "----[[\n",
    "\n",
    "x, dl_dx = model:getParameters()\n",
    "\n",
    "data = trainset.data\n",
    "\n",
    "-- In the following code, we define a closure, feval, which computes\n",
    "-- the value of the loss function at a given point x, and the gradient of\n",
    "-- that function with respect to x. x is the vector of trainable weights,\n",
    "-- which, in this example, are all the weights of the linear matrix of\n",
    "-- our mode, plus one bias.\n",
    "\n",
    "feval = function(x_new)\n",
    "   -- set x to x_new, if differnt\n",
    "   -- (in this simple example, x_new will typically always point to x,\n",
    "   -- so the copy is really useless)\n",
    "   if x ~= x_new then\n",
    "      x:copy(x_new)\n",
    "   end\n",
    "\n",
    "   -- select a new training sample\n",
    "   _nidx_ = (_nidx_ or 0) + 1\n",
    "\n",
    "   if _nidx_ > (#data)[1] then _nidx_ = 1 end\n",
    "\n",
    "   local sample = trainset[_nidx_]\n",
    "   local target = sample[2]      -- this funny looking syntax allows\n",
    "   local inputs = sample[1]    -- slicing of arrays.\n",
    "\n",
    "   \n",
    "   --print(\"Sample\", sample)\n",
    "\n",
    "   -- reset gradients (gradients are always accumulated, to accomodate \n",
    "   -- batch methods)\n",
    "   dl_dx:zero()\n",
    "\n",
    "   -- evaluate the loss function and its derivative wrt x, for that sample\n",
    "\n",
    "   --print(\"Forward\", model:forward(inputs))\n",
    "\n",
    "   --print(\"target\", target)\n",
    "\n",
    "   local loss_x = criterion:forward(model:forward(inputs), target)\n",
    "\n",
    "   --print(\"Loss\", loss_x)\n",
    "\n",
    "   model:backward(inputs, criterion:backward(model.output, target))\n",
    "\n",
    "   -- return loss(x) and dloss/dx\n",
    "   return loss_x, dl_dx\n",
    "end\n",
    "\n",
    "-- Given the function above, we can now easily train the model using SGD.\n",
    "-- For that, we need to define four key parameters:\n",
    "--   + a learning rate: the size of the step taken at each stochastic \n",
    "--     estimate of the gradient\n",
    "--   + a weight decay, to regularize the solution (L2 regularization)\n",
    "--   + a momentum term, to average steps over time\n",
    "--   + a learning rate decay, to let the algorithm converge more precisely\n",
    "\n",
    "sgd_params = {\n",
    "--   learningRate = 1e-3,\n",
    "learningRate = 5e-3,\n",
    "   learningRateDecay = 0,\n",
    "   weightDecay = 0,\n",
    "   momentum = 0\n",
    "}\n",
    "\n",
    "-- We're now good to go... all we have left to do is run over the dataset\n",
    "-- for a certain number of iterations, and perform a stochastic update \n",
    "-- at each iteration. The number of iterations is found empirically here,\n",
    "-- but should typically be determinined using cross-correlation.\n",
    "\n",
    "-- we cycle 1e4 times over our training data\n",
    "for i = 1,2 do\n",
    "\n",
    "   -- this variable is used to estimate the average loss\n",
    "   current_loss = 0\n",
    "\n",
    "   -- an epoch is a full loop over our training data\n",
    "   for i = 1,(#data)[1] do\n",
    "--      for i = 1,5 do\n",
    "\n",
    "      -- optim contains several optimization algorithms. \n",
    "      -- All of these algorithms assume the same parameters:\n",
    "      --   + a closure that computes the loss, and its gradient wrt to x, \n",
    "      --     given a point x\n",
    "      --   + a point x\n",
    "      --   + some parameters, which are algorithm-specific\n",
    "      \n",
    "      _, fs = optim.sgd(feval,x,sgd_params)\n",
    "\n",
    "      -- Functions in optim all return two things:\n",
    "      --   + the new x, found by the optimization method (here SGD)\n",
    "      --   + the value of the loss functions at all points that were used by\n",
    "      --     the algorithm. SGD only estimates the function once, so\n",
    "      --     that list just contains one value.\n",
    "\n",
    "      current_loss = current_loss + fs[1]\n",
    "   end\n",
    "\n",
    "   -- report average error on epoch\n",
    "   current_loss = current_loss / (#data)[1]\n",
    "   print('current loss = ' .. current_loss)\n",
    "\n",
    "   amount_check = 1000\n",
    "\n",
    "   err = torch.Tensor(amount_check)\n",
    "\n",
    "   for i = 1, amount_check do\n",
    "      pred = model:forward(trainset.data[i])[1] * stdv_target + mean_target\n",
    "\n",
    "      print(\"Pred is\", pred)\n",
    "\n",
    "      real = trainset.label[i][1] * stdv_target + mean_target\n",
    "\n",
    "      print(\"Real is\", real)\n",
    "\n",
    "      diff = (pred - real)\n",
    "   \n",
    "      print(\"Diff is\", diff)\n",
    "      print(\"\")\n",
    "\n",
    "      err[i] = torch.abs(diff)\n",
    "\n",
    "   end\n",
    "\n",
    "   print(\"Total error is\", err:mean())\n",
    "\n",
    "end\n",
    "\n",
    "--]]--\n"
   ]
  },
  {
   "cell_type": "code",
   "execution_count": 4,
   "metadata": {
    "collapsed": false
   },
   "outputs": [
    {
     "ename": "/home/pold/torch/install/share/lua/5.1/xlua/init.lua:313: \u001b[1;31m<image.toDisplayTensor> packed must be a HxW or KxHxW or Kx3xHxW tensor, or a list of tensors\u001b[0m\nstack traceback:\n\t[C]: in function 'error'\n\t/home/pold/torch/install/share/lua/5.1/xlua/init.lua:313: in function 'xerror'\n\t/home/pold/torch/install/share/lua/5.1/image/init.lua:1211: in function 'toDisplayTensor'\n\t/home/pold/torch/install/share/lua/5.1/itorch/gfx.lua:20: in function 'f'\n\t[string \"local f = function() return itorch.image(mode...\"]:1: in main chunk\n\t[C]: in function 'xpcall'\n\t/home/pold/torch/install/share/lua/5.1/itorch/main.lua:179: in function </home/pold/torch/install/share/lua/5.1/itorch/main.lua:143>\n\t/home/pold/torch/install/share/lua/5.1/lzmq/poller.lua:75: in function 'poll'\n\t/home/pold/torch/install/share/lua/5.1/lzmq/impl/loop.lua:307: in function 'poll'\n\t/home/pold/torch/install/share/lua/5.1/lzmq/impl/loop.lua:325: in function 'sleep_ex'\n\t/home/pold/torch/install/share/lua/5.1/lzmq/impl/loop.lua:370: in function 'start'\n\t/home/pold/torch/install/share/lua/5.1/itorch/main.lua:350: in main chunk\n\t[C]: in function 'require'\n\t[string \"arg={'/run/user/1000/jupyter/kernel-86415e86-...\"]:1: in main chunk",
     "evalue": "",
     "output_type": "error",
     "traceback": [
      "/home/pold/torch/install/share/lua/5.1/xlua/init.lua:313: \u001b[1;31m<image.toDisplayTensor> packed must be a HxW or KxHxW or Kx3xHxW tensor, or a list of tensors\u001b[0m\nstack traceback:\n\t[C]: in function 'error'\n\t/home/pold/torch/install/share/lua/5.1/xlua/init.lua:313: in function 'xerror'\n\t/home/pold/torch/install/share/lua/5.1/image/init.lua:1211: in function 'toDisplayTensor'\n\t/home/pold/torch/install/share/lua/5.1/itorch/gfx.lua:20: in function 'f'\n\t[string \"local f = function() return itorch.image(mode...\"]:1: in main chunk\n\t[C]: in function 'xpcall'\n\t/home/pold/torch/install/share/lua/5.1/itorch/main.lua:179: in function </home/pold/torch/install/share/lua/5.1/itorch/main.lua:143>\n\t/home/pold/torch/install/share/lua/5.1/lzmq/poller.lua:75: in function 'poll'\n\t/home/pold/torch/install/share/lua/5.1/lzmq/impl/loop.lua:307: in function 'poll'\n\t/home/pold/torch/install/share/lua/5.1/lzmq/impl/loop.lua:325: in function 'sleep_ex'\n\t/home/pold/torch/install/share/lua/5.1/lzmq/impl/loop.lua:370: in function 'start'\n\t/home/pold/torch/install/share/lua/5.1/itorch/main.lua:350: in main chunk\n\t[C]: in function 'require'\n\t[string \"arg={'/run/user/1000/jupyter/kernel-86415e86-...\"]:1: in main chunk"
     ]
    }
   ],
   "source": [
    "itorch.image(model:get(3).output)"
   ]
  },
  {
   "cell_type": "code",
   "execution_count": 13,
   "metadata": {
    "collapsed": false
   },
   "outputs": [
    {
     "data": {
      "text/plain": [
       "nn.SpatialConvolution(3 -> 64, 7x7, 2,2, 3,3)\n",
       "{\n",
       "  dH : 2\n",
       "  dW : 2\n",
       "  nOutputPlane : 64\n",
       "  output : DoubleTensor - empty\n",
       "  gradInput : DoubleTensor - empty\n",
       "  gradBias : DoubleTensor - size: 64\n",
       "  padH : 3\n",
       "  weight : DoubleTensor - size: 64x3x7x7\n",
       "  bias : DoubleTensor - size: 64\n",
       "  gradWeight : DoubleTensor - size: 64x3x7x7\n",
       "  padW : 3\n",
       "  nInputPlane : 3\n",
       "  kW : 7\n",
       "  kH : 7\n",
       "}\n"
      ]
     },
     "execution_count": 13,
     "metadata": {},
     "output_type": "execute_result"
    }
   ],
   "source": [
    "model:get(1)"
   ]
  },
  {
   "cell_type": "code",
   "execution_count": 20,
   "metadata": {
    "collapsed": false
   },
   "outputs": [
    {
     "data": {
      "image/png": "[encoded data removed]",
      "text/plain": [
       "Console does not support images"
      ]
     },
     "metadata": {
      "image/png": {
       "height": 99,
       "width": 54
      }
     },
     "output_type": "display_data"
    },
    {
     "data": {
      "text/plain": [
       "\n"
      ]
     },
     "execution_count": 20,
     "metadata": {},
     "output_type": "execute_result"
    }
   ],
   "source": [
    "itorch.image(model:get(1).weight)"
   ]
  },
  {
   "cell_type": "code",
   "execution_count": null,
   "metadata": {
    "collapsed": true
   },
   "outputs": [],
   "source": []
  }
 ],
 "metadata": {
  "kernelspec": {
   "display_name": "iTorch",
   "language": "lua",
   "name": "itorch"
  },
  "language_info": {
   "name": "lua",
   "version": "20004"
  }
 },
 "nbformat": 4,
 "nbformat_minor": 0
}
